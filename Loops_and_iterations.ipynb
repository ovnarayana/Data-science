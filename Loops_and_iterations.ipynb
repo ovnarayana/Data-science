{
  "nbformat": 4,
  "nbformat_minor": 0,
  "metadata": {
    "colab": {
      "provenance": [],
      "authorship_tag": "ABX9TyM6tSKGRWtc9/f65j2QFORK",
      "include_colab_link": true
    },
    "kernelspec": {
      "name": "python3",
      "display_name": "Python 3"
    },
    "language_info": {
      "name": "python"
    }
  },
  "cells": [
    {
      "cell_type": "markdown",
      "metadata": {
        "id": "view-in-github",
        "colab_type": "text"
      },
      "source": [
        "<a href=\"https://colab.research.google.com/github/ovnarayana/Data-science/blob/main/Loops_and_iterations.ipynb\" target=\"_parent\"><img src=\"https://colab.research.google.com/assets/colab-badge.svg\" alt=\"Open In Colab\"/></a>"
      ]
    },
    {
      "cell_type": "markdown",
      "source": [
        "# Loops\n",
        "\n",
        "A loop in programming is a way to repeat a set of instructions or actions multiple times without writing the same code over and over again. it's like telling the computer:\n",
        "\n",
        "\"Hey,keep doing this task until you're told to stop!\""
      ],
      "metadata": {
        "id": "E6qImsfQHzY4"
      }
    },
    {
      "cell_type": "code",
      "source": [
        "# print hello 5 times\n",
        "print(\"hello\")\n",
        "print(\"hello\")\n",
        "print(\"hello\")\n",
        "print(\"hello\")\n",
        "print(\"hello\")"
      ],
      "metadata": {
        "colab": {
          "base_uri": "https://localhost:8080/"
        },
        "id": "Mv6CNfStIQGa",
        "outputId": "011646cc-efbe-48fa-93a5-76f92d67f153"
      },
      "execution_count": null,
      "outputs": [
        {
          "output_type": "stream",
          "name": "stdout",
          "text": [
            "hello\n",
            "hello\n",
            "hello\n",
            "hello\n",
            "hello\n"
          ]
        }
      ]
    },
    {
      "cell_type": "code",
      "source": [
        "a = 3\n",
        "print(a**2)"
      ],
      "metadata": {
        "id": "3QlO3nvTIlX5"
      },
      "execution_count": null,
      "outputs": []
    },
    {
      "cell_type": "code",
      "source": [
        "colors =[\"blue\",\"green\",\"orange\",\"yellow\",\"pink\"]\n",
        "# fetch 1st element\n",
        "colors[0]"
      ],
      "metadata": {
        "id": "ZVFXmLYCItRW",
        "colab": {
          "base_uri": "https://localhost:8080/",
          "height": 36
        },
        "outputId": "2fe3abb0-4e8f-484f-91fd-8461dec02995"
      },
      "execution_count": null,
      "outputs": [
        {
          "output_type": "execute_result",
          "data": {
            "text/plain": [
              "'blue'"
            ],
            "application/vnd.google.colaboratory.intrinsic+json": {
              "type": "string"
            }
          },
          "metadata": {},
          "execution_count": 1
        }
      ]
    },
    {
      "cell_type": "code",
      "source": [
        "colors[1]"
      ],
      "metadata": {
        "colab": {
          "base_uri": "https://localhost:8080/",
          "height": 36
        },
        "id": "Cl7k_3N3hY5I",
        "outputId": "21128eb0-9a78-45db-9472-f995e0b4f6db"
      },
      "execution_count": null,
      "outputs": [
        {
          "output_type": "execute_result",
          "data": {
            "text/plain": [
              "'green'"
            ],
            "application/vnd.google.colaboratory.intrinsic+json": {
              "type": "string"
            }
          },
          "metadata": {},
          "execution_count": 2
        }
      ]
    },
    {
      "cell_type": "markdown",
      "source": [
        "Imagine\n",
        "\n",
        "* printing hello 100 times\n",
        "* finding square of 100 numbers\n",
        "* fetching all the elements of list one by one\n",
        "\n",
        "Without a loop, you'd have to write the same code repeatedly. With a loop, you can write the instructions once, and the computer will handle the repetition for you.\n",
        "\n",
        "## Types of loops\n",
        "\n",
        "* For loop\n",
        "* whileloop\n",
        "\n",
        "# fOR LOOP\n",
        "\n",
        "A for loop is a type of loop in progamming that repeats a block of code for each item in a collection (like a list,tuple,set,dict,range of numbers, or string). it's great for when you know how many times you want to repeat an action.\n",
        "\n",
        "# How does a for loop work?\n",
        "\n",
        "The for loop goes through each item in a sequence(e.g., a list or a range) one at a time and runs the code inside the loop for each item.\n",
        "\n"
      ],
      "metadata": {
        "id": "4gmaz1YLhjkQ"
      }
    },
    {
      "cell_type": "markdown",
      "source": [
        "\n",
        "```\n",
        "for item in collection:\n",
        "  print(item)\n",
        "```"
      ],
      "metadata": {
        "id": "avb3aJ7xjaK_"
      }
    },
    {
      "cell_type": "code",
      "source": [
        "# loop through a list\n",
        "A = [10,20,30,40]\n",
        "for x in A:\n",
        "  print(x)"
      ],
      "metadata": {
        "colab": {
          "base_uri": "https://localhost:8080/"
        },
        "id": "sKiwZaYohf0B",
        "outputId": "59f26d84-cfdc-430d-8be0-6735884f2a1d"
      },
      "execution_count": null,
      "outputs": [
        {
          "output_type": "stream",
          "name": "stdout",
          "text": [
            "10\n",
            "20\n",
            "30\n",
            "40\n"
          ]
        }
      ]
    },
    {
      "cell_type": "code",
      "source": [
        "# looping through tuple\n",
        "B = (\"blue\", \"green\",\"pink\")\n",
        "for x in B:\n",
        "  print(x)"
      ],
      "metadata": {
        "colab": {
          "base_uri": "https://localhost:8080/"
        },
        "id": "DKOVcTQEjpJF",
        "outputId": "83162b3d-7b60-4fdf-deb4-6cb1533ad5a8"
      },
      "execution_count": null,
      "outputs": [
        {
          "output_type": "stream",
          "name": "stdout",
          "text": [
            "blue\n",
            "green\n",
            "pink\n"
          ]
        }
      ]
    },
    {
      "cell_type": "code",
      "source": [
        "# looping through tuple\n",
        "B =(\"blue\",\"green\",\"pink\")\n",
        "for x in B:\n",
        "  print(x)"
      ],
      "metadata": {
        "colab": {
          "base_uri": "https://localhost:8080/"
        },
        "id": "Cnn5nteKk0GV",
        "outputId": "9965f6ef-2e6f-433c-8860-14675cd4439e"
      },
      "execution_count": null,
      "outputs": [
        {
          "output_type": "stream",
          "name": "stdout",
          "text": [
            "blue\n",
            "green\n",
            "pink\n"
          ]
        }
      ]
    },
    {
      "cell_type": "code",
      "source": [
        "# loop through set\n",
        "A = {1,2,3,4}\n",
        "for x in A:\n",
        "  print(x)"
      ],
      "metadata": {
        "colab": {
          "base_uri": "https://localhost:8080/"
        },
        "id": "rVKXgrgflkFC",
        "outputId": "471141a8-4215-4660-d42e-d692d7952d9d"
      },
      "execution_count": null,
      "outputs": [
        {
          "output_type": "stream",
          "name": "stdout",
          "text": [
            "1\n",
            "2\n",
            "3\n",
            "4\n"
          ]
        }
      ]
    },
    {
      "cell_type": "code",
      "source": [
        "# loop through string\n",
        "text =\"python\"\n",
        "for x in text:\n",
        "  print(x)"
      ],
      "metadata": {
        "colab": {
          "base_uri": "https://localhost:8080/"
        },
        "id": "3l6_viamlxav",
        "outputId": "af3c7c41-1872-4d71-ad59-75bd7d0b8ddc"
      },
      "execution_count": null,
      "outputs": [
        {
          "output_type": "stream",
          "name": "stdout",
          "text": [
            "p\n",
            "y\n",
            "t\n",
            "h\n",
            "o\n",
            "n\n"
          ]
        }
      ]
    },
    {
      "cell_type": "code",
      "source": [
        "# loop through dict\n",
        "A = {'name':'Jeevitha','age':30}\n",
        "for x in A.values():\n",
        "  print(x)"
      ],
      "metadata": {
        "colab": {
          "base_uri": "https://localhost:8080/"
        },
        "id": "ZIgsH7Arl-1B",
        "outputId": "3df911bb-0238-49c3-f01f-2aaacc61fcc1"
      },
      "execution_count": null,
      "outputs": [
        {
          "output_type": "stream",
          "name": "stdout",
          "text": [
            "Jeevitha\n",
            "30\n"
          ]
        }
      ]
    },
    {
      "cell_type": "code",
      "source": [
        "# get items\n",
        "A={'name':'Jeevitha','age':30}\n",
        "for x in A.items():\n",
        "  print(x)"
      ],
      "metadata": {
        "colab": {
          "base_uri": "https://localhost:8080/"
        },
        "id": "VojhnQwpmWLc",
        "outputId": "20b0be90-0a1c-455b-85a6-cbbdab3f410d"
      },
      "execution_count": null,
      "outputs": [
        {
          "output_type": "stream",
          "name": "stdout",
          "text": [
            "('name', 'Jeevitha')\n",
            "('age', 30)\n"
          ]
        }
      ]
    },
    {
      "cell_type": "code",
      "source": [
        "# print first 5 numbers\n",
        "for x in range(1,6):\n",
        "  print(x)"
      ],
      "metadata": {
        "colab": {
          "base_uri": "https://localhost:8080/"
        },
        "id": "15wFUZh6mrMD",
        "outputId": "546d3f4a-e249-4629-b39f-1187e194f578"
      },
      "execution_count": null,
      "outputs": [
        {
          "output_type": "stream",
          "name": "stdout",
          "text": [
            "1\n",
            "2\n",
            "3\n",
            "4\n",
            "5\n"
          ]
        }
      ]
    },
    {
      "cell_type": "code",
      "source": [
        "# print first 30 numbers\n",
        "for x in range(1,31):\n",
        "  print(x)"
      ],
      "metadata": {
        "colab": {
          "base_uri": "https://localhost:8080/"
        },
        "id": "J7YYuZ40nXmL",
        "outputId": "c061ee5e-bc93-4277-940a-27a4298f5118"
      },
      "execution_count": null,
      "outputs": [
        {
          "output_type": "stream",
          "name": "stdout",
          "text": [
            "1\n",
            "2\n",
            "3\n",
            "4\n",
            "5\n",
            "6\n",
            "7\n",
            "8\n",
            "9\n",
            "10\n",
            "11\n",
            "12\n",
            "13\n",
            "14\n",
            "15\n",
            "16\n",
            "17\n",
            "18\n",
            "19\n",
            "20\n",
            "21\n",
            "22\n",
            "23\n",
            "24\n",
            "25\n",
            "26\n",
            "27\n",
            "28\n",
            "29\n",
            "30\n"
          ]
        }
      ]
    },
    {
      "cell_type": "code",
      "source": [
        "A = [1,2,3,4,5,6,7,8,9,10]\n",
        "# print only even numbers\n",
        "for x in A:\n",
        "  if x%2==0:\n",
        "    print(x)"
      ],
      "metadata": {
        "colab": {
          "base_uri": "https://localhost:8080/"
        },
        "id": "7_1oT4SInmIX",
        "outputId": "03eec01f-0f6e-4084-e8f7-d49ecfea8263"
      },
      "execution_count": null,
      "outputs": [
        {
          "output_type": "stream",
          "name": "stdout",
          "text": [
            "2\n",
            "4\n",
            "6\n",
            "8\n",
            "10\n"
          ]
        }
      ]
    },
    {
      "cell_type": "code",
      "source": [
        "A =[1,2,3,4,5,6,7,8,9,10]\n",
        "# print only odd numbers\n",
        "for x in A:\n",
        "  if x%2!=0:\n",
        "    print(x)"
      ],
      "metadata": {
        "colab": {
          "base_uri": "https://localhost:8080/"
        },
        "id": "DzHHrPVwn3uz",
        "outputId": "d21528db-c525-4d3e-ab54-b2a4f43d9cf4"
      },
      "execution_count": null,
      "outputs": [
        {
          "output_type": "stream",
          "name": "stdout",
          "text": [
            "1\n",
            "3\n",
            "5\n",
            "7\n",
            "9\n"
          ]
        }
      ]
    },
    {
      "cell_type": "code",
      "source": [
        "# classify numbers as even and odd\n",
        "A = [1,2,3,4,5,6,7,8]\n",
        "for x in A:\n",
        "  if x%2==0:\n",
        "    print(f\"{x} is even\")\n",
        "  else:\n",
        "    print(f\"{x} is odd\")"
      ],
      "metadata": {
        "colab": {
          "base_uri": "https://localhost:8080/"
        },
        "id": "3BzRcEEVoJ3W",
        "outputId": "566a83d0-aad7-4b8b-bbd9-f5f0d7475cba"
      },
      "execution_count": null,
      "outputs": [
        {
          "output_type": "stream",
          "name": "stdout",
          "text": [
            "1 is odd\n",
            "2 is even\n",
            "3 is odd\n",
            "4 is even\n",
            "5 is odd\n",
            "6 is even\n",
            "7 is odd\n",
            "8 is even\n"
          ]
        }
      ]
    },
    {
      "cell_type": "code",
      "source": [
        "# print only positives\n",
        "A = [10,-20,-30,-40,-50,60,70]\n",
        "for x in A:\n",
        "  if x > 0:\n",
        "    print(x)"
      ],
      "metadata": {
        "colab": {
          "base_uri": "https://localhost:8080/"
        },
        "id": "P0XlZXMqoyBB",
        "outputId": "84157628-cf8f-49e5-d623-74d8208712d7"
      },
      "execution_count": null,
      "outputs": [
        {
          "output_type": "stream",
          "name": "stdout",
          "text": [
            "10\n",
            "60\n",
            "70\n"
          ]
        }
      ]
    },
    {
      "cell_type": "code",
      "source": [
        "# print only negatives\n",
        "A = [10,-20,-30,-40,-50,60,70]\n",
        "for x in A:\n",
        "  if x<0:\n",
        "    print(x)\n"
      ],
      "metadata": {
        "colab": {
          "base_uri": "https://localhost:8080/"
        },
        "id": "tyF6Tp09DQbF",
        "outputId": "9db8d064-d9bc-4fe2-f278-a58acdc7210b"
      },
      "execution_count": null,
      "outputs": [
        {
          "output_type": "stream",
          "name": "stdout",
          "text": [
            "-20\n",
            "-30\n",
            "-40\n",
            "-50\n"
          ]
        }
      ]
    },
    {
      "cell_type": "code",
      "source": [
        "# classify numbers as positive,negative zero\n",
        "numbers = [10,-20,30,50,60,0,80,-70,0,-50]\n",
        "for x in numbers:\n",
        "  if x>0:\n",
        "    print(f\"{x} is Positive\" )\n",
        "  elif x==0:\n",
        "    print(f\"{x} is Zero\" )\n",
        "  else:\n",
        "    print(f\"{x} is Negative\" )"
      ],
      "metadata": {
        "colab": {
          "base_uri": "https://localhost:8080/"
        },
        "id": "xn9I6Q3bDtsi",
        "outputId": "f3d00c7c-1345-4cfb-e13a-a8c6730ed8b5"
      },
      "execution_count": null,
      "outputs": [
        {
          "output_type": "stream",
          "name": "stdout",
          "text": [
            "10 is Positive\n",
            "-20 is Negative\n",
            "30 is Positive\n",
            "50 is Positive\n",
            "60 is Positive\n",
            "0 is Zero\n",
            "80 is Positive\n",
            "-70 is Negative\n",
            "0 is Zero\n",
            "-50 is Negative\n"
          ]
        }
      ]
    },
    {
      "cell_type": "code",
      "source": [
        "# palindromes\n",
        "# vowels"
      ],
      "metadata": {
        "id": "q_cqTLH7ElSF"
      },
      "execution_count": null,
      "outputs": []
    },
    {
      "cell_type": "code",
      "source": [
        "A = [1,2,3,4,5,6]\n",
        "# find square of each number\n",
        "for x in A:\n",
        "  print(x**2)"
      ],
      "metadata": {
        "colab": {
          "base_uri": "https://localhost:8080/"
        },
        "id": "5S1MwXDoEwS0",
        "outputId": "1c032c8d-e182-4cc6-a1e5-3ddb5b51eb07"
      },
      "execution_count": null,
      "outputs": [
        {
          "output_type": "stream",
          "name": "stdout",
          "text": [
            "1\n",
            "4\n",
            "9\n",
            "16\n",
            "25\n",
            "36\n"
          ]
        }
      ]
    },
    {
      "cell_type": "code",
      "source": [
        "# write a program to find sum of elements in a list\n",
        "A = [1,2,3,4,5,6,7,8,9,10]\n",
        "sum(A)"
      ],
      "metadata": {
        "colab": {
          "base_uri": "https://localhost:8080/"
        },
        "id": "AZJIRLegFI2v",
        "outputId": "87d409a4-5e38-403a-edc1-ffa28e4dbb09"
      },
      "execution_count": null,
      "outputs": [
        {
          "output_type": "execute_result",
          "data": {
            "text/plain": [
              "55"
            ]
          },
          "metadata": {},
          "execution_count": 6
        }
      ]
    },
    {
      "cell_type": "code",
      "source": [
        "# write a program to find sum of elements in a list\n",
        "A =[1,2,3,4,5,6,7,8,9,10]\n",
        "sum = 0\n",
        "for x in A:\n",
        "  sum = sum + x\n",
        "print (sum)"
      ],
      "metadata": {
        "colab": {
          "base_uri": "https://localhost:8080/"
        },
        "id": "EOcYOBI6Fb8B",
        "outputId": "b75e30b7-dbb6-4199-c29c-755be3f25325"
      },
      "execution_count": null,
      "outputs": [
        {
          "output_type": "stream",
          "name": "stdout",
          "text": [
            "55\n"
          ]
        }
      ]
    },
    {
      "cell_type": "code",
      "source": [
        "# Write a program to find sum of first 30 natural numbers[1 to 30(included)]\n",
        "num = int(input())\n",
        "sum =0\n",
        "for x in range(1,num+1):\n",
        "  sum = sum+x\n",
        "print(sum)"
      ],
      "metadata": {
        "colab": {
          "base_uri": "https://localhost:8080/"
        },
        "id": "GJOeQ3fBGhiE",
        "outputId": "e9f91efa-856d-4696-8d85-ec86c178894f"
      },
      "execution_count": null,
      "outputs": [
        {
          "output_type": "stream",
          "name": "stdout",
          "text": [
            "10\n",
            "55\n"
          ]
        }
      ]
    },
    {
      "cell_type": "code",
      "source": [
        "# write a program to find sum of first 20 even numbers\n",
        "num = int(input())\n",
        "sum = 0\n",
        "for x in range(1,num+1):\n",
        "  if x%2 == 0:\n",
        "    sum = sum+x\n",
        "  print(sum)\n"
      ],
      "metadata": {
        "colab": {
          "base_uri": "https://localhost:8080/"
        },
        "id": "OUfkNg8-HUC1",
        "outputId": "497806e2-0ed7-4317-dbc2-01fbfe5ce22e"
      },
      "execution_count": null,
      "outputs": [
        {
          "output_type": "stream",
          "name": "stdout",
          "text": [
            "20\n",
            "0\n",
            "2\n",
            "2\n",
            "6\n",
            "6\n",
            "12\n",
            "12\n",
            "20\n",
            "20\n",
            "30\n",
            "30\n",
            "42\n",
            "42\n",
            "56\n",
            "56\n",
            "72\n",
            "72\n",
            "90\n",
            "90\n",
            "110\n"
          ]
        }
      ]
    },
    {
      "cell_type": "code",
      "source": [
        "list(range(2,41,2))"
      ],
      "metadata": {
        "colab": {
          "base_uri": "https://localhost:8080/"
        },
        "id": "xfxBZyVUIn9b",
        "outputId": "62124289-e001-4c89-ded4-ef521204a1b7"
      },
      "execution_count": null,
      "outputs": [
        {
          "output_type": "execute_result",
          "data": {
            "text/plain": [
              "[2, 4, 6, 8, 10, 12, 14, 16, 18, 20, 22, 24, 26, 28, 30, 32, 34, 36, 38, 40]"
            ]
          },
          "metadata": {},
          "execution_count": 14
        }
      ]
    },
    {
      "cell_type": "code",
      "source": [
        "# 1/1^2 + 1/2^2 +1/3^2 + 1/4^2 + 1/5^2 = 1/x^2 , x=[1,2,3,4,5]\n",
        "sum = 0\n",
        "for x in range(1,6):\n",
        "  sum = sum+1/(x**2)\n",
        "print(sum)"
      ],
      "metadata": {
        "colab": {
          "base_uri": "https://localhost:8080/"
        },
        "id": "N1JHkWwIJW6h",
        "outputId": "ccb7a29c-104a-4ca8-db20-f8b8a92120d7"
      },
      "execution_count": null,
      "outputs": [
        {
          "output_type": "stream",
          "name": "stdout",
          "text": [
            "1.4636111111111112\n"
          ]
        }
      ]
    },
    {
      "cell_type": "code",
      "source": [
        "# 1/1^3 + 1/2^2 +1/3^3 + 1/4^2 +1/5^3\n",
        "sum = 0\n",
        "for x in range(1,6):\n",
        "  if x%2 ==0:\n",
        "    sum = sum+1/(x**2)\n",
        "  else:\n",
        "    sum = sum+1/(x**3)\n",
        "print(sum)"
      ],
      "metadata": {
        "colab": {
          "base_uri": "https://localhost:8080/"
        },
        "id": "YHWHcW4QKXcs",
        "outputId": "2c308dae-f926-4c33-dc29-c0c461a72e09"
      },
      "execution_count": null,
      "outputs": [
        {
          "output_type": "stream",
          "name": "stdout",
          "text": [
            "1.357537037037037\n"
          ]
        }
      ]
    },
    {
      "cell_type": "code",
      "source": [
        "'''\n",
        "x=1:odd\n",
        "sum = 0+1/1**3=1\n",
        "----------------\n",
        "x=2:even\n",
        "sum = 1+1/2**2\n",
        "'''"
      ],
      "metadata": {
        "colab": {
          "base_uri": "https://localhost:8080/",
          "height": 36
        },
        "id": "qjCz8X_uLX6D",
        "outputId": "a09709a8-f18c-4e2f-9767-b8b6124cad19"
      },
      "execution_count": null,
      "outputs": [
        {
          "output_type": "execute_result",
          "data": {
            "text/plain": [
              "'\\nx=1:odd\\nsum = 0+1/1**3=1\\n----------------\\nx=2:even\\nsum = 1+1/2**2\\n'"
            ],
            "application/vnd.google.colaboratory.intrinsic+json": {
              "type": "string"
            }
          },
          "metadata": {},
          "execution_count": 17
        }
      ]
    },
    {
      "cell_type": "code",
      "source": [
        "# write a program to find sum of digit 1234\n",
        "#1234=10\n",
        "digit = int(input())\n",
        "str_digit= str(digit) #converting digit into string so that we can loop\n",
        "sum =0\n",
        "for x in str_digit:\n",
        "  sum = sum+int(x)\n",
        "print(sum)"
      ],
      "metadata": {
        "colab": {
          "base_uri": "https://localhost:8080/"
        },
        "id": "Ym_-oGacLoYX",
        "outputId": "fcde3399-0cc5-41d4-d5ee-6c5222e02795"
      },
      "execution_count": null,
      "outputs": [
        {
          "output_type": "stream",
          "name": "stdout",
          "text": [
            "55\n",
            "10\n"
          ]
        }
      ]
    },
    {
      "cell_type": "code",
      "source": [
        "'1 2 3 4'.split()"
      ],
      "metadata": {
        "colab": {
          "base_uri": "https://localhost:8080/"
        },
        "id": "mRitaFHlM-hK",
        "outputId": "ec5cdd49-e7ba-4809-f372-28b6f86931db"
      },
      "execution_count": null,
      "outputs": [
        {
          "output_type": "execute_result",
          "data": {
            "text/plain": [
              "['1', '2', '3', '4']"
            ]
          },
          "metadata": {},
          "execution_count": 22
        }
      ]
    },
    {
      "cell_type": "code",
      "source": [
        "# write a program to find product of first 10 numbers\n",
        "A = [1,2,3,4,5,6,7,8,9,10]\n",
        "prod = 1\n",
        "for x in A:\n",
        "  prod = prod * x\n",
        "print(prod)"
      ],
      "metadata": {
        "colab": {
          "base_uri": "https://localhost:8080/"
        },
        "id": "sMrHFefLNXa_",
        "outputId": "6acc79e0-b5b3-4876-bd85-6fa2b943fa8a"
      },
      "execution_count": null,
      "outputs": [
        {
          "output_type": "stream",
          "name": "stdout",
          "text": [
            "3628800\n"
          ]
        }
      ]
    },
    {
      "cell_type": "code",
      "source": [
        "# write a program to find factorial of 5\n",
        "# 5! = 5*4*3*2*1\n",
        "# 4! = 4*3*2*1\n",
        "n=int(input())\n",
        "if n==0 or n==1:\n",
        "  print(f\"factorial of {n} is 1\")\n",
        "else:\n",
        "  fact = 1\n",
        "  for x in range(1,n+1):\n",
        "    fact = fact*x\n",
        "  print(fact)"
      ],
      "metadata": {
        "colab": {
          "base_uri": "https://localhost:8080/"
        },
        "id": "HBwqPzpvN4_8",
        "outputId": "b927e5f9-7a3c-4e35-c932-3c9edb1e432d"
      },
      "execution_count": null,
      "outputs": [
        {
          "output_type": "stream",
          "name": "stdout",
          "text": [
            "10\n",
            "3628800\n"
          ]
        }
      ]
    },
    {
      "cell_type": "code",
      "source": [
        "'''\n",
        "*\n",
        "**\n",
        "***\n",
        "****\n",
        "*****\n",
        "****** '''\n",
        "for x in range(1,7):\n",
        "  print(x *'*')"
      ],
      "metadata": {
        "colab": {
          "base_uri": "https://localhost:8080/"
        },
        "id": "k-pnsl9eOzMJ",
        "outputId": "ac962c0f-c6a3-4b03-a7c8-a8b212d170f0"
      },
      "execution_count": null,
      "outputs": [
        {
          "output_type": "stream",
          "name": "stdout",
          "text": [
            "*\n",
            "**\n",
            "***\n",
            "****\n",
            "*****\n",
            "******\n"
          ]
        }
      ]
    },
    {
      "cell_type": "code",
      "source": [
        "'a'*3"
      ],
      "metadata": {
        "colab": {
          "base_uri": "https://localhost:8080/",
          "height": 36
        },
        "id": "zRI6dW6cP6Dl",
        "outputId": "7a908576-1826-44fa-fb1b-e53863228401"
      },
      "execution_count": null,
      "outputs": [
        {
          "output_type": "execute_result",
          "data": {
            "text/plain": [
              "'aaa'"
            ],
            "application/vnd.google.colaboratory.intrinsic+json": {
              "type": "string"
            }
          },
          "metadata": {},
          "execution_count": 31
        }
      ]
    },
    {
      "cell_type": "code",
      "source": [
        "'''\n",
        "1\n",
        "22\n",
        "333\n",
        "4444\n",
        "55555\n",
        "666666 '''\n",
        "for x in range(1,7):\n",
        "  print(x*str(x))"
      ],
      "metadata": {
        "colab": {
          "base_uri": "https://localhost:8080/"
        },
        "id": "d3JugU65QOU6",
        "outputId": "78449b29-79aa-4f04-a5ea-c524ed8b1930"
      },
      "execution_count": null,
      "outputs": [
        {
          "output_type": "stream",
          "name": "stdout",
          "text": [
            "1\n",
            "22\n",
            "333\n",
            "4444\n",
            "55555\n",
            "666666\n"
          ]
        }
      ]
    },
    {
      "cell_type": "code",
      "source": [
        "'2'*2"
      ],
      "metadata": {
        "colab": {
          "base_uri": "https://localhost:8080/",
          "height": 36
        },
        "id": "2BR0yb-AQiJ0",
        "outputId": "44326704-4075-4117-810b-e3c7c9ec5ebd"
      },
      "execution_count": null,
      "outputs": [
        {
          "output_type": "execute_result",
          "data": {
            "text/plain": [
              "'22'"
            ],
            "application/vnd.google.colaboratory.intrinsic+json": {
              "type": "string"
            }
          },
          "metadata": {},
          "execution_count": 33
        }
      ]
    },
    {
      "cell_type": "code",
      "source": [
        "'3'*3"
      ],
      "metadata": {
        "colab": {
          "base_uri": "https://localhost:8080/",
          "height": 36
        },
        "id": "XHKhJPCjTDv3",
        "outputId": "6bedddae-ec3f-425d-af37-f70654523572"
      },
      "execution_count": null,
      "outputs": [
        {
          "output_type": "execute_result",
          "data": {
            "text/plain": [
              "'333'"
            ],
            "application/vnd.google.colaboratory.intrinsic+json": {
              "type": "string"
            }
          },
          "metadata": {},
          "execution_count": 34
        }
      ]
    },
    {
      "cell_type": "code",
      "source": [
        "# can you find occurence of each character in Almabetter\n",
        "# output = {A:1,1:1,m:1,a:1,b:1,e:2,t:2,r:1}\n",
        "text = 'Almabetter'\n",
        "empty_dict={}\n",
        "for x in text:\n",
        "  empty_dict[x]=text.count(x)\n",
        "print(empty_dict)"
      ],
      "metadata": {
        "colab": {
          "base_uri": "https://localhost:8080/"
        },
        "id": "hflTU1boTHja",
        "outputId": "a1da9c1d-297b-44fc-b883-b1a58ab0aefa"
      },
      "execution_count": null,
      "outputs": [
        {
          "output_type": "stream",
          "name": "stdout",
          "text": [
            "{'A': 1, 'l': 1, 'm': 1, 'a': 1, 'b': 1, 'e': 2, 't': 2, 'r': 1}\n"
          ]
        }
      ]
    },
    {
      "cell_type": "code",
      "source": [
        "# {'a':2, 'l':1, 'm':1,'b':1,'e':2,'t':2,'r':1}\n",
        "text = 'Almabetter'\n",
        "empty_dict = {}\n",
        "for x in text:\n",
        "  empty_dict[x.lower()]=text.lower().count(x.lower())\n",
        "print(empty_dict)"
      ],
      "metadata": {
        "colab": {
          "base_uri": "https://localhost:8080/"
        },
        "id": "lYM3VpXHU1SB",
        "outputId": "c8bbee6a-8490-4ac6-b0dc-9e15d3bf7518"
      },
      "execution_count": null,
      "outputs": [
        {
          "output_type": "stream",
          "name": "stdout",
          "text": [
            "{'a': 2, 'l': 1, 'm': 1, 'b': 1, 'e': 2, 't': 2, 'r': 1}\n"
          ]
        }
      ]
    },
    {
      "cell_type": "code",
      "source": [
        "A ={}\n",
        "A['name']='jeevitha'\n",
        "print(A)\n"
      ],
      "metadata": {
        "id": "Uyd7Ir0WWXWl",
        "colab": {
          "base_uri": "https://localhost:8080/"
        },
        "outputId": "2199b460-e34e-4b2a-cb05-0d4c99b45324"
      },
      "execution_count": 1,
      "outputs": [
        {
          "output_type": "stream",
          "name": "stdout",
          "text": [
            "{'name': 'jeevitha'}\n"
          ]
        }
      ]
    },
    {
      "cell_type": "code",
      "source": [
        "A = 'Almabetter'\n",
        "A.count('e')"
      ],
      "metadata": {
        "colab": {
          "base_uri": "https://localhost:8080/"
        },
        "id": "Iq0N-Oiq3DMn",
        "outputId": "99892289-b549-4084-fc63-c2f1f4416d80"
      },
      "execution_count": 2,
      "outputs": [
        {
          "output_type": "execute_result",
          "data": {
            "text/plain": [
              "2"
            ]
          },
          "metadata": {},
          "execution_count": 2
        }
      ]
    },
    {
      "cell_type": "code",
      "source": [
        "# write a program to find count of upper chars and lower chars\n",
        "text = 'Data Science is Easy'\n",
        "count_upper=0\n",
        "count_lower=0\n",
        "count_space=0\n",
        "for x in text:\n",
        "  if x.isupper():\n",
        "    count_upper+=1\n",
        "  elif x.islower():\n",
        "    count_lower+=1\n",
        "  else:\n",
        "    count_space+=1\n",
        "print(count_upper)\n",
        "print(count_lower)\n",
        "print(count_space)"
      ],
      "metadata": {
        "colab": {
          "base_uri": "https://localhost:8080/"
        },
        "id": "FgjBNadA3O3D",
        "outputId": "d988c9c3-043e-462f-c8d3-a0eaaedb860f"
      },
      "execution_count": 4,
      "outputs": [
        {
          "output_type": "stream",
          "name": "stdout",
          "text": [
            "3\n",
            "14\n",
            "3\n"
          ]
        }
      ]
    },
    {
      "cell_type": "code",
      "source": [
        "A = 'PYTHON'\n",
        "A.isupper()"
      ],
      "metadata": {
        "colab": {
          "base_uri": "https://localhost:8080/"
        },
        "id": "7jcx2QnC4eIw",
        "outputId": "c28d5109-f433-4292-d422-ff6ac1441dbc"
      },
      "execution_count": 5,
      "outputs": [
        {
          "output_type": "execute_result",
          "data": {
            "text/plain": [
              "True"
            ]
          },
          "metadata": {},
          "execution_count": 5
        }
      ]
    },
    {
      "cell_type": "code",
      "source": [
        "A = 'PYTHoN'\n",
        "A.islower()"
      ],
      "metadata": {
        "colab": {
          "base_uri": "https://localhost:8080/"
        },
        "id": "KeEm9Dwm5a3I",
        "outputId": "5716dd62-4f07-419a-b51c-4f4533c1020a"
      },
      "execution_count": 7,
      "outputs": [
        {
          "output_type": "execute_result",
          "data": {
            "text/plain": [
              "False"
            ]
          },
          "metadata": {},
          "execution_count": 7
        }
      ]
    },
    {
      "cell_type": "code",
      "source": [
        "B = 'python'\n",
        "B.islower()"
      ],
      "metadata": {
        "colab": {
          "base_uri": "https://localhost:8080/"
        },
        "id": "-mb-LqPv5ogx",
        "outputId": "dd8c4ee4-7a3b-4ac0-dd2c-e11133fd9d23"
      },
      "execution_count": 8,
      "outputs": [
        {
          "output_type": "execute_result",
          "data": {
            "text/plain": [
              "True"
            ]
          },
          "metadata": {},
          "execution_count": 8
        }
      ]
    },
    {
      "cell_type": "markdown",
      "source": [
        "# Nested for loops\n",
        "\n",
        "for loop inside for loop"
      ],
      "metadata": {
        "id": "9QC92MA65_M7"
      }
    },
    {
      "cell_type": "code",
      "source": [
        "A = [[1,2],[3,4],[5,6]]\n",
        "#loop through A\n",
        "for x in A:\n",
        "  print(x)"
      ],
      "metadata": {
        "colab": {
          "base_uri": "https://localhost:8080/"
        },
        "id": "yh6If17R5734",
        "outputId": "1222d4d5-aea5-4014-e54a-09c0313bad1d"
      },
      "execution_count": 9,
      "outputs": [
        {
          "output_type": "stream",
          "name": "stdout",
          "text": [
            "[1, 2]\n",
            "[3, 4]\n",
            "[5, 6]\n"
          ]
        }
      ]
    },
    {
      "cell_type": "code",
      "source": [
        "A =[[1,2],[3,4],[5,6]]\n",
        "for x in A:\n",
        "  for y in x:\n",
        "    print(y)"
      ],
      "metadata": {
        "colab": {
          "base_uri": "https://localhost:8080/"
        },
        "id": "X-KsRGoi6541",
        "outputId": "33fdf2b3-19ef-48f1-a08e-b800682ddd75"
      },
      "execution_count": 14,
      "outputs": [
        {
          "output_type": "stream",
          "name": "stdout",
          "text": [
            "1\n",
            "2\n",
            "3\n",
            "4\n",
            "5\n",
            "6\n"
          ]
        }
      ]
    },
    {
      "cell_type": "code",
      "source": [
        "for x in A:\n",
        "  print(x)\n",
        "  for y in x:\n",
        "    print(y)"
      ],
      "metadata": {
        "colab": {
          "base_uri": "https://localhost:8080/"
        },
        "id": "PVVXQP0W7qsx",
        "outputId": "85ef40f3-6cf1-4713-99e9-af67a2294e3a"
      },
      "execution_count": 17,
      "outputs": [
        {
          "output_type": "stream",
          "name": "stdout",
          "text": [
            "[1, 2]\n",
            "1\n",
            "2\n",
            "[3, 4]\n",
            "3\n",
            "4\n",
            "[5, 6]\n",
            "5\n",
            "6\n"
          ]
        }
      ]
    },
    {
      "cell_type": "code",
      "source": [
        "A =[[1,2],[3,4],[5,6]]\n",
        "# find sum\n",
        "sum =0\n",
        "for x in A:\n",
        "  for y in x:\n",
        "    sum +=y\n",
        "print(sum)"
      ],
      "metadata": {
        "colab": {
          "base_uri": "https://localhost:8080/"
        },
        "id": "sObXTu8c8drK",
        "outputId": "3a0f6e51-c6d4-4c3c-d202-2346fbc4505b"
      },
      "execution_count": 18,
      "outputs": [
        {
          "output_type": "stream",
          "name": "stdout",
          "text": [
            "21\n"
          ]
        }
      ]
    },
    {
      "cell_type": "code",
      "source": [
        "# nested for loop\n",
        "A = [\"day1\",\"day2\",\"day3\"]\n",
        "B = [\"Mon\",\"Tues\",\"wed\"]\n",
        "# day1,mon,day1,tues,day1,wed\n",
        "for x in A:\n",
        "  for y in B:\n",
        "    print(x,y)"
      ],
      "metadata": {
        "colab": {
          "base_uri": "https://localhost:8080/"
        },
        "id": "2D607upI9Kfx",
        "outputId": "2fd48481-2816-4770-80d0-c4192f5d8b6a"
      },
      "execution_count": 19,
      "outputs": [
        {
          "output_type": "stream",
          "name": "stdout",
          "text": [
            "day1 Mon\n",
            "day1 Tues\n",
            "day1 wed\n",
            "day2 Mon\n",
            "day2 Tues\n",
            "day2 wed\n",
            "day3 Mon\n",
            "day3 Tues\n",
            "day3 wed\n"
          ]
        }
      ]
    },
    {
      "cell_type": "code",
      "source": [
        "A = [[1,2],[3,4],[5,6]]\n",
        "for x,y in A:\n",
        "  print(x)\n",
        "  print(y)"
      ],
      "metadata": {
        "colab": {
          "base_uri": "https://localhost:8080/"
        },
        "id": "qmvR10ih9_cp",
        "outputId": "039385d9-d384-4f93-d561-0e6fa2b15902"
      },
      "execution_count": 20,
      "outputs": [
        {
          "output_type": "stream",
          "name": "stdout",
          "text": [
            "1\n",
            "2\n",
            "3\n",
            "4\n",
            "5\n",
            "6\n"
          ]
        }
      ]
    },
    {
      "cell_type": "code",
      "source": [
        "data = [[100 ,0.2],[200,0.1],[300,0.3],[120,0.4]]\n",
        "# find discount price = price - price*discount\n",
        "for price,discount in data:\n",
        "  discount_price = price-price*discount\n",
        "  print(discount_price)"
      ],
      "metadata": {
        "colab": {
          "base_uri": "https://localhost:8080/"
        },
        "id": "QKKOVFSx-ZB5",
        "outputId": "224ed54c-fcd4-47ce-d5f9-256ff37c6299"
      },
      "execution_count": 21,
      "outputs": [
        {
          "output_type": "stream",
          "name": "stdout",
          "text": [
            "80.0\n",
            "180.0\n",
            "210.0\n",
            "72.0\n"
          ]
        }
      ]
    },
    {
      "cell_type": "code",
      "source": [
        "A=[[1,2,3],[4,5,6]]\n",
        "for x,y,z in A:\n",
        "  print(x)\n",
        "  print(y)\n",
        "  print(z)"
      ],
      "metadata": {
        "colab": {
          "base_uri": "https://localhost:8080/"
        },
        "id": "VtELAJW7_Yf1",
        "outputId": "31a05709-9d60-4d3d-947b-29ab27de99e0"
      },
      "execution_count": 24,
      "outputs": [
        {
          "output_type": "stream",
          "name": "stdout",
          "text": [
            "1\n",
            "2\n",
            "3\n",
            "4\n",
            "5\n",
            "6\n"
          ]
        }
      ]
    },
    {
      "cell_type": "code",
      "source": [
        "# nested for loop\n",
        "A = [\"day1\",\"day2\",\"day3\"]\n",
        "B = [\"mon\",\"tues\",\"wed\"]\n",
        "list(zip(A,B))"
      ],
      "metadata": {
        "colab": {
          "base_uri": "https://localhost:8080/"
        },
        "id": "s4mtItlT_90Y",
        "outputId": "221b3bf4-a5f0-4ebe-e59e-c388830aba80"
      },
      "execution_count": 25,
      "outputs": [
        {
          "output_type": "execute_result",
          "data": {
            "text/plain": [
              "[('day1', 'mon'), ('day2', 'tues'), ('day3', 'wed')]"
            ]
          },
          "metadata": {},
          "execution_count": 25
        }
      ]
    },
    {
      "cell_type": "code",
      "source": [
        "for x,y in zip(A,B):\n",
        "  print(x,y)"
      ],
      "metadata": {
        "colab": {
          "base_uri": "https://localhost:8080/"
        },
        "id": "JWF4zA3jAbxV",
        "outputId": "469faee8-9468-4850-8e43-fc7d094bfe47"
      },
      "execution_count": 26,
      "outputs": [
        {
          "output_type": "stream",
          "name": "stdout",
          "text": [
            "day1 mon\n",
            "day2 tues\n",
            "day3 wed\n"
          ]
        }
      ]
    },
    {
      "cell_type": "markdown",
      "source": [
        "# Break\n",
        "\n",
        "Break in for loop stops the iteration when certain condition is met."
      ],
      "metadata": {
        "id": "qJPi-C0SA9BB"
      }
    },
    {
      "cell_type": "code",
      "source": [
        "A = [\"red\",\"green\",\"blue\",\"orange\"]\n",
        "# stop the loop when it takes blue\n",
        "for x in A:\n",
        "  if x=='blue':\n",
        "    break\n",
        "  print(x)"
      ],
      "metadata": {
        "colab": {
          "base_uri": "https://localhost:8080/"
        },
        "id": "PPOZuzrTAwLb",
        "outputId": "7c66557a-7e00-4fd8-e613-820f4aba089f"
      },
      "execution_count": 27,
      "outputs": [
        {
          "output_type": "stream",
          "name": "stdout",
          "text": [
            "red\n",
            "green\n"
          ]
        }
      ]
    },
    {
      "cell_type": "code",
      "source": [
        "B = [100,200,300,500,600]\n",
        "# Stop the loop when values is greater than 400\n",
        "for x in B:\n",
        "  if x>400:\n",
        "    break\n",
        "  print(x)"
      ],
      "metadata": {
        "colab": {
          "base_uri": "https://localhost:8080/"
        },
        "id": "o7JjoeMmBZ2B",
        "outputId": "c55ec623-1db1-4bd9-c11d-242dcdc286cb"
      },
      "execution_count": 28,
      "outputs": [
        {
          "output_type": "stream",
          "name": "stdout",
          "text": [
            "100\n",
            "200\n",
            "300\n"
          ]
        }
      ]
    },
    {
      "cell_type": "code",
      "source": [
        "# first palindrome in the list\n",
        "word = [\"war\",\"sql\",\"python\",\"nosql\",\"level\",\"legal\",\"wow\",\"mom\"]\n",
        "for x in word:\n",
        "  if x==x[::-1]:\n",
        "    print(x)\n",
        "    break"
      ],
      "metadata": {
        "colab": {
          "base_uri": "https://localhost:8080/"
        },
        "id": "o_MBzqCCB4De",
        "outputId": "b4bee157-8520-42a5-89d4-2a4b8dad8c24"
      },
      "execution_count": 29,
      "outputs": [
        {
          "output_type": "stream",
          "name": "stdout",
          "text": [
            "level\n"
          ]
        }
      ]
    },
    {
      "cell_type": "code",
      "source": [
        "# second palindrome in the list\n",
        "word = [\"war\",\"sql\",\"python\",\"nosql\",\"level\",\"legal\",\"wow\",\"mom\"]\n",
        "count=0\n",
        "for x in word:\n",
        "  if x==x[::-1]:\n",
        "    count+=1 #count=count+1\n",
        "    if count==2:\n",
        "       print(x)\n",
        "       break"
      ],
      "metadata": {
        "colab": {
          "base_uri": "https://localhost:8080/"
        },
        "id": "9rbcRGLSChPV",
        "outputId": "f3bd140b-1ece-47a6-92ce-02a26224cd97"
      },
      "execution_count": 31,
      "outputs": [
        {
          "output_type": "stream",
          "name": "stdout",
          "text": [
            "wow\n"
          ]
        }
      ]
    },
    {
      "cell_type": "code",
      "source": [
        "# word = [\"war\",\"sql\",\"abcabc\",\"python\",\"dad\",\"nosql\",\"level\",\"legal\",\"wow\",\"mom\"]\n",
        "# find only first and second palindrome\n",
        "word = [\"war\",'sql','abcabc',\"python\",\"dad\",\"nosql\",\"level\",\"wow\",\"mom\"]\n",
        "count=0\n",
        "for x in word:\n",
        "  if x==x[::-1]:\n",
        "    count+=1\n",
        "    if count==1:\n",
        "      print(x)\n",
        "    elif count==2:\n",
        "      print(x)\n",
        "      break"
      ],
      "metadata": {
        "colab": {
          "base_uri": "https://localhost:8080/"
        },
        "id": "MocePmijDEn9",
        "outputId": "fd29f7aa-ba75-4274-915b-3da2b43aaf07"
      },
      "execution_count": 32,
      "outputs": [
        {
          "output_type": "stream",
          "name": "stdout",
          "text": [
            "dad\n",
            "level\n"
          ]
        }
      ]
    },
    {
      "cell_type": "markdown",
      "source": [
        "# Continue\n",
        "\n",
        "## Continue:\n",
        "it skip the iteration for given condition and it will continue"
      ],
      "metadata": {
        "id": "Y4_SdHWnE976"
      }
    },
    {
      "cell_type": "code",
      "source": [
        "A = [10,-2,3,-5,-6,7,-8]\n",
        "#print only positive numers\n",
        "for x in A:\n",
        "  if x>0:\n",
        "    print(x)"
      ],
      "metadata": {
        "colab": {
          "base_uri": "https://localhost:8080/"
        },
        "id": "Nd0P7TOXEgEV",
        "outputId": "a7dbc854-3bb6-43ce-d81b-8bd2e10c6dfc"
      },
      "execution_count": 33,
      "outputs": [
        {
          "output_type": "stream",
          "name": "stdout",
          "text": [
            "10\n",
            "3\n",
            "7\n"
          ]
        }
      ]
    },
    {
      "cell_type": "code",
      "source": [
        "A = [10,-2,3,-5,-6,7,-8]\n",
        "# print only positive numbers\n",
        "for x in A:\n",
        "  if x<0: # if number is negative skip\n",
        "    continue\n",
        "  print(x)"
      ],
      "metadata": {
        "colab": {
          "base_uri": "https://localhost:8080/"
        },
        "id": "Xo9aZZO9Fl56",
        "outputId": "11a38ebe-5df5-47c3-af0c-00fb4e7a73be"
      },
      "execution_count": 34,
      "outputs": [
        {
          "output_type": "stream",
          "name": "stdout",
          "text": [
            "10\n",
            "3\n",
            "7\n"
          ]
        }
      ]
    },
    {
      "cell_type": "code",
      "source": [
        "'''\n",
        "x=10\n",
        "---> 10\n",
        "x= -2\n",
        "-------\n",
        "x=3\n",
        "---> 3\n",
        "-------\n",
        "'''"
      ],
      "metadata": {
        "colab": {
          "base_uri": "https://localhost:8080/",
          "height": 36
        },
        "id": "99k9CaoCG8y2",
        "outputId": "bab29dec-047b-44ec-d847-4a21241cfb1e"
      },
      "execution_count": 35,
      "outputs": [
        {
          "output_type": "execute_result",
          "data": {
            "text/plain": [
              "'\\nx=10\\n---> 10\\nx= -2\\n-------\\nx=3\\n---> 3\\n-------\\n'"
            ],
            "application/vnd.google.colaboratory.intrinsic+json": {
              "type": "string"
            }
          },
          "metadata": {},
          "execution_count": 35
        }
      ]
    },
    {
      "cell_type": "code",
      "source": [
        "B = [2,3,5,6,78,9,10,12]\n",
        "# print only even numbers\n",
        "for x in B:\n",
        "  if x%2!=0:  #if number is odd\n",
        "    continue\n",
        "  print(x)\n"
      ],
      "metadata": {
        "colab": {
          "base_uri": "https://localhost:8080/"
        },
        "id": "dfXPYiAkGh-4",
        "outputId": "9817be4b-81d0-4aa7-8bb2-d82304c4b09b"
      },
      "execution_count": 36,
      "outputs": [
        {
          "output_type": "stream",
          "name": "stdout",
          "text": [
            "2\n",
            "6\n",
            "78\n",
            "10\n",
            "12\n"
          ]
        }
      ]
    },
    {
      "cell_type": "code",
      "source": [
        "for x in B:\n",
        "  if x%2==0:\n",
        "    print(x)"
      ],
      "metadata": {
        "colab": {
          "base_uri": "https://localhost:8080/"
        },
        "id": "Jy8SAoVcIwE5",
        "outputId": "3e536702-8dea-4b23-bdcb-b6d3a188e011"
      },
      "execution_count": 37,
      "outputs": [
        {
          "output_type": "stream",
          "name": "stdout",
          "text": [
            "2\n",
            "6\n",
            "78\n",
            "10\n",
            "12\n"
          ]
        }
      ]
    },
    {
      "cell_type": "code",
      "source": [
        "'''Write a program that prints all numbers from 1 to 20 except those divisible by 3. Use the condition statement to skip the unwanted numbers.'''\n",
        "\n",
        "for x in range(1,21):\n",
        "  if x%3==0:\n",
        "    continue\n",
        "  print(x)"
      ],
      "metadata": {
        "colab": {
          "base_uri": "https://localhost:8080/"
        },
        "id": "9JqYvejaI6Cn",
        "outputId": "3c66c136-6358-4127-c016-f4d65c863600"
      },
      "execution_count": 38,
      "outputs": [
        {
          "output_type": "stream",
          "name": "stdout",
          "text": [
            "1\n",
            "2\n",
            "4\n",
            "5\n",
            "7\n",
            "8\n",
            "10\n",
            "11\n",
            "13\n",
            "14\n",
            "16\n",
            "17\n",
            "19\n",
            "20\n"
          ]
        }
      ]
    },
    {
      "cell_type": "code",
      "source": [
        "'''You have a list of mixed data types.\n",
        "print only integers, skipping everything\n",
        "else using the continue statement.'''\n",
        "data = [42,\"hello\",3.14,7,\"world\",10]\n",
        "for x in data:\n",
        "  if type(x)!=int:\n",
        "    continue\n",
        "  print(x)"
      ],
      "metadata": {
        "colab": {
          "base_uri": "https://localhost:8080/"
        },
        "id": "jxTILCpdJpPo",
        "outputId": "f668ede3-9c70-4f46-a1d0-9fb66cc31fbd"
      },
      "execution_count": 43,
      "outputs": [
        {
          "output_type": "stream",
          "name": "stdout",
          "text": [
            "42\n",
            "7\n",
            "10\n"
          ]
        }
      ]
    },
    {
      "cell_type": "code",
      "source": [
        "data = [42,\"hello\",3.14,7,\"world\",10]\n",
        "for x in data:\n",
        "  if type(x)==float or type(x)==str:\n",
        "    continue\n",
        "  print(x)"
      ],
      "metadata": {
        "colab": {
          "base_uri": "https://localhost:8080/"
        },
        "id": "GC9bxBy7KfNm",
        "outputId": "12be974b-a4ba-4c89-9fcf-410578b7d5fa"
      },
      "execution_count": 44,
      "outputs": [
        {
          "output_type": "stream",
          "name": "stdout",
          "text": [
            "42\n",
            "7\n",
            "10\n"
          ]
        }
      ]
    },
    {
      "cell_type": "code",
      "source": [],
      "metadata": {
        "id": "_nRbgL0TLYms"
      },
      "execution_count": 44,
      "outputs": []
    }
  ]
}