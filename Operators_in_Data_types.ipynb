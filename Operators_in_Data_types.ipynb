{
  "nbformat": 4,
  "nbformat_minor": 0,
  "metadata": {
    "colab": {
      "provenance": [],
      "authorship_tag": "ABX9TyOcZIqe1EqbireotjDZ0I4y",
      "include_colab_link": true
    },
    "kernelspec": {
      "name": "python3",
      "display_name": "Python 3"
    },
    "language_info": {
      "name": "python"
    }
  },
  "cells": [
    {
      "cell_type": "markdown",
      "metadata": {
        "id": "view-in-github",
        "colab_type": "text"
      },
      "source": [
        "<a href=\"https://colab.research.google.com/github/ovnarayana/Data-science/blob/main/Operators_in_Data_types.ipynb\" target=\"_parent\"><img src=\"https://colab.research.google.com/assets/colab-badge.svg\" alt=\"Open In Colab\"/></a>"
      ]
    },
    {
      "cell_type": "markdown",
      "source": [
        "# String slicing and indexing"
      ],
      "metadata": {
        "id": "W1-8pjMtldZx"
      }
    },
    {
      "cell_type": "code",
      "source": [
        "text = \"python is easy\"\n",
        "list(enumerate(text))"
      ],
      "metadata": {
        "colab": {
          "base_uri": "https://localhost:8080/"
        },
        "id": "525zKjjnllU3",
        "outputId": "ac84739d-85a6-4aac-b091-54b02e4e77c4"
      },
      "execution_count": 4,
      "outputs": [
        {
          "output_type": "execute_result",
          "data": {
            "text/plain": [
              "[(0, 'p'),\n",
              " (1, 'y'),\n",
              " (2, 't'),\n",
              " (3, 'h'),\n",
              " (4, 'o'),\n",
              " (5, 'n'),\n",
              " (6, ' '),\n",
              " (7, 'i'),\n",
              " (8, 's'),\n",
              " (9, ' '),\n",
              " (10, 'e'),\n",
              " (11, 'a'),\n",
              " (12, 's'),\n",
              " (13, 'y')]"
            ]
          },
          "metadata": {},
          "execution_count": 4
        }
      ]
    },
    {
      "cell_type": "code",
      "source": [
        "# fetch i using positive indexing\n",
        "text[7]"
      ],
      "metadata": {
        "colab": {
          "base_uri": "https://localhost:8080/",
          "height": 36
        },
        "id": "gKkJKkQElqk_",
        "outputId": "bc1e0961-e90b-4722-82d6-b3df1a1a7756"
      },
      "execution_count": 2,
      "outputs": [
        {
          "output_type": "execute_result",
          "data": {
            "text/plain": [
              "'i'"
            ],
            "application/vnd.google.colaboratory.intrinsic+json": {
              "type": "string"
            }
          },
          "metadata": {},
          "execution_count": 2
        }
      ]
    },
    {
      "cell_type": "code",
      "source": [
        "# fetch is\n",
        "text[7:9]"
      ],
      "metadata": {
        "colab": {
          "base_uri": "https://localhost:8080/",
          "height": 36
        },
        "id": "zBOtYlxGlw0t",
        "outputId": "f90e5b67-ca1a-4ed8-8683-1a8e0e76f5bf"
      },
      "execution_count": 3,
      "outputs": [
        {
          "output_type": "execute_result",
          "data": {
            "text/plain": [
              "'is'"
            ],
            "application/vnd.google.colaboratory.intrinsic+json": {
              "type": "string"
            }
          },
          "metadata": {},
          "execution_count": 3
        }
      ]
    },
    {
      "cell_type": "code",
      "source": [
        "# fetch \"on is ea\"\n",
        "text[4:12]"
      ],
      "metadata": {
        "colab": {
          "base_uri": "https://localhost:8080/",
          "height": 36
        },
        "id": "MKde6h6fl5wm",
        "outputId": "e58bb01e-84b5-453d-b402-21469612b58b"
      },
      "execution_count": 5,
      "outputs": [
        {
          "output_type": "execute_result",
          "data": {
            "text/plain": [
              "'on is ea'"
            ],
            "application/vnd.google.colaboratory.intrinsic+json": {
              "type": "string"
            }
          },
          "metadata": {},
          "execution_count": 5
        }
      ]
    },
    {
      "cell_type": "code",
      "source": [
        "# fetch \"to se\"\n",
        "text[2:11:2]"
      ],
      "metadata": {
        "colab": {
          "base_uri": "https://localhost:8080/",
          "height": 36
        },
        "id": "C9HTWCzemVc9",
        "outputId": "055100e1-58fd-40c4-f369-4dce461067f5"
      },
      "execution_count": 6,
      "outputs": [
        {
          "output_type": "execute_result",
          "data": {
            "text/plain": [
              "'to se'"
            ],
            "application/vnd.google.colaboratory.intrinsic+json": {
              "type": "string"
            }
          },
          "metadata": {},
          "execution_count": 6
        }
      ]
    },
    {
      "cell_type": "code",
      "source": [
        "B = \"Data science\"\n",
        "list(enumerate(B))"
      ],
      "metadata": {
        "colab": {
          "base_uri": "https://localhost:8080/"
        },
        "id": "9GXlVdQDm5j3",
        "outputId": "4d3a81e3-9a4a-4569-c971-a9655193df40"
      },
      "execution_count": 8,
      "outputs": [
        {
          "output_type": "execute_result",
          "data": {
            "text/plain": [
              "[(0, 'D'),\n",
              " (1, 'a'),\n",
              " (2, 't'),\n",
              " (3, 'a'),\n",
              " (4, ' '),\n",
              " (5, 's'),\n",
              " (6, 'c'),\n",
              " (7, 'i'),\n",
              " (8, 'e'),\n",
              " (9, 'n'),\n",
              " (10, 'c'),\n",
              " (11, 'e')]"
            ]
          },
          "metadata": {},
          "execution_count": 8
        }
      ]
    },
    {
      "cell_type": "code",
      "source": [
        "# fetch S using negative indexing\n",
        "B[-7]"
      ],
      "metadata": {
        "colab": {
          "base_uri": "https://localhost:8080/",
          "height": 36
        },
        "id": "wdCemw4Nm-7n",
        "outputId": "467aef54-ba7e-44db-cfdb-7c67f7256b6f"
      },
      "execution_count": 10,
      "outputs": [
        {
          "output_type": "execute_result",
          "data": {
            "text/plain": [
              "'s'"
            ],
            "application/vnd.google.colaboratory.intrinsic+json": {
              "type": "string"
            }
          },
          "metadata": {},
          "execution_count": 10
        }
      ]
    },
    {
      "cell_type": "code",
      "source": [
        "# fetch \"ata Sci\" using negative indexing\n",
        "B[-11:-4]"
      ],
      "metadata": {
        "colab": {
          "base_uri": "https://localhost:8080/",
          "height": 36
        },
        "id": "_tnNRxWhnWHv",
        "outputId": "2efbf4cf-e12a-47f7-c075-567e494670cc"
      },
      "execution_count": 12,
      "outputs": [
        {
          "output_type": "execute_result",
          "data": {
            "text/plain": [
              "'ata sci'"
            ],
            "application/vnd.google.colaboratory.intrinsic+json": {
              "type": "string"
            }
          },
          "metadata": {},
          "execution_count": 12
        }
      ]
    },
    {
      "cell_type": "code",
      "source": [
        "# fetch \"scien\"\n",
        "B[-7:-2]"
      ],
      "metadata": {
        "colab": {
          "base_uri": "https://localhost:8080/",
          "height": 36
        },
        "id": "nrQQGvMenuMf",
        "outputId": "8bc47a24-3b88-4d10-9616-6f46194bdd37"
      },
      "execution_count": 13,
      "outputs": [
        {
          "output_type": "execute_result",
          "data": {
            "text/plain": [
              "'scien'"
            ],
            "application/vnd.google.colaboratory.intrinsic+json": {
              "type": "string"
            }
          },
          "metadata": {},
          "execution_count": 13
        }
      ]
    },
    {
      "cell_type": "code",
      "source": [
        "# fetch \"neics\"\n",
        "B[-3:-8:-1]"
      ],
      "metadata": {
        "colab": {
          "base_uri": "https://localhost:8080/",
          "height": 36
        },
        "id": "i1ezcg37oB1T",
        "outputId": "7e0ec3f0-7939-4c9a-c6de-b30a8ace407f"
      },
      "execution_count": 15,
      "outputs": [
        {
          "output_type": "execute_result",
          "data": {
            "text/plain": [
              "'neics'"
            ],
            "application/vnd.google.colaboratory.intrinsic+json": {
              "type": "string"
            }
          },
          "metadata": {},
          "execution_count": 15
        }
      ]
    },
    {
      "cell_type": "code",
      "source": [
        "# fetch \"ics ata\"\n",
        "B[-5:-12:-1]"
      ],
      "metadata": {
        "colab": {
          "base_uri": "https://localhost:8080/",
          "height": 36
        },
        "id": "XdFlRymLoVX_",
        "outputId": "997faea8-fcc9-4e81-8caf-bb2cd40b30a6"
      },
      "execution_count": 16,
      "outputs": [
        {
          "output_type": "execute_result",
          "data": {
            "text/plain": [
              "'ics ata'"
            ],
            "application/vnd.google.colaboratory.intrinsic+json": {
              "type": "string"
            }
          },
          "metadata": {},
          "execution_count": 16
        }
      ]
    },
    {
      "cell_type": "code",
      "source": [
        "# Are strings a Mutable??\n",
        "B= \"Data Science\""
      ],
      "metadata": {
        "id": "Cx4VZNs8oyq-"
      },
      "execution_count": 17,
      "outputs": []
    },
    {
      "cell_type": "markdown",
      "source": [
        "# Note\n",
        "\n",
        "Strings are Immutable(we cannot modify)"
      ],
      "metadata": {
        "id": "0p441B94o804"
      }
    },
    {
      "cell_type": "code",
      "source": [
        "# change S as s\n",
        "#B[5] = 'S'"
      ],
      "metadata": {
        "id": "LiPa3plaoreU"
      },
      "execution_count": 20,
      "outputs": []
    },
    {
      "cell_type": "markdown",
      "source": [
        "# Python Operators\n",
        " * Arithmetic operators\n",
        " * Assignment operators\n",
        " * comparison operators\n",
        " * Logical Operators\n",
        " * identity operators\n",
        " * Membership operators"
      ],
      "metadata": {
        "id": "Yz4iyjuAqAQx"
      }
    },
    {
      "cell_type": "markdown",
      "source": [
        "# Arithmetic Operators\n",
        "* addition(+)\n",
        "* Subtraction(-)\n",
        "* Multiplication(*)\n",
        "* exponential(**)\n",
        "* Division (/)\n",
        "* floor division(//)\n",
        "* modulus (%)"
      ],
      "metadata": {
        "id": "hjVg0MAeqd6V"
      }
    },
    {
      "cell_type": "code",
      "source": [
        "# addition(+): It is used to add two or more elements\n",
        "a = 100\n",
        "b = 50\n",
        "c = a + b\n",
        "print(\"addition:\", c)"
      ],
      "metadata": {
        "colab": {
          "base_uri": "https://localhost:8080/"
        },
        "id": "1OpjtujZpXHO",
        "outputId": "cd9634e6-51a2-48a5-e4be-a10eeb2289e0"
      },
      "execution_count": 23,
      "outputs": [
        {
          "output_type": "stream",
          "name": "stdout",
          "text": [
            "addition: 150\n"
          ]
        }
      ]
    },
    {
      "cell_type": "code",
      "source": [
        "# Subtraction(-): It is used to find the difference between 2 or more numbers\n",
        "a = 100\n",
        "b = 20\n",
        "c = a - b\n",
        "print(\"Subtraction:\",c)\n"
      ],
      "metadata": {
        "colab": {
          "base_uri": "https://localhost:8080/"
        },
        "id": "eH50UNvsrwTj",
        "outputId": "98e9fca9-d9d1-4b98-f62b-68939fa93548"
      },
      "execution_count": 24,
      "outputs": [
        {
          "output_type": "stream",
          "name": "stdout",
          "text": [
            "Subtraction: 80\n"
          ]
        }
      ]
    },
    {
      "cell_type": "code",
      "source": [
        "# Multiplication (*): It is used to multiply 2 or more numbers\n",
        "a = 10\n",
        "b = 20\n",
        "prod = a*b\n",
        "print(\"Multiplication:\",prod)"
      ],
      "metadata": {
        "colab": {
          "base_uri": "https://localhost:8080/"
        },
        "id": "Y0q2yag2rw3H",
        "outputId": "82ee4025-6f84-486e-ddb5-6489fbcd69fe"
      },
      "execution_count": 25,
      "outputs": [
        {
          "output_type": "stream",
          "name": "stdout",
          "text": [
            "Multiplication: 200\n"
          ]
        }
      ]
    },
    {
      "cell_type": "code",
      "source": [
        "# division (/): It is used to divide one number by other\n",
        "a = 100\n",
        "b = 20\n",
        "div = a/b\n",
        "print(\"Division:\", div)"
      ],
      "metadata": {
        "colab": {
          "base_uri": "https://localhost:8080/"
        },
        "id": "M_Xa_he2s4yq",
        "outputId": "6a95d303-0cd1-483f-a983-8ef04a3c69a7"
      },
      "execution_count": 26,
      "outputs": [
        {
          "output_type": "stream",
          "name": "stdout",
          "text": [
            "Division: 5.0\n"
          ]
        }
      ]
    },
    {
      "cell_type": "code",
      "source": [
        "# exponential(**): power of a number\n",
        "# 2 power 3\n",
        "a = 2\n",
        "b = 3\n",
        "power = a**b\n",
        "print(\"2 power 3 is:\", power)"
      ],
      "metadata": {
        "colab": {
          "base_uri": "https://localhost:8080/"
        },
        "id": "IH5wLQs6tV1Y",
        "outputId": "cd6d6f1c-6bb4-4e6d-abdc-2572dc04bab5"
      },
      "execution_count": 28,
      "outputs": [
        {
          "output_type": "stream",
          "name": "stdout",
          "text": [
            "2 power 3 is: 8\n"
          ]
        }
      ]
    },
    {
      "cell_type": "code",
      "source": [
        "# floor division(//) (integer): It returns integer result upon division\n",
        "a = 5\n",
        "b = 3\n",
        "print(\"Division: \",a/b)\n",
        "print(\"floor division:\",a//b)"
      ],
      "metadata": {
        "colab": {
          "base_uri": "https://localhost:8080/"
        },
        "id": "8wFa2iv3v8sb",
        "outputId": "9706849d-1639-4818-a402-2f856ce7991d"
      },
      "execution_count": 29,
      "outputs": [
        {
          "output_type": "stream",
          "name": "stdout",
          "text": [
            "Division:  1.6666666666666667\n",
            "floor division: 1\n"
          ]
        }
      ]
    },
    {
      "cell_type": "code",
      "source": [
        "#Modulus(%): it returns remainder value upon division\n",
        "a = 5\n",
        "b = 2\n",
        "print(\"5 modulo 2 is: \", a%b)"
      ],
      "metadata": {
        "colab": {
          "base_uri": "https://localhost:8080/"
        },
        "id": "rjY9jkWTwbhS",
        "outputId": "5198356f-a471-47d0-d60e-d07135a8b269"
      },
      "execution_count": 30,
      "outputs": [
        {
          "output_type": "stream",
          "name": "stdout",
          "text": [
            "5 modulo 2 is:  1\n"
          ]
        }
      ]
    },
    {
      "cell_type": "code",
      "source": [
        "# even: num%2==0(number is divisible by 2)\n",
        "# odd: num%2!=0 (number is not divisible by 2)"
      ],
      "metadata": {
        "id": "XS7aAyjCwzlW"
      },
      "execution_count": 31,
      "outputs": []
    },
    {
      "cell_type": "markdown",
      "source": [
        "# Comparison operators\n",
        "##Comaprison operators are used to compare values.\n",
        "\n",
        "* equal(==)\n",
        "* not equal (!=)\n",
        "* greater than (>)\n",
        "* less than (<)\n",
        "* greaterthan or equal (>=)\n",
        "* less than or equal (<=)"
      ],
      "metadata": {
        "id": "FBpSMdlMxhQC"
      }
    },
    {
      "cell_type": "code",
      "source": [
        "a = 100\n",
        "b = 20"
      ],
      "metadata": {
        "id": "VKx2MDg2xX66"
      },
      "execution_count": 32,
      "outputs": []
    },
    {
      "cell_type": "code",
      "source": [
        "#is a same as b\n",
        "print(a==b)"
      ],
      "metadata": {
        "colab": {
          "base_uri": "https://localhost:8080/"
        },
        "id": "QKAfzv3KyNMk",
        "outputId": "6a2d3b57-6592-42fb-e537-230b81e444db"
      },
      "execution_count": 34,
      "outputs": [
        {
          "output_type": "stream",
          "name": "stdout",
          "text": [
            "False\n"
          ]
        }
      ]
    },
    {
      "cell_type": "code",
      "source": [
        "a = 10\n",
        "b = 10"
      ],
      "metadata": {
        "id": "ZJ-6s-BSyUc0"
      },
      "execution_count": 35,
      "outputs": []
    },
    {
      "cell_type": "code",
      "source": [
        "print(a==b)"
      ],
      "metadata": {
        "colab": {
          "base_uri": "https://localhost:8080/"
        },
        "id": "jEl3JXG1yfi2",
        "outputId": "5f8c040e-3062-4553-a101-82adbad2db79"
      },
      "execution_count": 36,
      "outputs": [
        {
          "output_type": "stream",
          "name": "stdout",
          "text": [
            "True\n"
          ]
        }
      ]
    },
    {
      "cell_type": "code",
      "source": [
        "x = 50\n",
        "y = 40"
      ],
      "metadata": {
        "id": "_TWlGTHzyjbH"
      },
      "execution_count": 37,
      "outputs": []
    },
    {
      "cell_type": "code",
      "source": [
        "print(x!=y)"
      ],
      "metadata": {
        "colab": {
          "base_uri": "https://localhost:8080/"
        },
        "id": "2tMlatjWyrSD",
        "outputId": "c01c5188-f5e3-44f3-fb99-8022025bc0e7"
      },
      "execution_count": 38,
      "outputs": [
        {
          "output_type": "stream",
          "name": "stdout",
          "text": [
            "True\n"
          ]
        }
      ]
    },
    {
      "cell_type": "code",
      "source": [
        "x = 40\n",
        "y = 40\n",
        "print(x!=y)"
      ],
      "metadata": {
        "colab": {
          "base_uri": "https://localhost:8080/"
        },
        "id": "p5uk2Ws0ywDa",
        "outputId": "9699645a-8e2a-4bfd-c10d-38619474e9dd"
      },
      "execution_count": 40,
      "outputs": [
        {
          "output_type": "stream",
          "name": "stdout",
          "text": [
            "False\n"
          ]
        }
      ]
    },
    {
      "cell_type": "code",
      "source": [
        "print (x > y)\n",
        "print (x < y)\n",
        "print (x >= y)\n",
        "print (x <= y)"
      ],
      "metadata": {
        "colab": {
          "base_uri": "https://localhost:8080/"
        },
        "id": "_KMhWn6By37c",
        "outputId": "152febfe-1ae2-4ebb-c4d4-9f5b2929e4db"
      },
      "execution_count": 42,
      "outputs": [
        {
          "output_type": "stream",
          "name": "stdout",
          "text": [
            "False\n",
            "False\n",
            "True\n",
            "True\n"
          ]
        }
      ]
    },
    {
      "cell_type": "markdown",
      "source": [
        "#Logical operators\n",
        "\n",
        "## It is used to compare multiple conditions\n",
        "\n",
        "* and\n",
        "* or\n",
        "* not"
      ],
      "metadata": {
        "id": "4FEO0CtNzcne"
      }
    },
    {
      "cell_type": "markdown",
      "source": [
        "# and:\n",
        "\n",
        "## if all the conditions are true it returns true otherwise false."
      ],
      "metadata": {
        "id": "5Mqwb1azzpmt"
      }
    },
    {
      "cell_type": "code",
      "source": [
        "'''\n",
        "T and T --> True\n",
        "T and  F ---> False\n",
        "F and  T ---> False\n",
        "F and F ----> False '''\n"
      ],
      "metadata": {
        "colab": {
          "base_uri": "https://localhost:8080/",
          "height": 53
        },
        "id": "qUzUL8JdzIdg",
        "outputId": "34bc7463-78eb-4c8c-d931-7342b3c28614"
      },
      "execution_count": 43,
      "outputs": [
        {
          "output_type": "execute_result",
          "data": {
            "text/plain": [
              "'\\nT and T --> True\\nT and  F ---> False\\nF and  T ---> False\\nF and F ----> False '"
            ],
            "application/vnd.google.colaboratory.intrinsic+json": {
              "type": "string"
            }
          },
          "metadata": {},
          "execution_count": 43
        }
      ]
    },
    {
      "cell_type": "code",
      "source": [
        "(10>3) and (200>30)\n",
        "# T and T: T"
      ],
      "metadata": {
        "colab": {
          "base_uri": "https://localhost:8080/"
        },
        "id": "b2KXP6M70PyF",
        "outputId": "0b776341-9ecd-4181-e9f4-343b99011f17"
      },
      "execution_count": 44,
      "outputs": [
        {
          "output_type": "execute_result",
          "data": {
            "text/plain": [
              "True"
            ]
          },
          "metadata": {},
          "execution_count": 44
        }
      ]
    },
    {
      "cell_type": "code",
      "source": [
        "(100 > 3) and (1000> 200) and (400>50)"
      ],
      "metadata": {
        "colab": {
          "base_uri": "https://localhost:8080/"
        },
        "id": "fOa7ht_j0fh-",
        "outputId": "bd38c940-6f47-4ffb-b510-d2d136b60630"
      },
      "execution_count": 45,
      "outputs": [
        {
          "output_type": "execute_result",
          "data": {
            "text/plain": [
              "True"
            ]
          },
          "metadata": {},
          "execution_count": 45
        }
      ]
    },
    {
      "cell_type": "code",
      "source": [
        "(1000>500) and (20>3000)\n",
        "# T and F = F"
      ],
      "metadata": {
        "colab": {
          "base_uri": "https://localhost:8080/"
        },
        "id": "Wg2xh81j0kxb",
        "outputId": "8f40b6b8-db13-426d-8a2f-8e686664f44c"
      },
      "execution_count": 46,
      "outputs": [
        {
          "output_type": "execute_result",
          "data": {
            "text/plain": [
              "False"
            ]
          },
          "metadata": {},
          "execution_count": 46
        }
      ]
    },
    {
      "cell_type": "code",
      "source": [
        "(30>300) and (50>500) and (60>6000)\n",
        "# F and F and F= F"
      ],
      "metadata": {
        "colab": {
          "base_uri": "https://localhost:8080/"
        },
        "id": "SjkF6nlI0r-T",
        "outputId": "b2e38251-1666-4383-f180-fe637494eb87"
      },
      "execution_count": 47,
      "outputs": [
        {
          "output_type": "execute_result",
          "data": {
            "text/plain": [
              "False"
            ]
          },
          "metadata": {},
          "execution_count": 47
        }
      ]
    },
    {
      "cell_type": "markdown",
      "source": [
        "# or:\n",
        "## it returns true if either of the condition is true , otherwise False."
      ],
      "metadata": {
        "id": "d9eduo5p0wYS"
      }
    },
    {
      "cell_type": "code",
      "source": [
        "'''\n",
        "T or T -->  T\n",
        "T or  F ---> T\n",
        "F or  T ---> T\n",
        "F or F ----> F '''"
      ],
      "metadata": {
        "colab": {
          "base_uri": "https://localhost:8080/",
          "height": 36
        },
        "id": "EmyaqL7M0uaX",
        "outputId": "e02fa9f2-bb6c-44f5-aa8e-f732e8afcb51"
      },
      "execution_count": 48,
      "outputs": [
        {
          "output_type": "execute_result",
          "data": {
            "text/plain": [
              "'\\nT or T -->  T\\nT or  F ---> T\\nF or  T ---> T\\nF or F ----> F '"
            ],
            "application/vnd.google.colaboratory.intrinsic+json": {
              "type": "string"
            }
          },
          "metadata": {},
          "execution_count": 48
        }
      ]
    },
    {
      "cell_type": "code",
      "source": [
        "(100>20) or (20>4)\n",
        "# T or T =T"
      ],
      "metadata": {
        "colab": {
          "base_uri": "https://localhost:8080/"
        },
        "id": "45S45UXQ09WT",
        "outputId": "f9d99d8a-62a5-40ae-9c96-f1743097486a"
      },
      "execution_count": 49,
      "outputs": [
        {
          "output_type": "execute_result",
          "data": {
            "text/plain": [
              "True"
            ]
          },
          "metadata": {},
          "execution_count": 49
        }
      ]
    },
    {
      "cell_type": "code",
      "source": [
        "(10>2) or (40>4) or (400>50) or (5> 500)\n",
        "# T or T or T or F"
      ],
      "metadata": {
        "colab": {
          "base_uri": "https://localhost:8080/"
        },
        "id": "nvrGGQ-S0_Z5",
        "outputId": "7b0663fb-eed8-43b6-9ce8-24b953fa35cc"
      },
      "execution_count": 50,
      "outputs": [
        {
          "output_type": "execute_result",
          "data": {
            "text/plain": [
              "True"
            ]
          },
          "metadata": {},
          "execution_count": 50
        }
      ]
    },
    {
      "cell_type": "code",
      "source": [
        "(2>100) or (4>500) or (7>300)\n",
        "# F or F or F = F"
      ],
      "metadata": {
        "colab": {
          "base_uri": "https://localhost:8080/"
        },
        "id": "P4CvqKnT1BTe",
        "outputId": "e9c004ea-a326-4926-ea24-da72029a3cd2"
      },
      "execution_count": 51,
      "outputs": [
        {
          "output_type": "execute_result",
          "data": {
            "text/plain": [
              "False"
            ]
          },
          "metadata": {},
          "execution_count": 51
        }
      ]
    },
    {
      "cell_type": "markdown",
      "source": [
        "# not:\n",
        "## if condition is True it returns false and vice versa"
      ],
      "metadata": {
        "id": "XeIfvdIu1FNL"
      }
    },
    {
      "cell_type": "code",
      "source": [
        "not(100 > 30)"
      ],
      "metadata": {
        "colab": {
          "base_uri": "https://localhost:8080/"
        },
        "id": "8xC3kcMl1DSc",
        "outputId": "a5066fc4-2e72-49ae-b50b-77c51060c2a1"
      },
      "execution_count": 52,
      "outputs": [
        {
          "output_type": "execute_result",
          "data": {
            "text/plain": [
              "False"
            ]
          },
          "metadata": {},
          "execution_count": 52
        }
      ]
    },
    {
      "cell_type": "code",
      "source": [
        "not(2> 2000)"
      ],
      "metadata": {
        "colab": {
          "base_uri": "https://localhost:8080/"
        },
        "id": "tNWxkPXp1TMu",
        "outputId": "77987fcf-0319-45fe-a51a-f8dc465b7531"
      },
      "execution_count": 53,
      "outputs": [
        {
          "output_type": "execute_result",
          "data": {
            "text/plain": [
              "True"
            ]
          },
          "metadata": {},
          "execution_count": 53
        }
      ]
    },
    {
      "cell_type": "markdown",
      "source": [
        "# order of precedence\n",
        "* Parenthesis ()\n",
        "* comparison(==,!=,<,><=,>=)\n",
        "* not\n",
        "* and\n",
        "* or"
      ],
      "metadata": {
        "id": "gJlj-XQl1dxw"
      }
    },
    {
      "cell_type": "code",
      "source": [
        "(10 > 100) and (30 < 20) or (2 > 200) or not(5==6)\n",
        "# False and False or False or not(False)\n",
        "# False and False or False or True\n",
        "# False or False or True\n",
        "# True"
      ],
      "metadata": {
        "colab": {
          "base_uri": "https://localhost:8080/"
        },
        "id": "9qrC-XOA1UvU",
        "outputId": "86adca55-a883-410f-e24c-3023ee8e3c74"
      },
      "execution_count": 54,
      "outputs": [
        {
          "output_type": "execute_result",
          "data": {
            "text/plain": [
              "True"
            ]
          },
          "metadata": {},
          "execution_count": 54
        }
      ]
    },
    {
      "cell_type": "code",
      "source": [
        "(100>20) or not(20 >=30) and (10==10) or not(20<40)\n",
        "# (T or T) and (T or f)\n",
        "#T"
      ],
      "metadata": {
        "colab": {
          "base_uri": "https://localhost:8080/"
        },
        "id": "Es0ifVj01mml",
        "outputId": "e610ee53-673c-42e2-d176-18d8db112392"
      },
      "execution_count": 55,
      "outputs": [
        {
          "output_type": "execute_result",
          "data": {
            "text/plain": [
              "True"
            ]
          },
          "metadata": {},
          "execution_count": 55
        }
      ]
    },
    {
      "cell_type": "markdown",
      "source": [
        "# Assignment Operators"
      ],
      "metadata": {
        "id": "rbWds_I33QNY"
      }
    },
    {
      "cell_type": "code",
      "source": [
        "# Addition(+=) assignment operator\n",
        "salary = 30000\n",
        "# Increment salary by 20000\n",
        "# salary = salary + 20000\n",
        "salary+=20000\n",
        "print(salary)"
      ],
      "metadata": {
        "colab": {
          "base_uri": "https://localhost:8080/"
        },
        "id": "9mW5h8X62YT7",
        "outputId": "5ab6ec8a-524e-4b89-df30-403ab7d55230"
      },
      "execution_count": 56,
      "outputs": [
        {
          "output_type": "stream",
          "name": "stdout",
          "text": [
            "50000\n"
          ]
        }
      ]
    },
    {
      "cell_type": "code",
      "source": [
        "a = 100\n",
        "# increase a by 50\n",
        "# a = a+50\n",
        "a +=50\n",
        "print(a)"
      ],
      "metadata": {
        "colab": {
          "base_uri": "https://localhost:8080/"
        },
        "id": "kGnbue2h4KsW",
        "outputId": "d9a41cee-c244-4ccc-aa49-aaaa0423d0ea"
      },
      "execution_count": 58,
      "outputs": [
        {
          "output_type": "stream",
          "name": "stdout",
          "text": [
            "150\n"
          ]
        }
      ]
    },
    {
      "cell_type": "code",
      "source": [
        "# subtraction(-=) assignment\n",
        "salary = 50000\n",
        "# decrease salary by subtracting it with 20000\n",
        "# salary=salary-20000\n",
        "salary -= 20000\n",
        "print(salary)"
      ],
      "metadata": {
        "colab": {
          "base_uri": "https://localhost:8080/"
        },
        "id": "bZar3b_b4RjX",
        "outputId": "b8505b01-fe62-44d9-81d3-5aa0cbb5837a"
      },
      "execution_count": 59,
      "outputs": [
        {
          "output_type": "stream",
          "name": "stdout",
          "text": [
            "30000\n"
          ]
        }
      ]
    },
    {
      "cell_type": "code",
      "source": [
        "age = 50\n",
        "# reduce age to 30\n",
        "age-=20\n",
        "print(age)"
      ],
      "metadata": {
        "colab": {
          "base_uri": "https://localhost:8080/"
        },
        "id": "PS3HrAs445FF",
        "outputId": "c1472f84-b7fc-4f5f-e0c6-7d80ea4771e2"
      },
      "execution_count": 60,
      "outputs": [
        {
          "output_type": "stream",
          "name": "stdout",
          "text": [
            "30\n"
          ]
        }
      ]
    },
    {
      "cell_type": "code",
      "source": [
        "# multiplication(*=)\n",
        "salary = 10000\n",
        "# multiple actual salary with 6\n",
        "salary*=6\n",
        "print(salary)"
      ],
      "metadata": {
        "colab": {
          "base_uri": "https://localhost:8080/"
        },
        "id": "EerIy4zD5AGi",
        "outputId": "038b56d7-b968-4cfc-c834-ad7d0e0377cb"
      },
      "execution_count": 61,
      "outputs": [
        {
          "output_type": "stream",
          "name": "stdout",
          "text": [
            "60000\n"
          ]
        }
      ]
    },
    {
      "cell_type": "code",
      "source": [
        "# division(/=)\n",
        "a = 100\n",
        "# divide a by 5\n",
        "a/=5\n",
        "print(a)"
      ],
      "metadata": {
        "colab": {
          "base_uri": "https://localhost:8080/"
        },
        "id": "I3YJb5eW5Dhv",
        "outputId": "59cb3c4d-ef4b-4425-869e-3ddb9adfb2cb"
      },
      "execution_count": 62,
      "outputs": [
        {
          "output_type": "stream",
          "name": "stdout",
          "text": [
            "20.0\n"
          ]
        }
      ]
    },
    {
      "cell_type": "markdown",
      "source": [
        "# Identity operators\n",
        "## It is used to check whether two variables has same values or not.\n",
        "\n",
        "* is (==)\n",
        "* is not(!=)"
      ],
      "metadata": {
        "id": "-oynrYQ85m_q"
      }
    },
    {
      "cell_type": "code",
      "source": [
        "# is : operator gives True if both variables has same values else it gives false.\n",
        "a = 10\n",
        "b = 20\n",
        "print(a is b)"
      ],
      "metadata": {
        "colab": {
          "base_uri": "https://localhost:8080/"
        },
        "id": "6K-Ysfle5jXD",
        "outputId": "3b6c136b-954a-4333-f304-118df4d178ba"
      },
      "execution_count": 63,
      "outputs": [
        {
          "output_type": "stream",
          "name": "stdout",
          "text": [
            "False\n"
          ]
        }
      ]
    },
    {
      "cell_type": "code",
      "source": [
        "a = 20\n",
        "b = 20\n",
        "print(a is b)"
      ],
      "metadata": {
        "colab": {
          "base_uri": "https://localhost:8080/"
        },
        "id": "Us7s9Ihf6Kni",
        "outputId": "92479b7a-157f-4a7d-c5de-400474a13295"
      },
      "execution_count": 64,
      "outputs": [
        {
          "output_type": "stream",
          "name": "stdout",
          "text": [
            "True\n"
          ]
        }
      ]
    },
    {
      "cell_type": "code",
      "source": [
        "# is  not: operator gives False if both variables has same values else it gives True.\n",
        "a = 10\n",
        "b = 20\n",
        "print( a is not b)"
      ],
      "metadata": {
        "colab": {
          "base_uri": "https://localhost:8080/"
        },
        "id": "-4BNwUuK6jUs",
        "outputId": "1ca2b5fb-0cc8-457a-de85-3a122e1152f1"
      },
      "execution_count": 65,
      "outputs": [
        {
          "output_type": "stream",
          "name": "stdout",
          "text": [
            "True\n"
          ]
        }
      ]
    },
    {
      "cell_type": "code",
      "source": [
        "a = 10\n",
        "b = 10\n",
        "print( a is not b)"
      ],
      "metadata": {
        "colab": {
          "base_uri": "https://localhost:8080/"
        },
        "id": "ltUeT4ZY6ljP",
        "outputId": "ca5cf243-72ab-4e9c-a6a3-e1494d19e577"
      },
      "execution_count": 66,
      "outputs": [
        {
          "output_type": "stream",
          "name": "stdout",
          "text": [
            "False\n"
          ]
        }
      ]
    },
    {
      "cell_type": "markdown",
      "source": [
        "# Membership operators\n",
        "It is used to find any character or element present in object or not.\n",
        "* in\n",
        "* not in"
      ],
      "metadata": {
        "id": "8k1pKCR76ti8"
      }
    },
    {
      "cell_type": "code",
      "source": [
        "# in : It returns True if present else False\n",
        "colors = [\"blue\", \"green\", \"orange\", \"yellow\"]\n",
        "# Is green present in colors\n",
        "'green' in colors"
      ],
      "metadata": {
        "colab": {
          "base_uri": "https://localhost:8080/"
        },
        "id": "A69z6P8w6qKP",
        "outputId": "871f3bc2-e1da-4c18-8545-b48de2f606a7"
      },
      "execution_count": 67,
      "outputs": [
        {
          "output_type": "execute_result",
          "data": {
            "text/plain": [
              "True"
            ]
          },
          "metadata": {},
          "execution_count": 67
        }
      ]
    },
    {
      "cell_type": "code",
      "source": [
        "'black' in colors"
      ],
      "metadata": {
        "colab": {
          "base_uri": "https://localhost:8080/"
        },
        "id": "kU4Qw08w62Le",
        "outputId": "f7e5508b-7a42-465f-ecd3-d914839ef5c8"
      },
      "execution_count": 68,
      "outputs": [
        {
          "output_type": "execute_result",
          "data": {
            "text/plain": [
              "False"
            ]
          },
          "metadata": {},
          "execution_count": 68
        }
      ]
    },
    {
      "cell_type": "code",
      "source": [
        "# not in : It returns False if present else True\n",
        "'orange' not in colors"
      ],
      "metadata": {
        "colab": {
          "base_uri": "https://localhost:8080/"
        },
        "id": "N9Ub6RwV7Sde",
        "outputId": "cf2adc51-10af-4f13-d92d-44477e3edfee"
      },
      "execution_count": 69,
      "outputs": [
        {
          "output_type": "execute_result",
          "data": {
            "text/plain": [
              "False"
            ]
          },
          "metadata": {},
          "execution_count": 69
        }
      ]
    },
    {
      "cell_type": "code",
      "source": [
        "'black' not in colors"
      ],
      "metadata": {
        "colab": {
          "base_uri": "https://localhost:8080/"
        },
        "id": "bcxK3PPt7Vqw",
        "outputId": "be8cb098-d646-441d-a6d3-cfe4f0be3d8f"
      },
      "execution_count": 70,
      "outputs": [
        {
          "output_type": "execute_result",
          "data": {
            "text/plain": [
              "True"
            ]
          },
          "metadata": {},
          "execution_count": 70
        }
      ]
    },
    {
      "cell_type": "code",
      "source": [
        "B ='python'\n",
        "# check t is in B or not\n",
        "'t' in B"
      ],
      "metadata": {
        "colab": {
          "base_uri": "https://localhost:8080/"
        },
        "id": "Fs83AV4t7hZ_",
        "outputId": "f83e78a8-f21e-4c87-8aad-ad4129e4d19f"
      },
      "execution_count": 71,
      "outputs": [
        {
          "output_type": "execute_result",
          "data": {
            "text/plain": [
              "True"
            ]
          },
          "metadata": {},
          "execution_count": 71
        }
      ]
    },
    {
      "cell_type": "markdown",
      "source": [
        "# List"
      ],
      "metadata": {
        "id": "GcK09PxgVRSg"
      }
    },
    {
      "cell_type": "code",
      "source": [
        "# + : Used to combine two or more lists\n",
        "A = [1,2,3]\n",
        "B = [3,4,5]\n",
        "print(A+B)"
      ],
      "metadata": {
        "colab": {
          "base_uri": "https://localhost:8080/"
        },
        "id": "n-U4ioVG7jkq",
        "outputId": "f709ded5-e59e-46d5-dde7-fbe744f1c0f4"
      },
      "execution_count": 1,
      "outputs": [
        {
          "output_type": "stream",
          "name": "stdout",
          "text": [
            "[1, 2, 3, 3, 4, 5]\n"
          ]
        }
      ]
    },
    {
      "cell_type": "code",
      "source": [
        "A = [1,2,3]\n",
        "B = [3,4,5]\n",
        "C = [10,20,30]\n",
        "print(A+B+C)"
      ],
      "metadata": {
        "colab": {
          "base_uri": "https://localhost:8080/"
        },
        "id": "ToEXfgw5WL-I",
        "outputId": "62eac5c2-de8c-4abc-8b23-26e9e550b842"
      },
      "execution_count": 2,
      "outputs": [
        {
          "output_type": "stream",
          "name": "stdout",
          "text": [
            "[1, 2, 3, 3, 4, 5, 10, 20, 30]\n"
          ]
        }
      ]
    },
    {
      "cell_type": "code",
      "source": [
        "# * : In list * used to repeat list elements\n",
        "A = [1,2,3]\n",
        "B = [4,5,6]\n",
        "print(A*2)"
      ],
      "metadata": {
        "colab": {
          "base_uri": "https://localhost:8080/"
        },
        "id": "CyHVxpfWWR_g",
        "outputId": "dda70eaf-63a8-4dfc-bbdd-dea776eef466"
      },
      "execution_count": 11,
      "outputs": [
        {
          "output_type": "stream",
          "name": "stdout",
          "text": [
            "[1, 2, 3, 1, 2, 3]\n"
          ]
        }
      ]
    },
    {
      "cell_type": "code",
      "source": [
        "A * B"
      ],
      "metadata": {
        "colab": {
          "base_uri": "https://localhost:8080/",
          "height": 141
        },
        "id": "-liXMjgqWXW3",
        "outputId": "3977dca5-7328-4ff0-aefb-c991c3a66e6a"
      },
      "execution_count": 8,
      "outputs": [
        {
          "output_type": "error",
          "ename": "TypeError",
          "evalue": "can't multiply sequence by non-int of type 'list'",
          "traceback": [
            "\u001b[0;31m---------------------------------------------------------------------------\u001b[0m",
            "\u001b[0;31mTypeError\u001b[0m                                 Traceback (most recent call last)",
            "\u001b[0;32m<ipython-input-8-a4cedde81ed0>\u001b[0m in \u001b[0;36m<cell line: 0>\u001b[0;34m()\u001b[0m\n\u001b[0;32m----> 1\u001b[0;31m \u001b[0mA\u001b[0m \u001b[0;34m*\u001b[0m \u001b[0mB\u001b[0m\u001b[0;34m\u001b[0m\u001b[0;34m\u001b[0m\u001b[0m\n\u001b[0m",
            "\u001b[0;31mTypeError\u001b[0m: can't multiply sequence by non-int of type 'list'"
          ]
        }
      ]
    },
    {
      "cell_type": "code",
      "source": [
        "A = [1,2,3]\n",
        "B = [3,4,5]\n",
        "print(A/B)"
      ],
      "metadata": {
        "colab": {
          "base_uri": "https://localhost:8080/",
          "height": 176
        },
        "id": "JgGBrvlzWdCw",
        "outputId": "867baa1b-756a-47fa-eb9c-7ee3a6f7d223"
      },
      "execution_count": 9,
      "outputs": [
        {
          "output_type": "error",
          "ename": "TypeError",
          "evalue": "unsupported operand type(s) for /: 'list' and 'list'",
          "traceback": [
            "\u001b[0;31m---------------------------------------------------------------------------\u001b[0m",
            "\u001b[0;31mTypeError\u001b[0m                                 Traceback (most recent call last)",
            "\u001b[0;32m<ipython-input-9-8a6191c55300>\u001b[0m in \u001b[0;36m<cell line: 0>\u001b[0;34m()\u001b[0m\n\u001b[1;32m      1\u001b[0m \u001b[0mA\u001b[0m \u001b[0;34m=\u001b[0m \u001b[0;34m[\u001b[0m\u001b[0;36m1\u001b[0m\u001b[0;34m,\u001b[0m\u001b[0;36m2\u001b[0m\u001b[0;34m,\u001b[0m\u001b[0;36m3\u001b[0m\u001b[0;34m]\u001b[0m\u001b[0;34m\u001b[0m\u001b[0;34m\u001b[0m\u001b[0m\n\u001b[1;32m      2\u001b[0m \u001b[0mB\u001b[0m \u001b[0;34m=\u001b[0m \u001b[0;34m[\u001b[0m\u001b[0;36m3\u001b[0m\u001b[0;34m,\u001b[0m\u001b[0;36m4\u001b[0m\u001b[0;34m,\u001b[0m\u001b[0;36m5\u001b[0m\u001b[0;34m]\u001b[0m\u001b[0;34m\u001b[0m\u001b[0;34m\u001b[0m\u001b[0m\n\u001b[0;32m----> 3\u001b[0;31m \u001b[0mprint\u001b[0m\u001b[0;34m(\u001b[0m\u001b[0mA\u001b[0m\u001b[0;34m/\u001b[0m\u001b[0mB\u001b[0m\u001b[0;34m)\u001b[0m\u001b[0;34m\u001b[0m\u001b[0;34m\u001b[0m\u001b[0m\n\u001b[0m",
            "\u001b[0;31mTypeError\u001b[0m: unsupported operand type(s) for /: 'list' and 'list'"
          ]
        }
      ]
    },
    {
      "cell_type": "markdown",
      "source": [
        "# tuple"
      ],
      "metadata": {
        "id": "Lj4VlMl3XFfA"
      }
    },
    {
      "cell_type": "code",
      "source": [
        "X = (1,2,3)\n",
        "Y = ('a','b','c')\n",
        "X + Y"
      ],
      "metadata": {
        "colab": {
          "base_uri": "https://localhost:8080/"
        },
        "id": "7TJWotVMW6GQ",
        "outputId": "e3b320a1-4ba7-42cc-81f7-0c71e2f499fb"
      },
      "execution_count": 12,
      "outputs": [
        {
          "output_type": "execute_result",
          "data": {
            "text/plain": [
              "(1, 2, 3, 'a', 'b', 'c')"
            ]
          },
          "metadata": {},
          "execution_count": 12
        }
      ]
    },
    {
      "cell_type": "code",
      "source": [
        "X = (1,2,3)\n",
        "X*3"
      ],
      "metadata": {
        "colab": {
          "base_uri": "https://localhost:8080/"
        },
        "id": "J0Qn7XH9XWDV",
        "outputId": "f646d108-4535-4c2a-cfbc-44693ca4044b"
      },
      "execution_count": 13,
      "outputs": [
        {
          "output_type": "execute_result",
          "data": {
            "text/plain": [
              "(1, 2, 3, 1, 2, 3, 1, 2, 3)"
            ]
          },
          "metadata": {},
          "execution_count": 13
        }
      ]
    },
    {
      "cell_type": "markdown",
      "source": [
        "# set"
      ],
      "metadata": {
        "id": "ojU0-xRQXbQE"
      }
    },
    {
      "cell_type": "code",
      "source": [
        "A={1,2,3}\n",
        "B={4,5,6}\n",
        "A+B"
      ],
      "metadata": {
        "colab": {
          "base_uri": "https://localhost:8080/",
          "height": 176
        },
        "id": "hm17AB2XXZVH",
        "outputId": "a3677e6e-0fea-4e5a-a79c-48fde200be6c"
      },
      "execution_count": 14,
      "outputs": [
        {
          "output_type": "error",
          "ename": "TypeError",
          "evalue": "unsupported operand type(s) for +: 'set' and 'set'",
          "traceback": [
            "\u001b[0;31m---------------------------------------------------------------------------\u001b[0m",
            "\u001b[0;31mTypeError\u001b[0m                                 Traceback (most recent call last)",
            "\u001b[0;32m<ipython-input-14-17992c144f0c>\u001b[0m in \u001b[0;36m<cell line: 0>\u001b[0;34m()\u001b[0m\n\u001b[1;32m      1\u001b[0m \u001b[0mA\u001b[0m\u001b[0;34m=\u001b[0m\u001b[0;34m{\u001b[0m\u001b[0;36m1\u001b[0m\u001b[0;34m,\u001b[0m\u001b[0;36m2\u001b[0m\u001b[0;34m,\u001b[0m\u001b[0;36m3\u001b[0m\u001b[0;34m}\u001b[0m\u001b[0;34m\u001b[0m\u001b[0;34m\u001b[0m\u001b[0m\n\u001b[1;32m      2\u001b[0m \u001b[0mB\u001b[0m\u001b[0;34m=\u001b[0m\u001b[0;34m{\u001b[0m\u001b[0;36m4\u001b[0m\u001b[0;34m,\u001b[0m\u001b[0;36m5\u001b[0m\u001b[0;34m,\u001b[0m\u001b[0;36m6\u001b[0m\u001b[0;34m}\u001b[0m\u001b[0;34m\u001b[0m\u001b[0;34m\u001b[0m\u001b[0m\n\u001b[0;32m----> 3\u001b[0;31m \u001b[0mA\u001b[0m\u001b[0;34m+\u001b[0m\u001b[0mB\u001b[0m\u001b[0;34m\u001b[0m\u001b[0;34m\u001b[0m\u001b[0m\n\u001b[0m",
            "\u001b[0;31mTypeError\u001b[0m: unsupported operand type(s) for +: 'set' and 'set'"
          ]
        }
      ]
    },
    {
      "cell_type": "code",
      "source": [
        "A={1,2,3}\n",
        "print(A*2)"
      ],
      "metadata": {
        "colab": {
          "base_uri": "https://localhost:8080/",
          "height": 158
        },
        "id": "_HKkUdcQXgo0",
        "outputId": "70c3d282-2fdb-4821-8986-832e3c4af8e5"
      },
      "execution_count": 15,
      "outputs": [
        {
          "output_type": "error",
          "ename": "TypeError",
          "evalue": "unsupported operand type(s) for *: 'set' and 'int'",
          "traceback": [
            "\u001b[0;31m---------------------------------------------------------------------------\u001b[0m",
            "\u001b[0;31mTypeError\u001b[0m                                 Traceback (most recent call last)",
            "\u001b[0;32m<ipython-input-15-981240af75a2>\u001b[0m in \u001b[0;36m<cell line: 0>\u001b[0;34m()\u001b[0m\n\u001b[1;32m      1\u001b[0m \u001b[0mA\u001b[0m\u001b[0;34m=\u001b[0m\u001b[0;34m{\u001b[0m\u001b[0;36m1\u001b[0m\u001b[0;34m,\u001b[0m\u001b[0;36m2\u001b[0m\u001b[0;34m,\u001b[0m\u001b[0;36m3\u001b[0m\u001b[0;34m}\u001b[0m\u001b[0;34m\u001b[0m\u001b[0;34m\u001b[0m\u001b[0m\n\u001b[0;32m----> 2\u001b[0;31m \u001b[0mprint\u001b[0m\u001b[0;34m(\u001b[0m\u001b[0mA\u001b[0m\u001b[0;34m*\u001b[0m\u001b[0;36m2\u001b[0m\u001b[0;34m)\u001b[0m\u001b[0;34m\u001b[0m\u001b[0;34m\u001b[0m\u001b[0m\n\u001b[0m",
            "\u001b[0;31mTypeError\u001b[0m: unsupported operand type(s) for *: 'set' and 'int'"
          ]
        }
      ]
    },
    {
      "cell_type": "code",
      "source": [
        "A={1,2,3}\n",
        "B={4,5,6}\n",
        "# |: used to combine two or more sets\n",
        "A|B # union"
      ],
      "metadata": {
        "colab": {
          "base_uri": "https://localhost:8080/"
        },
        "id": "f5OZE7e4XjwH",
        "outputId": "fe50ecb3-0749-4f96-a74a-17808931ba28"
      },
      "execution_count": 18,
      "outputs": [
        {
          "output_type": "execute_result",
          "data": {
            "text/plain": [
              "{1, 2, 3, 4, 5, 6}"
            ]
          },
          "metadata": {},
          "execution_count": 18
        }
      ]
    },
    {
      "cell_type": "code",
      "source": [
        "A={1,2,3,4,5}\n",
        "B={4,5,6}\n",
        "A&B # Intersection:   common elemnets from two list"
      ],
      "metadata": {
        "colab": {
          "base_uri": "https://localhost:8080/"
        },
        "id": "UKSRiPp8XmKH",
        "outputId": "dc269854-18bd-4cb7-d34b-3a4adb73becf"
      },
      "execution_count": 19,
      "outputs": [
        {
          "output_type": "execute_result",
          "data": {
            "text/plain": [
              "{4, 5}"
            ]
          },
          "metadata": {},
          "execution_count": 19
        }
      ]
    },
    {
      "cell_type": "code",
      "source": [
        "A={1,2,3,4}\n",
        "B={4,5,6}\n",
        "A-B # all the elements of A which are not in B"
      ],
      "metadata": {
        "colab": {
          "base_uri": "https://localhost:8080/"
        },
        "id": "jCdDPnMcX2FQ",
        "outputId": "6946cbf0-5d90-4a62-d5c4-1d72943407d5"
      },
      "execution_count": 20,
      "outputs": [
        {
          "output_type": "execute_result",
          "data": {
            "text/plain": [
              "{1, 2, 3}"
            ]
          },
          "metadata": {},
          "execution_count": 20
        }
      ]
    },
    {
      "cell_type": "code",
      "source": [
        "B-A # all the elements from B which are not in A"
      ],
      "metadata": {
        "colab": {
          "base_uri": "https://localhost:8080/"
        },
        "id": "SOkFQsuGX7Oy",
        "outputId": "4d470369-7b49-4902-b8a4-147d345f324e"
      },
      "execution_count": 21,
      "outputs": [
        {
          "output_type": "execute_result",
          "data": {
            "text/plain": [
              "{5, 6}"
            ]
          },
          "metadata": {},
          "execution_count": 21
        }
      ]
    },
    {
      "cell_type": "markdown",
      "source": [
        "# Strings"
      ],
      "metadata": {
        "id": "Gx-ivcQdYMT0"
      }
    },
    {
      "cell_type": "code",
      "source": [
        "a = \"Hello \"\n",
        "a * 3"
      ],
      "metadata": {
        "colab": {
          "base_uri": "https://localhost:8080/",
          "height": 36
        },
        "id": "dux2oOlWYBPK",
        "outputId": "66918d33-d055-4d3f-887c-ab5be7cd57f3"
      },
      "execution_count": 22,
      "outputs": [
        {
          "output_type": "execute_result",
          "data": {
            "text/plain": [
              "'Hello Hello Hello '"
            ],
            "application/vnd.google.colaboratory.intrinsic+json": {
              "type": "string"
            }
          },
          "metadata": {},
          "execution_count": 22
        }
      ]
    },
    {
      "cell_type": "code",
      "source": [
        "a = \"Data\"\n",
        "b = \"Science\"\n",
        "# DataScience\n",
        "a + b"
      ],
      "metadata": {
        "colab": {
          "base_uri": "https://localhost:8080/",
          "height": 36
        },
        "id": "qSu6e2fpYZkG",
        "outputId": "6843505f-aec0-4bb7-b91e-402b64c47940"
      },
      "execution_count": 23,
      "outputs": [
        {
          "output_type": "execute_result",
          "data": {
            "text/plain": [
              "'DataScience'"
            ],
            "application/vnd.google.colaboratory.intrinsic+json": {
              "type": "string"
            }
          },
          "metadata": {},
          "execution_count": 23
        }
      ]
    },
    {
      "cell_type": "code",
      "source": [
        "# Data-Science\n",
        "a + '-'+ b"
      ],
      "metadata": {
        "colab": {
          "base_uri": "https://localhost:8080/",
          "height": 36
        },
        "id": "Gtm4yjDpYfQL",
        "outputId": "bdc9c51d-8949-4c5c-82e1-65dcf37fb861"
      },
      "execution_count": 24,
      "outputs": [
        {
          "output_type": "execute_result",
          "data": {
            "text/plain": [
              "'Data-Science'"
            ],
            "application/vnd.google.colaboratory.intrinsic+json": {
              "type": "string"
            }
          },
          "metadata": {},
          "execution_count": 24
        }
      ]
    },
    {
      "cell_type": "code",
      "source": [
        "# Data Science\n",
        "a + ' ' + b"
      ],
      "metadata": {
        "colab": {
          "base_uri": "https://localhost:8080/",
          "height": 36
        },
        "id": "8i15rksEYsWQ",
        "outputId": "6278a17e-7838-4c77-baa4-aaf1b18f59f9"
      },
      "execution_count": 25,
      "outputs": [
        {
          "output_type": "execute_result",
          "data": {
            "text/plain": [
              "'Data Science'"
            ],
            "application/vnd.google.colaboratory.intrinsic+json": {
              "type": "string"
            }
          },
          "metadata": {},
          "execution_count": 25
        }
      ]
    },
    {
      "cell_type": "code",
      "source": [
        "A ='Jeevitha'"
      ],
      "metadata": {
        "id": "klF3pIPNYwrP"
      },
      "execution_count": 26,
      "outputs": []
    },
    {
      "cell_type": "code",
      "source": [
        "A[-1:-4:-1]"
      ],
      "metadata": {
        "colab": {
          "base_uri": "https://localhost:8080/",
          "height": 36
        },
        "id": "mag6dA2pYyyR",
        "outputId": "ea56b4d2-dbd0-480f-ac7a-2068def8e0d9"
      },
      "execution_count": 27,
      "outputs": [
        {
          "output_type": "execute_result",
          "data": {
            "text/plain": [
              "'aht'"
            ],
            "application/vnd.google.colaboratory.intrinsic+json": {
              "type": "string"
            }
          },
          "metadata": {},
          "execution_count": 27
        }
      ]
    },
    {
      "cell_type": "code",
      "source": [
        "A[-3::]"
      ],
      "metadata": {
        "colab": {
          "base_uri": "https://localhost:8080/",
          "height": 36
        },
        "id": "k_CPQjJ3Y6sz",
        "outputId": "02749686-c69c-41cd-e8c7-f3ac13fa6cae"
      },
      "execution_count": 28,
      "outputs": [
        {
          "output_type": "execute_result",
          "data": {
            "text/plain": [
              "'tha'"
            ],
            "application/vnd.google.colaboratory.intrinsic+json": {
              "type": "string"
            }
          },
          "metadata": {},
          "execution_count": 28
        }
      ]
    },
    {
      "cell_type": "code",
      "source": [
        "# when you want n characters from right side\n",
        "# A[-n::]"
      ],
      "metadata": {
        "id": "FaLgHc1OZDUN"
      },
      "execution_count": 29,
      "outputs": []
    },
    {
      "cell_type": "code",
      "source": [],
      "metadata": {
        "id": "keWweZjDZHcG"
      },
      "execution_count": null,
      "outputs": []
    }
  ]
}