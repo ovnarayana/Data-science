{
  "nbformat": 4,
  "nbformat_minor": 0,
  "metadata": {
    "colab": {
      "provenance": [],
      "authorship_tag": "ABX9TyMQUfmiyLSLvR2Lj6vZmaWG",
      "include_colab_link": true
    },
    "kernelspec": {
      "name": "python3",
      "display_name": "Python 3"
    },
    "language_info": {
      "name": "python"
    }
  },
  "cells": [
    {
      "cell_type": "markdown",
      "metadata": {
        "id": "view-in-github",
        "colab_type": "text"
      },
      "source": [
        "<a href=\"https://colab.research.google.com/github/ovnarayana/Data-science/blob/main/Function_method.ipynb\" target=\"_parent\"><img src=\"https://colab.research.google.com/assets/colab-badge.svg\" alt=\"Open In Colab\"/></a>"
      ]
    },
    {
      "cell_type": "markdown",
      "source": [
        "#Functions\n",
        "\n",
        "* A functions is a block of reusable code that performs a specific task. it is not tied to any object.\n",
        "\n",
        "* Functions are like standalone tools that you can use to do a specific task."
      ],
      "metadata": {
        "id": "DP05-exum9KW"
      }
    },
    {
      "cell_type": "markdown",
      "source": [
        "Eg: len,print"
      ],
      "metadata": {
        "id": "8ILCAayInZ8-"
      }
    },
    {
      "cell_type": "code",
      "execution_count": null,
      "metadata": {
        "colab": {
          "base_uri": "https://localhost:8080/"
        },
        "id": "i6ayxtDhmsqU",
        "outputId": "71bb950e-0574-4cd0-c826-b8fec73672e4"
      },
      "outputs": [
        {
          "output_type": "execute_result",
          "data": {
            "text/plain": [
              "6"
            ]
          },
          "metadata": {},
          "execution_count": 1
        }
      ],
      "source": [
        "A = \"Python\"\n",
        "len(A)"
      ]
    },
    {
      "cell_type": "code",
      "source": [
        "B = [1,2,3,4,5,6,7]\n",
        "len(B)"
      ],
      "metadata": {
        "colab": {
          "base_uri": "https://localhost:8080/"
        },
        "id": "_fFORaydnkBj",
        "outputId": "969439df-f0f9-4cea-a28d-20e937ad2a04"
      },
      "execution_count": null,
      "outputs": [
        {
          "output_type": "execute_result",
          "data": {
            "text/plain": [
              "7"
            ]
          },
          "metadata": {},
          "execution_count": 3
        }
      ]
    },
    {
      "cell_type": "code",
      "source": [
        "A = {1,2,3,4,5,6,7}\n",
        "print(A)\n",
        "len(A)"
      ],
      "metadata": {
        "colab": {
          "base_uri": "https://localhost:8080/"
        },
        "id": "RRgLskn0nvZT",
        "outputId": "1a94de24-6bb9-43bf-fc19-5a53a0160750"
      },
      "execution_count": null,
      "outputs": [
        {
          "output_type": "stream",
          "name": "stdout",
          "text": [
            "{1, 2, 3, 4, 5, 6, 7}\n"
          ]
        },
        {
          "output_type": "execute_result",
          "data": {
            "text/plain": [
              "7"
            ]
          },
          "metadata": {},
          "execution_count": 6
        }
      ]
    },
    {
      "cell_type": "code",
      "source": [
        "C = {1, 0, True, False, 97,'a','TRUE'}\n",
        "print(C)\n",
        "print(len(C))"
      ],
      "metadata": {
        "colab": {
          "base_uri": "https://localhost:8080/"
        },
        "id": "24uj2QWTn96b",
        "outputId": "9bfb2592-2832-4639-ea69-e08ac8529cf7"
      },
      "execution_count": null,
      "outputs": [
        {
          "output_type": "stream",
          "name": "stdout",
          "text": [
            "{0, 1, 97, 'TRUE', 'a'}\n",
            "5\n"
          ]
        }
      ]
    },
    {
      "cell_type": "markdown",
      "source": [
        "# Functions\n",
        "\n",
        "* print\n",
        "* type\n",
        "* len\n",
        "* sum\n",
        "* int\n",
        "* float\n",
        "* str\n",
        "* list\n",
        "* set\n",
        "* tuple\n",
        "* dict\n",
        "* help\n",
        "* input\n",
        "* range\n",
        "* round\n",
        "* max\n",
        "* min\n",
        "* abs\n",
        "* enumerate\n",
        "* Zip\n",
        "* eval\n",
        "* exec\n",
        "* bool\n"
      ],
      "metadata": {
        "id": "oLtLz1i9onsV"
      }
    },
    {
      "cell_type": "markdown",
      "source": [
        "# print\n",
        "\n",
        "* it is a function used to display value"
      ],
      "metadata": {
        "id": "yNsyUTV3pLt5"
      }
    },
    {
      "cell_type": "code",
      "source": [
        "print(\"hello\")"
      ],
      "metadata": {
        "colab": {
          "base_uri": "https://localhost:8080/"
        },
        "id": "AuqprDrpodTI",
        "outputId": "3c774ca2-0fdb-4f82-ec32-b3eee6f3bccf"
      },
      "execution_count": null,
      "outputs": [
        {
          "output_type": "stream",
          "name": "stdout",
          "text": [
            "hello\n"
          ]
        }
      ]
    },
    {
      "cell_type": "code",
      "source": [
        "a = 10\n",
        "print(a)"
      ],
      "metadata": {
        "colab": {
          "base_uri": "https://localhost:8080/"
        },
        "id": "nh6TKH22pbud",
        "outputId": "86bd670c-2ee7-41ce-f7c3-49e15aad1ca9"
      },
      "execution_count": null,
      "outputs": [
        {
          "output_type": "stream",
          "name": "stdout",
          "text": [
            "10\n"
          ]
        }
      ]
    },
    {
      "cell_type": "code",
      "source": [
        "A = [10,20,30]\n",
        "print(A)"
      ],
      "metadata": {
        "colab": {
          "base_uri": "https://localhost:8080/"
        },
        "id": "zq3jmViQpf35",
        "outputId": "98e44b09-7049-4c72-a027-5a03fb9855b1"
      },
      "execution_count": null,
      "outputs": [
        {
          "output_type": "stream",
          "name": "stdout",
          "text": [
            "[10, 20, 30]\n"
          ]
        }
      ]
    },
    {
      "cell_type": "markdown",
      "source": [
        "# Type\n",
        "\n",
        "type is function used to find type of object"
      ],
      "metadata": {
        "id": "hjeIcQz_pnG7"
      }
    },
    {
      "cell_type": "code",
      "source": [
        "a = 3\n",
        "type(a)"
      ],
      "metadata": {
        "colab": {
          "base_uri": "https://localhost:8080/"
        },
        "id": "SZFhtAOGpv9k",
        "outputId": "e8f5c2e5-6b9b-4df8-838d-0f38eab9fd1a"
      },
      "execution_count": null,
      "outputs": [
        {
          "output_type": "execute_result",
          "data": {
            "text/plain": [
              "int"
            ]
          },
          "metadata": {},
          "execution_count": 11
        }
      ]
    },
    {
      "cell_type": "code",
      "source": [
        "A=[1,2,3,4,5]\n",
        "type(A)"
      ],
      "metadata": {
        "colab": {
          "base_uri": "https://localhost:8080/"
        },
        "id": "zA8kc0p5pl7r",
        "outputId": "6662c024-2020-41df-bc85-725657ac0216"
      },
      "execution_count": null,
      "outputs": [
        {
          "output_type": "execute_result",
          "data": {
            "text/plain": [
              "list"
            ]
          },
          "metadata": {},
          "execution_count": 12
        }
      ]
    },
    {
      "cell_type": "code",
      "source": [
        "name='venkat'\n",
        "type(name)"
      ],
      "metadata": {
        "colab": {
          "base_uri": "https://localhost:8080/"
        },
        "id": "xVWe_eQXp_LE",
        "outputId": "bd5a2d41-3b56-4a0b-f382-fc697239c38c"
      },
      "execution_count": null,
      "outputs": [
        {
          "output_type": "execute_result",
          "data": {
            "text/plain": [
              "str"
            ]
          },
          "metadata": {},
          "execution_count": 13
        }
      ]
    },
    {
      "cell_type": "markdown",
      "source": [
        "# len,   max,  min, sum\n",
        "* len: It is a function used to find number of elements/characters of object\n",
        "* max: It is a function used to find maximum element.\n",
        "* min: It is a function used to find minimum element\n",
        "* sum: It is a function used to find sum of elements"
      ],
      "metadata": {
        "id": "12lh0j-8qKWH"
      }
    },
    {
      "cell_type": "code",
      "source": [
        "A = 'python'\n",
        "len(A) # number of characters"
      ],
      "metadata": {
        "colab": {
          "base_uri": "https://localhost:8080/"
        },
        "id": "SkH6LsgvqGBP",
        "outputId": "eaaee6ff-607c-42cb-c528-3f1e89c3a79e"
      },
      "execution_count": null,
      "outputs": [
        {
          "output_type": "execute_result",
          "data": {
            "text/plain": [
              "6"
            ]
          },
          "metadata": {},
          "execution_count": 14
        }
      ]
    },
    {
      "cell_type": "code",
      "source": [
        "B = [10,20,30,40,50]\n",
        "print(\"len:\", len(B))\n",
        "print(\"Max:\", max(B))\n",
        "print(\"min:\", min(B))\n",
        "print(\"sum:\", sum(B))"
      ],
      "metadata": {
        "colab": {
          "base_uri": "https://localhost:8080/"
        },
        "id": "RS1vbno8qpzM",
        "outputId": "10def14e-99a9-4e96-af9f-f89652740c6b"
      },
      "execution_count": null,
      "outputs": [
        {
          "output_type": "stream",
          "name": "stdout",
          "text": [
            "len: 5\n",
            "Max: 50\n",
            "min: 10\n",
            "sum: 150\n"
          ]
        }
      ]
    },
    {
      "cell_type": "code",
      "source": [
        "B = [10,20,30,40,50]\n",
        "print(len(B))\n",
        "print(max(B))\n",
        "print(min(B))\n",
        "print(sum(B))"
      ],
      "metadata": {
        "colab": {
          "base_uri": "https://localhost:8080/"
        },
        "id": "Kdqsh0l5rG0f",
        "outputId": "83c215e7-6fa3-4af4-f781-20e7a2526a0e"
      },
      "execution_count": null,
      "outputs": [
        {
          "output_type": "stream",
          "name": "stdout",
          "text": [
            "5\n",
            "50\n",
            "10\n",
            "150\n"
          ]
        }
      ]
    },
    {
      "cell_type": "code",
      "source": [
        "B = [10,20,30,40,50]\n",
        "print(max(B))\n",
        "print(min(B))"
      ],
      "metadata": {
        "colab": {
          "base_uri": "https://localhost:8080/"
        },
        "id": "uKPoU2U1rV3J",
        "outputId": "cf69b156-4e1d-4a11-fad0-34a0f9c6a0d1"
      },
      "execution_count": null,
      "outputs": [
        {
          "output_type": "stream",
          "name": "stdout",
          "text": [
            "50\n",
            "10\n"
          ]
        }
      ]
    },
    {
      "cell_type": "code",
      "source": [
        "B = [10,20,5,30,40,50]\n",
        "print(len(B))\n",
        "print(max(B))\n",
        "print(min(B))\n",
        "print(sum(B))"
      ],
      "metadata": {
        "colab": {
          "base_uri": "https://localhost:8080/"
        },
        "id": "ohYnigI8rlZJ",
        "outputId": "1236e79f-440f-42d8-c79e-3fd531b7c042"
      },
      "execution_count": null,
      "outputs": [
        {
          "output_type": "stream",
          "name": "stdout",
          "text": [
            "6\n",
            "50\n",
            "5\n",
            "155\n"
          ]
        }
      ]
    },
    {
      "cell_type": "code",
      "source": [
        "B = [10,10.0,20.5,30,40.2,50,50.0]\n",
        "print( len(B))\n",
        "print( max(B))\n",
        "print(min(B))\n",
        "print( sum(B))"
      ],
      "metadata": {
        "colab": {
          "base_uri": "https://localhost:8080/"
        },
        "id": "ZcJexnEor669",
        "outputId": "67feb2f1-f5cf-4f3e-a162-998f48f0e306"
      },
      "execution_count": null,
      "outputs": [
        {
          "output_type": "stream",
          "name": "stdout",
          "text": [
            "7\n",
            "50\n",
            "10\n",
            "210.7\n"
          ]
        }
      ]
    },
    {
      "cell_type": "code",
      "source": [
        "# Tuple\n",
        "B = (10,20,30,40,50)\n",
        "print(\"len:\", len(B))\n",
        "print(\"max:\", max(B))\n",
        "print(\"min:\", min(B))\n",
        "print(\"sum:\", sum(B))"
      ],
      "metadata": {
        "colab": {
          "base_uri": "https://localhost:8080/"
        },
        "id": "IdlCwaa8sObK",
        "outputId": "2a15fe0d-9b84-455c-cb20-c6d8a78395cd"
      },
      "execution_count": null,
      "outputs": [
        {
          "output_type": "stream",
          "name": "stdout",
          "text": [
            "len: 5\n",
            "max: 50\n",
            "min: 10\n",
            "sum: 150\n"
          ]
        }
      ]
    },
    {
      "cell_type": "code",
      "source": [
        "# set\n",
        "B = {10,20,30,40,50}\n",
        "print(\"len:\", len(B))\n",
        "print(\"max:\",max(B))\n",
        "print(\"min:\",min(B))\n",
        "print(\"sum:\", sum(B))"
      ],
      "metadata": {
        "colab": {
          "base_uri": "https://localhost:8080/"
        },
        "id": "MoXB1c32s3Jo",
        "outputId": "cd5f59f3-6cd9-4bb0-b14e-50b7364161d1"
      },
      "execution_count": null,
      "outputs": [
        {
          "output_type": "stream",
          "name": "stdout",
          "text": [
            "len: 5\n",
            "max: 50\n",
            "min: 10\n",
            "sum: 150\n"
          ]
        }
      ]
    },
    {
      "cell_type": "code",
      "source": [
        "B = [10,20,30,\"A\",50]\n",
        "print(len(B))\n"
      ],
      "metadata": {
        "colab": {
          "base_uri": "https://localhost:8080/"
        },
        "id": "u8vXEuAutewI",
        "outputId": "a4412936-2f5d-4cfe-b852-92c35907595c"
      },
      "execution_count": null,
      "outputs": [
        {
          "output_type": "stream",
          "name": "stdout",
          "text": [
            "5\n"
          ]
        }
      ]
    },
    {
      "cell_type": "code",
      "source": [
        "print( max(B))\n",
        "print(min(B))\n",
        "print( sum(B))"
      ],
      "metadata": {
        "colab": {
          "base_uri": "https://localhost:8080/",
          "height": 176
        },
        "id": "9C6FoGv7tqf7",
        "outputId": "b92b6c5c-70b1-41c1-d39b-49d1c0ce7b53"
      },
      "execution_count": null,
      "outputs": [
        {
          "output_type": "error",
          "ename": "TypeError",
          "evalue": "'>' not supported between instances of 'str' and 'int'",
          "traceback": [
            "\u001b[0;31m---------------------------------------------------------------------------\u001b[0m",
            "\u001b[0;31mTypeError\u001b[0m                                 Traceback (most recent call last)",
            "\u001b[0;32m<ipython-input-25-5fea60ae5c1b>\u001b[0m in \u001b[0;36m<cell line: 0>\u001b[0;34m()\u001b[0m\n\u001b[0;32m----> 1\u001b[0;31m \u001b[0mprint\u001b[0m\u001b[0;34m(\u001b[0m \u001b[0mmax\u001b[0m\u001b[0;34m(\u001b[0m\u001b[0mB\u001b[0m\u001b[0;34m)\u001b[0m\u001b[0;34m)\u001b[0m\u001b[0;34m\u001b[0m\u001b[0;34m\u001b[0m\u001b[0m\n\u001b[0m\u001b[1;32m      2\u001b[0m \u001b[0mprint\u001b[0m\u001b[0;34m(\u001b[0m\u001b[0mmin\u001b[0m\u001b[0;34m(\u001b[0m\u001b[0mB\u001b[0m\u001b[0;34m)\u001b[0m\u001b[0;34m)\u001b[0m\u001b[0;34m\u001b[0m\u001b[0;34m\u001b[0m\u001b[0m\n\u001b[1;32m      3\u001b[0m \u001b[0mprint\u001b[0m\u001b[0;34m(\u001b[0m \u001b[0msum\u001b[0m\u001b[0;34m(\u001b[0m\u001b[0mB\u001b[0m\u001b[0;34m)\u001b[0m\u001b[0;34m)\u001b[0m\u001b[0;34m\u001b[0m\u001b[0;34m\u001b[0m\u001b[0m\n",
            "\u001b[0;31mTypeError\u001b[0m: '>' not supported between instances of 'str' and 'int'"
          ]
        }
      ]
    },
    {
      "cell_type": "markdown",
      "source": [
        "#int,float,str,bool,complex"
      ],
      "metadata": {
        "id": "7stN3AZjE362"
      }
    },
    {
      "cell_type": "markdown",
      "source": [
        "#int"
      ],
      "metadata": {
        "id": "QZoYj4qKFAvf"
      }
    },
    {
      "cell_type": "code",
      "source": [
        "#int\n",
        "'''\n",
        "1. used to create integer value\n",
        "2. to convert float to int\n",
        "3. to convert bool to int'''\n",
        "\n",
        "a = int(4)\n",
        "print(a)\n",
        "print(type(a))"
      ],
      "metadata": {
        "colab": {
          "base_uri": "https://localhost:8080/"
        },
        "id": "FghuPFmNuISP",
        "outputId": "d44ce11d-45e5-4266-e823-f83289fcf423"
      },
      "execution_count": null,
      "outputs": [
        {
          "output_type": "stream",
          "name": "stdout",
          "text": [
            "4\n",
            "<class 'int'>\n"
          ]
        }
      ]
    },
    {
      "cell_type": "code",
      "source": [
        "# convert float to int\n",
        "# 4.3\n",
        "int(4.3)"
      ],
      "metadata": {
        "colab": {
          "base_uri": "https://localhost:8080/"
        },
        "id": "rNAiwacTFn34",
        "outputId": "62f84706-58ef-4000-fca8-1325421b29ff"
      },
      "execution_count": null,
      "outputs": [
        {
          "output_type": "execute_result",
          "data": {
            "text/plain": [
              "4"
            ]
          },
          "metadata": {},
          "execution_count": 27
        }
      ]
    },
    {
      "cell_type": "code",
      "source": [
        "int(4.9)"
      ],
      "metadata": {
        "colab": {
          "base_uri": "https://localhost:8080/"
        },
        "id": "myWnwlcxF74k",
        "outputId": "4049d445-f737-4ac8-f0b0-e77643781e9c"
      },
      "execution_count": null,
      "outputs": [
        {
          "output_type": "execute_result",
          "data": {
            "text/plain": [
              "4"
            ]
          },
          "metadata": {},
          "execution_count": 28
        }
      ]
    },
    {
      "cell_type": "code",
      "source": [
        "# convert boolean into int\n",
        "int(True)"
      ],
      "metadata": {
        "colab": {
          "base_uri": "https://localhost:8080/"
        },
        "id": "gn1NDwwBGAOa",
        "outputId": "b9fe3e8f-5e91-4108-fd2f-60cd37c1651c"
      },
      "execution_count": null,
      "outputs": [
        {
          "output_type": "execute_result",
          "data": {
            "text/plain": [
              "1"
            ]
          },
          "metadata": {},
          "execution_count": 29
        }
      ]
    },
    {
      "cell_type": "code",
      "source": [
        "int(False)"
      ],
      "metadata": {
        "colab": {
          "base_uri": "https://localhost:8080/"
        },
        "id": "I09xxgDBGG43",
        "outputId": "212b1e5c-ce63-44db-8357-9ee31e1dacf6"
      },
      "execution_count": null,
      "outputs": [
        {
          "output_type": "execute_result",
          "data": {
            "text/plain": [
              "0"
            ]
          },
          "metadata": {},
          "execution_count": 31
        }
      ]
    },
    {
      "cell_type": "code",
      "source": [
        "# we cannot convert complex to integer\n",
        "int(3+4j)"
      ],
      "metadata": {
        "colab": {
          "base_uri": "https://localhost:8080/",
          "height": 176
        },
        "id": "VFdseRTkGPjQ",
        "outputId": "43fd5d5c-948e-4a4b-bdd8-6e59b6c96ba5"
      },
      "execution_count": null,
      "outputs": [
        {
          "output_type": "error",
          "ename": "TypeError",
          "evalue": "int() argument must be a string, a bytes-like object or a real number, not 'complex'",
          "traceback": [
            "\u001b[0;31m---------------------------------------------------------------------------\u001b[0m",
            "\u001b[0;31mTypeError\u001b[0m                                 Traceback (most recent call last)",
            "\u001b[0;32m<ipython-input-32-14eaadb430d2>\u001b[0m in \u001b[0;36m<cell line: 0>\u001b[0;34m()\u001b[0m\n\u001b[1;32m      1\u001b[0m \u001b[0;31m# we cannot convert complex to integer\u001b[0m\u001b[0;34m\u001b[0m\u001b[0;34m\u001b[0m\u001b[0m\n\u001b[0;32m----> 2\u001b[0;31m \u001b[0mint\u001b[0m\u001b[0;34m(\u001b[0m\u001b[0;36m3\u001b[0m\u001b[0;34m+\u001b[0m\u001b[0;36m4j\u001b[0m\u001b[0;34m)\u001b[0m\u001b[0;34m\u001b[0m\u001b[0;34m\u001b[0m\u001b[0m\n\u001b[0m",
            "\u001b[0;31mTypeError\u001b[0m: int() argument must be a string, a bytes-like object or a real number, not 'complex'"
          ]
        }
      ]
    },
    {
      "cell_type": "code",
      "source": [
        "# we cannot convert string into int\n",
        "int('venkat')"
      ],
      "metadata": {
        "colab": {
          "base_uri": "https://localhost:8080/",
          "height": 158
        },
        "id": "4f728xC2GeNI",
        "outputId": "48b6d900-7cc6-4099-c727-2297151d2a09"
      },
      "execution_count": null,
      "outputs": [
        {
          "output_type": "error",
          "ename": "ValueError",
          "evalue": "invalid literal for int() with base 10: 'venkat'",
          "traceback": [
            "\u001b[0;31m---------------------------------------------------------------------------\u001b[0m",
            "\u001b[0;31mValueError\u001b[0m                                Traceback (most recent call last)",
            "\u001b[0;32m<ipython-input-33-a4656c9457c5>\u001b[0m in \u001b[0;36m<cell line: 0>\u001b[0;34m()\u001b[0m\n\u001b[1;32m      1\u001b[0m \u001b[0;31m# we cannot convert string into int\u001b[0m\u001b[0;34m\u001b[0m\u001b[0;34m\u001b[0m\u001b[0m\n\u001b[0;32m----> 2\u001b[0;31m \u001b[0mint\u001b[0m\u001b[0;34m(\u001b[0m\u001b[0;34m'venkat'\u001b[0m\u001b[0;34m)\u001b[0m\u001b[0;34m\u001b[0m\u001b[0;34m\u001b[0m\u001b[0m\n\u001b[0m",
            "\u001b[0;31mValueError\u001b[0m: invalid literal for int() with base 10: 'venkat'"
          ]
        }
      ]
    },
    {
      "cell_type": "code",
      "source": [
        "# string integer '123' can be converted into integer\n",
        "a = '123'\n",
        "print(a, type(a))\n",
        "b = int('123')\n",
        "print(b,type(b))"
      ],
      "metadata": {
        "colab": {
          "base_uri": "https://localhost:8080/"
        },
        "id": "y3Qwm3UvGo8I",
        "outputId": "a05d5048-0917-4f10-ba21-c7f10eb0d7a9"
      },
      "execution_count": null,
      "outputs": [
        {
          "output_type": "stream",
          "name": "stdout",
          "text": [
            "123 <class 'str'>\n",
            "123 <class 'int'>\n"
          ]
        }
      ]
    },
    {
      "cell_type": "code",
      "source": [
        "# string float '13.5' cannot be converted into string\n",
        "int('13.5')"
      ],
      "metadata": {
        "colab": {
          "base_uri": "https://localhost:8080/",
          "height": 158
        },
        "id": "q2nY_ce4HAQ2",
        "outputId": "f43b2a25-8a48-4f73-dc99-9e40584ec004"
      },
      "execution_count": null,
      "outputs": [
        {
          "output_type": "error",
          "ename": "ValueError",
          "evalue": "invalid literal for int() with base 10: '13.5'",
          "traceback": [
            "\u001b[0;31m---------------------------------------------------------------------------\u001b[0m",
            "\u001b[0;31mValueError\u001b[0m                                Traceback (most recent call last)",
            "\u001b[0;32m<ipython-input-35-ad41ad3d8f93>\u001b[0m in \u001b[0;36m<cell line: 0>\u001b[0;34m()\u001b[0m\n\u001b[1;32m      1\u001b[0m \u001b[0;31m# string float '13.5' cannot be converted into string\u001b[0m\u001b[0;34m\u001b[0m\u001b[0;34m\u001b[0m\u001b[0m\n\u001b[0;32m----> 2\u001b[0;31m \u001b[0mint\u001b[0m\u001b[0;34m(\u001b[0m\u001b[0;34m'13.5'\u001b[0m\u001b[0;34m)\u001b[0m\u001b[0;34m\u001b[0m\u001b[0;34m\u001b[0m\u001b[0m\n\u001b[0m",
            "\u001b[0;31mValueError\u001b[0m: invalid literal for int() with base 10: '13.5'"
          ]
        }
      ]
    },
    {
      "cell_type": "markdown",
      "source": [
        "# int\n",
        "* float --> int\n",
        "* bool --> int\n",
        "* str int'123'--> int\n",
        "* complex and string cannot be converted into integer\n",
        "* str float'13.5' cannot be converted into integer\n"
      ],
      "metadata": {
        "id": "sTb2-H7BHuMi"
      }
    },
    {
      "cell_type": "markdown",
      "source": [
        "# float"
      ],
      "metadata": {
        "id": "9Z0l_vDJIZdF"
      }
    },
    {
      "cell_type": "code",
      "source": [
        "'''\n",
        "1. float used to create decimal value\n",
        "2. int can be converted into float\n",
        "3. boolean can be converted into float\n",
        "4. string and complex cannot be converted into float\n",
        "5. '123' and '13.4' can be connverted into float '''\n",
        "\n",
        "a = float(3.4)\n",
        "print(a)"
      ],
      "metadata": {
        "colab": {
          "base_uri": "https://localhost:8080/"
        },
        "id": "t3-Am6EiJRmG",
        "outputId": "bb11c8ea-9b6c-4742-c567-0ad45f536ed3"
      },
      "execution_count": null,
      "outputs": [
        {
          "output_type": "stream",
          "name": "stdout",
          "text": [
            "3.4\n"
          ]
        }
      ]
    },
    {
      "cell_type": "code",
      "source": [
        "# int can bee connverted intoo float\n",
        "float(4)"
      ],
      "metadata": {
        "colab": {
          "base_uri": "https://localhost:8080/"
        },
        "id": "UETfRHHQHgLW",
        "outputId": "df969ea7-6f1d-4cdd-fe50-aa717b5712e6"
      },
      "execution_count": null,
      "outputs": [
        {
          "output_type": "execute_result",
          "data": {
            "text/plain": [
              "4.0"
            ]
          },
          "metadata": {},
          "execution_count": 37
        }
      ]
    },
    {
      "cell_type": "code",
      "source": [
        "# boolean can be converted into float\n",
        "float(True)"
      ],
      "metadata": {
        "colab": {
          "base_uri": "https://localhost:8080/"
        },
        "id": "WtbrS2jUJnFR",
        "outputId": "b32fa927-4875-42a9-d647-49b70bb7e5a5"
      },
      "execution_count": null,
      "outputs": [
        {
          "output_type": "execute_result",
          "data": {
            "text/plain": [
              "1.0"
            ]
          },
          "metadata": {},
          "execution_count": 38
        }
      ]
    },
    {
      "cell_type": "code",
      "source": [
        "float(False)"
      ],
      "metadata": {
        "colab": {
          "base_uri": "https://localhost:8080/"
        },
        "id": "QwK4cszgJxBv",
        "outputId": "f43b66e5-daa6-48fa-e64f-ecaa1ec2cbb6"
      },
      "execution_count": null,
      "outputs": [
        {
          "output_type": "execute_result",
          "data": {
            "text/plain": [
              "0.0"
            ]
          },
          "metadata": {},
          "execution_count": 39
        }
      ]
    },
    {
      "cell_type": "code",
      "source": [
        "#'123' and '13.4' can be converted into float\n",
        "float('123')"
      ],
      "metadata": {
        "colab": {
          "base_uri": "https://localhost:8080/"
        },
        "id": "gDfJDUymJ3gD",
        "outputId": "68326455-804f-4abe-fefe-7a3af646f6fe"
      },
      "execution_count": null,
      "outputs": [
        {
          "output_type": "execute_result",
          "data": {
            "text/plain": [
              "123.0"
            ]
          },
          "metadata": {},
          "execution_count": 40
        }
      ]
    },
    {
      "cell_type": "code",
      "source": [
        "float('13.4')"
      ],
      "metadata": {
        "colab": {
          "base_uri": "https://localhost:8080/"
        },
        "id": "_3QqhqqWKM6R",
        "outputId": "622745b7-afa9-40bc-b23e-d1896194ca37"
      },
      "execution_count": null,
      "outputs": [
        {
          "output_type": "execute_result",
          "data": {
            "text/plain": [
              "13.4"
            ]
          },
          "metadata": {},
          "execution_count": 41
        }
      ]
    },
    {
      "cell_type": "code",
      "source": [
        "# complex to float\n",
        "float(3+4j)"
      ],
      "metadata": {
        "colab": {
          "base_uri": "https://localhost:8080/",
          "height": 158
        },
        "id": "W3CHVkF6KQw2",
        "outputId": "f630dbe9-2248-4954-bcfd-1c17ab696f22"
      },
      "execution_count": null,
      "outputs": [
        {
          "output_type": "error",
          "ename": "TypeError",
          "evalue": "float() argument must be a string or a real number, not 'complex'",
          "traceback": [
            "\u001b[0;31m---------------------------------------------------------------------------\u001b[0m",
            "\u001b[0;31mTypeError\u001b[0m                                 Traceback (most recent call last)",
            "\u001b[0;32m<ipython-input-42-0f81e593bba4>\u001b[0m in \u001b[0;36m<cell line: 0>\u001b[0;34m()\u001b[0m\n\u001b[1;32m      1\u001b[0m \u001b[0;31m# complex to float\u001b[0m\u001b[0;34m\u001b[0m\u001b[0;34m\u001b[0m\u001b[0m\n\u001b[0;32m----> 2\u001b[0;31m \u001b[0mfloat\u001b[0m\u001b[0;34m(\u001b[0m\u001b[0;36m3\u001b[0m\u001b[0;34m+\u001b[0m\u001b[0;36m4j\u001b[0m\u001b[0;34m)\u001b[0m\u001b[0;34m\u001b[0m\u001b[0;34m\u001b[0m\u001b[0m\n\u001b[0m",
            "\u001b[0;31mTypeError\u001b[0m: float() argument must be a string or a real number, not 'complex'"
          ]
        }
      ]
    },
    {
      "cell_type": "code",
      "source": [
        "# string to float\n",
        "float('hello')"
      ],
      "metadata": {
        "colab": {
          "base_uri": "https://localhost:8080/",
          "height": 158
        },
        "id": "h5-Or8GZKaN5",
        "outputId": "ca7207cc-bf96-4df3-f0fb-fdb42108f688"
      },
      "execution_count": null,
      "outputs": [
        {
          "output_type": "error",
          "ename": "ValueError",
          "evalue": "could not convert string to float: 'hello'",
          "traceback": [
            "\u001b[0;31m---------------------------------------------------------------------------\u001b[0m",
            "\u001b[0;31mValueError\u001b[0m                                Traceback (most recent call last)",
            "\u001b[0;32m<ipython-input-43-27ea102c3682>\u001b[0m in \u001b[0;36m<cell line: 0>\u001b[0;34m()\u001b[0m\n\u001b[1;32m      1\u001b[0m \u001b[0;31m# string to float\u001b[0m\u001b[0;34m\u001b[0m\u001b[0;34m\u001b[0m\u001b[0m\n\u001b[0;32m----> 2\u001b[0;31m \u001b[0mfloat\u001b[0m\u001b[0;34m(\u001b[0m\u001b[0;34m'hello'\u001b[0m\u001b[0;34m)\u001b[0m\u001b[0;34m\u001b[0m\u001b[0;34m\u001b[0m\u001b[0m\n\u001b[0m",
            "\u001b[0;31mValueError\u001b[0m: could not convert string to float: 'hello'"
          ]
        }
      ]
    },
    {
      "cell_type": "markdown",
      "source": [
        "# float\n",
        "* int --> float\n",
        "* bool --> float\n",
        "* complex, string to float is not possible\n",
        "* int,float within string can be converted into float"
      ],
      "metadata": {
        "id": "aLMIwQYhKyZ4"
      }
    },
    {
      "cell_type": "markdown",
      "source": [
        "# bool"
      ],
      "metadata": {
        "id": "MTSTNpNZLfxj"
      }
    },
    {
      "cell_type": "code",
      "source": [
        "# boolean values are True and False\n",
        "a = bool(True)\n",
        "print(a)"
      ],
      "metadata": {
        "colab": {
          "base_uri": "https://localhost:8080/"
        },
        "id": "asGni9_hKiZ9",
        "outputId": "a3ef79d4-da9f-4355-c993-f4f56b7851ca"
      },
      "execution_count": null,
      "outputs": [
        {
          "output_type": "stream",
          "name": "stdout",
          "text": [
            "True\n"
          ]
        }
      ]
    },
    {
      "cell_type": "code",
      "source": [
        "#\n",
        "print(bool(10))\n",
        "print(bool(1.4))\n",
        "print(bool('hello'))\n",
        "print(bool(3+4j))\n",
        "print(bool([1,2,3,4]))"
      ],
      "metadata": {
        "colab": {
          "base_uri": "https://localhost:8080/"
        },
        "id": "eb96by67Lt6d",
        "outputId": "f1f9aee0-56e1-474b-9fff-6adc1d7d573c"
      },
      "execution_count": null,
      "outputs": [
        {
          "output_type": "stream",
          "name": "stdout",
          "text": [
            "True\n",
            "True\n",
            "True\n",
            "True\n",
            "True\n"
          ]
        }
      ]
    },
    {
      "cell_type": "code",
      "source": [
        "print(bool(0))\n",
        "print(bool(False))\n",
        "print(bool())\n",
        "print(bool(\"\"))\n",
        "print(bool([]))\n",
        "print(bool(None))\n",
        "print(bool(()))\n",
        "print(bool({}))\n",
        "print(bool(set()))"
      ],
      "metadata": {
        "colab": {
          "base_uri": "https://localhost:8080/"
        },
        "id": "ETmtN_dPL5Ku",
        "outputId": "df179169-b8ff-43da-c20c-f0b73be8be99"
      },
      "execution_count": null,
      "outputs": [
        {
          "output_type": "stream",
          "name": "stdout",
          "text": [
            "False\n",
            "False\n",
            "False\n",
            "False\n",
            "False\n",
            "False\n",
            "False\n",
            "False\n",
            "False\n"
          ]
        }
      ]
    },
    {
      "cell_type": "markdown",
      "source": [
        "#complex"
      ],
      "metadata": {
        "id": "mw_0kprnMYTa"
      }
    },
    {
      "cell_type": "code",
      "source": [
        "a =  complex(3+4j)\n",
        "print(a)"
      ],
      "metadata": {
        "colab": {
          "base_uri": "https://localhost:8080/"
        },
        "id": "ooPz-N1yMKpf",
        "outputId": "f410e9a7-4452-4dd1-8aba-ea9559431900"
      },
      "execution_count": null,
      "outputs": [
        {
          "output_type": "stream",
          "name": "stdout",
          "text": [
            "(3+4j)\n"
          ]
        }
      ]
    },
    {
      "cell_type": "code",
      "source": [
        "# int to complex\n",
        "complex(3)"
      ],
      "metadata": {
        "colab": {
          "base_uri": "https://localhost:8080/"
        },
        "id": "9zwBJc5CMfa2",
        "outputId": "055030b8-0914-4895-e32f-8262b457e3d5"
      },
      "execution_count": null,
      "outputs": [
        {
          "output_type": "execute_result",
          "data": {
            "text/plain": [
              "(3+0j)"
            ]
          },
          "metadata": {},
          "execution_count": 48
        }
      ]
    },
    {
      "cell_type": "code",
      "source": [
        "# float to complex\n",
        "complex(True)"
      ],
      "metadata": {
        "colab": {
          "base_uri": "https://localhost:8080/"
        },
        "id": "F93PUtkqMlXu",
        "outputId": "cf9d721b-7465-44ea-8b01-9d6ef41b6180"
      },
      "execution_count": null,
      "outputs": [
        {
          "output_type": "execute_result",
          "data": {
            "text/plain": [
              "(1+0j)"
            ]
          },
          "metadata": {},
          "execution_count": 49
        }
      ]
    },
    {
      "cell_type": "code",
      "source": [
        "# string to complex not possible\n",
        "complex('hello')"
      ],
      "metadata": {
        "colab": {
          "base_uri": "https://localhost:8080/",
          "height": 158
        },
        "id": "Zm30EEv7MxiM",
        "outputId": "8b357098-725d-40c5-bb96-8beb58dddbb7"
      },
      "execution_count": null,
      "outputs": [
        {
          "output_type": "error",
          "ename": "ValueError",
          "evalue": "complex() arg is a malformed string",
          "traceback": [
            "\u001b[0;31m---------------------------------------------------------------------------\u001b[0m",
            "\u001b[0;31mValueError\u001b[0m                                Traceback (most recent call last)",
            "\u001b[0;32m<ipython-input-50-acce816d7e70>\u001b[0m in \u001b[0;36m<cell line: 0>\u001b[0;34m()\u001b[0m\n\u001b[1;32m      1\u001b[0m \u001b[0;31m# string to complex not possible\u001b[0m\u001b[0;34m\u001b[0m\u001b[0;34m\u001b[0m\u001b[0m\n\u001b[0;32m----> 2\u001b[0;31m \u001b[0mcomplex\u001b[0m\u001b[0;34m(\u001b[0m\u001b[0;34m'hello'\u001b[0m\u001b[0;34m)\u001b[0m\u001b[0;34m\u001b[0m\u001b[0;34m\u001b[0m\u001b[0m\n\u001b[0m",
            "\u001b[0;31mValueError\u001b[0m: complex() arg is a malformed string"
          ]
        }
      ]
    },
    {
      "cell_type": "code",
      "source": [
        "# STRING INT to complex\n",
        "complex('3.4')"
      ],
      "metadata": {
        "colab": {
          "base_uri": "https://localhost:8080/"
        },
        "id": "G2HYD_W_NFzA",
        "outputId": "f5f0e9da-c760-4e27-e967-3780db86f7a9"
      },
      "execution_count": null,
      "outputs": [
        {
          "output_type": "execute_result",
          "data": {
            "text/plain": [
              "(3.4+0j)"
            ]
          },
          "metadata": {},
          "execution_count": 51
        }
      ]
    },
    {
      "cell_type": "code",
      "source": [
        "#string float to complex\n",
        "complex(3.4)"
      ],
      "metadata": {
        "colab": {
          "base_uri": "https://localhost:8080/"
        },
        "id": "pJmEFO2TNYny",
        "outputId": "be990163-4774-4a01-bbc7-f4f1a9094482"
      },
      "execution_count": null,
      "outputs": [
        {
          "output_type": "execute_result",
          "data": {
            "text/plain": [
              "(3.4+0j)"
            ]
          },
          "metadata": {},
          "execution_count": 52
        }
      ]
    },
    {
      "cell_type": "markdown",
      "source": [
        "# COMPLEX\n",
        "* int --> complex\n",
        "* float --> complex\n",
        "* boolean --> complex\n",
        "* int string,float string --> complex\n",
        "* string cannot be converted into complex"
      ],
      "metadata": {
        "id": "LlhPHl3QPbyp"
      }
    },
    {
      "cell_type": "markdown",
      "source": [
        "#str"
      ],
      "metadata": {
        "id": "ON5k-uBZQH84"
      }
    },
    {
      "cell_type": "code",
      "source": [
        "# create string\n",
        "name = str('venkat')\n",
        "print(name, type(name))"
      ],
      "metadata": {
        "colab": {
          "base_uri": "https://localhost:8080/"
        },
        "id": "FlXrMrPGNn_Q",
        "outputId": "3668f375-50a9-4987-80d6-b9651486021f"
      },
      "execution_count": null,
      "outputs": [
        {
          "output_type": "stream",
          "name": "stdout",
          "text": [
            "venkat <class 'str'>\n"
          ]
        }
      ]
    },
    {
      "cell_type": "code",
      "source": [
        "# int to str\n",
        "a =  str(2)\n",
        "print(a, type(a))"
      ],
      "metadata": {
        "colab": {
          "base_uri": "https://localhost:8080/"
        },
        "id": "BbM7Dv8DQYrj",
        "outputId": "044fc087-e63b-4a0c-d65a-0c52820acf53"
      },
      "execution_count": null,
      "outputs": [
        {
          "output_type": "stream",
          "name": "stdout",
          "text": [
            "2 <class 'str'>\n"
          ]
        }
      ]
    },
    {
      "cell_type": "code",
      "source": [
        "# float to str\n",
        "b =  str(2.5)\n",
        "print(b, type (b))"
      ],
      "metadata": {
        "colab": {
          "base_uri": "https://localhost:8080/"
        },
        "id": "CIDW3Es2QxBa",
        "outputId": "bd7f971e-4276-455f-ea0f-b5dbaea5b744"
      },
      "execution_count": null,
      "outputs": [
        {
          "output_type": "stream",
          "name": "stdout",
          "text": [
            "2.5 <class 'str'>\n"
          ]
        }
      ]
    },
    {
      "cell_type": "code",
      "source": [
        "#bool to str\n",
        "c =  str(True)\n",
        "print(c, type(c))"
      ],
      "metadata": {
        "colab": {
          "base_uri": "https://localhost:8080/"
        },
        "id": "ycAmBYKlRRbz",
        "outputId": "0607c988-0dc4-4ef2-9e10-c025c3b0e7e4"
      },
      "execution_count": null,
      "outputs": [
        {
          "output_type": "stream",
          "name": "stdout",
          "text": [
            "True <class 'str'>\n"
          ]
        }
      ]
    },
    {
      "cell_type": "code",
      "source": [
        "# complex to str\n",
        "c =  str(3+4j)\n",
        "print(c, type(c))"
      ],
      "metadata": {
        "colab": {
          "base_uri": "https://localhost:8080/"
        },
        "id": "bA2uw8suReBV",
        "outputId": "683fa4c3-c6e9-4c6d-fb04-c24a8afa9d2b"
      },
      "execution_count": null,
      "outputs": [
        {
          "output_type": "stream",
          "name": "stdout",
          "text": [
            "(3+4j) <class 'str'>\n"
          ]
        }
      ]
    },
    {
      "cell_type": "markdown",
      "source": [
        "# Order of data types\n",
        "\n",
        "str --> complex --> float --> int --> bool"
      ],
      "metadata": {
        "id": "uA1J7OJXSKcA"
      }
    },
    {
      "cell_type": "markdown",
      "source": [
        "# input\n",
        "* input is function used to take inputs from user. By default it takes string from users"
      ],
      "metadata": {
        "id": "B-v7bTydSc98"
      }
    },
    {
      "cell_type": "code",
      "source": [
        "name = input(\"enter the name: \")\n",
        "print(name, type(name))"
      ],
      "metadata": {
        "id": "g1WrSweqTfTu"
      },
      "execution_count": null,
      "outputs": []
    },
    {
      "cell_type": "code",
      "source": [
        "a = input()\n",
        "#print(a,type(a))"
      ],
      "metadata": {
        "id": "cDYxrH-PUF9D"
      },
      "execution_count": null,
      "outputs": []
    },
    {
      "cell_type": "code",
      "source": [
        "a = input()\n",
        "print(a, type(a))"
      ],
      "metadata": {
        "id": "rnm9eMj2ryHx"
      },
      "execution_count": null,
      "outputs": []
    },
    {
      "cell_type": "markdown",
      "source": [
        "#int(input())\n",
        "\n",
        "Used to take only integers"
      ],
      "metadata": {
        "id": "pdu5zuN2sPti"
      }
    },
    {
      "cell_type": "code",
      "source": [
        "# used to take integer input from user\n",
        "a = int(input(\"enter a: \"))\n",
        "b = int(input(\"enter b: \"))\n",
        "print(a+b)"
      ],
      "metadata": {
        "id": "b5uimzfrseSk",
        "colab": {
          "base_uri": "https://localhost:8080/"
        },
        "outputId": "bc0c986a-410c-4aac-e029-80cd83be9eeb"
      },
      "execution_count": 3,
      "outputs": [
        {
          "output_type": "stream",
          "name": "stdout",
          "text": [
            "enter a: 56\n",
            "enter b: 58\n",
            "114\n"
          ]
        }
      ]
    },
    {
      "cell_type": "code",
      "source": [
        "# float will not be taken by int(input())\n",
        "a = int(input(\"enter a: \"))\n",
        "b = int(input(\"enter b: \"))\n",
        "print(a+b)"
      ],
      "metadata": {
        "id": "ojS3oMaZs0E5",
        "colab": {
          "base_uri": "https://localhost:8080/"
        },
        "outputId": "f0eed5db-cab1-4bff-cd94-2e6ac845d4d7"
      },
      "execution_count": 4,
      "outputs": [
        {
          "output_type": "stream",
          "name": "stdout",
          "text": [
            "enter a: 56\n",
            "enter b: 89\n",
            "145\n"
          ]
        }
      ]
    },
    {
      "cell_type": "markdown",
      "source": [
        "# float(inptut())\n",
        "\n",
        "Used to take bpth integers and float from users"
      ],
      "metadata": {
        "id": "DVIhYJxsuERO"
      }
    },
    {
      "cell_type": "code",
      "source": [
        "a = float(input(\"enter a: \"))\n",
        "b = float(input(\"enter b: \"))\n",
        "print(a+b)"
      ],
      "metadata": {
        "id": "R0lOGXBGuRn5",
        "colab": {
          "base_uri": "https://localhost:8080/"
        },
        "outputId": "41cf779e-0372-4a0c-dcc2-78617f9cb8a3"
      },
      "execution_count": 2,
      "outputs": [
        {
          "output_type": "stream",
          "name": "stdout",
          "text": [
            "enter b: 25\n",
            "50.0\n"
          ]
        }
      ]
    },
    {
      "cell_type": "code",
      "source": [
        "# bool (input())\n",
        "a = bool(input())\n",
        "print(a)"
      ],
      "metadata": {
        "id": "M0bZICPqtgRH",
        "colab": {
          "base_uri": "https://localhost:8080/"
        },
        "outputId": "23726d0b-7ee3-4867-ae7c-5496a8086093"
      },
      "execution_count": 7,
      "outputs": [
        {
          "output_type": "stream",
          "name": "stdout",
          "text": [
            "40.2\n",
            "True\n"
          ]
        }
      ]
    },
    {
      "cell_type": "code",
      "source": [
        "# complex (input())\n",
        "a = complex(input())\n",
        "print(a, type(a))"
      ],
      "metadata": {
        "colab": {
          "base_uri": "https://localhost:8080/"
        },
        "id": "6j6Eog-a1AQW",
        "outputId": "d5f0d16c-3503-4c34-cf97-41a19e456ac6"
      },
      "execution_count": 8,
      "outputs": [
        {
          "output_type": "stream",
          "name": "stdout",
          "text": [
            "56\n",
            "(56+0j) <class 'complex'>\n"
          ]
        }
      ]
    },
    {
      "cell_type": "markdown",
      "source": [
        "# How to take list, tuple,set,dict as inputs"
      ],
      "metadata": {
        "id": "xFteI4a21Yzb"
      }
    },
    {
      "cell_type": "code",
      "source": [
        "# eval (input())\n",
        "# by default it takes tuple\n",
        "# taking list from user\n",
        "A = eval(input())\n",
        "print(A, type(A))"
      ],
      "metadata": {
        "colab": {
          "base_uri": "https://localhost:8080/"
        },
        "id": "nUNON9bL1SnJ",
        "outputId": "ee2b4226-7809-4dcf-edbb-a24b684d7c39"
      },
      "execution_count": 19,
      "outputs": [
        {
          "output_type": "stream",
          "name": "stdout",
          "text": [
            "[89,56,558]\n",
            "[89, 56, 558] <class 'list'>\n"
          ]
        }
      ]
    },
    {
      "cell_type": "code",
      "source": [
        "# taking set from user\n",
        "A = eval(input())\n",
        "print(A, type(A))"
      ],
      "metadata": {
        "colab": {
          "base_uri": "https://localhost:8080/"
        },
        "id": "6J0dkHLm12K5",
        "outputId": "604a916f-2ebc-429e-d265-c5a4efd2e984"
      },
      "execution_count": 21,
      "outputs": [
        {
          "output_type": "stream",
          "name": "stdout",
          "text": [
            "{56,52,23,56}\n",
            "{56, 52, 23} <class 'set'>\n"
          ]
        }
      ]
    },
    {
      "cell_type": "code",
      "source": [
        "# taking dict from user\n",
        "A = eval(input())\n",
        "print(A, type(A))"
      ],
      "metadata": {
        "colab": {
          "base_uri": "https://localhost:8080/"
        },
        "id": "JknelHir2R52",
        "outputId": "4368a7c2-2137-49ed-9afa-84f2e593a4b8"
      },
      "execution_count": 24,
      "outputs": [
        {
          "output_type": "stream",
          "name": "stdout",
          "text": [
            "{'name':'venkat'}\n",
            "{'name': 'venkat'} <class 'dict'>\n"
          ]
        }
      ]
    },
    {
      "cell_type": "code",
      "source": [
        "# taking int from user\n",
        "A = eval(input())\n",
        "print(A, type(A))"
      ],
      "metadata": {
        "colab": {
          "base_uri": "https://localhost:8080/"
        },
        "id": "qpnoB-G220bX",
        "outputId": "80287862-18f1-4993-c040-37d1b8bedc03"
      },
      "execution_count": 18,
      "outputs": [
        {
          "output_type": "stream",
          "name": "stdout",
          "text": [
            "96\n",
            "96 <class 'int'>\n"
          ]
        }
      ]
    },
    {
      "cell_type": "code",
      "source": [
        "# taking float from user\n",
        "A = eval(input())\n",
        "print(A,type(A))"
      ],
      "metadata": {
        "colab": {
          "base_uri": "https://localhost:8080/"
        },
        "id": "zCF2wggd3I8C",
        "outputId": "f8b3f75b-1e48-4c12-f38c-3ef9227036de"
      },
      "execution_count": 25,
      "outputs": [
        {
          "output_type": "stream",
          "name": "stdout",
          "text": [
            "50.2\n",
            "50.2 <class 'float'>\n"
          ]
        }
      ]
    },
    {
      "cell_type": "code",
      "source": [
        "# taking boolean from user\n",
        "A = eval(input())\n",
        "print(A,type(A))"
      ],
      "metadata": {
        "colab": {
          "base_uri": "https://localhost:8080/"
        },
        "id": "Mgiejm_R6rSA",
        "outputId": "1beae0de-d8e4-4556-8d9f-b6042b297928"
      },
      "execution_count": 26,
      "outputs": [
        {
          "output_type": "stream",
          "name": "stdout",
          "text": [
            "True\n",
            "True <class 'bool'>\n"
          ]
        }
      ]
    },
    {
      "cell_type": "code",
      "source": [
        "# taking complex from user\n",
        "A = eval(input())\n",
        "print(A,type(A))"
      ],
      "metadata": {
        "colab": {
          "base_uri": "https://localhost:8080/"
        },
        "id": "kGhR8Xoo61K2",
        "outputId": "87545101-f1b2-4d19-abef-709f6d4d140f"
      },
      "execution_count": 27,
      "outputs": [
        {
          "output_type": "stream",
          "name": "stdout",
          "text": [
            "3+4j\n",
            "(3+4j) <class 'complex'>\n"
          ]
        }
      ]
    },
    {
      "cell_type": "code",
      "source": [
        "# taking string from user\n",
        "A = eval(input())\n",
        "print(A,type(A))"
      ],
      "metadata": {
        "colab": {
          "base_uri": "https://localhost:8080/"
        },
        "id": "MZdGC1er7AYT",
        "outputId": "e73bbb2e-ce09-4109-e2e5-f021fba18783"
      },
      "execution_count": 30,
      "outputs": [
        {
          "output_type": "stream",
          "name": "stdout",
          "text": [
            "\"hello\"\n",
            "hello <class 'str'>\n"
          ]
        }
      ]
    },
    {
      "cell_type": "code",
      "source": [
        "# when we input 1,2,3,4,5,6 it will default get stored as tuple\n",
        "A = eval(input())\n",
        "print(A, type(A))"
      ],
      "metadata": {
        "colab": {
          "base_uri": "https://localhost:8080/"
        },
        "id": "Vz_MGOn27QwG",
        "outputId": "583d2f73-25d8-4da7-ebaa-c84bf8e0b42d"
      },
      "execution_count": 31,
      "outputs": [
        {
          "output_type": "stream",
          "name": "stdout",
          "text": [
            "1,2,3\n",
            "(1, 2, 3) <class 'tuple'>\n"
          ]
        }
      ]
    },
    {
      "cell_type": "code",
      "source": [
        "# string : input()\n",
        "# int : int(input())\n",
        "# float : float(input())\n",
        "# complex : complex(input())\n",
        "# bool : bool(input())\n",
        "# list,tuple,set,dict : eval(input())"
      ],
      "metadata": {
        "id": "wha52gHR78wA"
      },
      "execution_count": 32,
      "outputs": []
    },
    {
      "cell_type": "markdown",
      "source": [
        "# eval"
      ],
      "metadata": {
        "id": "AiEgI3Kn7_Q-"
      }
    },
    {
      "cell_type": "code",
      "source": [
        "# used to evaluate string expression\n",
        "eval('10+10*2-400+100')"
      ],
      "metadata": {
        "colab": {
          "base_uri": "https://localhost:8080/"
        },
        "id": "9-aJkU_D7s46",
        "outputId": "e4bc45ff-55a0-4596-a0cf-b2862ee213d1"
      },
      "execution_count": 33,
      "outputs": [
        {
          "output_type": "execute_result",
          "data": {
            "text/plain": [
              "-270"
            ]
          },
          "metadata": {},
          "execution_count": 33
        }
      ]
    },
    {
      "cell_type": "code",
      "source": [
        "eval('10**2')"
      ],
      "metadata": {
        "colab": {
          "base_uri": "https://localhost:8080/"
        },
        "id": "VkoRJe9m8Mbr",
        "outputId": "0dce777c-3161-4a65-9007-1e0589402d74"
      },
      "execution_count": 34,
      "outputs": [
        {
          "output_type": "execute_result",
          "data": {
            "text/plain": [
              "100"
            ]
          },
          "metadata": {},
          "execution_count": 34
        }
      ]
    },
    {
      "cell_type": "markdown",
      "source": [
        "# help"
      ],
      "metadata": {
        "id": "YKsqUTbq9cVk"
      }
    },
    {
      "cell_type": "code",
      "source": [
        "# help: It is a funtion used get details about functions\n",
        "help(max)"
      ],
      "metadata": {
        "colab": {
          "base_uri": "https://localhost:8080/"
        },
        "id": "0EPMZuXr9VF1",
        "outputId": "b1d7a74c-b023-49e2-ce7a-be5f4de8b1d4"
      },
      "execution_count": 35,
      "outputs": [
        {
          "output_type": "stream",
          "name": "stdout",
          "text": [
            "Help on built-in function max in module builtins:\n",
            "\n",
            "max(...)\n",
            "    max(iterable, *[, default=obj, key=func]) -> value\n",
            "    max(arg1, arg2, *args, *[, key=func]) -> value\n",
            "    \n",
            "    With a single iterable argument, return its biggest item. The\n",
            "    default keyword-only argument specifies an object to return if\n",
            "    the provided iterable is empty.\n",
            "    With two or more arguments, return the largest argument.\n",
            "\n"
          ]
        }
      ]
    },
    {
      "cell_type": "code",
      "source": [
        "help(min)"
      ],
      "metadata": {
        "colab": {
          "base_uri": "https://localhost:8080/"
        },
        "id": "rBgWni8g9qBm",
        "outputId": "05b2436a-04d6-464e-ca93-af7bfe810b8b"
      },
      "execution_count": 36,
      "outputs": [
        {
          "output_type": "stream",
          "name": "stdout",
          "text": [
            "Help on built-in function min in module builtins:\n",
            "\n",
            "min(...)\n",
            "    min(iterable, *[, default=obj, key=func]) -> value\n",
            "    min(arg1, arg2, *args, *[, key=func]) -> value\n",
            "    \n",
            "    With a single iterable argument, return its smallest item. The\n",
            "    default keyword-only argument specifies an object to return if\n",
            "    the provided iterable is empty.\n",
            "    With two or more arguments, return the smallest argument.\n",
            "\n"
          ]
        }
      ]
    },
    {
      "cell_type": "code",
      "source": [
        "help(int)"
      ],
      "metadata": {
        "colab": {
          "base_uri": "https://localhost:8080/"
        },
        "id": "0mYNQqk79z50",
        "outputId": "54cdedbf-67a4-463a-80e8-5cddc8040427"
      },
      "execution_count": 37,
      "outputs": [
        {
          "output_type": "stream",
          "name": "stdout",
          "text": [
            "Help on class int in module builtins:\n",
            "\n",
            "class int(object)\n",
            " |  int([x]) -> integer\n",
            " |  int(x, base=10) -> integer\n",
            " |  \n",
            " |  Convert a number or string to an integer, or return 0 if no arguments\n",
            " |  are given.  If x is a number, return x.__int__().  For floating point\n",
            " |  numbers, this truncates towards zero.\n",
            " |  \n",
            " |  If x is not a number or if base is given, then x must be a string,\n",
            " |  bytes, or bytearray instance representing an integer literal in the\n",
            " |  given base.  The literal can be preceded by '+' or '-' and be surrounded\n",
            " |  by whitespace.  The base defaults to 10.  Valid bases are 0 and 2-36.\n",
            " |  Base 0 means to interpret the base from the string as an integer literal.\n",
            " |  >>> int('0b100', base=0)\n",
            " |  4\n",
            " |  \n",
            " |  Built-in subclasses:\n",
            " |      bool\n",
            " |  \n",
            " |  Methods defined here:\n",
            " |  \n",
            " |  __abs__(self, /)\n",
            " |      abs(self)\n",
            " |  \n",
            " |  __add__(self, value, /)\n",
            " |      Return self+value.\n",
            " |  \n",
            " |  __and__(self, value, /)\n",
            " |      Return self&value.\n",
            " |  \n",
            " |  __bool__(self, /)\n",
            " |      True if self else False\n",
            " |  \n",
            " |  __ceil__(...)\n",
            " |      Ceiling of an Integral returns itself.\n",
            " |  \n",
            " |  __divmod__(self, value, /)\n",
            " |      Return divmod(self, value).\n",
            " |  \n",
            " |  __eq__(self, value, /)\n",
            " |      Return self==value.\n",
            " |  \n",
            " |  __float__(self, /)\n",
            " |      float(self)\n",
            " |  \n",
            " |  __floor__(...)\n",
            " |      Flooring an Integral returns itself.\n",
            " |  \n",
            " |  __floordiv__(self, value, /)\n",
            " |      Return self//value.\n",
            " |  \n",
            " |  __format__(self, format_spec, /)\n",
            " |      Default object formatter.\n",
            " |  \n",
            " |  __ge__(self, value, /)\n",
            " |      Return self>=value.\n",
            " |  \n",
            " |  __getattribute__(self, name, /)\n",
            " |      Return getattr(self, name).\n",
            " |  \n",
            " |  __getnewargs__(self, /)\n",
            " |  \n",
            " |  __gt__(self, value, /)\n",
            " |      Return self>value.\n",
            " |  \n",
            " |  __hash__(self, /)\n",
            " |      Return hash(self).\n",
            " |  \n",
            " |  __index__(self, /)\n",
            " |      Return self converted to an integer, if self is suitable for use as an index into a list.\n",
            " |  \n",
            " |  __int__(self, /)\n",
            " |      int(self)\n",
            " |  \n",
            " |  __invert__(self, /)\n",
            " |      ~self\n",
            " |  \n",
            " |  __le__(self, value, /)\n",
            " |      Return self<=value.\n",
            " |  \n",
            " |  __lshift__(self, value, /)\n",
            " |      Return self<<value.\n",
            " |  \n",
            " |  __lt__(self, value, /)\n",
            " |      Return self<value.\n",
            " |  \n",
            " |  __mod__(self, value, /)\n",
            " |      Return self%value.\n",
            " |  \n",
            " |  __mul__(self, value, /)\n",
            " |      Return self*value.\n",
            " |  \n",
            " |  __ne__(self, value, /)\n",
            " |      Return self!=value.\n",
            " |  \n",
            " |  __neg__(self, /)\n",
            " |      -self\n",
            " |  \n",
            " |  __or__(self, value, /)\n",
            " |      Return self|value.\n",
            " |  \n",
            " |  __pos__(self, /)\n",
            " |      +self\n",
            " |  \n",
            " |  __pow__(self, value, mod=None, /)\n",
            " |      Return pow(self, value, mod).\n",
            " |  \n",
            " |  __radd__(self, value, /)\n",
            " |      Return value+self.\n",
            " |  \n",
            " |  __rand__(self, value, /)\n",
            " |      Return value&self.\n",
            " |  \n",
            " |  __rdivmod__(self, value, /)\n",
            " |      Return divmod(value, self).\n",
            " |  \n",
            " |  __repr__(self, /)\n",
            " |      Return repr(self).\n",
            " |  \n",
            " |  __rfloordiv__(self, value, /)\n",
            " |      Return value//self.\n",
            " |  \n",
            " |  __rlshift__(self, value, /)\n",
            " |      Return value<<self.\n",
            " |  \n",
            " |  __rmod__(self, value, /)\n",
            " |      Return value%self.\n",
            " |  \n",
            " |  __rmul__(self, value, /)\n",
            " |      Return value*self.\n",
            " |  \n",
            " |  __ror__(self, value, /)\n",
            " |      Return value|self.\n",
            " |  \n",
            " |  __round__(...)\n",
            " |      Rounding an Integral returns itself.\n",
            " |      \n",
            " |      Rounding with an ndigits argument also returns an integer.\n",
            " |  \n",
            " |  __rpow__(self, value, mod=None, /)\n",
            " |      Return pow(value, self, mod).\n",
            " |  \n",
            " |  __rrshift__(self, value, /)\n",
            " |      Return value>>self.\n",
            " |  \n",
            " |  __rshift__(self, value, /)\n",
            " |      Return self>>value.\n",
            " |  \n",
            " |  __rsub__(self, value, /)\n",
            " |      Return value-self.\n",
            " |  \n",
            " |  __rtruediv__(self, value, /)\n",
            " |      Return value/self.\n",
            " |  \n",
            " |  __rxor__(self, value, /)\n",
            " |      Return value^self.\n",
            " |  \n",
            " |  __sizeof__(self, /)\n",
            " |      Returns size in memory, in bytes.\n",
            " |  \n",
            " |  __sub__(self, value, /)\n",
            " |      Return self-value.\n",
            " |  \n",
            " |  __truediv__(self, value, /)\n",
            " |      Return self/value.\n",
            " |  \n",
            " |  __trunc__(...)\n",
            " |      Truncating an Integral returns itself.\n",
            " |  \n",
            " |  __xor__(self, value, /)\n",
            " |      Return self^value.\n",
            " |  \n",
            " |  as_integer_ratio(self, /)\n",
            " |      Return integer ratio.\n",
            " |      \n",
            " |      Return a pair of integers, whose ratio is exactly equal to the original int\n",
            " |      and with a positive denominator.\n",
            " |      \n",
            " |      >>> (10).as_integer_ratio()\n",
            " |      (10, 1)\n",
            " |      >>> (-10).as_integer_ratio()\n",
            " |      (-10, 1)\n",
            " |      >>> (0).as_integer_ratio()\n",
            " |      (0, 1)\n",
            " |  \n",
            " |  bit_count(self, /)\n",
            " |      Number of ones in the binary representation of the absolute value of self.\n",
            " |      \n",
            " |      Also known as the population count.\n",
            " |      \n",
            " |      >>> bin(13)\n",
            " |      '0b1101'\n",
            " |      >>> (13).bit_count()\n",
            " |      3\n",
            " |  \n",
            " |  bit_length(self, /)\n",
            " |      Number of bits necessary to represent self in binary.\n",
            " |      \n",
            " |      >>> bin(37)\n",
            " |      '0b100101'\n",
            " |      >>> (37).bit_length()\n",
            " |      6\n",
            " |  \n",
            " |  conjugate(...)\n",
            " |      Returns self, the complex conjugate of any int.\n",
            " |  \n",
            " |  to_bytes(self, /, length=1, byteorder='big', *, signed=False)\n",
            " |      Return an array of bytes representing an integer.\n",
            " |      \n",
            " |      length\n",
            " |        Length of bytes object to use.  An OverflowError is raised if the\n",
            " |        integer is not representable with the given number of bytes.  Default\n",
            " |        is length 1.\n",
            " |      byteorder\n",
            " |        The byte order used to represent the integer.  If byteorder is 'big',\n",
            " |        the most significant byte is at the beginning of the byte array.  If\n",
            " |        byteorder is 'little', the most significant byte is at the end of the\n",
            " |        byte array.  To request the native byte order of the host system, use\n",
            " |        `sys.byteorder' as the byte order value.  Default is to use 'big'.\n",
            " |      signed\n",
            " |        Determines whether two's complement is used to represent the integer.\n",
            " |        If signed is False and a negative integer is given, an OverflowError\n",
            " |        is raised.\n",
            " |  \n",
            " |  ----------------------------------------------------------------------\n",
            " |  Class methods defined here:\n",
            " |  \n",
            " |  from_bytes(bytes, byteorder='big', *, signed=False)\n",
            " |      Return the integer represented by the given array of bytes.\n",
            " |      \n",
            " |      bytes\n",
            " |        Holds the array of bytes to convert.  The argument must either\n",
            " |        support the buffer protocol or be an iterable object producing bytes.\n",
            " |        Bytes and bytearray are examples of built-in objects that support the\n",
            " |        buffer protocol.\n",
            " |      byteorder\n",
            " |        The byte order used to represent the integer.  If byteorder is 'big',\n",
            " |        the most significant byte is at the beginning of the byte array.  If\n",
            " |        byteorder is 'little', the most significant byte is at the end of the\n",
            " |        byte array.  To request the native byte order of the host system, use\n",
            " |        `sys.byteorder' as the byte order value.  Default is to use 'big'.\n",
            " |      signed\n",
            " |        Indicates whether two's complement is used to represent the integer.\n",
            " |  \n",
            " |  ----------------------------------------------------------------------\n",
            " |  Static methods defined here:\n",
            " |  \n",
            " |  __new__(*args, **kwargs)\n",
            " |      Create and return a new object.  See help(type) for accurate signature.\n",
            " |  \n",
            " |  ----------------------------------------------------------------------\n",
            " |  Data descriptors defined here:\n",
            " |  \n",
            " |  denominator\n",
            " |      the denominator of a rational number in lowest terms\n",
            " |  \n",
            " |  imag\n",
            " |      the imaginary part of a complex number\n",
            " |  \n",
            " |  numerator\n",
            " |      the numerator of a rational number in lowest terms\n",
            " |  \n",
            " |  real\n",
            " |      the real part of a complex number\n",
            "\n"
          ]
        }
      ]
    },
    {
      "cell_type": "markdown",
      "source": [
        "# exec\n"
      ],
      "metadata": {
        "id": "AIKtDhA795ms"
      }
    },
    {
      "cell_type": "code",
      "source": [
        "a = 10\n",
        "b = 20\n",
        "print(a+b)"
      ],
      "metadata": {
        "colab": {
          "base_uri": "https://localhost:8080/"
        },
        "id": "F4Djau3s93B7",
        "outputId": "3863ec20-f820-4cb3-cf1e-78aab8b38514"
      },
      "execution_count": 38,
      "outputs": [
        {
          "output_type": "stream",
          "name": "stdout",
          "text": [
            "30\n"
          ]
        }
      ]
    },
    {
      "cell_type": "code",
      "source": [
        "exec('a=10 \\nb=20 \\nprint(a+b)')#\\n --> new line"
      ],
      "metadata": {
        "colab": {
          "base_uri": "https://localhost:8080/"
        },
        "id": "ZuthWRBi-B5h",
        "outputId": "496b24b9-6f5d-40a3-d445-3b844fe30836"
      },
      "execution_count": 40,
      "outputs": [
        {
          "output_type": "stream",
          "name": "stdout",
          "text": [
            "30\n"
          ]
        }
      ]
    },
    {
      "cell_type": "code",
      "source": [
        "a = 10\n",
        "b = 20\n",
        "c = 20\n",
        "print(a+b+c)"
      ],
      "metadata": {
        "colab": {
          "base_uri": "https://localhost:8080/"
        },
        "id": "Zl4dA5Ad-RDm",
        "outputId": "9b3eac69-67c4-4725-b04d-518cfcedeb86"
      },
      "execution_count": 41,
      "outputs": [
        {
          "output_type": "stream",
          "name": "stdout",
          "text": [
            "50\n"
          ]
        }
      ]
    },
    {
      "cell_type": "code",
      "source": [
        "exec('a=10 \\nb=30 \\nc=20 \\nprint(a+b+c)')"
      ],
      "metadata": {
        "colab": {
          "base_uri": "https://localhost:8080/"
        },
        "id": "izsX1e1s-0lM",
        "outputId": "15ac5ee2-576a-4ff9-de26-7b38faa96731"
      },
      "execution_count": 42,
      "outputs": [
        {
          "output_type": "stream",
          "name": "stdout",
          "text": [
            "60\n"
          ]
        }
      ]
    },
    {
      "cell_type": "markdown",
      "source": [
        "# range\n",
        "* range is a function used generate numbers"
      ],
      "metadata": {
        "id": "fCDag80j_P5k"
      }
    },
    {
      "cell_type": "code",
      "source": [
        "# generate numbers from 0 to 9\n",
        "list(range(10)) #end value not included"
      ],
      "metadata": {
        "colab": {
          "base_uri": "https://localhost:8080/"
        },
        "id": "ON_41o6b_D4M",
        "outputId": "8529c960-84e8-426c-a619-e79764ab13cf"
      },
      "execution_count": 43,
      "outputs": [
        {
          "output_type": "execute_result",
          "data": {
            "text/plain": [
              "[0, 1, 2, 3, 4, 5, 6, 7, 8, 9]"
            ]
          },
          "metadata": {},
          "execution_count": 43
        }
      ]
    },
    {
      "cell_type": "code",
      "source": [
        "tuple(range(10)) #end value not included"
      ],
      "metadata": {
        "colab": {
          "base_uri": "https://localhost:8080/"
        },
        "id": "q7HIq6Em_hDT",
        "outputId": "926cb35a-0d3c-41e3-e000-c26c404129e9"
      },
      "execution_count": 44,
      "outputs": [
        {
          "output_type": "execute_result",
          "data": {
            "text/plain": [
              "(0, 1, 2, 3, 4, 5, 6, 7, 8, 9)"
            ]
          },
          "metadata": {},
          "execution_count": 44
        }
      ]
    },
    {
      "cell_type": "code",
      "source": [
        "set(range(10))"
      ],
      "metadata": {
        "colab": {
          "base_uri": "https://localhost:8080/"
        },
        "id": "5nH89hcr_6w8",
        "outputId": "e595d023-1774-4a68-f6ab-99098bc1ef34"
      },
      "execution_count": 45,
      "outputs": [
        {
          "output_type": "execute_result",
          "data": {
            "text/plain": [
              "{0, 1, 2, 3, 4, 5, 6, 7, 8, 9}"
            ]
          },
          "metadata": {},
          "execution_count": 45
        }
      ]
    },
    {
      "cell_type": "code",
      "source": [
        "# generate numbers from 1 to 10(included)\n",
        "# range(start_value, end_value+1)\n",
        "list(range(1,11))"
      ],
      "metadata": {
        "colab": {
          "base_uri": "https://localhost:8080/"
        },
        "id": "GtcxkMKZ_-u0",
        "outputId": "5d749e99-1375-45ad-a081-0813a5b7d022"
      },
      "execution_count": 46,
      "outputs": [
        {
          "output_type": "execute_result",
          "data": {
            "text/plain": [
              "[1, 2, 3, 4, 5, 6, 7, 8, 9, 10]"
            ]
          },
          "metadata": {},
          "execution_count": 46
        }
      ]
    },
    {
      "cell_type": "code",
      "source": [
        "# generate numbers from 30 to 45(included)\n",
        "list(range(30,46))"
      ],
      "metadata": {
        "colab": {
          "base_uri": "https://localhost:8080/"
        },
        "id": "jNUj_OilAE97",
        "outputId": "f0e8c690-a751-4805-90f8-4fc2e0d4e65c"
      },
      "execution_count": 1,
      "outputs": [
        {
          "output_type": "execute_result",
          "data": {
            "text/plain": [
              "[30, 31, 32, 33, 34, 35, 36, 37, 38, 39, 40, 41, 42, 43, 44, 45]"
            ]
          },
          "metadata": {},
          "execution_count": 1
        }
      ]
    },
    {
      "cell_type": "code",
      "source": [
        "# generate 3,6,9,12,15,18,21,24,27,30\n",
        "# range(start, end+1, step)\n",
        "print(list(range(3,31,3)))"
      ],
      "metadata": {
        "colab": {
          "base_uri": "https://localhost:8080/"
        },
        "id": "VVSOWMnpH_L4",
        "outputId": "980208e2-0827-40dd-f43e-11cf393ef376"
      },
      "execution_count": 2,
      "outputs": [
        {
          "output_type": "stream",
          "name": "stdout",
          "text": [
            "[3, 6, 9, 12, 15, 18, 21, 24, 27, 30]\n"
          ]
        }
      ]
    },
    {
      "cell_type": "code",
      "source": [
        "# generate 11,22,33,44,55,66,77,88\n",
        "list(range(11,89,11))"
      ],
      "metadata": {
        "colab": {
          "base_uri": "https://localhost:8080/"
        },
        "id": "7sZFYO1LIY35",
        "outputId": "38a57135-9928-40e3-d1c8-f628f108e34e"
      },
      "execution_count": 3,
      "outputs": [
        {
          "output_type": "execute_result",
          "data": {
            "text/plain": [
              "[11, 22, 33, 44, 55, 66, 77, 88]"
            ]
          },
          "metadata": {},
          "execution_count": 3
        }
      ]
    },
    {
      "cell_type": "markdown",
      "source": [
        "# enumerate"
      ],
      "metadata": {
        "id": "ssQQtQ6jIm4k"
      }
    },
    {
      "cell_type": "code",
      "source": [
        "# used to find index of each character or element\n",
        "A = 'python'\n",
        "list(enumerate(A))"
      ],
      "metadata": {
        "colab": {
          "base_uri": "https://localhost:8080/"
        },
        "id": "Sa6R9lhgIiLf",
        "outputId": "0bb3ac1a-1563-49d3-fcf4-689343c49dab"
      },
      "execution_count": 4,
      "outputs": [
        {
          "output_type": "execute_result",
          "data": {
            "text/plain": [
              "[(0, 'p'), (1, 'y'), (2, 't'), (3, 'h'), (4, 'o'), (5, 'n')]"
            ]
          },
          "metadata": {},
          "execution_count": 4
        }
      ]
    },
    {
      "cell_type": "code",
      "source": [
        "A =[10,20,30,40]\n",
        "list(enumerate(A))"
      ],
      "metadata": {
        "colab": {
          "base_uri": "https://localhost:8080/"
        },
        "id": "2FbLMM39I6me",
        "outputId": "3b499533-4af9-441f-ab6e-fa3b807daa9a"
      },
      "execution_count": 5,
      "outputs": [
        {
          "output_type": "execute_result",
          "data": {
            "text/plain": [
              "[(0, 10), (1, 20), (2, 30), (3, 40)]"
            ]
          },
          "metadata": {},
          "execution_count": 5
        }
      ]
    },
    {
      "cell_type": "code",
      "source": [
        "A =(10,20,30,40)\n",
        "list(enumerate(A))"
      ],
      "metadata": {
        "colab": {
          "base_uri": "https://localhost:8080/"
        },
        "id": "jtgC1i8FJBwK",
        "outputId": "ff03abce-a06c-4a99-e913-6b0dd4838e06"
      },
      "execution_count": 6,
      "outputs": [
        {
          "output_type": "execute_result",
          "data": {
            "text/plain": [
              "[(0, 10), (1, 20), (2, 30), (3, 40)]"
            ]
          },
          "metadata": {},
          "execution_count": 6
        }
      ]
    },
    {
      "cell_type": "markdown",
      "source": [
        "# Round\n",
        "\n",
        "* function Used to round number to specific decimal place"
      ],
      "metadata": {
        "id": "n6zwXjH8JF1t"
      }
    },
    {
      "cell_type": "code",
      "source": [
        "# 34.567834\n",
        "# round to 3 decimal places\n",
        "a = 34.567834\n",
        "round(a, 3)"
      ],
      "metadata": {
        "colab": {
          "base_uri": "https://localhost:8080/"
        },
        "id": "sgwCrfDaJD5P",
        "outputId": "d7d059b9-cd24-42c9-f65b-62416436f80e"
      },
      "execution_count": 7,
      "outputs": [
        {
          "output_type": "execute_result",
          "data": {
            "text/plain": [
              "34.568"
            ]
          },
          "metadata": {},
          "execution_count": 7
        }
      ]
    },
    {
      "cell_type": "code",
      "source": [
        "b = 45.67234\n",
        "# round to 4 decimal places\n",
        "round(b, 4)"
      ],
      "metadata": {
        "colab": {
          "base_uri": "https://localhost:8080/"
        },
        "id": "N903CMaSJcAG",
        "outputId": "9db6bdc3-9b0f-4d95-d214-4e715dbb106f"
      },
      "execution_count": 8,
      "outputs": [
        {
          "output_type": "execute_result",
          "data": {
            "text/plain": [
              "45.6723"
            ]
          },
          "metadata": {},
          "execution_count": 8
        }
      ]
    },
    {
      "cell_type": "code",
      "source": [
        "round(23)"
      ],
      "metadata": {
        "colab": {
          "base_uri": "https://localhost:8080/"
        },
        "id": "fx40EZvdJe9J",
        "outputId": "4bb21c49-8cb5-4dfe-e535-1a5294e4f96a"
      },
      "execution_count": 9,
      "outputs": [
        {
          "output_type": "execute_result",
          "data": {
            "text/plain": [
              "23"
            ]
          },
          "metadata": {},
          "execution_count": 9
        }
      ]
    },
    {
      "cell_type": "code",
      "source": [
        "round(48)"
      ],
      "metadata": {
        "colab": {
          "base_uri": "https://localhost:8080/"
        },
        "id": "8bBFrTEpJj3V",
        "outputId": "a874b022-9387-4baf-e718-ddcf3c1758a0"
      },
      "execution_count": 10,
      "outputs": [
        {
          "output_type": "execute_result",
          "data": {
            "text/plain": [
              "48"
            ]
          },
          "metadata": {},
          "execution_count": 10
        }
      ]
    },
    {
      "cell_type": "markdown",
      "source": [
        "# abs\n",
        "\n",
        "Used to convert negative number to positive"
      ],
      "metadata": {
        "id": "VdsQ7me8JntJ"
      }
    },
    {
      "cell_type": "code",
      "source": [
        "abs(-40)"
      ],
      "metadata": {
        "colab": {
          "base_uri": "https://localhost:8080/"
        },
        "id": "ZEyZeXkTJmU7",
        "outputId": "3100093c-d55d-461a-bc94-135bdf526a52"
      },
      "execution_count": 11,
      "outputs": [
        {
          "output_type": "execute_result",
          "data": {
            "text/plain": [
              "40"
            ]
          },
          "metadata": {},
          "execution_count": 11
        }
      ]
    },
    {
      "cell_type": "code",
      "source": [
        "abs(20)"
      ],
      "metadata": {
        "colab": {
          "base_uri": "https://localhost:8080/"
        },
        "id": "BFywt9fHJ_ml",
        "outputId": "50bcab63-194a-4a32-ee58-6ee920c3e4dc"
      },
      "execution_count": 12,
      "outputs": [
        {
          "output_type": "execute_result",
          "data": {
            "text/plain": [
              "20"
            ]
          },
          "metadata": {},
          "execution_count": 12
        }
      ]
    },
    {
      "cell_type": "code",
      "source": [
        "abs(-100)"
      ],
      "metadata": {
        "colab": {
          "base_uri": "https://localhost:8080/"
        },
        "id": "1iltWuPLKB05",
        "outputId": "351ab860-425f-4c9c-9f63-c22a7e364f2c"
      },
      "execution_count": 13,
      "outputs": [
        {
          "output_type": "execute_result",
          "data": {
            "text/plain": [
              "100"
            ]
          },
          "metadata": {},
          "execution_count": 13
        }
      ]
    },
    {
      "cell_type": "markdown",
      "source": [
        "# list, tuple,set,dict"
      ],
      "metadata": {
        "id": "FeUGxQPuKIK7"
      }
    },
    {
      "cell_type": "code",
      "source": [
        "# list\n",
        "A = list((1,2,3,4))\n",
        "print(A)"
      ],
      "metadata": {
        "colab": {
          "base_uri": "https://localhost:8080/"
        },
        "id": "sLzzLFx1KGJ7",
        "outputId": "cc06aaee-d0b7-48e1-cfa8-135f91d150ba"
      },
      "execution_count": 14,
      "outputs": [
        {
          "output_type": "stream",
          "name": "stdout",
          "text": [
            "[1, 2, 3, 4]\n"
          ]
        }
      ]
    },
    {
      "cell_type": "code",
      "source": [
        "# tuple\n",
        "A = tuple((1,2,3,4))\n",
        "print(A)"
      ],
      "metadata": {
        "colab": {
          "base_uri": "https://localhost:8080/"
        },
        "id": "L_tLqQfiKX4-",
        "outputId": "13973285-3968-44ad-b8e0-d61cd230d50f"
      },
      "execution_count": 15,
      "outputs": [
        {
          "output_type": "stream",
          "name": "stdout",
          "text": [
            "(1, 2, 3, 4)\n"
          ]
        }
      ]
    },
    {
      "cell_type": "code",
      "source": [
        "# set\n",
        "A = set((1,2,3,4))\n",
        "print(A)"
      ],
      "metadata": {
        "colab": {
          "base_uri": "https://localhost:8080/"
        },
        "id": "jRwEgkFvKiCa",
        "outputId": "085b6c5d-a0d3-4a15-9e66-f923b4856bcc"
      },
      "execution_count": 16,
      "outputs": [
        {
          "output_type": "stream",
          "name": "stdout",
          "text": [
            "{1, 2, 3, 4}\n"
          ]
        }
      ]
    },
    {
      "cell_type": "code",
      "source": [
        "# dict\n",
        "A = dict({'name':'Jeevitha', 'age': 30})\n",
        "print(A)"
      ],
      "metadata": {
        "colab": {
          "base_uri": "https://localhost:8080/"
        },
        "id": "7cqLSNkyKsh_",
        "outputId": "5195f188-2bdf-46cd-9f16-8af603b01664"
      },
      "execution_count": 17,
      "outputs": [
        {
          "output_type": "stream",
          "name": "stdout",
          "text": [
            "{'name': 'Jeevitha', 'age': 30}\n"
          ]
        }
      ]
    },
    {
      "cell_type": "code",
      "source": [
        "# tuple to list\n",
        "list((1,2,3,45))"
      ],
      "metadata": {
        "colab": {
          "base_uri": "https://localhost:8080/"
        },
        "id": "LbHYHxNYK06i",
        "outputId": "bb9aa41d-1312-4cb3-e16e-85b15e941596"
      },
      "execution_count": 18,
      "outputs": [
        {
          "output_type": "execute_result",
          "data": {
            "text/plain": [
              "[1, 2, 3, 45]"
            ]
          },
          "metadata": {},
          "execution_count": 18
        }
      ]
    },
    {
      "cell_type": "code",
      "source": [
        " #list to tuple\n",
        " tuple([1,2,3,4])"
      ],
      "metadata": {
        "colab": {
          "base_uri": "https://localhost:8080/"
        },
        "id": "Ys7xC1VfK7Bz",
        "outputId": "f19b3952-8f31-4349-86e4-6bf250d169b4"
      },
      "execution_count": 19,
      "outputs": [
        {
          "output_type": "execute_result",
          "data": {
            "text/plain": [
              "(1, 2, 3, 4)"
            ]
          },
          "metadata": {},
          "execution_count": 19
        }
      ]
    },
    {
      "cell_type": "code",
      "source": [
        "# set to list\n",
        "list({1,2,3,4})"
      ],
      "metadata": {
        "colab": {
          "base_uri": "https://localhost:8080/"
        },
        "id": "JasHGgRSLGzG",
        "outputId": "ad652f40-2cd8-461f-a184-347e7f61cd4e"
      },
      "execution_count": 20,
      "outputs": [
        {
          "output_type": "execute_result",
          "data": {
            "text/plain": [
              "[1, 2, 3, 4]"
            ]
          },
          "metadata": {},
          "execution_count": 20
        }
      ]
    },
    {
      "cell_type": "code",
      "source": [
        "# set to tuple\n",
        "tuple({1,2,3})"
      ],
      "metadata": {
        "colab": {
          "base_uri": "https://localhost:8080/"
        },
        "id": "9IR0Y0GjLJ26",
        "outputId": "4784f5c6-d8d5-4830-907e-f8a73104cd13"
      },
      "execution_count": 21,
      "outputs": [
        {
          "output_type": "execute_result",
          "data": {
            "text/plain": [
              "(1, 2, 3)"
            ]
          },
          "metadata": {},
          "execution_count": 21
        }
      ]
    },
    {
      "cell_type": "code",
      "source": [
        "# list to set\n",
        "set([1,2,3])"
      ],
      "metadata": {
        "colab": {
          "base_uri": "https://localhost:8080/"
        },
        "id": "UcovWlobLMc7",
        "outputId": "016d106f-0b7d-4007-f064-3946bea50d54"
      },
      "execution_count": 22,
      "outputs": [
        {
          "output_type": "execute_result",
          "data": {
            "text/plain": [
              "{1, 2, 3}"
            ]
          },
          "metadata": {},
          "execution_count": 22
        }
      ]
    },
    {
      "cell_type": "code",
      "source": [
        "# tuple to set\n",
        "set((1,2,3))"
      ],
      "metadata": {
        "colab": {
          "base_uri": "https://localhost:8080/"
        },
        "id": "wiTDSCkgLQYR",
        "outputId": "152c9c7e-eb4c-4294-c141-5f7c6fd9890a"
      },
      "execution_count": 23,
      "outputs": [
        {
          "output_type": "execute_result",
          "data": {
            "text/plain": [
              "{1, 2, 3}"
            ]
          },
          "metadata": {},
          "execution_count": 23
        }
      ]
    },
    {
      "cell_type": "code",
      "source": [
        "# explore\n",
        "dict([1,2,3,4])"
      ],
      "metadata": {
        "colab": {
          "base_uri": "https://localhost:8080/",
          "height": 158
        },
        "id": "8yTnJgu8LT7U",
        "outputId": "e4a4c638-f809-4b5b-b60d-94cf43117aab"
      },
      "execution_count": 24,
      "outputs": [
        {
          "output_type": "error",
          "ename": "TypeError",
          "evalue": "cannot convert dictionary update sequence element #0 to a sequence",
          "traceback": [
            "\u001b[0;31m---------------------------------------------------------------------------\u001b[0m",
            "\u001b[0;31mTypeError\u001b[0m                                 Traceback (most recent call last)",
            "\u001b[0;32m<ipython-input-24-24f4cd8c2bc9>\u001b[0m in \u001b[0;36m<cell line: 0>\u001b[0;34m()\u001b[0m\n\u001b[1;32m      1\u001b[0m \u001b[0;31m# explore\u001b[0m\u001b[0;34m\u001b[0m\u001b[0;34m\u001b[0m\u001b[0m\n\u001b[0;32m----> 2\u001b[0;31m \u001b[0mdict\u001b[0m\u001b[0;34m(\u001b[0m\u001b[0;34m[\u001b[0m\u001b[0;36m1\u001b[0m\u001b[0;34m,\u001b[0m\u001b[0;36m2\u001b[0m\u001b[0;34m,\u001b[0m\u001b[0;36m3\u001b[0m\u001b[0;34m,\u001b[0m\u001b[0;36m4\u001b[0m\u001b[0;34m]\u001b[0m\u001b[0;34m)\u001b[0m\u001b[0;34m\u001b[0m\u001b[0;34m\u001b[0m\u001b[0m\n\u001b[0m",
            "\u001b[0;31mTypeError\u001b[0m: cannot convert dictionary update sequence element #0 to a sequence"
          ]
        }
      ]
    },
    {
      "cell_type": "code",
      "source": [
        "dict((1,2,3,4))"
      ],
      "metadata": {
        "colab": {
          "base_uri": "https://localhost:8080/",
          "height": 141
        },
        "id": "R9fYm0CNLWy3",
        "outputId": "514b0f2d-4a5a-48ff-d41f-4c38040df981"
      },
      "execution_count": 25,
      "outputs": [
        {
          "output_type": "error",
          "ename": "TypeError",
          "evalue": "cannot convert dictionary update sequence element #0 to a sequence",
          "traceback": [
            "\u001b[0;31m---------------------------------------------------------------------------\u001b[0m",
            "\u001b[0;31mTypeError\u001b[0m                                 Traceback (most recent call last)",
            "\u001b[0;32m<ipython-input-25-1ed984a7574e>\u001b[0m in \u001b[0;36m<cell line: 0>\u001b[0;34m()\u001b[0m\n\u001b[0;32m----> 1\u001b[0;31m \u001b[0mdict\u001b[0m\u001b[0;34m(\u001b[0m\u001b[0;34m(\u001b[0m\u001b[0;36m1\u001b[0m\u001b[0;34m,\u001b[0m\u001b[0;36m2\u001b[0m\u001b[0;34m,\u001b[0m\u001b[0;36m3\u001b[0m\u001b[0;34m,\u001b[0m\u001b[0;36m4\u001b[0m\u001b[0;34m)\u001b[0m\u001b[0;34m)\u001b[0m\u001b[0;34m\u001b[0m\u001b[0;34m\u001b[0m\u001b[0m\n\u001b[0m",
            "\u001b[0;31mTypeError\u001b[0m: cannot convert dictionary update sequence element #0 to a sequence"
          ]
        }
      ]
    },
    {
      "cell_type": "code",
      "source": [
        "dict({1,2,3,4})"
      ],
      "metadata": {
        "colab": {
          "base_uri": "https://localhost:8080/",
          "height": 141
        },
        "id": "B3VAI7RCLdIK",
        "outputId": "55b655bd-cf93-4996-cd80-7a34882a9a50"
      },
      "execution_count": 26,
      "outputs": [
        {
          "output_type": "error",
          "ename": "TypeError",
          "evalue": "cannot convert dictionary update sequence element #0 to a sequence",
          "traceback": [
            "\u001b[0;31m---------------------------------------------------------------------------\u001b[0m",
            "\u001b[0;31mTypeError\u001b[0m                                 Traceback (most recent call last)",
            "\u001b[0;32m<ipython-input-26-fe2e05518df9>\u001b[0m in \u001b[0;36m<cell line: 0>\u001b[0;34m()\u001b[0m\n\u001b[0;32m----> 1\u001b[0;31m \u001b[0mdict\u001b[0m\u001b[0;34m(\u001b[0m\u001b[0;34m{\u001b[0m\u001b[0;36m1\u001b[0m\u001b[0;34m,\u001b[0m\u001b[0;36m2\u001b[0m\u001b[0;34m,\u001b[0m\u001b[0;36m3\u001b[0m\u001b[0;34m,\u001b[0m\u001b[0;36m4\u001b[0m\u001b[0;34m}\u001b[0m\u001b[0;34m)\u001b[0m\u001b[0;34m\u001b[0m\u001b[0;34m\u001b[0m\u001b[0m\n\u001b[0m",
            "\u001b[0;31mTypeError\u001b[0m: cannot convert dictionary update sequence element #0 to a sequence"
          ]
        }
      ]
    },
    {
      "cell_type": "code",
      "source": [
        "A={'name':'A', 'age': 30}"
      ],
      "metadata": {
        "id": "kvdWiybpLfrl"
      },
      "execution_count": 27,
      "outputs": []
    },
    {
      "cell_type": "code",
      "source": [
        "list(A)"
      ],
      "metadata": {
        "colab": {
          "base_uri": "https://localhost:8080/"
        },
        "id": "M7KyXgQTLjX_",
        "outputId": "8e69d6ac-e0a2-4403-d3ef-3798b1e8edc6"
      },
      "execution_count": 28,
      "outputs": [
        {
          "output_type": "execute_result",
          "data": {
            "text/plain": [
              "['name', 'age']"
            ]
          },
          "metadata": {},
          "execution_count": 28
        }
      ]
    },
    {
      "cell_type": "code",
      "source": [
        "tuple(A)"
      ],
      "metadata": {
        "colab": {
          "base_uri": "https://localhost:8080/"
        },
        "id": "hn1XQ8_BLmVo",
        "outputId": "bfb9d7e0-4a29-4f73-cd73-25166ef91b36"
      },
      "execution_count": 29,
      "outputs": [
        {
          "output_type": "execute_result",
          "data": {
            "text/plain": [
              "('name', 'age')"
            ]
          },
          "metadata": {},
          "execution_count": 29
        }
      ]
    },
    {
      "cell_type": "code",
      "source": [
        "set(A)"
      ],
      "metadata": {
        "colab": {
          "base_uri": "https://localhost:8080/"
        },
        "id": "01HwKcMKLpQd",
        "outputId": "da4fa615-3cf6-4cda-fbe8-227175913fe2"
      },
      "execution_count": 30,
      "outputs": [
        {
          "output_type": "execute_result",
          "data": {
            "text/plain": [
              "{'age', 'name'}"
            ]
          },
          "metadata": {},
          "execution_count": 30
        }
      ]
    },
    {
      "cell_type": "markdown",
      "source": [
        "# Methods\n",
        "\n",
        "* Method is always associalted with some objects to do certain task\n",
        "\n",
        "# list\n",
        "\n",
        "1. Lists ordered\n",
        "2. List allow duplicates\n",
        "3. Lists are Mutable\n",
        "* List elements can be changed\n",
        "* New elements can be added\n",
        "* elements can be delete\n",
        "\n",
        "How we can change List elements using indexing and slicing?"
      ],
      "metadata": {
        "id": "JgX3QJl1Ls20"
      }
    },
    {
      "cell_type": "code",
      "source": [
        "A = [1,2,3,4,5,6,7,8]\n",
        "# Change 2 as two\n",
        "A[1] = 'two'\n",
        "print(A)"
      ],
      "metadata": {
        "colab": {
          "base_uri": "https://localhost:8080/"
        },
        "id": "53o5GdhuLq6D",
        "outputId": "0345dde3-0aba-4cf8-cf1e-710fc096a930"
      },
      "execution_count": 31,
      "outputs": [
        {
          "output_type": "stream",
          "name": "stdout",
          "text": [
            "[1, 'two', 3, 4, 5, 6, 7, 8]\n"
          ]
        }
      ]
    },
    {
      "cell_type": "code",
      "source": [
        "# change 4 as four\n",
        "A[3] = 'four'\n",
        "print(A)"
      ],
      "metadata": {
        "colab": {
          "base_uri": "https://localhost:8080/"
        },
        "id": "3cnMdaqcMsJi",
        "outputId": "dd141c3e-6ce3-44f8-a00d-212eb78b5386"
      },
      "execution_count": 32,
      "outputs": [
        {
          "output_type": "stream",
          "name": "stdout",
          "text": [
            "[1, 'two', 3, 'four', 5, 6, 7, 8]\n"
          ]
        }
      ]
    },
    {
      "cell_type": "code",
      "source": [
        "# change 5 as five, 6 as six and 7 as seven\n",
        "A[4:7] = \"five\",\"six\",\"seven\"\n",
        "print(A)"
      ],
      "metadata": {
        "colab": {
          "base_uri": "https://localhost:8080/"
        },
        "id": "sfWC-BZCM9A3",
        "outputId": "2bb1e0f2-6335-4e8d-fa4f-2bf62eb62e64"
      },
      "execution_count": 33,
      "outputs": [
        {
          "output_type": "stream",
          "name": "stdout",
          "text": [
            "[1, 'two', 3, 'four', 'five', 'six', 'seven', 8]\n"
          ]
        }
      ]
    },
    {
      "cell_type": "code",
      "source": [
        "A =[100,200,600,700,800]\n",
        "# change 200 as  200,300,400,500\n",
        "A[1]=[200,300,400,500]\n",
        "print(A)"
      ],
      "metadata": {
        "colab": {
          "base_uri": "https://localhost:8080/"
        },
        "id": "XMOutAp5Na3V",
        "outputId": "3525992f-29cf-4127-e51e-94c4ccf0f55b"
      },
      "execution_count": 34,
      "outputs": [
        {
          "output_type": "stream",
          "name": "stdout",
          "text": [
            "[100, [200, 300, 400, 500], 600, 700, 800]\n"
          ]
        }
      ]
    },
    {
      "cell_type": "code",
      "source": [
        "#[100,200,300,400,500,600, 700, 800\n",
        "A =[100,200,600,700,800]\n",
        "A[1:2] = [200,300,400,500]\n",
        "print(A)"
      ],
      "metadata": {
        "colab": {
          "base_uri": "https://localhost:8080/"
        },
        "id": "PoRC4rZxNnkw",
        "outputId": "5c2f4398-dcfe-47cc-db47-1b3a3cb2ed32"
      },
      "execution_count": 35,
      "outputs": [
        {
          "output_type": "stream",
          "name": "stdout",
          "text": [
            "[100, 200, 300, 400, 500, 600, 700, 800]\n"
          ]
        }
      ]
    },
    {
      "cell_type": "code",
      "source": [
        "# [200]=[200,300,400,500]"
      ],
      "metadata": {
        "id": "7Q93ZCiWOAQT"
      },
      "execution_count": 36,
      "outputs": []
    },
    {
      "cell_type": "markdown",
      "source": [
        "How to add new elements into list\n",
        "\n",
        "* append\n",
        "* insert\n",
        "* extend\n",
        "\n",
        "# append\n",
        "\n",
        "Append is a method associated with list used to add an element into list at the end."
      ],
      "metadata": {
        "id": "JkKhzKEnOabY"
      }
    },
    {
      "cell_type": "code",
      "source": [
        "colours = ['blue', 'green','red','yellow','orange']\n",
        "# add pink at the end of the list\n",
        "colours.append('pink')\n",
        "print(colours)"
      ],
      "metadata": {
        "colab": {
          "base_uri": "https://localhost:8080/"
        },
        "id": "YUGhbAEiOZcN",
        "outputId": "3c3e557c-3282-4125-e9ab-ffcf4c2592e2"
      },
      "execution_count": 38,
      "outputs": [
        {
          "output_type": "stream",
          "name": "stdout",
          "text": [
            "['blue', 'green', 'red', 'yellow', 'orange', 'pink']\n"
          ]
        }
      ]
    },
    {
      "cell_type": "code",
      "source": [
        "# add black at the end of list\n",
        "colours.append('black')\n",
        "print(colours)"
      ],
      "metadata": {
        "colab": {
          "base_uri": "https://localhost:8080/"
        },
        "id": "J8tZn97APMub",
        "outputId": "98129d3c-4c9e-40ad-bc19-8cf59213123a"
      },
      "execution_count": 39,
      "outputs": [
        {
          "output_type": "stream",
          "name": "stdout",
          "text": [
            "['blue', 'green', 'red', 'yellow', 'orange', 'pink', 'black']\n"
          ]
        }
      ]
    },
    {
      "cell_type": "code",
      "source": [
        "A =[100,200,300,400]\n",
        "# add 500 at the end\n",
        "A.append(500)\n",
        "print(A)"
      ],
      "metadata": {
        "colab": {
          "base_uri": "https://localhost:8080/"
        },
        "id": "k9n1keY4Ppim",
        "outputId": "39febd4b-de62-413b-e8ff-8596dd3c1d01"
      },
      "execution_count": 40,
      "outputs": [
        {
          "output_type": "stream",
          "name": "stdout",
          "text": [
            "[100, 200, 300, 400, 500]\n"
          ]
        }
      ]
    },
    {
      "cell_type": "markdown",
      "source": [
        "# Insert\n",
        "\n",
        "* it is a method used to insert new element at specific index position.\n"
      ],
      "metadata": {
        "id": "OIb_aHZLPxym"
      }
    },
    {
      "cell_type": "code",
      "source": [
        "# variable.insert(index_num,value)\n",
        "B = [100,200,400,500,600,700]\n",
        "# insert 300 after 200\n",
        "B.insert(2 , 300)\n",
        "print(B)"
      ],
      "metadata": {
        "colab": {
          "base_uri": "https://localhost:8080/"
        },
        "id": "lBq4P3bSPuvl",
        "outputId": "fc0f7c76-e5f4-4182-b23f-627684470409"
      },
      "execution_count": 41,
      "outputs": [
        {
          "output_type": "stream",
          "name": "stdout",
          "text": [
            "[100, 200, 300, 400, 500, 600, 700]\n"
          ]
        }
      ]
    },
    {
      "cell_type": "code",
      "source": [
        "B"
      ],
      "metadata": {
        "colab": {
          "base_uri": "https://localhost:8080/"
        },
        "id": "ACWBaLYFQdxQ",
        "outputId": "3b1da194-f233-495d-f792-978efc46f9e4"
      },
      "execution_count": 42,
      "outputs": [
        {
          "output_type": "execute_result",
          "data": {
            "text/plain": [
              "[100, 200, 300, 400, 500, 600, 700]"
            ]
          },
          "metadata": {},
          "execution_count": 42
        }
      ]
    },
    {
      "cell_type": "code",
      "source": [
        "# insert hello after 400\n",
        "B.insert(4,\"hello\")\n",
        "print(B)"
      ],
      "metadata": {
        "colab": {
          "base_uri": "https://localhost:8080/"
        },
        "id": "BuPu6aIlQj_U",
        "outputId": "a9b35257-b9bd-41bc-f232-19e64fd7f12b"
      },
      "execution_count": 43,
      "outputs": [
        {
          "output_type": "stream",
          "name": "stdout",
          "text": [
            "[100, 200, 300, 400, 'hello', 500, 600, 700]\n"
          ]
        }
      ]
    },
    {
      "cell_type": "code",
      "source": [
        "# insert True after 600\n",
        "# B.insert(7,True)\n",
        "B.insert(-3,True)\n",
        "print(B)"
      ],
      "metadata": {
        "colab": {
          "base_uri": "https://localhost:8080/"
        },
        "id": "d59hBszXQzIl",
        "outputId": "75d03073-5abd-434a-e8ca-199a79797287"
      },
      "execution_count": 47,
      "outputs": [
        {
          "output_type": "stream",
          "name": "stdout",
          "text": [
            "[True, 100, 200, 300, 400, 'hello', 500, 600, True, True, True, 700]\n"
          ]
        }
      ]
    },
    {
      "cell_type": "markdown",
      "source": [
        "# Extend\n",
        "* it is a method used add multiple elements of list into another list at the end.(combining two list)"
      ],
      "metadata": {
        "id": "iHuA3BGcRSoF"
      }
    },
    {
      "cell_type": "code",
      "source": [
        "A = [1,2,3,4]\n",
        "B = [5,6,7,8]\n",
        "# add all B elements into A at the end\n",
        "A.extend(B)\n",
        "print(A)"
      ],
      "metadata": {
        "colab": {
          "base_uri": "https://localhost:8080/"
        },
        "id": "PcKmXXqPQ7Z8",
        "outputId": "317c508f-7d9c-4e96-a242-f0234ba156eb"
      },
      "execution_count": 48,
      "outputs": [
        {
          "output_type": "stream",
          "name": "stdout",
          "text": [
            "[1, 2, 3, 4, 5, 6, 7, 8]\n"
          ]
        }
      ]
    },
    {
      "cell_type": "code",
      "source": [
        "A"
      ],
      "metadata": {
        "colab": {
          "base_uri": "https://localhost:8080/"
        },
        "id": "hnwMSdfLSDY4",
        "outputId": "c6c09127-9a6d-4690-8678-be7297011945"
      },
      "execution_count": 49,
      "outputs": [
        {
          "output_type": "execute_result",
          "data": {
            "text/plain": [
              "[1, 2, 3, 4, 5, 6, 7, 8]"
            ]
          },
          "metadata": {},
          "execution_count": 49
        }
      ]
    },
    {
      "cell_type": "code",
      "source": [
        "B"
      ],
      "metadata": {
        "colab": {
          "base_uri": "https://localhost:8080/"
        },
        "id": "FiIFwzefSGI-",
        "outputId": "b327eb5b-015d-4396-b91d-f9d365fffbb5"
      },
      "execution_count": 50,
      "outputs": [
        {
          "output_type": "execute_result",
          "data": {
            "text/plain": [
              "[5, 6, 7, 8]"
            ]
          },
          "metadata": {},
          "execution_count": 50
        }
      ]
    },
    {
      "cell_type": "code",
      "source": [
        "B.extend(A)"
      ],
      "metadata": {
        "id": "WS3snqw-SG7Q"
      },
      "execution_count": 51,
      "outputs": []
    },
    {
      "cell_type": "code",
      "source": [
        "print(B)"
      ],
      "metadata": {
        "colab": {
          "base_uri": "https://localhost:8080/"
        },
        "id": "0kZ47drTSOD3",
        "outputId": "cfaf8d48-6d11-4b2d-a6bb-0187fc8ce68d"
      },
      "execution_count": 52,
      "outputs": [
        {
          "output_type": "stream",
          "name": "stdout",
          "text": [
            "[5, 6, 7, 8, 1, 2, 3, 4, 5, 6, 7, 8]\n"
          ]
        }
      ]
    },
    {
      "cell_type": "code",
      "source": [
        "A = [1,2,3,4]\n",
        "B = [5,6,7,8]\n",
        "A+B # new list created bby using both list elements"
      ],
      "metadata": {
        "colab": {
          "base_uri": "https://localhost:8080/"
        },
        "id": "prxwJGzgSQx-",
        "outputId": "67eb48a7-1c52-4a90-b52c-d978396657af"
      },
      "execution_count": 53,
      "outputs": [
        {
          "output_type": "execute_result",
          "data": {
            "text/plain": [
              "[1, 2, 3, 4, 5, 6, 7, 8]"
            ]
          },
          "metadata": {},
          "execution_count": 53
        }
      ]
    },
    {
      "cell_type": "code",
      "source": [
        "A = [1,2,3,4,5]\n",
        "# add 100,200,300,400 after 5\n",
        "A.extend([100,200,300,400])\n",
        "print(A)"
      ],
      "metadata": {
        "colab": {
          "base_uri": "https://localhost:8080/"
        },
        "id": "-BfYybOnSkWQ",
        "outputId": "87d65a9b-1e10-4b0b-c6e9-9959025fff82"
      },
      "execution_count": 55,
      "outputs": [
        {
          "output_type": "stream",
          "name": "stdout",
          "text": [
            "[1, 2, 3, 4, 5, 100, 200, 300, 400]\n"
          ]
        }
      ]
    },
    {
      "cell_type": "markdown",
      "source": [
        "# Delete list elements\n",
        " * remove\n",
        " * pop\n",
        " * del\n",
        " * clear\n",
        "\n",
        " # remove\n",
        "\n",
        " remove is a method which is used to delete specific element by its name."
      ],
      "metadata": {
        "id": "qZPj2IlqS-Qb"
      }
    },
    {
      "cell_type": "code",
      "source": [
        "skills = [\"python\",\"sql\",\"R\",\"ML\",\"Java\",\"html\"]\n",
        "# remove Java\n",
        "skills.remove('Java')\n",
        "print(skills)"
      ],
      "metadata": {
        "colab": {
          "base_uri": "https://localhost:8080/"
        },
        "id": "VcE5oi0lS44b",
        "outputId": "147c32c8-d194-43c7-92b2-4245bfbbc4aa"
      },
      "execution_count": 56,
      "outputs": [
        {
          "output_type": "stream",
          "name": "stdout",
          "text": [
            "['python', 'sql', 'R', 'ML', 'html']\n"
          ]
        }
      ]
    },
    {
      "cell_type": "code",
      "source": [
        "A = [100,200,300,400,50000,600]\n",
        "# remove 50000\n",
        "A.remove(50000)"
      ],
      "metadata": {
        "id": "RsBFcPZzToIb"
      },
      "execution_count": 57,
      "outputs": []
    },
    {
      "cell_type": "code",
      "source": [
        "print(A)"
      ],
      "metadata": {
        "colab": {
          "base_uri": "https://localhost:8080/"
        },
        "id": "A9NzB2l0UAPJ",
        "outputId": "dbd4a14c-a5e5-4ad5-9e17-407fc56ad9f8"
      },
      "execution_count": 58,
      "outputs": [
        {
          "output_type": "stream",
          "name": "stdout",
          "text": [
            "[100, 200, 300, 400, 600]\n"
          ]
        }
      ]
    },
    {
      "cell_type": "markdown",
      "source": [
        "#Pop\n",
        "\n",
        "* it remove last element by default\n"
      ],
      "metadata": {
        "id": "XAAHOsTGUFv9"
      }
    },
    {
      "cell_type": "code",
      "source": [
        "skills =[\"python\",\"sql\",\"R\",\"ML\",\"Java\",\"html\"]\n",
        "skills.pop()\n",
        "print(skills)"
      ],
      "metadata": {
        "colab": {
          "base_uri": "https://localhost:8080/"
        },
        "id": "pLxlOhg8UCFl",
        "outputId": "a7d51b1b-5fc3-4359-f6db-43f91f6d8cfa"
      },
      "execution_count": 59,
      "outputs": [
        {
          "output_type": "stream",
          "name": "stdout",
          "text": [
            "['python', 'sql', 'R', 'ML', 'Java']\n"
          ]
        }
      ]
    },
    {
      "cell_type": "markdown",
      "source": [
        "# pop\n",
        "\n",
        "Used to remove element based on index"
      ],
      "metadata": {
        "id": "0FHLGK3WUqUm"
      }
    },
    {
      "cell_type": "code",
      "source": [
        "skills = [\"python\",\"sql\",\"R\",\"ML\",\"Java\",\"html\",\"java\"]\n",
        "# remove ML\n",
        "# skillz.pop(index_no)\n",
        "skills.pop(3)\n",
        "print(skills)"
      ],
      "metadata": {
        "colab": {
          "base_uri": "https://localhost:8080/"
        },
        "id": "wlbRjttZUeHJ",
        "outputId": "7e03c59e-f231-4075-f06a-f6357c2c8342"
      },
      "execution_count": 60,
      "outputs": [
        {
          "output_type": "stream",
          "name": "stdout",
          "text": [
            "['python', 'sql', 'R', 'Java', 'html', 'java']\n"
          ]
        }
      ]
    },
    {
      "cell_type": "code",
      "source": [
        "skills = [\"python\",\"sql\",\"R\",\"ML\",\"Java\",\"html\",\"java\"]\n",
        "# remove first Java\n",
        "skills.pop(-3)\n",
        "print(skills)"
      ],
      "metadata": {
        "colab": {
          "base_uri": "https://localhost:8080/"
        },
        "id": "PkRH_HkUVQ6o",
        "outputId": "9a28df6e-10b3-41ec-dcad-b60ef179cd21"
      },
      "execution_count": 61,
      "outputs": [
        {
          "output_type": "stream",
          "name": "stdout",
          "text": [
            "['python', 'sql', 'R', 'ML', 'html', 'java']\n"
          ]
        }
      ]
    },
    {
      "cell_type": "markdown",
      "source": [
        "# del\n",
        "\n",
        "Used to delete elements using indexing and slicing"
      ],
      "metadata": {
        "id": "aQtiz8cdWYgw"
      }
    },
    {
      "cell_type": "code",
      "source": [
        "skills =[\"python\",\"sql\",\"R\",\"ML\",\"Java\",\"html\",\"Java\"]\n",
        "#remove first Java\n",
        "del skills[4]\n",
        "print(skills)"
      ],
      "metadata": {
        "colab": {
          "base_uri": "https://localhost:8080/"
        },
        "id": "L9VjEkFzV_cH",
        "outputId": "582709ae-0084-415b-af72-ca0292cb5c1e"
      },
      "execution_count": 62,
      "outputs": [
        {
          "output_type": "stream",
          "name": "stdout",
          "text": [
            "['python', 'sql', 'R', 'ML', 'html', 'Java']\n"
          ]
        }
      ]
    },
    {
      "cell_type": "code",
      "source": [
        "skills =[\"python\",\"sql\",\"R\",\"ML\",\"Java\",\"html\",\"java\"]\n",
        "# remove sql,R,ML\n",
        "del skills[1:4]\n",
        "print(skills)"
      ],
      "metadata": {
        "colab": {
          "base_uri": "https://localhost:8080/"
        },
        "id": "-DAtf4P1W2bb",
        "outputId": "66bd2e9d-fdd9-4f5a-fad1-274f4999550e"
      },
      "execution_count": 63,
      "outputs": [
        {
          "output_type": "stream",
          "name": "stdout",
          "text": [
            "['python', 'Java', 'html', 'java']\n"
          ]
        }
      ]
    },
    {
      "cell_type": "code",
      "source": [
        "# remove sql,ml,html\n",
        "skills = [\"python\",\"sql\",\"R\",\"ML\",\"java\",\"html\",\"java\"]\n",
        "del skills[1:6:2]\n",
        "print(skills)"
      ],
      "metadata": {
        "colab": {
          "base_uri": "https://localhost:8080/"
        },
        "id": "rS7XENu_XZ1a",
        "outputId": "17d125be-f9be-47a3-9b14-a2f0ddc5a056"
      },
      "execution_count": 64,
      "outputs": [
        {
          "output_type": "stream",
          "name": "stdout",
          "text": [
            "['python', 'R', 'java', 'java']\n"
          ]
        }
      ]
    },
    {
      "cell_type": "code",
      "source": [
        "A = [1,2,3,4]\n",
        "# delete entire list\n",
        "del A"
      ],
      "metadata": {
        "id": "xj-ACOrCX3Od"
      },
      "execution_count": 65,
      "outputs": []
    },
    {
      "cell_type": "code",
      "source": [
        "print(A)"
      ],
      "metadata": {
        "colab": {
          "base_uri": "https://localhost:8080/",
          "height": 141
        },
        "id": "ZoNpBsiyYM_O",
        "outputId": "a5a04c08-6fc7-43d2-8ea5-67026849b541"
      },
      "execution_count": 66,
      "outputs": [
        {
          "output_type": "error",
          "ename": "NameError",
          "evalue": "name 'A' is not defined",
          "traceback": [
            "\u001b[0;31m---------------------------------------------------------------------------\u001b[0m",
            "\u001b[0;31mNameError\u001b[0m                                 Traceback (most recent call last)",
            "\u001b[0;32m<ipython-input-66-939330b76721>\u001b[0m in \u001b[0;36m<cell line: 0>\u001b[0;34m()\u001b[0m\n\u001b[0;32m----> 1\u001b[0;31m \u001b[0mprint\u001b[0m\u001b[0;34m(\u001b[0m\u001b[0mA\u001b[0m\u001b[0;34m)\u001b[0m\u001b[0;34m\u001b[0m\u001b[0;34m\u001b[0m\u001b[0m\n\u001b[0m",
            "\u001b[0;31mNameError\u001b[0m: name 'A' is not defined"
          ]
        }
      ]
    },
    {
      "cell_type": "markdown",
      "source": [
        "# Clear\n",
        "Used to remove all the elements and end results is empty list"
      ],
      "metadata": {
        "id": "QtYthgLqYQ2P"
      }
    },
    {
      "cell_type": "code",
      "source": [
        "A = [1,2,3,4,5,6]\n",
        "A.clear()\n",
        "print(A)"
      ],
      "metadata": {
        "colab": {
          "base_uri": "https://localhost:8080/"
        },
        "id": "inMKKocLYPea",
        "outputId": "f3446367-f496-4e43-eb6d-238d8a09387b"
      },
      "execution_count": 67,
      "outputs": [
        {
          "output_type": "stream",
          "name": "stdout",
          "text": [
            "[]\n"
          ]
        }
      ]
    },
    {
      "cell_type": "markdown",
      "source": [
        "# count\n",
        "\n",
        "Use to count the occurance of elements"
      ],
      "metadata": {
        "id": "qiLZkfwhYnA7"
      }
    },
    {
      "cell_type": "code",
      "source": [
        "A = [\"sql\",\"R\",\"sql\",\"sql\",\"python\",\"R\"]\n",
        "# count of sql\n",
        "A.count(\"sql\")"
      ],
      "metadata": {
        "colab": {
          "base_uri": "https://localhost:8080/"
        },
        "id": "K0s6kITJYhci",
        "outputId": "8efd929f-6891-43c9-a75b-f888ce2e2f3a"
      },
      "execution_count": 69,
      "outputs": [
        {
          "output_type": "execute_result",
          "data": {
            "text/plain": [
              "3"
            ]
          },
          "metadata": {},
          "execution_count": 69
        }
      ]
    },
    {
      "cell_type": "code",
      "source": [
        "len(A)"
      ],
      "metadata": {
        "colab": {
          "base_uri": "https://localhost:8080/"
        },
        "id": "8YHXYMrQZCHz",
        "outputId": "e0e461f7-0285-4b2b-a2bd-e6df829ca461"
      },
      "execution_count": 70,
      "outputs": [
        {
          "output_type": "execute_result",
          "data": {
            "text/plain": [
              "6"
            ]
          },
          "metadata": {},
          "execution_count": 70
        }
      ]
    },
    {
      "cell_type": "code",
      "source": [
        "A=[10,20,30,40,50,60,50]\n",
        "#count of 50\n",
        "A.count(50)"
      ],
      "metadata": {
        "colab": {
          "base_uri": "https://localhost:8080/"
        },
        "id": "BTvjX_sHZLmE",
        "outputId": "c9cdac5f-6ebe-4a84-9f04-8444dd512b4a"
      },
      "execution_count": 71,
      "outputs": [
        {
          "output_type": "execute_result",
          "data": {
            "text/plain": [
              "2"
            ]
          },
          "metadata": {},
          "execution_count": 71
        }
      ]
    },
    {
      "cell_type": "markdown",
      "source": [
        "# index\n",
        "\n",
        "index is method used to find index of element"
      ],
      "metadata": {
        "id": "RONfUgwxZb6P"
      }
    },
    {
      "cell_type": "code",
      "source": [
        "A = [100,200,\"sql\",500,\"hello\",600]\n",
        "# index of hello\n",
        "A.index('hello')"
      ],
      "metadata": {
        "colab": {
          "base_uri": "https://localhost:8080/"
        },
        "id": "BdRjZLfcZWx8",
        "outputId": "5bea8493-c409-4fda-a649-a23446dd45d5"
      },
      "execution_count": 72,
      "outputs": [
        {
          "output_type": "execute_result",
          "data": {
            "text/plain": [
              "4"
            ]
          },
          "metadata": {},
          "execution_count": 72
        }
      ]
    },
    {
      "cell_type": "code",
      "source": [
        "A.index(500)"
      ],
      "metadata": {
        "colab": {
          "base_uri": "https://localhost:8080/"
        },
        "id": "KOxqZDWSZyGZ",
        "outputId": "4816b3f6-edc8-4eaa-bb3d-40c7f850b33e"
      },
      "execution_count": 73,
      "outputs": [
        {
          "output_type": "execute_result",
          "data": {
            "text/plain": [
              "3"
            ]
          },
          "metadata": {},
          "execution_count": 73
        }
      ]
    },
    {
      "cell_type": "markdown",
      "source": [
        "# sort\n",
        "\n",
        "sort is a method used to arrange elements in increasing or decreasing order.\n"
      ],
      "metadata": {
        "id": "wZJIFsopZ-VA"
      }
    },
    {
      "cell_type": "code",
      "source": [
        "A = [10,2,300,40,5000,60,400000]\n",
        "# sort in increasing\n",
        "A.sort()\n",
        "print(A)"
      ],
      "metadata": {
        "colab": {
          "base_uri": "https://localhost:8080/"
        },
        "id": "Jy38F-DJZ7zC",
        "outputId": "2b89ed75-ec9c-4dfc-a82c-9382aafcdf40"
      },
      "execution_count": 74,
      "outputs": [
        {
          "output_type": "stream",
          "name": "stdout",
          "text": [
            "[2, 10, 40, 60, 300, 5000, 400000]\n"
          ]
        }
      ]
    },
    {
      "cell_type": "code",
      "source": [
        "A =[10,2,300,40,5000,60,4000000]\n",
        "# sort in decresing\n",
        "A.sort(reverse=True)\n",
        "print(A)"
      ],
      "metadata": {
        "colab": {
          "base_uri": "https://localhost:8080/"
        },
        "id": "yB05wibdaXZp",
        "outputId": "4b301aa5-4fb6-4bcd-ac0c-77d0aa7f5a3b"
      },
      "execution_count": 75,
      "outputs": [
        {
          "output_type": "stream",
          "name": "stdout",
          "text": [
            "[4000000, 5000, 300, 60, 40, 10, 2]\n"
          ]
        }
      ]
    },
    {
      "cell_type": "markdown",
      "source": [
        "# Reverse\n",
        "\n",
        "it reverse the elements of list"
      ],
      "metadata": {
        "id": "j36m4hpMad04"
      }
    },
    {
      "cell_type": "code",
      "source": [
        "A = [10,2,300,40,5000,60,400000]\n",
        "A[::-1]"
      ],
      "metadata": {
        "colab": {
          "base_uri": "https://localhost:8080/"
        },
        "id": "GIFo4FD8acb4",
        "outputId": "2924f462-a1a9-4c3c-b114-fe6c4d63307b"
      },
      "execution_count": 76,
      "outputs": [
        {
          "output_type": "execute_result",
          "data": {
            "text/plain": [
              "[400000, 60, 5000, 40, 300, 2, 10]"
            ]
          },
          "metadata": {},
          "execution_count": 76
        }
      ]
    },
    {
      "cell_type": "code",
      "source": [
        "A =[10,2,300,40,5000,60,4000000]\n",
        "A.reverse()\n",
        "print(A)"
      ],
      "metadata": {
        "colab": {
          "base_uri": "https://localhost:8080/"
        },
        "id": "wfqXvEyvatij",
        "outputId": "2c36c88a-41c5-4ffa-e1b1-65e27856eef2"
      },
      "execution_count": 77,
      "outputs": [
        {
          "output_type": "stream",
          "name": "stdout",
          "text": [
            "[4000000, 60, 5000, 40, 300, 2, 10]\n"
          ]
        }
      ]
    },
    {
      "cell_type": "markdown",
      "source": [
        "# Nested list"
      ],
      "metadata": {
        "id": "EyHQtAqUa0aj"
      }
    },
    {
      "cell_type": "code",
      "source": [
        "# List within list\n",
        "A = [1,2,[3.4,5.6],[True,False],\"sql\"]\n",
        "print(A)"
      ],
      "metadata": {
        "colab": {
          "base_uri": "https://localhost:8080/"
        },
        "id": "HG_ctV7day3a",
        "outputId": "67fc9094-7530-46d9-b2f1-46780efba52d"
      },
      "execution_count": 78,
      "outputs": [
        {
          "output_type": "stream",
          "name": "stdout",
          "text": [
            "[1, 2, [3.4, 5.6], [True, False], 'sql']\n"
          ]
        }
      ]
    },
    {
      "cell_type": "code",
      "source": [
        "# fetch sql\n",
        "A[-1]"
      ],
      "metadata": {
        "colab": {
          "base_uri": "https://localhost:8080/",
          "height": 36
        },
        "id": "2lv2qJawbFox",
        "outputId": "917f7295-9d79-4382-9080-dfa83a22d7f2"
      },
      "execution_count": 79,
      "outputs": [
        {
          "output_type": "execute_result",
          "data": {
            "text/plain": [
              "'sql'"
            ],
            "application/vnd.google.colaboratory.intrinsic+json": {
              "type": "string"
            }
          },
          "metadata": {},
          "execution_count": 79
        }
      ]
    },
    {
      "cell_type": "code",
      "source": [
        "# fetch true false\n",
        "A[3]"
      ],
      "metadata": {
        "colab": {
          "base_uri": "https://localhost:8080/"
        },
        "id": "JoMu6PA3bdLh",
        "outputId": "31c97be9-5613-4040-9aa5-3a90d9dfc490"
      },
      "execution_count": 80,
      "outputs": [
        {
          "output_type": "execute_result",
          "data": {
            "text/plain": [
              "[True, False]"
            ]
          },
          "metadata": {},
          "execution_count": 80
        }
      ]
    },
    {
      "cell_type": "code",
      "source": [
        "# fetch true\n",
        "A[3][0]"
      ],
      "metadata": {
        "colab": {
          "base_uri": "https://localhost:8080/"
        },
        "id": "8fHQKKYibn-H",
        "outputId": "3086484d-7a8e-4e4e-a912-f8335bab62a4"
      },
      "execution_count": 82,
      "outputs": [
        {
          "output_type": "execute_result",
          "data": {
            "text/plain": [
              "True"
            ]
          },
          "metadata": {},
          "execution_count": 82
        }
      ]
    },
    {
      "cell_type": "markdown",
      "source": [
        "# Tuple\n",
        "* Ordered\n",
        "* Immutable\n",
        "* Allows duplicates\n",
        "\n",
        "* Note:\n",
        "\n",
        "changing , adding , deleting is not possible in Tuple bcoz tuples are Immutable."
      ],
      "metadata": {
        "id": "9rOEgcVWb6cc"
      }
    },
    {
      "cell_type": "code",
      "source": [
        "# index\n",
        "A = (100,200,300,400)\n",
        "# find index of 300\n",
        "A.index(300)"
      ],
      "metadata": {
        "colab": {
          "base_uri": "https://localhost:8080/"
        },
        "id": "gythUMA5by0v",
        "outputId": "64d34a46-4576-4d46-c1f0-7df457f93ff9"
      },
      "execution_count": 83,
      "outputs": [
        {
          "output_type": "execute_result",
          "data": {
            "text/plain": [
              "2"
            ]
          },
          "metadata": {},
          "execution_count": 83
        }
      ]
    },
    {
      "cell_type": "code",
      "source": [
        "#count\n",
        "A = (100,200,200,200,300,400)\n",
        "# count of 200\n",
        "A.count(200)"
      ],
      "metadata": {
        "colab": {
          "base_uri": "https://localhost:8080/"
        },
        "id": "iwmpRa8NcXWR",
        "outputId": "d70d1f35-9cb6-4ccb-e38b-3cc2b39459af"
      },
      "execution_count": 84,
      "outputs": [
        {
          "output_type": "execute_result",
          "data": {
            "text/plain": [
              "3"
            ]
          },
          "metadata": {},
          "execution_count": 84
        }
      ]
    },
    {
      "cell_type": "code",
      "source": [
        "# nested tuple:tuple inside tuple\n",
        "A =((1,2,3),(4,5,6))\n",
        "A"
      ],
      "metadata": {
        "colab": {
          "base_uri": "https://localhost:8080/"
        },
        "id": "u0eOQidOcp4W",
        "outputId": "a9e5c0b5-2a19-4d89-e496-b80a3058558b"
      },
      "execution_count": 85,
      "outputs": [
        {
          "output_type": "execute_result",
          "data": {
            "text/plain": [
              "((1, 2, 3), (4, 5, 6))"
            ]
          },
          "metadata": {},
          "execution_count": 85
        }
      ]
    },
    {
      "cell_type": "markdown",
      "source": [
        "# Sets\n",
        "\n",
        "* Unordered\n",
        "* No duplicates\n",
        "* sets are Mutable and set elements are immutable.\n"
      ],
      "metadata": {
        "id": "02DQzGI0c7JB"
      }
    },
    {
      "cell_type": "code",
      "source": [
        "# set elements cannot be changed since set elements are immutable\n",
        "A= {1,2,3,4}\n",
        "A"
      ],
      "metadata": {
        "colab": {
          "base_uri": "https://localhost:8080/"
        },
        "id": "2d0sAqwxc3xX",
        "outputId": "a38d5946-6e29-48a5-87c3-9c731ca6d0ab"
      },
      "execution_count": 86,
      "outputs": [
        {
          "output_type": "execute_result",
          "data": {
            "text/plain": [
              "{1, 2, 3, 4}"
            ]
          },
          "metadata": {},
          "execution_count": 86
        }
      ]
    },
    {
      "cell_type": "markdown",
      "source": [
        "# Sets are Mutable\n",
        "\n",
        "add random element and remove random element\n"
      ],
      "metadata": {
        "id": "u7lza7eQd4in"
      }
    },
    {
      "cell_type": "markdown",
      "source": [
        "# add\n",
        "\n",
        "We can add element into set at random place\n"
      ],
      "metadata": {
        "id": "l_N1gG60eDYF"
      }
    },
    {
      "cell_type": "code",
      "source": [
        "A = {100,200,300,400,500}\n",
        "# add hello into A\n",
        "A.add(\"hello\")\n",
        "print(A)"
      ],
      "metadata": {
        "colab": {
          "base_uri": "https://localhost:8080/"
        },
        "id": "hfpEl5BadWqb",
        "outputId": "ffe0e2c2-d298-4d32-f664-7ae3cbc399ff"
      },
      "execution_count": 87,
      "outputs": [
        {
          "output_type": "stream",
          "name": "stdout",
          "text": [
            "{400, 100, 500, 'hello', 200, 300}\n"
          ]
        }
      ]
    },
    {
      "cell_type": "code",
      "source": [
        "A = {100,200,300,400,500}\n",
        "# add 100000\n",
        "A.add(100000)\n",
        "print(A)"
      ],
      "metadata": {
        "colab": {
          "base_uri": "https://localhost:8080/"
        },
        "id": "8hG8hPs1ecrd",
        "outputId": "5b9a7716-b619-42a6-cb70-f6275354012c"
      },
      "execution_count": 89,
      "outputs": [
        {
          "output_type": "stream",
          "name": "stdout",
          "text": [
            "{400, 100000, 100, 500, 200, 300}\n"
          ]
        }
      ]
    },
    {
      "cell_type": "markdown",
      "source": [
        "# delete set element\n",
        "* remove\n",
        "* pop\n",
        "* discard\n",
        "* clear"
      ],
      "metadata": {
        "id": "dLDuymWRe6Kz"
      }
    },
    {
      "cell_type": "markdown",
      "source": [
        "# remove\n",
        "\n",
        "Used to remove specific element by its name"
      ],
      "metadata": {
        "id": "qbYD9S0jfHJ_"
      }
    },
    {
      "cell_type": "code",
      "source": [
        "A = {10,20,'hello',40,50,'sql'}\n",
        "# remove hello\n",
        "A.remove('hello')\n",
        "print(A)"
      ],
      "metadata": {
        "colab": {
          "base_uri": "https://localhost:8080/"
        },
        "id": "Kmb6UPO4e0xC",
        "outputId": "9eaeae94-cb60-44a8-a364-58959bd5baba"
      },
      "execution_count": 90,
      "outputs": [
        {
          "output_type": "stream",
          "name": "stdout",
          "text": [
            "{50, 10, 20, 40, 'sql'}\n"
          ]
        }
      ]
    },
    {
      "cell_type": "markdown",
      "source": [
        "# discard\n",
        "\n",
        "Used to remove specific\n"
      ],
      "metadata": {
        "id": "GURLGR6kfiAd"
      }
    },
    {
      "cell_type": "code",
      "source": [
        "A = {10,20,'hello',40,50,'sql'}\n",
        "# remove hello\n",
        "A.discard(\"hello\")\n",
        "print(A)"
      ],
      "metadata": {
        "colab": {
          "base_uri": "https://localhost:8080/"
        },
        "id": "tUh0Y9zFfp3X",
        "outputId": "035a67a4-878e-4939-f47a-c65c60746174"
      },
      "execution_count": 95,
      "outputs": [
        {
          "output_type": "stream",
          "name": "stdout",
          "text": [
            "{50, 10, 20, 40, 'sql'}\n"
          ]
        }
      ]
    },
    {
      "cell_type": "code",
      "source": [
        "A = {10,20,'hello',40,50,'sql'}\n",
        "# remove 50\n",
        "A.discard(50)\n",
        "print(A)"
      ],
      "metadata": {
        "colab": {
          "base_uri": "https://localhost:8080/"
        },
        "id": "kwIOD18ufbwW",
        "outputId": "08c60609-13e9-4678-8888-c5c333999862"
      },
      "execution_count": 96,
      "outputs": [
        {
          "output_type": "stream",
          "name": "stdout",
          "text": [
            "{10, 20, 'hello', 40, 'sql'}\n"
          ]
        }
      ]
    },
    {
      "cell_type": "markdown",
      "source": [
        "remove v/s discard"
      ],
      "metadata": {
        "id": "BKlkKtskgcZ0"
      }
    },
    {
      "cell_type": "code",
      "source": [
        "A ={10,20,'hello',40,50,'sql'}\n",
        "# remove python\n",
        "A.remove('python')"
      ],
      "metadata": {
        "colab": {
          "base_uri": "https://localhost:8080/",
          "height": 176
        },
        "id": "T8hD9Qdega7w",
        "outputId": "5afad148-d43b-4c45-f8f5-93a1847d36e0"
      },
      "execution_count": 97,
      "outputs": [
        {
          "output_type": "error",
          "ename": "KeyError",
          "evalue": "'python'",
          "traceback": [
            "\u001b[0;31m---------------------------------------------------------------------------\u001b[0m",
            "\u001b[0;31mKeyError\u001b[0m                                  Traceback (most recent call last)",
            "\u001b[0;32m<ipython-input-97-f166a8737647>\u001b[0m in \u001b[0;36m<cell line: 0>\u001b[0;34m()\u001b[0m\n\u001b[1;32m      1\u001b[0m \u001b[0mA\u001b[0m \u001b[0;34m=\u001b[0m\u001b[0;34m{\u001b[0m\u001b[0;36m10\u001b[0m\u001b[0;34m,\u001b[0m\u001b[0;36m20\u001b[0m\u001b[0;34m,\u001b[0m\u001b[0;34m'hello'\u001b[0m\u001b[0;34m,\u001b[0m\u001b[0;36m40\u001b[0m\u001b[0;34m,\u001b[0m\u001b[0;36m50\u001b[0m\u001b[0;34m,\u001b[0m\u001b[0;34m'sql'\u001b[0m\u001b[0;34m}\u001b[0m\u001b[0;34m\u001b[0m\u001b[0;34m\u001b[0m\u001b[0m\n\u001b[1;32m      2\u001b[0m \u001b[0;31m# remove python\u001b[0m\u001b[0;34m\u001b[0m\u001b[0;34m\u001b[0m\u001b[0m\n\u001b[0;32m----> 3\u001b[0;31m \u001b[0mA\u001b[0m\u001b[0;34m.\u001b[0m\u001b[0mremove\u001b[0m\u001b[0;34m(\u001b[0m\u001b[0;34m'python'\u001b[0m\u001b[0;34m)\u001b[0m\u001b[0;34m\u001b[0m\u001b[0;34m\u001b[0m\u001b[0m\n\u001b[0m",
            "\u001b[0;31mKeyError\u001b[0m: 'python'"
          ]
        }
      ]
    },
    {
      "cell_type": "code",
      "source": [
        "A ={10,20,'hello',40,50,'sql'}\n",
        "# remove python\n",
        "A.discard('python')"
      ],
      "metadata": {
        "id": "7Zui4s9MglCK"
      },
      "execution_count": 98,
      "outputs": []
    },
    {
      "cell_type": "markdown",
      "source": [
        "# remove v/s discard\n",
        "* Both are used to remove values by its name\n",
        "* remove throws an error when an element is not found.\n",
        "* Discard will not throw any error if something is not found."
      ],
      "metadata": {
        "id": "dePl96Sgg0G8"
      }
    },
    {
      "cell_type": "markdown",
      "source": [
        "# pop\n",
        "Used  to remove random element from set"
      ],
      "metadata": {
        "id": "m3dGcNeog-0Y"
      }
    },
    {
      "cell_type": "code",
      "source": [
        "A = {10,2000,3000,40000,50}\n",
        "A.pop()\n",
        "print(A)"
      ],
      "metadata": {
        "colab": {
          "base_uri": "https://localhost:8080/"
        },
        "id": "c7FQzn2Kgo8J",
        "outputId": "f12c6ae4-57f0-496d-e29c-5d6915542d7a"
      },
      "execution_count": 99,
      "outputs": [
        {
          "output_type": "stream",
          "name": "stdout",
          "text": [
            "{2000, 50, 3000, 10}\n"
          ]
        }
      ]
    },
    {
      "cell_type": "markdown",
      "source": [
        "# Union\n",
        "returns all the elements from two sets"
      ],
      "metadata": {
        "id": "ayD9eSWZhODI"
      }
    },
    {
      "cell_type": "code",
      "source": [
        "A = {1,2,3,4}\n",
        "B = {4,5,3,6}\n",
        "A.union(B) #A|B"
      ],
      "metadata": {
        "colab": {
          "base_uri": "https://localhost:8080/"
        },
        "id": "jQNMoX3RhMZe",
        "outputId": "e6392896-7b2e-4669-fbf4-2ad14836d589"
      },
      "execution_count": 100,
      "outputs": [
        {
          "output_type": "execute_result",
          "data": {
            "text/plain": [
              "{1, 2, 3, 4, 5, 6}"
            ]
          },
          "metadata": {},
          "execution_count": 100
        }
      ]
    },
    {
      "cell_type": "markdown",
      "source": [
        "# Intersection\n",
        "\n",
        "Common elements from sets"
      ],
      "metadata": {
        "id": "PAnbD00vhpTP"
      }
    },
    {
      "cell_type": "code",
      "source": [
        "A = {1,2,3,4}\n",
        "B = {4,5,3,6}\n",
        "A.intersection(B) #A&B"
      ],
      "metadata": {
        "colab": {
          "base_uri": "https://localhost:8080/"
        },
        "id": "6a6018qjhiVU",
        "outputId": "6add3fb1-9f48-430e-f671-41236f052da9"
      },
      "execution_count": 101,
      "outputs": [
        {
          "output_type": "execute_result",
          "data": {
            "text/plain": [
              "{3, 4}"
            ]
          },
          "metadata": {},
          "execution_count": 101
        }
      ]
    },
    {
      "cell_type": "markdown",
      "source": [
        "# difference"
      ],
      "metadata": {
        "id": "aPjMJ1-3iBqQ"
      }
    },
    {
      "cell_type": "code",
      "source": [
        "#A-B: all the elements of A which are not in B\n",
        "A.difference(B)"
      ],
      "metadata": {
        "colab": {
          "base_uri": "https://localhost:8080/"
        },
        "id": "LfrrNU07h73U",
        "outputId": "9ab81554-b147-437d-d735-cde117ca2a4d"
      },
      "execution_count": 102,
      "outputs": [
        {
          "output_type": "execute_result",
          "data": {
            "text/plain": [
              "{1, 2}"
            ]
          },
          "metadata": {},
          "execution_count": 102
        }
      ]
    },
    {
      "cell_type": "code",
      "source": [
        "# B-A\n",
        "B.difference(A)"
      ],
      "metadata": {
        "colab": {
          "base_uri": "https://localhost:8080/"
        },
        "id": "pfEmP1SLiOQn",
        "outputId": "c8008215-9d44-4fdd-bd33-cb76ae1222c9"
      },
      "execution_count": 103,
      "outputs": [
        {
          "output_type": "execute_result",
          "data": {
            "text/plain": [
              "{5, 6}"
            ]
          },
          "metadata": {},
          "execution_count": 103
        }
      ]
    },
    {
      "cell_type": "markdown",
      "source": [
        "# Dict"
      ],
      "metadata": {
        "id": "_T-P3xNBiZdm"
      }
    },
    {
      "cell_type": "code",
      "source": [
        "info = {\"name\":\"Ridaa\",\"Age\":25, \"Place\": \"Banglore\"}\n",
        "print(info)"
      ],
      "metadata": {
        "colab": {
          "base_uri": "https://localhost:8080/"
        },
        "id": "b3fSWPZRiXGd",
        "outputId": "835563e1-34ba-45e3-8fd1-4000f971dfb4"
      },
      "execution_count": 2,
      "outputs": [
        {
          "output_type": "stream",
          "name": "stdout",
          "text": [
            "{'name': 'Ridaa', 'Age': 25, 'Place': 'Banglore'}\n"
          ]
        }
      ]
    },
    {
      "cell_type": "markdown",
      "source": [
        "# .key\n",
        "used to get keys"
      ],
      "metadata": {
        "id": "0n5YkXt9jT5Q"
      }
    },
    {
      "cell_type": "code",
      "source": [
        "info.keys()"
      ],
      "metadata": {
        "colab": {
          "base_uri": "https://localhost:8080/"
        },
        "id": "dDuxAG__i523",
        "outputId": "c39b066e-de77-4128-bb5c-c23dd7a267be"
      },
      "execution_count": 108,
      "outputs": [
        {
          "output_type": "execute_result",
          "data": {
            "text/plain": [
              "dict_keys(['name', 'Age', 'Place'])"
            ]
          },
          "metadata": {},
          "execution_count": 108
        }
      ]
    },
    {
      "cell_type": "markdown",
      "source": [
        "# .values\n",
        "\n",
        "Used to get values"
      ],
      "metadata": {
        "id": "X1SmcEx9jiSq"
      }
    },
    {
      "cell_type": "code",
      "source": [
        "info.values()"
      ],
      "metadata": {
        "colab": {
          "base_uri": "https://localhost:8080/"
        },
        "id": "VyiR28QLjbz5",
        "outputId": "2069f6b4-6297-4dcc-9f50-1d3775d1b9df"
      },
      "execution_count": 109,
      "outputs": [
        {
          "output_type": "execute_result",
          "data": {
            "text/plain": [
              "dict_values(['Ridaa', 25, 'Banglore'])"
            ]
          },
          "metadata": {},
          "execution_count": 109
        }
      ]
    },
    {
      "cell_type": "markdown",
      "source": [
        "# .items\n",
        "\n",
        "it gives tuple of key-value"
      ],
      "metadata": {
        "id": "k42Yg8ezjw2Q"
      }
    },
    {
      "cell_type": "code",
      "source": [
        "info.items()"
      ],
      "metadata": {
        "colab": {
          "base_uri": "https://localhost:8080/"
        },
        "id": "gIMGWk0bju2H",
        "outputId": "5d6b5551-3c50-4152-fb51-6342b5df3ae3"
      },
      "execution_count": 4,
      "outputs": [
        {
          "output_type": "execute_result",
          "data": {
            "text/plain": [
              "dict_items([('name', 'Ridaa'), ('Age', 25), ('Place', 'Banglore')])"
            ]
          },
          "metadata": {},
          "execution_count": 4
        }
      ]
    },
    {
      "cell_type": "code",
      "source": [
        "# fetch Ridaa\n",
        "info['name']"
      ],
      "metadata": {
        "colab": {
          "base_uri": "https://localhost:8080/",
          "height": 36
        },
        "id": "YV25kh1Lj7w9",
        "outputId": "efa10188-0b65-468f-9188-2548064cb057"
      },
      "execution_count": 3,
      "outputs": [
        {
          "output_type": "execute_result",
          "data": {
            "text/plain": [
              "'Ridaa'"
            ],
            "application/vnd.google.colaboratory.intrinsic+json": {
              "type": "string"
            }
          },
          "metadata": {},
          "execution_count": 3
        }
      ]
    },
    {
      "cell_type": "code",
      "source": [
        "# Change name as your name\n",
        "info['name']='venkat'"
      ],
      "metadata": {
        "id": "fNPp4jQEhqLr"
      },
      "execution_count": 5,
      "outputs": []
    },
    {
      "cell_type": "code",
      "source": [
        "print(info)"
      ],
      "metadata": {
        "colab": {
          "base_uri": "https://localhost:8080/"
        },
        "id": "EjlZZkGqiD9r",
        "outputId": "4fc56a8c-37fb-4e6e-f1db-de94823a5c37"
      },
      "execution_count": 6,
      "outputs": [
        {
          "output_type": "stream",
          "name": "stdout",
          "text": [
            "{'name': 'venkat', 'Age': 25, 'Place': 'Banglore'}\n"
          ]
        }
      ]
    },
    {
      "cell_type": "markdown",
      "source": [
        "# Get\n",
        "\n",
        "method used get value of key"
      ],
      "metadata": {
        "id": "MLr9gz5uiKYL"
      }
    },
    {
      "cell_type": "code",
      "source": [
        "info['name']"
      ],
      "metadata": {
        "colab": {
          "base_uri": "https://localhost:8080/",
          "height": 36
        },
        "id": "Wlpc0YvviHKj",
        "outputId": "52045d4d-9c4c-45e4-c231-81f62af5a0ad"
      },
      "execution_count": 7,
      "outputs": [
        {
          "output_type": "execute_result",
          "data": {
            "text/plain": [
              "'venkat'"
            ],
            "application/vnd.google.colaboratory.intrinsic+json": {
              "type": "string"
            }
          },
          "metadata": {},
          "execution_count": 7
        }
      ]
    },
    {
      "cell_type": "code",
      "source": [
        "info.get('name')"
      ],
      "metadata": {
        "colab": {
          "base_uri": "https://localhost:8080/",
          "height": 36
        },
        "id": "79LtF8STiWa4",
        "outputId": "df7959ab-c3ec-4437-ab4b-8048e3971cc3"
      },
      "execution_count": 9,
      "outputs": [
        {
          "output_type": "execute_result",
          "data": {
            "text/plain": [
              "'venkat'"
            ],
            "application/vnd.google.colaboratory.intrinsic+json": {
              "type": "string"
            }
          },
          "metadata": {},
          "execution_count": 9
        }
      ]
    },
    {
      "cell_type": "code",
      "source": [
        "# get place name\n",
        "info.get('place')"
      ],
      "metadata": {
        "id": "tNnwPEeJibZ2"
      },
      "execution_count": 10,
      "outputs": []
    },
    {
      "cell_type": "code",
      "source": [
        "# get place name\n",
        "info.get('place')\n",
        "print(info)"
      ],
      "metadata": {
        "colab": {
          "base_uri": "https://localhost:8080/"
        },
        "id": "K9Iw0KaminQO",
        "outputId": "392c6e55-7c3b-46fe-e35e-b384a2d425b0"
      },
      "execution_count": 12,
      "outputs": [
        {
          "output_type": "stream",
          "name": "stdout",
          "text": [
            "{'name': 'venkat', 'Age': 25, 'Place': 'Banglore'}\n"
          ]
        }
      ]
    },
    {
      "cell_type": "code",
      "source": [
        "info.get('Place')"
      ],
      "metadata": {
        "colab": {
          "base_uri": "https://localhost:8080/",
          "height": 36
        },
        "id": "dwg81hfIjB0k",
        "outputId": "7ff81d3c-fc21-4f37-fa79-4313c084390b"
      },
      "execution_count": 16,
      "outputs": [
        {
          "output_type": "execute_result",
          "data": {
            "text/plain": [
              "'Banglore'"
            ],
            "application/vnd.google.colaboratory.intrinsic+json": {
              "type": "string"
            }
          },
          "metadata": {},
          "execution_count": 16
        }
      ]
    },
    {
      "cell_type": "code",
      "source": [
        "info.get('Age')"
      ],
      "metadata": {
        "colab": {
          "base_uri": "https://localhost:8080/"
        },
        "id": "6xIfG2uajOQg",
        "outputId": "35863b3d-24e0-4556-ba52-d74bd287e356"
      },
      "execution_count": 15,
      "outputs": [
        {
          "output_type": "execute_result",
          "data": {
            "text/plain": [
              "25"
            ]
          },
          "metadata": {},
          "execution_count": 15
        }
      ]
    },
    {
      "cell_type": "code",
      "source": [
        "A=[\"venkata\"]\n",
        "A[0].count('a')"
      ],
      "metadata": {
        "colab": {
          "base_uri": "https://localhost:8080/"
        },
        "id": "vAKIWdfNjb0h",
        "outputId": "3051ced2-2b08-4ba8-8b6f-9100b385ba11"
      },
      "execution_count": 19,
      "outputs": [
        {
          "output_type": "execute_result",
          "data": {
            "text/plain": [
              "2"
            ]
          },
          "metadata": {},
          "execution_count": 19
        }
      ]
    },
    {
      "cell_type": "code",
      "source": [
        "info ={'name':'ridaa','Age':25,'place':'Banglore'}\n",
        "print(info)"
      ],
      "metadata": {
        "colab": {
          "base_uri": "https://localhost:8080/"
        },
        "id": "z36LQ6Vijy9k",
        "outputId": "7e8c57a6-445c-4059-9340-1b543446b6eb"
      },
      "execution_count": 20,
      "outputs": [
        {
          "output_type": "stream",
          "name": "stdout",
          "text": [
            "{'name': 'ridaa', 'Age': 25, 'place': 'Banglore'}\n"
          ]
        }
      ]
    },
    {
      "cell_type": "markdown",
      "source": [
        "# Update\n",
        "\n",
        "Used to update the existing key_value pair"
      ],
      "metadata": {
        "id": "GtFpLZw6ke8W"
      }
    },
    {
      "cell_type": "code",
      "source": [
        "info ={\"name\":\"ridaa\",\"Age\":25,\"place\":\"Banglore\"}\n",
        "print(info)"
      ],
      "metadata": {
        "colab": {
          "base_uri": "https://localhost:8080/"
        },
        "id": "4FGxHbTXkXWF",
        "outputId": "5150be2f-a749-4c1a-b365-f72aad8d2c2e"
      },
      "execution_count": 21,
      "outputs": [
        {
          "output_type": "stream",
          "name": "stdout",
          "text": [
            "{'name': 'ridaa', 'Age': 25, 'place': 'Banglore'}\n"
          ]
        }
      ]
    },
    {
      "cell_type": "code",
      "source": [
        "# change Age as 30\n",
        "info.update({'Age':30})\n",
        "print(info)"
      ],
      "metadata": {
        "colab": {
          "base_uri": "https://localhost:8080/"
        },
        "id": "iXEC53BUk9yj",
        "outputId": "7e53991a-9756-46eb-d17e-6a38f196ea75"
      },
      "execution_count": 23,
      "outputs": [
        {
          "output_type": "stream",
          "name": "stdout",
          "text": [
            "{'name': 'ridaa', 'Age': 30, 'place': 'Banglore'}\n"
          ]
        }
      ]
    },
    {
      "cell_type": "code",
      "source": [
        "# update can be used to add new key value pair\n",
        "# add exp=3\n",
        "info.update({'exp':3})"
      ],
      "metadata": {
        "id": "bEGqxs5olNSB"
      },
      "execution_count": 24,
      "outputs": []
    },
    {
      "cell_type": "code",
      "source": [
        "info"
      ],
      "metadata": {
        "colab": {
          "base_uri": "https://localhost:8080/"
        },
        "id": "aSr4I1Fylg5l",
        "outputId": "4a431e8e-e31b-4c52-8b39-7632a648e4f2"
      },
      "execution_count": 25,
      "outputs": [
        {
          "output_type": "execute_result",
          "data": {
            "text/plain": [
              "{'name': 'ridaa', 'Age': 30, 'place': 'Banglore', 'exp': 3}"
            ]
          },
          "metadata": {},
          "execution_count": 25
        }
      ]
    },
    {
      "cell_type": "markdown",
      "source": [
        "# setdefault:\n",
        "\n",
        "It is used to add new key-value pair"
      ],
      "metadata": {
        "id": "YbF-AxFeloJA"
      }
    },
    {
      "cell_type": "code",
      "source": [
        "# company_name - Google\n",
        "info.setdefault('company_name','Google')"
      ],
      "metadata": {
        "colab": {
          "base_uri": "https://localhost:8080/",
          "height": 36
        },
        "id": "W5vDzV-rliBa",
        "outputId": "b775986f-c09b-427c-aed1-ddbe39ec1b37"
      },
      "execution_count": 26,
      "outputs": [
        {
          "output_type": "execute_result",
          "data": {
            "text/plain": [
              "'Google'"
            ],
            "application/vnd.google.colaboratory.intrinsic+json": {
              "type": "string"
            }
          },
          "metadata": {},
          "execution_count": 26
        }
      ]
    },
    {
      "cell_type": "code",
      "source": [
        "info"
      ],
      "metadata": {
        "colab": {
          "base_uri": "https://localhost:8080/"
        },
        "id": "3xgDugyLmGUq",
        "outputId": "faa5e09a-376d-4ede-ac88-8455eba9ae4c"
      },
      "execution_count": 27,
      "outputs": [
        {
          "output_type": "execute_result",
          "data": {
            "text/plain": [
              "{'name': 'ridaa',\n",
              " 'Age': 30,\n",
              " 'place': 'Banglore',\n",
              " 'exp': 3,\n",
              " 'company_name': 'Google'}"
            ]
          },
          "metadata": {},
          "execution_count": 27
        }
      ]
    },
    {
      "cell_type": "code",
      "source": [
        "# salary-50000\n",
        "info.setdefault('salary', 50000)"
      ],
      "metadata": {
        "colab": {
          "base_uri": "https://localhost:8080/"
        },
        "id": "NjTg6mT0mMRG",
        "outputId": "7dd7d3ef-720c-4dd7-e8aa-ba7a0968259a"
      },
      "execution_count": 28,
      "outputs": [
        {
          "output_type": "execute_result",
          "data": {
            "text/plain": [
              "50000"
            ]
          },
          "metadata": {},
          "execution_count": 28
        }
      ]
    },
    {
      "cell_type": "markdown",
      "source": [
        "# Update v/s setdefault\n",
        "\n",
        "* Update is used to add new key-value pair: it is used add update key value\n",
        "\n",
        "* Set default is used to add new key-value pairs: using this we cannot update keys"
      ],
      "metadata": {
        "id": "qR2CZECEmqMA"
      }
    },
    {
      "cell_type": "code",
      "source": [
        "# add skills = ['python','sql'], job = 'Analyst'\n",
        "info.update({'skills':[\"python\",\"sql\"],'job':\"Analyst\"})"
      ],
      "metadata": {
        "id": "KGeawH-umlNh"
      },
      "execution_count": 29,
      "outputs": []
    },
    {
      "cell_type": "code",
      "source": [
        "info"
      ],
      "metadata": {
        "colab": {
          "base_uri": "https://localhost:8080/"
        },
        "id": "whgIxA0XnreA",
        "outputId": "b6f81644-c51a-4386-e4e1-1eb8e5349822"
      },
      "execution_count": 30,
      "outputs": [
        {
          "output_type": "execute_result",
          "data": {
            "text/plain": [
              "{'name': 'ridaa',\n",
              " 'Age': 30,\n",
              " 'place': 'Banglore',\n",
              " 'exp': 3,\n",
              " 'company_name': 'Google',\n",
              " 'salary': 50000,\n",
              " 'skills': ['python', 'sql'],\n",
              " 'job': 'Analyst'}"
            ]
          },
          "metadata": {},
          "execution_count": 30
        }
      ]
    },
    {
      "cell_type": "markdown",
      "source": [
        "# Delete\n",
        "* pop\n",
        "* pop item\n",
        "* del\n",
        "* clear"
      ],
      "metadata": {
        "id": "29ttSLmRn44a"
      }
    },
    {
      "cell_type": "code",
      "source": [
        "# pop: used to remove specific element\n",
        "# remove exp\n",
        "# variable.pop(key)\n",
        "info.pop('exp')"
      ],
      "metadata": {
        "colab": {
          "base_uri": "https://localhost:8080/"
        },
        "id": "5yIYxURInuYM",
        "outputId": "d4e61eb8-1b95-4c1f-f902-551b87f71c3c"
      },
      "execution_count": 31,
      "outputs": [
        {
          "output_type": "execute_result",
          "data": {
            "text/plain": [
              "3"
            ]
          },
          "metadata": {},
          "execution_count": 31
        }
      ]
    },
    {
      "cell_type": "code",
      "source": [
        "info"
      ],
      "metadata": {
        "colab": {
          "base_uri": "https://localhost:8080/"
        },
        "id": "ongAprmPoTlX",
        "outputId": "0fe4e54f-30c1-4fb5-8e4b-767e5f801f4c"
      },
      "execution_count": 32,
      "outputs": [
        {
          "output_type": "execute_result",
          "data": {
            "text/plain": [
              "{'name': 'ridaa',\n",
              " 'Age': 30,\n",
              " 'place': 'Banglore',\n",
              " 'company_name': 'Google',\n",
              " 'salary': 50000,\n",
              " 'skills': ['python', 'sql'],\n",
              " 'job': 'Analyst'}"
            ]
          },
          "metadata": {},
          "execution_count": 32
        }
      ]
    },
    {
      "cell_type": "code",
      "source": [
        "# popitem: It is used to remove the last key-value pair\n",
        "info.popitem()"
      ],
      "metadata": {
        "colab": {
          "base_uri": "https://localhost:8080/"
        },
        "id": "UFajljCCoWva",
        "outputId": "935cf35f-8f96-4bd9-f12e-741b8991daf2"
      },
      "execution_count": 33,
      "outputs": [
        {
          "output_type": "execute_result",
          "data": {
            "text/plain": [
              "('job', 'Analyst')"
            ]
          },
          "metadata": {},
          "execution_count": 33
        }
      ]
    },
    {
      "cell_type": "code",
      "source": [
        "info"
      ],
      "metadata": {
        "colab": {
          "base_uri": "https://localhost:8080/"
        },
        "id": "MQvXD7ZRok_a",
        "outputId": "174b9644-01cd-489b-f2c7-c7bbc5115897"
      },
      "execution_count": 34,
      "outputs": [
        {
          "output_type": "execute_result",
          "data": {
            "text/plain": [
              "{'name': 'ridaa',\n",
              " 'Age': 30,\n",
              " 'place': 'Banglore',\n",
              " 'company_name': 'Google',\n",
              " 'salary': 50000,\n",
              " 'skills': ['python', 'sql']}"
            ]
          },
          "metadata": {},
          "execution_count": 34
        }
      ]
    },
    {
      "cell_type": "code",
      "source": [
        "# clear: removes all keyvalue pairs\n",
        "info.clear()"
      ],
      "metadata": {
        "id": "-QJOEShyomPe"
      },
      "execution_count": 35,
      "outputs": []
    },
    {
      "cell_type": "code",
      "source": [
        "info"
      ],
      "metadata": {
        "colab": {
          "base_uri": "https://localhost:8080/"
        },
        "id": "GPHgPpd5ov0s",
        "outputId": "4519bec1-7921-4838-de17-75624c36390c"
      },
      "execution_count": 36,
      "outputs": [
        {
          "output_type": "execute_result",
          "data": {
            "text/plain": [
              "{}"
            ]
          },
          "metadata": {},
          "execution_count": 36
        }
      ]
    },
    {
      "cell_type": "code",
      "source": [
        "#del removes varialble too\n",
        "del info"
      ],
      "metadata": {
        "id": "C1Zdmb5GoyWV"
      },
      "execution_count": 37,
      "outputs": []
    },
    {
      "cell_type": "code",
      "source": [
        "info"
      ],
      "metadata": {
        "colab": {
          "base_uri": "https://localhost:8080/",
          "height": 141
        },
        "id": "Q9RWsaino9dq",
        "outputId": "61b1602e-d164-413f-ee06-a157d724d3fe"
      },
      "execution_count": 38,
      "outputs": [
        {
          "output_type": "error",
          "ename": "NameError",
          "evalue": "name 'info' is not defined",
          "traceback": [
            "\u001b[0;31m---------------------------------------------------------------------------\u001b[0m",
            "\u001b[0;31mNameError\u001b[0m                                 Traceback (most recent call last)",
            "\u001b[0;32m<ipython-input-38-886ead46232a>\u001b[0m in \u001b[0;36m<cell line: 0>\u001b[0;34m()\u001b[0m\n\u001b[0;32m----> 1\u001b[0;31m \u001b[0minfo\u001b[0m\u001b[0;34m\u001b[0m\u001b[0;34m\u001b[0m\u001b[0m\n\u001b[0m",
            "\u001b[0;31mNameError\u001b[0m: name 'info' is not defined"
          ]
        }
      ]
    },
    {
      "cell_type": "markdown",
      "source": [
        "# pop v/s popitem\n",
        "\n",
        "* pop removes specific key-value pair\n",
        "* popitem removes last element"
      ],
      "metadata": {
        "id": "FFM9aex6pCj6"
      }
    },
    {
      "cell_type": "markdown",
      "source": [
        "# String methods"
      ],
      "metadata": {
        "id": "wWsTnCObpP35"
      }
    },
    {
      "cell_type": "code",
      "source": [
        "A = 'data science'"
      ],
      "metadata": {
        "id": "kBrjz_bho_NC"
      },
      "execution_count": 39,
      "outputs": []
    },
    {
      "cell_type": "code",
      "source": [
        "##len of string\n",
        "len(A)"
      ],
      "metadata": {
        "colab": {
          "base_uri": "https://localhost:8080/"
        },
        "id": "tYzhRWv-pdbE",
        "outputId": "bee7a2fa-7f04-44cb-b447-0eedb48d7318"
      },
      "execution_count": 40,
      "outputs": [
        {
          "output_type": "execute_result",
          "data": {
            "text/plain": [
              "12"
            ]
          },
          "metadata": {},
          "execution_count": 40
        }
      ]
    },
    {
      "cell_type": "code",
      "source": [
        "# upper: It can be used to convert string into upper case\n",
        "A.upper()"
      ],
      "metadata": {
        "colab": {
          "base_uri": "https://localhost:8080/",
          "height": 36
        },
        "id": "XAzuHCpdphyI",
        "outputId": "19d5fff6-8ac1-4309-fb73-e57b84ada734"
      },
      "execution_count": 41,
      "outputs": [
        {
          "output_type": "execute_result",
          "data": {
            "text/plain": [
              "'DATA SCIENCE'"
            ],
            "application/vnd.google.colaboratory.intrinsic+json": {
              "type": "string"
            }
          },
          "metadata": {},
          "execution_count": 41
        }
      ]
    },
    {
      "cell_type": "code",
      "source": [
        "# lower : used to convert upper case to lower case\n",
        "A.lower()"
      ],
      "metadata": {
        "colab": {
          "base_uri": "https://localhost:8080/",
          "height": 36
        },
        "id": "Xdc_O6R-psTr",
        "outputId": "53fe5e8e-c992-4168-d7aa-7879efb907e2"
      },
      "execution_count": 42,
      "outputs": [
        {
          "output_type": "execute_result",
          "data": {
            "text/plain": [
              "'data science'"
            ],
            "application/vnd.google.colaboratory.intrinsic+json": {
              "type": "string"
            }
          },
          "metadata": {},
          "execution_count": 42
        }
      ]
    },
    {
      "cell_type": "code",
      "source": [
        "# capitalise: It converts first letter to upper case\n",
        "A.capitalize()"
      ],
      "metadata": {
        "colab": {
          "base_uri": "https://localhost:8080/",
          "height": 36
        },
        "id": "cHG1PhFGp2kP",
        "outputId": "7796ef31-7fb6-4f3b-b803-cc52a35d43b1"
      },
      "execution_count": 44,
      "outputs": [
        {
          "output_type": "execute_result",
          "data": {
            "text/plain": [
              "'Data science'"
            ],
            "application/vnd.google.colaboratory.intrinsic+json": {
              "type": "string"
            }
          },
          "metadata": {},
          "execution_count": 44
        }
      ]
    },
    {
      "cell_type": "code",
      "source": [
        "# title: Each word first letter should be capital\n",
        "a = \"times of india\"\n",
        "a.title()"
      ],
      "metadata": {
        "colab": {
          "base_uri": "https://localhost:8080/",
          "height": 36
        },
        "id": "NG2zSasbqBDY",
        "outputId": "486ca516-476a-45ca-fa12-4d2155bbd0c1"
      },
      "execution_count": 45,
      "outputs": [
        {
          "output_type": "execute_result",
          "data": {
            "text/plain": [
              "'Times Of India'"
            ],
            "application/vnd.google.colaboratory.intrinsic+json": {
              "type": "string"
            }
          },
          "metadata": {},
          "execution_count": 45
        }
      ]
    },
    {
      "cell_type": "code",
      "source": [
        "# swapcase : It converts lower case to upper case and Vice versa.\n",
        "a = \"aBCd\""
      ],
      "metadata": {
        "id": "Rn4BAptPqSIB"
      },
      "execution_count": 46,
      "outputs": []
    },
    {
      "cell_type": "code",
      "source": [
        "a.swapcase()"
      ],
      "metadata": {
        "colab": {
          "base_uri": "https://localhost:8080/",
          "height": 36
        },
        "id": "b6b0a3TeqgXN",
        "outputId": "36777eeb-b490-4ac7-c8ee-abed55aa45ec"
      },
      "execution_count": 47,
      "outputs": [
        {
          "output_type": "execute_result",
          "data": {
            "text/plain": [
              "'AbcD'"
            ],
            "application/vnd.google.colaboratory.intrinsic+json": {
              "type": "string"
            }
          },
          "metadata": {},
          "execution_count": 47
        }
      ]
    },
    {
      "cell_type": "code",
      "source": [
        "#isupper: Is all characters are in upper case it gives True else False\n",
        "B = \"ABC\"\n",
        "print(B.isupper())"
      ],
      "metadata": {
        "colab": {
          "base_uri": "https://localhost:8080/"
        },
        "id": "k36sYZj6qje_",
        "outputId": "88b7fe2a-8bde-4cd8-afd0-7d65fdfe62ba"
      },
      "execution_count": 48,
      "outputs": [
        {
          "output_type": "stream",
          "name": "stdout",
          "text": [
            "True\n"
          ]
        }
      ]
    },
    {
      "cell_type": "code",
      "source": [
        "B = 'abc'\n",
        "print(B.isupper())"
      ],
      "metadata": {
        "colab": {
          "base_uri": "https://localhost:8080/"
        },
        "id": "x0kG2Ss4q0tg",
        "outputId": "f950a011-2516-4a18-fc15-cf7f923fc9db"
      },
      "execution_count": 49,
      "outputs": [
        {
          "output_type": "stream",
          "name": "stdout",
          "text": [
            "False\n"
          ]
        }
      ]
    },
    {
      "cell_type": "code",
      "source": [
        "B = \"Abc\"\n",
        "print(B.isupper())"
      ],
      "metadata": {
        "colab": {
          "base_uri": "https://localhost:8080/"
        },
        "id": "jYsD56veq_8k",
        "outputId": "69e6509d-f839-41f4-ce0c-d69515b125cd"
      },
      "execution_count": 51,
      "outputs": [
        {
          "output_type": "stream",
          "name": "stdout",
          "text": [
            "False\n"
          ]
        }
      ]
    },
    {
      "cell_type": "code",
      "source": [
        "# is lower: If all characters are in lower case ,it gives True else false\n",
        "A = 'hello'\n",
        "A.islower()"
      ],
      "metadata": {
        "colab": {
          "base_uri": "https://localhost:8080/"
        },
        "id": "uKMtWSwgrMyy",
        "outputId": "54fd42ab-e1c8-4d14-812a-31105c8897c8"
      },
      "execution_count": 52,
      "outputs": [
        {
          "output_type": "execute_result",
          "data": {
            "text/plain": [
              "True"
            ]
          },
          "metadata": {},
          "execution_count": 52
        }
      ]
    },
    {
      "cell_type": "code",
      "source": [
        "# isalpha:It returns true if all characters are alphabets else false\n",
        "A = 'abx'\n",
        "A.isalpha()"
      ],
      "metadata": {
        "colab": {
          "base_uri": "https://localhost:8080/"
        },
        "id": "0zumSQbWrfi0",
        "outputId": "86aeaabe-e9ca-4dc9-e95e-23f802059261"
      },
      "execution_count": 53,
      "outputs": [
        {
          "output_type": "execute_result",
          "data": {
            "text/plain": [
              "True"
            ]
          },
          "metadata": {},
          "execution_count": 53
        }
      ]
    },
    {
      "cell_type": "code",
      "source": [
        "B=\"abc123\"\n",
        "B.isalpha()"
      ],
      "metadata": {
        "colab": {
          "base_uri": "https://localhost:8080/"
        },
        "id": "b3J0GmPIr15u",
        "outputId": "80a8d0f9-fb83-41a4-c21a-ffd69d0d1663"
      },
      "execution_count": 54,
      "outputs": [
        {
          "output_type": "execute_result",
          "data": {
            "text/plain": [
              "False"
            ]
          },
          "metadata": {},
          "execution_count": 54
        }
      ]
    },
    {
      "cell_type": "code",
      "source": [
        "# isdigit : It returns True if all characters are numbers else false\n",
        "A='1234'\n",
        "A.isdigit()"
      ],
      "metadata": {
        "colab": {
          "base_uri": "https://localhost:8080/"
        },
        "id": "Q13y3IE-r_J4",
        "outputId": "dc7d5e09-0500-481c-f51e-3aa21ae16df0"
      },
      "execution_count": 55,
      "outputs": [
        {
          "output_type": "execute_result",
          "data": {
            "text/plain": [
              "True"
            ]
          },
          "metadata": {},
          "execution_count": 55
        }
      ]
    },
    {
      "cell_type": "code",
      "source": [
        "B = \"abc123\"\n",
        "B.isdigit()"
      ],
      "metadata": {
        "colab": {
          "base_uri": "https://localhost:8080/"
        },
        "id": "QvSC_dcEttTb",
        "outputId": "ababf698-4bd5-428a-e6e6-74ee0978c2bd"
      },
      "execution_count": 56,
      "outputs": [
        {
          "output_type": "execute_result",
          "data": {
            "text/plain": [
              "False"
            ]
          },
          "metadata": {},
          "execution_count": 56
        }
      ]
    },
    {
      "cell_type": "code",
      "source": [
        "# count: It is used to find count of character or word\n",
        "A = \"python is easy only if we practice more python problems\"\n",
        "# count of python\n",
        "A.count('python')"
      ],
      "metadata": {
        "colab": {
          "base_uri": "https://localhost:8080/"
        },
        "id": "S2z2l4W1t4xA",
        "outputId": "5c6b4e90-6fea-4a54-9e02-9c2260b3ea16"
      },
      "execution_count": 57,
      "outputs": [
        {
          "output_type": "execute_result",
          "data": {
            "text/plain": [
              "2"
            ]
          },
          "metadata": {},
          "execution_count": 57
        }
      ]
    },
    {
      "cell_type": "code",
      "source": [
        "# count of python irrespective of case\n",
        "A.lower().count('python')"
      ],
      "metadata": {
        "colab": {
          "base_uri": "https://localhost:8080/"
        },
        "id": "OQD6usq4uOM-",
        "outputId": "bafe76cf-af50-4667-f531-02bf730a2268"
      },
      "execution_count": 58,
      "outputs": [
        {
          "output_type": "execute_result",
          "data": {
            "text/plain": [
              "2"
            ]
          },
          "metadata": {},
          "execution_count": 58
        }
      ]
    },
    {
      "cell_type": "code",
      "source": [
        "A.upper().count('PYTHON')"
      ],
      "metadata": {
        "colab": {
          "base_uri": "https://localhost:8080/"
        },
        "id": "1fN2LKKFur9e",
        "outputId": "adc1edec-aa5d-4a86-a3a0-a048d5484508"
      },
      "execution_count": 59,
      "outputs": [
        {
          "output_type": "execute_result",
          "data": {
            "text/plain": [
              "2"
            ]
          },
          "metadata": {},
          "execution_count": 59
        }
      ]
    },
    {
      "cell_type": "code",
      "source": [
        "# index: it gives index position of first characters when we have repeated ones\n",
        "A = \"Python is easy\"\n",
        "# find index of o\n",
        "A.index('o')"
      ],
      "metadata": {
        "colab": {
          "base_uri": "https://localhost:8080/"
        },
        "id": "L_TSvc42u6f0",
        "outputId": "6ab11e6b-e78a-46e9-8ccd-505f2b979184"
      },
      "execution_count": 60,
      "outputs": [
        {
          "output_type": "execute_result",
          "data": {
            "text/plain": [
              "4"
            ]
          },
          "metadata": {},
          "execution_count": 60
        }
      ]
    },
    {
      "cell_type": "code",
      "source": [
        "A =\"Python is easy\"\n",
        "# find index of z\n",
        "A.find('z')"
      ],
      "metadata": {
        "colab": {
          "base_uri": "https://localhost:8080/"
        },
        "id": "pA1hTb1uvUC3",
        "outputId": "be95a206-9132-46b5-cf2f-20e91a8283c7"
      },
      "execution_count": 61,
      "outputs": [
        {
          "output_type": "execute_result",
          "data": {
            "text/plain": [
              "-1"
            ]
          },
          "metadata": {},
          "execution_count": 61
        }
      ]
    },
    {
      "cell_type": "markdown",
      "source": [
        "1. similarity: Both find and index are used to find index values\n",
        "2. difference: index gives error when character is not present;\n",
        "3. but find doesn't give any error instead it gives -1"
      ],
      "metadata": {
        "id": "a9nbFbdYv8lZ"
      }
    },
    {
      "cell_type": "code",
      "source": [
        "# split: It splits string over a space/character and gives list of strings\n",
        "A = \"Life is crazy\"\n",
        "#output:['Life','is','crazy']\n",
        "A.split() #splitting over space"
      ],
      "metadata": {
        "colab": {
          "base_uri": "https://localhost:8080/"
        },
        "id": "qP2TmpuAvrts",
        "outputId": "9a6b348e-f7c2-4e69-a593-931e91821e5a"
      },
      "execution_count": 62,
      "outputs": [
        {
          "output_type": "execute_result",
          "data": {
            "text/plain": [
              "['Life', 'is', 'crazy']"
            ]
          },
          "metadata": {},
          "execution_count": 62
        }
      ]
    },
    {
      "cell_type": "code",
      "source": [
        "B = \"Ridaa,Zara,john,Mary\"\n",
        "#['Ridaa','Zara','John','Mary']\n",
        "B.split(',')"
      ],
      "metadata": {
        "colab": {
          "base_uri": "https://localhost:8080/"
        },
        "id": "Bgz_vZcGw2db",
        "outputId": "84a08d14-1a7e-482e-f06b-93de9f7b66b0"
      },
      "execution_count": 63,
      "outputs": [
        {
          "output_type": "execute_result",
          "data": {
            "text/plain": [
              "['Ridaa', 'Zara', 'john', 'Mary']"
            ]
          },
          "metadata": {},
          "execution_count": 63
        }
      ]
    },
    {
      "cell_type": "code",
      "source": [
        "C = 'John@20@HR'\n",
        "#['John','20','HR']\n",
        "C.split('@')"
      ],
      "metadata": {
        "colab": {
          "base_uri": "https://localhost:8080/"
        },
        "id": "rB30eH4ZxSuw",
        "outputId": "2a08907d-5ee8-44ec-a667-d3c5c1f71020"
      },
      "execution_count": 66,
      "outputs": [
        {
          "output_type": "execute_result",
          "data": {
            "text/plain": [
              "['John', '20', 'HR']"
            ]
          },
          "metadata": {},
          "execution_count": 66
        }
      ]
    },
    {
      "cell_type": "code",
      "source": [
        "# join: It is used to combine list elements into a string\n",
        "A = [\"Sql\",\"is\",\"easy\"]\n",
        "''.join(A)"
      ],
      "metadata": {
        "colab": {
          "base_uri": "https://localhost:8080/",
          "height": 36
        },
        "id": "hkzfobMFxk8F",
        "outputId": "fee06290-85d1-4c6c-d8b1-0c1c3dccd371"
      },
      "execution_count": 67,
      "outputs": [
        {
          "output_type": "execute_result",
          "data": {
            "text/plain": [
              "'Sqliseasy'"
            ],
            "application/vnd.google.colaboratory.intrinsic+json": {
              "type": "string"
            }
          },
          "metadata": {},
          "execution_count": 67
        }
      ]
    },
    {
      "cell_type": "code",
      "source": [
        "A = [\"Sql\",\"is\",\"easy\"]\n",
        "' '.join(A)"
      ],
      "metadata": {
        "colab": {
          "base_uri": "https://localhost:8080/",
          "height": 36
        },
        "id": "s0kMyM1iyJGj",
        "outputId": "40bbde14-359f-4335-fbac-b712e0c0bef7"
      },
      "execution_count": 68,
      "outputs": [
        {
          "output_type": "execute_result",
          "data": {
            "text/plain": [
              "'Sql is easy'"
            ],
            "application/vnd.google.colaboratory.intrinsic+json": {
              "type": "string"
            }
          },
          "metadata": {},
          "execution_count": 68
        }
      ]
    },
    {
      "cell_type": "code",
      "source": [
        "A = [\"Sql\",\"is\",\"easy\"]\n",
        "'-'.join(A)"
      ],
      "metadata": {
        "colab": {
          "base_uri": "https://localhost:8080/",
          "height": 36
        },
        "id": "uZEzBgV2yirB",
        "outputId": "c8e4061d-8781-4750-e46e-07a1e156c0f3"
      },
      "execution_count": 69,
      "outputs": [
        {
          "output_type": "execute_result",
          "data": {
            "text/plain": [
              "'Sql-is-easy'"
            ],
            "application/vnd.google.colaboratory.intrinsic+json": {
              "type": "string"
            }
          },
          "metadata": {},
          "execution_count": 69
        }
      ]
    },
    {
      "cell_type": "code",
      "source": [
        "B =['hello','world','good','evening']\n",
        "', '.join(B)"
      ],
      "metadata": {
        "colab": {
          "base_uri": "https://localhost:8080/",
          "height": 36
        },
        "id": "nQcxMS_kyqSf",
        "outputId": "b6b6df06-ecb0-4d5b-87b2-82267d9c1994"
      },
      "execution_count": 70,
      "outputs": [
        {
          "output_type": "execute_result",
          "data": {
            "text/plain": [
              "'hello, world, good, evening'"
            ],
            "application/vnd.google.colaboratory.intrinsic+json": {
              "type": "string"
            }
          },
          "metadata": {},
          "execution_count": 70
        }
      ]
    },
    {
      "cell_type": "code",
      "source": [
        "C = ['1','2','a']\n",
        "''.join(C)"
      ],
      "metadata": {
        "colab": {
          "base_uri": "https://localhost:8080/",
          "height": 36
        },
        "id": "wG6PcGykyudJ",
        "outputId": "c190856e-e35d-4e83-c846-2b50017ec866"
      },
      "execution_count": 71,
      "outputs": [
        {
          "output_type": "execute_result",
          "data": {
            "text/plain": [
              "'12a'"
            ],
            "application/vnd.google.colaboratory.intrinsic+json": {
              "type": "string"
            }
          },
          "metadata": {},
          "execution_count": 71
        }
      ]
    },
    {
      "cell_type": "code",
      "source": [
        "# strip: It is used to remove white spaces or the special characters before and after string.\n",
        "A = \"       python sql       \"\n",
        "A.strip()"
      ],
      "metadata": {
        "colab": {
          "base_uri": "https://localhost:8080/",
          "height": 36
        },
        "id": "SYMz9lrHy83Y",
        "outputId": "3ffd6694-b88a-4861-86b5-3d8a39d8d124"
      },
      "execution_count": 72,
      "outputs": [
        {
          "output_type": "execute_result",
          "data": {
            "text/plain": [
              "'python sql'"
            ],
            "application/vnd.google.colaboratory.intrinsic+json": {
              "type": "string"
            }
          },
          "metadata": {},
          "execution_count": 72
        }
      ]
    },
    {
      "cell_type": "code",
      "source": [
        "B = \"******python sql*********\"\n",
        "B.strip('*')"
      ],
      "metadata": {
        "colab": {
          "base_uri": "https://localhost:8080/",
          "height": 36
        },
        "id": "V4alY5uNzGnn",
        "outputId": "32e68781-5e9a-4d81-f509-2cec573a33c6"
      },
      "execution_count": 73,
      "outputs": [
        {
          "output_type": "execute_result",
          "data": {
            "text/plain": [
              "'python sql'"
            ],
            "application/vnd.google.colaboratory.intrinsic+json": {
              "type": "string"
            }
          },
          "metadata": {},
          "execution_count": 73
        }
      ]
    },
    {
      "cell_type": "code",
      "source": [
        "C = '(2024)'\n",
        "C.strip(\"()\")"
      ],
      "metadata": {
        "colab": {
          "base_uri": "https://localhost:8080/",
          "height": 36
        },
        "id": "Ni77UUt9zRwg",
        "outputId": "d5864bab-99f3-42b2-e8d1-ce3ebb3733dd"
      },
      "execution_count": 74,
      "outputs": [
        {
          "output_type": "execute_result",
          "data": {
            "text/plain": [
              "'2024'"
            ],
            "application/vnd.google.colaboratory.intrinsic+json": {
              "type": "string"
            }
          },
          "metadata": {},
          "execution_count": 74
        }
      ]
    },
    {
      "cell_type": "code",
      "source": [
        "D = '**********@@@@@@@@Python is easy%%%%%%%%%%%$$$$$$$$$$'\n",
        "D.lstrip('*@%$')"
      ],
      "metadata": {
        "colab": {
          "base_uri": "https://localhost:8080/",
          "height": 36
        },
        "id": "j5VYL5URzbCw",
        "outputId": "47a0ff9d-70ca-4d65-ccae-32bb06594ad9"
      },
      "execution_count": 75,
      "outputs": [
        {
          "output_type": "execute_result",
          "data": {
            "text/plain": [
              "'Python is easy%%%%%%%%%%%$$$$$$$$$$'"
            ],
            "application/vnd.google.colaboratory.intrinsic+json": {
              "type": "string"
            }
          },
          "metadata": {},
          "execution_count": 75
        }
      ]
    },
    {
      "cell_type": "code",
      "source": [
        "D = '**********@@@@@@@@Python is easy%%%%%%%%%%%$$$$$$$$$$'\n",
        "D.rstrip('*@%$')"
      ],
      "metadata": {
        "colab": {
          "base_uri": "https://localhost:8080/",
          "height": 36
        },
        "id": "AhPmGwkSzsME",
        "outputId": "ce154f2d-65ce-442d-ed50-83363473d1b8"
      },
      "execution_count": 76,
      "outputs": [
        {
          "output_type": "execute_result",
          "data": {
            "text/plain": [
              "'**********@@@@@@@@Python is easy'"
            ],
            "application/vnd.google.colaboratory.intrinsic+json": {
              "type": "string"
            }
          },
          "metadata": {},
          "execution_count": 76
        }
      ]
    },
    {
      "cell_type": "markdown",
      "source": [
        "# Combine string"
      ],
      "metadata": {
        "id": "8f_629S6zvx_"
      }
    },
    {
      "cell_type": "code",
      "source": [
        "A = \"data\"\n",
        "B = \"science\"\n",
        "print(A+B)\n",
        "print(A+\" \"+B)\n",
        "print(A+\"-\"+B)"
      ],
      "metadata": {
        "colab": {
          "base_uri": "https://localhost:8080/"
        },
        "id": "_RHZ_z1UzuQw",
        "outputId": "7959b28d-f004-4801-b95f-5483ef8295d6"
      },
      "execution_count": 77,
      "outputs": [
        {
          "output_type": "stream",
          "name": "stdout",
          "text": [
            "datascience\n",
            "data science\n",
            "data-science\n"
          ]
        }
      ]
    },
    {
      "cell_type": "markdown",
      "source": [
        "# format\n",
        "\n",
        "Used to combine string and number together"
      ],
      "metadata": {
        "id": "PQfBw7RC0H2I"
      }
    },
    {
      "cell_type": "code",
      "source": [
        "a = int(input())\n",
        "b = int(input())\n",
        "c = a+b\n",
        "# sum of 10 and 20 is 30\n",
        "print(f\"sum of{a} and {b} is {c}\")"
      ],
      "metadata": {
        "colab": {
          "base_uri": "https://localhost:8080/"
        },
        "id": "V4djAodo0Fiw",
        "outputId": "1d34d5f3-9ef4-40e8-bec2-a5d150463329"
      },
      "execution_count": 80,
      "outputs": [
        {
          "output_type": "stream",
          "name": "stdout",
          "text": [
            "10\n",
            "300\n",
            "sum of10 and 300 is 310\n"
          ]
        }
      ]
    },
    {
      "cell_type": "code",
      "source": [
        "a = int(input())\n",
        "b = int(input())\n",
        "c = a+b\n",
        "# sum of 10 and 20 is 30\n",
        "print(f\"sum of {a} and {b} is {c}\")"
      ],
      "metadata": {
        "colab": {
          "base_uri": "https://localhost:8080/"
        },
        "id": "xJLPZQ2B0qrU",
        "outputId": "c4b3269f-f3c0-4865-a2f3-9c3c2cd5ef58"
      },
      "execution_count": 81,
      "outputs": [
        {
          "output_type": "stream",
          "name": "stdout",
          "text": [
            "12\n",
            "20\n",
            "sum of 12 and 20 is 32\n"
          ]
        }
      ]
    },
    {
      "cell_type": "code",
      "source": [
        "a=10\n",
        "b = 20\n",
        "print(f\"sum:{a+b}\")"
      ],
      "metadata": {
        "colab": {
          "base_uri": "https://localhost:8080/"
        },
        "id": "nkGrI-aj1lWS",
        "outputId": "2879c773-134e-4a39-ee03-ef566f94026b"
      },
      "execution_count": 82,
      "outputs": [
        {
          "output_type": "stream",
          "name": "stdout",
          "text": [
            "sum:30\n"
          ]
        }
      ]
    },
    {
      "cell_type": "code",
      "source": [
        "a = int(input())\n",
        "b = int(input())\n",
        "c = a+b\n",
        "# sum of 10 and 20 is 30\n",
        "print(\"sum of {} and {} is {}\".format(a,b,c))\n",
        "print(f\"sum of {a} and {b} is {c}\")\n"
      ],
      "metadata": {
        "colab": {
          "base_uri": "https://localhost:8080/"
        },
        "id": "HNiSmjPB1uyk",
        "outputId": "e67611d1-ba47-4989-bacc-7e0196c95a15"
      },
      "execution_count": 83,
      "outputs": [
        {
          "output_type": "stream",
          "name": "stdout",
          "text": [
            "100\n",
            "200\n",
            "sum of 100 and 200 is 300\n",
            "sum of 100 and 200 is 300\n"
          ]
        }
      ]
    },
    {
      "cell_type": "code",
      "source": [],
      "metadata": {
        "id": "BLVh4qVe2Yy4"
      },
      "execution_count": null,
      "outputs": []
    }
  ]
}