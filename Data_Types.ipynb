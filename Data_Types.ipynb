{
  "nbformat": 4,
  "nbformat_minor": 0,
  "metadata": {
    "colab": {
      "provenance": [],
      "authorship_tag": "ABX9TyMDBBdwFf/Hkk+8iCklTGbd",
      "include_colab_link": true
    },
    "kernelspec": {
      "name": "python3",
      "display_name": "Python 3"
    },
    "language_info": {
      "name": "python"
    }
  },
  "cells": [
    {
      "cell_type": "markdown",
      "metadata": {
        "id": "view-in-github",
        "colab_type": "text"
      },
      "source": [
        "<a href=\"https://colab.research.google.com/github/ovnarayana/Data-science/blob/main/Data_Types.ipynb\" target=\"_parent\"><img src=\"https://colab.research.google.com/assets/colab-badge.svg\" alt=\"Open In Colab\"/></a>"
      ]
    },
    {
      "cell_type": "markdown",
      "source": [
        "# Data\n",
        "\n",
        "Collection of information or facts."
      ],
      "metadata": {
        "id": "zRpCQPMF8CJd"
      }
    },
    {
      "cell_type": "markdown",
      "source": [
        "# Types of data\n",
        "* Numeric\n",
        "* Boolean\n",
        "* Strings\n",
        "\n",
        "--------------\n",
        "* Lists\n",
        "* tuples\n",
        "* set\n",
        "* dict"
      ],
      "metadata": {
        "id": "TRTrcUpg8Vtc"
      }
    },
    {
      "cell_type": "markdown",
      "source": [
        "# Numeric\n",
        "\n",
        "Numeric data are represented in the form of numbers.\n",
        "* integer\n",
        "* float\n",
        "* complex"
      ],
      "metadata": {
        "id": "L5YwUHPX8onO"
      }
    },
    {
      "cell_type": "markdown",
      "source": [
        "# Integer\n",
        "positive and negative whole numbers including zero in a number line\n",
        "\n",
        "* Eg: -5,-4,-3,-2,-1,0,1,2,3,4"
      ],
      "metadata": {
        "id": "j4qanX2e9W6L"
      }
    },
    {
      "cell_type": "code",
      "execution_count": 1,
      "metadata": {
        "colab": {
          "base_uri": "https://localhost:8080/"
        },
        "id": "avDblSr0P5dn",
        "outputId": "b88887b0-071a-4774-90c5-42e65ca7fe20"
      },
      "outputs": [
        {
          "output_type": "stream",
          "name": "stdout",
          "text": [
            "-100\n",
            "<class 'int'>\n"
          ]
        }
      ],
      "source": [
        "# define integer -100 and find its data type\n",
        "num = -100\n",
        "# print: function used to print the value of variables\n",
        "print (num)\n",
        "#type: it is used to find types of data\n",
        "print(type(num))"
      ]
    },
    {
      "cell_type": "code",
      "source": [
        "# define -100 and find its data type\n",
        "value = -100\n",
        "print(value)\n",
        "print(type(value))"
      ],
      "metadata": {
        "id": "GYS8RB4O_Dla",
        "outputId": "b59c71fd-8bd8-45bb-f8de-e7bfde8a7126",
        "colab": {
          "base_uri": "https://localhost:8080/"
        }
      },
      "execution_count": 2,
      "outputs": [
        {
          "output_type": "stream",
          "name": "stdout",
          "text": [
            "-100\n",
            "<class 'int'>\n"
          ]
        }
      ]
    },
    {
      "cell_type": "code",
      "source": [
        "print(value, type(value))"
      ],
      "metadata": {
        "id": "AUXLLLKA_gOn",
        "outputId": "1388637a-ecb4-49b8-d8e8-e6e4279571c7",
        "colab": {
          "base_uri": "https://localhost:8080/"
        }
      },
      "execution_count": 3,
      "outputs": [
        {
          "output_type": "stream",
          "name": "stdout",
          "text": [
            "-100 <class 'int'>\n"
          ]
        }
      ]
    },
    {
      "cell_type": "markdown",
      "source": [
        "# Float\n",
        "\n",
        "Float values are decimal values\n",
        "* Eg: -4.5,5.6,7.8,100.2"
      ],
      "metadata": {
        "id": "JWpy6YDYUg_N"
      }
    },
    {
      "cell_type": "code",
      "source": [
        "#define float 5.6 and find its data type\n",
        "x = 5.6\n",
        "print(x)\n",
        "print(type(x))"
      ],
      "metadata": {
        "colab": {
          "base_uri": "https://localhost:8080/"
        },
        "id": "J3juhX6ZS9Ii",
        "outputId": "4f824ed5-2aa7-4339-9b2d-6320cc9cc484"
      },
      "execution_count": null,
      "outputs": [
        {
          "output_type": "stream",
          "name": "stdout",
          "text": [
            "5.6\n",
            "<class 'float'>\n"
          ]
        }
      ]
    },
    {
      "cell_type": "code",
      "source": [
        "# define -10.5 and find its data type\n",
        "y = -10.5\n",
        "print(y)\n",
        "print(type(y))"
      ],
      "metadata": {
        "colab": {
          "base_uri": "https://localhost:8080/"
        },
        "id": "6V8F8xWuVMha",
        "outputId": "4f8cc882-ab36-4bf7-c771-cd267e3f226d"
      },
      "execution_count": null,
      "outputs": [
        {
          "output_type": "stream",
          "name": "stdout",
          "text": [
            "-10.5\n",
            "<class 'float'>\n"
          ]
        }
      ]
    },
    {
      "cell_type": "markdown",
      "source": [
        "# complex\n",
        "\n",
        "The numbers of the form 1-jb or a+jb where j are imaginary number (square root of -1) Eg: 3+4j, 5-6j"
      ],
      "metadata": {
        "id": "oZLglGsqVjKG"
      }
    },
    {
      "cell_type": "code",
      "source": [
        "#define 4+6j and find data types\n",
        "a = 4 + 6j\n",
        "print(a)\n",
        "print(type(a))"
      ],
      "metadata": {
        "id": "opDacl3XAcVn",
        "outputId": "d3c070ee-2391-46be-9d47-0bd029eb25ba",
        "colab": {
          "base_uri": "https://localhost:8080/"
        }
      },
      "execution_count": 4,
      "outputs": [
        {
          "output_type": "stream",
          "name": "stdout",
          "text": [
            "(4+6j)\n",
            "<class 'complex'>\n"
          ]
        }
      ]
    },
    {
      "cell_type": "markdown",
      "source": [
        "# Bool\n",
        "\n",
        "* it is represented in the form of True and False.\n",
        "* integer value of True is 1\n",
        "* integer value of False is 0"
      ],
      "metadata": {
        "id": "5FEwtjmfX4LF"
      }
    },
    {
      "cell_type": "code",
      "source": [
        "# define true and find its data type\n",
        "x = True\n",
        "print(x)\n",
        "print(type(x))"
      ],
      "metadata": {
        "colab": {
          "base_uri": "https://localhost:8080/"
        },
        "id": "3y9ayRdgVXuY",
        "outputId": "6cede3de-96b5-4cd1-dd07-ecc6243e2fe6"
      },
      "execution_count": null,
      "outputs": [
        {
          "output_type": "stream",
          "name": "stdout",
          "text": [
            "True\n",
            "<class 'bool'>\n"
          ]
        }
      ]
    },
    {
      "cell_type": "code",
      "source": [
        "# define true and find its data type\n",
        "x = False\n",
        "print(x)\n",
        "print(type(x))"
      ],
      "metadata": {
        "colab": {
          "base_uri": "https://localhost:8080/"
        },
        "id": "RzyiPUi_YZeE",
        "outputId": "0617c309-56d3-4a0f-81b7-65b62049baab"
      },
      "execution_count": null,
      "outputs": [
        {
          "output_type": "stream",
          "name": "stdout",
          "text": [
            "False\n",
            "<class 'bool'>\n"
          ]
        }
      ]
    },
    {
      "cell_type": "code",
      "source": [
        "2 < 3"
      ],
      "metadata": {
        "colab": {
          "base_uri": "https://localhost:8080/"
        },
        "id": "ICIp-1KQYsks",
        "outputId": "843da42b-3b72-488a-ee1e-f135c7785c7f"
      },
      "execution_count": null,
      "outputs": [
        {
          "output_type": "execute_result",
          "data": {
            "text/plain": [
              "True"
            ]
          },
          "metadata": {},
          "execution_count": 10
        }
      ]
    },
    {
      "cell_type": "markdown",
      "source": [
        "# String\n",
        "Srings are text of data which are made up of sequence of characters.\n",
        "\n",
        "* SQL, datascience, Shivani, Google"
      ],
      "metadata": {
        "id": "xbWWOhiXBAI8"
      }
    },
    {
      "cell_type": "markdown",
      "source": [
        "# Types of strings\n",
        "* Single line string\n",
        "* Multiline string"
      ],
      "metadata": {
        "id": "FfLg_N82BlMk"
      }
    },
    {
      "cell_type": "markdown",
      "source": [
        "# Single line string\n",
        "\n",
        "* string defined in single line\n",
        "* to define single line strings use either single quote('') or double quotes(\" \")."
      ],
      "metadata": {
        "id": "WUOWnpHlBzkn"
      }
    },
    {
      "cell_type": "code",
      "source": [
        "#define your name and find its data type\n",
        "name = 'narayana'\n",
        "print(name)\n",
        "print(type(name))"
      ],
      "metadata": {
        "colab": {
          "base_uri": "https://localhost:8080/"
        },
        "id": "JDB6DwYFY9zM",
        "outputId": "76e8bcc7-155a-4e3f-e0f8-1b633524ea31"
      },
      "execution_count": null,
      "outputs": [
        {
          "output_type": "stream",
          "name": "stdout",
          "text": [
            "narayana\n",
            "<class 'str'>\n"
          ]
        }
      ]
    },
    {
      "cell_type": "code",
      "source": [
        "name = \"narayana\"\n",
        "print(name)\n",
        "print(type(name))"
      ],
      "metadata": {
        "colab": {
          "base_uri": "https://localhost:8080/"
        },
        "id": "Zb31TcnNa55J",
        "outputId": "135632a0-acd6-4851-eaed-9e4e244b320c"
      },
      "execution_count": null,
      "outputs": [
        {
          "output_type": "stream",
          "name": "stdout",
          "text": [
            "narayana\n",
            "<class 'str'>\n"
          ]
        }
      ]
    },
    {
      "cell_type": "code",
      "source": [
        "#define life's crazy\n",
        "A = \"life's crazy\"\n",
        "print(A)\n",
        "print(type(A))"
      ],
      "metadata": {
        "colab": {
          "base_uri": "https://localhost:8080/"
        },
        "id": "ZRmM9zwgbN1I",
        "outputId": "455f3af3-e276-416c-c0f7-edb3f8716c51"
      },
      "execution_count": null,
      "outputs": [
        {
          "output_type": "stream",
          "name": "stdout",
          "text": [
            "life's crazy\n",
            "<class 'str'>\n"
          ]
        }
      ]
    },
    {
      "cell_type": "code",
      "source": [
        "#define life's crazy\n",
        "A = 'life\\'s crazy'\n",
        "print(A)\n",
        "print(type(A))"
      ],
      "metadata": {
        "colab": {
          "base_uri": "https://localhost:8080/"
        },
        "id": "fAmWcniwcOcB",
        "outputId": "7ea898cc-ba20-41d2-8747-747e7757a407"
      },
      "execution_count": null,
      "outputs": [
        {
          "output_type": "stream",
          "name": "stdout",
          "text": [
            "life's crazy\n",
            "<class 'str'>\n"
          ]
        }
      ]
    },
    {
      "cell_type": "markdown",
      "source": [
        "#Multiline strings\n",
        "\n",
        "* string written in multiple lines(paragraph)\n",
        "\n",
        "* Multiline strings are defined using triple single quotes(\"\") or triple double (\"\"\" \"\"\")"
      ],
      "metadata": {
        "id": "VZTIGS8JCv7N"
      }
    },
    {
      "cell_type": "code",
      "source": [
        "text =''' the concept of data in the context of computing has its roots in the work of claude shannon, an american mathematician known as the father of information theory.'''\n",
        "print(text)\n",
        "print(type(text))"
      ],
      "metadata": {
        "id": "4CJQpxQkDQc-",
        "outputId": "ce727a40-4213-4f13-9f2b-a96635ec35a9",
        "colab": {
          "base_uri": "https://localhost:8080/"
        }
      },
      "execution_count": 5,
      "outputs": [
        {
          "output_type": "stream",
          "name": "stdout",
          "text": [
            " the concept of data in the context of computing has its roots in the work of claude shannon, an american mathematician known as the father of information theory.\n",
            "<class 'str'>\n"
          ]
        }
      ]
    },
    {
      "cell_type": "code",
      "source": [
        "text = \"\"\"the concept of data in the context of computing has its roots in the work of claude shannon, an american mathematician known as the father of information theory.\"\"\"\n",
        "print(text)\n",
        "print(type(text))"
      ],
      "metadata": {
        "id": "sEBk3wUCD7pQ",
        "outputId": "f05005bf-a2d0-463a-8c02-e281db91d798",
        "colab": {
          "base_uri": "https://localhost:8080/"
        }
      },
      "execution_count": 6,
      "outputs": [
        {
          "output_type": "stream",
          "name": "stdout",
          "text": [
            "the concept of data in the context of computing has its roots in the work of claude shannon, an american mathematician known as the father of information theory.\n",
            "<class 'str'>\n"
          ]
        }
      ]
    },
    {
      "cell_type": "markdown",
      "source": [
        "# Datastructures\n",
        "Used to store multiple values of different data types."
      ],
      "metadata": {
        "id": "HXniu2LfEIID"
      }
    },
    {
      "cell_type": "markdown",
      "source": [
        "# Types\n",
        "\n",
        "* List\n",
        "* Tuple\n",
        "* set\n",
        "* dict"
      ],
      "metadata": {
        "id": "AGGmwTocEX9z"
      }
    },
    {
      "cell_type": "markdown",
      "source": [
        "# List\n",
        "\n",
        "it is a datastructure used to store multiple values."
      ],
      "metadata": {
        "id": "TnBl-rfgEoHo"
      }
    },
    {
      "cell_type": "markdown",
      "source": [
        "# How to create list\n",
        "\n",
        "Using [ ]we create list"
      ],
      "metadata": {
        "id": "f1MFHt-nE1vf"
      }
    },
    {
      "cell_type": "code",
      "source": [
        "# create list to store values 100,200,300,400,500\n",
        "A = [100,200,300,400,500]\n",
        "print(A)\n",
        "print(type(A))"
      ],
      "metadata": {
        "id": "nZTTp4eVFPn7",
        "outputId": "01f4b8b8-d349-4595-b2e2-4c9c251bb2b6",
        "colab": {
          "base_uri": "https://localhost:8080/"
        }
      },
      "execution_count": 8,
      "outputs": [
        {
          "output_type": "stream",
          "name": "stdout",
          "text": [
            "[100, 200, 300, 400, 500]\n",
            "<class 'list'>\n"
          ]
        }
      ]
    },
    {
      "cell_type": "code",
      "source": [
        "# create list to store value a,b,c,d,e,f\n",
        "A = ['a','b','c','d','e','f']\n",
        "print (A)\n",
        "print(type(A))"
      ],
      "metadata": {
        "colab": {
          "base_uri": "https://localhost:8080/"
        },
        "id": "ZbB-B2XxdGWf",
        "outputId": "e7900b73-2127-4be6-9951-51f4f522c4a2"
      },
      "execution_count": null,
      "outputs": [
        {
          "output_type": "stream",
          "name": "stdout",
          "text": [
            "['a', 'b', 'c', 'd', 'e', 'f']\n",
            "<class 'list'>\n"
          ]
        }
      ]
    },
    {
      "cell_type": "code",
      "source": [
        "A = ['a, b, c, d']\n",
        "print(A)\n",
        "print(type(A))"
      ],
      "metadata": {
        "id": "gCAEiLOeGGJU",
        "outputId": "c2dae199-5dcf-4ee8-aaa2-98320f62de3c",
        "colab": {
          "base_uri": "https://localhost:8080/"
        }
      },
      "execution_count": 9,
      "outputs": [
        {
          "output_type": "stream",
          "name": "stdout",
          "text": [
            "['a, b, c, d']\n",
            "<class 'list'>\n"
          ]
        }
      ]
    },
    {
      "cell_type": "code",
      "source": [
        "#create list to store sql , 1000, true,3+4j, 6.7\n",
        "mix = ['sql', 1000, True, 3+4j,6.7]\n",
        "print (mix, print(type(mix)))"
      ],
      "metadata": {
        "colab": {
          "base_uri": "https://localhost:8080/"
        },
        "id": "rI2icZbAfqzb",
        "outputId": "8bf5fb97-0906-4689-d7ad-b50de584c69a"
      },
      "execution_count": null,
      "outputs": [
        {
          "output_type": "stream",
          "name": "stdout",
          "text": [
            "<class 'list'>\n",
            "['sql', 1000, True, (3+4j), 6.7] None\n"
          ]
        }
      ]
    },
    {
      "cell_type": "markdown",
      "source": [
        "# properties of list\n",
        "\n",
        "1. Lists are Ordered: Elements of list takes a fixed position. indexing and slicing(fetching elements possible).\n",
        "2. Lists are Multible: List elements can be modified (change, add, delete)\n",
        "3. lists allow duplicates: list can have repeated values.\n"
      ],
      "metadata": {
        "id": "_xsyOySzG1v0"
      }
    },
    {
      "cell_type": "code",
      "source": [
        "# mutable\n",
        "# change 300 as 3000\n",
        "A =[100,200,300,400]\n",
        "# index =[0,1,2,3] #indexing starts with 0\n",
        "#fetch 300\n",
        "A[2]= 3000\n",
        "print(A)"
      ],
      "metadata": {
        "id": "LhFt7Bk-HxGc",
        "outputId": "e59416a8-7f0b-4615-f0a2-b5be8e14b71d",
        "colab": {
          "base_uri": "https://localhost:8080/"
        }
      },
      "execution_count": 10,
      "outputs": [
        {
          "output_type": "stream",
          "name": "stdout",
          "text": [
            "[100, 200, 3000, 400]\n"
          ]
        }
      ]
    },
    {
      "cell_type": "code",
      "source": [
        "list(enumerate(A)) #index of evry element"
      ],
      "metadata": {
        "id": "w7qhJxTiIwFu",
        "outputId": "d4841a14-d691-47c5-97a8-13c3d20b437f",
        "colab": {
          "base_uri": "https://localhost:8080/"
        }
      },
      "execution_count": 11,
      "outputs": [
        {
          "output_type": "execute_result",
          "data": {
            "text/plain": [
              "[(0, 100), (1, 200), (2, 3000), (3, 400)]"
            ]
          },
          "metadata": {},
          "execution_count": 11
        }
      ]
    },
    {
      "cell_type": "code",
      "source": [
        "A =  [10,20,30,40,50]\n",
        "A [1] =\"twenty\"\n",
        "print(A)"
      ],
      "metadata": {
        "colab": {
          "base_uri": "https://localhost:8080/"
        },
        "id": "9tmqaPE4hA6_",
        "outputId": "bafbb7c8-090c-49a8-e849-54e572f65c3b"
      },
      "execution_count": null,
      "outputs": [
        {
          "output_type": "stream",
          "name": "stdout",
          "text": [
            "[10, 'twenty', 30, 40, 50]\n"
          ]
        }
      ]
    },
    {
      "cell_type": "markdown",
      "source": [
        "# Tuple\n",
        "Tuples are used to store multiple values."
      ],
      "metadata": {
        "id": "UmvldazEJAeV"
      }
    },
    {
      "cell_type": "markdown",
      "source": [
        "# How to create Tuple\n",
        "\n",
        "use() to create tuple"
      ],
      "metadata": {
        "id": "4cO95wZcJLRU"
      }
    },
    {
      "cell_type": "code",
      "source": [
        "# create tuple to store 1000,2000,3000,4000\n",
        "A = (100,200,300,4000)\n",
        "print (A)\n",
        "print(type(A))"
      ],
      "metadata": {
        "id": "X2E_bZGgtBCC",
        "outputId": "3f71c305-9fea-4875-a9fe-1475b57185a0",
        "colab": {
          "base_uri": "https://localhost:8080/"
        }
      },
      "execution_count": 13,
      "outputs": [
        {
          "output_type": "stream",
          "name": "stdout",
          "text": [
            "(100, 200, 300, 4000)\n",
            "<class 'tuple'>\n"
          ]
        }
      ]
    },
    {
      "cell_type": "code",
      "source": [
        "# create tuple of skills python, sql, R, Java using tuple function\n",
        "skills =('python', 'sql', 'R', 'Java')\n",
        "print(skills)\n",
        "print(type(skills))"
      ],
      "metadata": {
        "id": "vz8wwWSMrSaX",
        "outputId": "1a7c73ca-00ab-4a55-eb28-0fbf7c31adc9",
        "colab": {
          "base_uri": "https://localhost:8080/"
        }
      },
      "execution_count": 23,
      "outputs": [
        {
          "output_type": "stream",
          "name": "stdout",
          "text": [
            "('python', 'sql', 'R', 'Java')\n",
            "<class 'tuple'>\n"
          ]
        }
      ]
    },
    {
      "cell_type": "code",
      "source": [
        "skills[1]"
      ],
      "metadata": {
        "id": "BCsBhlyPRfSW",
        "outputId": "44d79272-f9dd-4e36-fc1b-bf37efdb6d6c",
        "colab": {
          "base_uri": "https://localhost:8080/",
          "height": 36
        }
      },
      "execution_count": 24,
      "outputs": [
        {
          "output_type": "execute_result",
          "data": {
            "text/plain": [
              "'sql'"
            ],
            "application/vnd.google.colaboratory.intrinsic+json": {
              "type": "string"
            }
          },
          "metadata": {},
          "execution_count": 24
        }
      ]
    },
    {
      "cell_type": "markdown",
      "source": [
        "# Properties of Tuples\n",
        "* Tuples are ordered: Elements in tuple have fixed positions(indexing and slicing possible)\n",
        "* Tuples are Immutable(no changes can be done once create)\n",
        "* Tuple allows duplicates\n"
      ],
      "metadata": {
        "id": "_XkDRC24KfSu"
      }
    },
    {
      "cell_type": "code",
      "source": [
        "A =(100,200,300,400)\n",
        "# change 200 as sql\n",
        "A[1] = 'sql'"
      ],
      "metadata": {
        "id": "Wq6QIG4-KZK2",
        "outputId": "b6ecc719-b0c0-42b9-94c4-2a74df3a623d",
        "colab": {
          "base_uri": "https://localhost:8080/",
          "height": 176
        }
      },
      "execution_count": 15,
      "outputs": [
        {
          "output_type": "error",
          "ename": "TypeError",
          "evalue": "'tuple' object does not support item assignment",
          "traceback": [
            "\u001b[0;31m---------------------------------------------------------------------------\u001b[0m",
            "\u001b[0;31mTypeError\u001b[0m                                 Traceback (most recent call last)",
            "\u001b[0;32m<ipython-input-15-8a145a9b4a59>\u001b[0m in \u001b[0;36m<cell line: 0>\u001b[0;34m()\u001b[0m\n\u001b[1;32m      1\u001b[0m \u001b[0mA\u001b[0m \u001b[0;34m=\u001b[0m\u001b[0;34m(\u001b[0m\u001b[0;36m100\u001b[0m\u001b[0;34m,\u001b[0m\u001b[0;36m200\u001b[0m\u001b[0;34m,\u001b[0m\u001b[0;36m300\u001b[0m\u001b[0;34m,\u001b[0m\u001b[0;36m400\u001b[0m\u001b[0;34m)\u001b[0m\u001b[0;34m\u001b[0m\u001b[0;34m\u001b[0m\u001b[0m\n\u001b[1;32m      2\u001b[0m \u001b[0;31m# change 200 as sql\u001b[0m\u001b[0;34m\u001b[0m\u001b[0;34m\u001b[0m\u001b[0m\n\u001b[0;32m----> 3\u001b[0;31m \u001b[0mA\u001b[0m\u001b[0;34m[\u001b[0m\u001b[0;36m1\u001b[0m\u001b[0;34m]\u001b[0m \u001b[0;34m=\u001b[0m \u001b[0;34m'sql'\u001b[0m\u001b[0;34m\u001b[0m\u001b[0;34m\u001b[0m\u001b[0m\n\u001b[0m",
            "\u001b[0;31mTypeError\u001b[0m: 'tuple' object does not support item assignment"
          ]
        }
      ]
    },
    {
      "cell_type": "markdown",
      "source": [
        "# List vs tuple\n",
        "\n",
        "Lists are mutable but tuples are immutable"
      ],
      "metadata": {
        "id": "5X2HBAFCLyyk"
      }
    },
    {
      "cell_type": "markdown",
      "source": [
        "# Sets\n",
        "\n",
        "Sets are collection of unique elements"
      ],
      "metadata": {
        "id": "rMn_y_rtMMS9"
      }
    },
    {
      "cell_type": "markdown",
      "source": [
        "# how to create set?\n",
        "Sets are create using{}"
      ],
      "metadata": {
        "id": "0cnnDFMdMW72"
      }
    },
    {
      "cell_type": "code",
      "source": [
        "# create set to store values 10,20,30,40.5,60,70,80,90\n",
        "A ={10,20,30,40.5,60,70,80,90}\n",
        "print(A)\n",
        "print(type(A))"
      ],
      "metadata": {
        "id": "5gfsCq_lLnn7",
        "outputId": "54d7a9a9-c992-420a-a7db-60c8662d5a9c",
        "colab": {
          "base_uri": "https://localhost:8080/"
        }
      },
      "execution_count": 16,
      "outputs": [
        {
          "output_type": "stream",
          "name": "stdout",
          "text": [
            "{70, 40.5, 10, 80, 20, 90, 60, 30}\n",
            "<class 'set'>\n"
          ]
        }
      ]
    },
    {
      "cell_type": "code",
      "source": [
        "A[2]"
      ],
      "metadata": {
        "id": "NFQSksvkRvOY",
        "outputId": "93115e17-ef1b-4f20-aaf8-205f243aab80",
        "colab": {
          "base_uri": "https://localhost:8080/",
          "height": 141
        }
      },
      "execution_count": 25,
      "outputs": [
        {
          "output_type": "error",
          "ename": "TypeError",
          "evalue": "'set' object is not subscriptable",
          "traceback": [
            "\u001b[0;31m---------------------------------------------------------------------------\u001b[0m",
            "\u001b[0;31mTypeError\u001b[0m                                 Traceback (most recent call last)",
            "\u001b[0;32m<ipython-input-25-d90411c862f7>\u001b[0m in \u001b[0;36m<cell line: 0>\u001b[0;34m()\u001b[0m\n\u001b[0;32m----> 1\u001b[0;31m \u001b[0mA\u001b[0m\u001b[0;34m[\u001b[0m\u001b[0;36m2\u001b[0m\u001b[0;34m]\u001b[0m\u001b[0;34m\u001b[0m\u001b[0;34m\u001b[0m\u001b[0m\n\u001b[0m",
            "\u001b[0;31mTypeError\u001b[0m: 'set' object is not subscriptable"
          ]
        }
      ]
    },
    {
      "cell_type": "markdown",
      "source": [
        "Properties of sets\n",
        "\n",
        "1. Sets are unordered: it takes random places(No indexing and slicing).\n",
        "2. Sets are Mutable(add,remove) but set elements are immutable (change them)\n",
        "3.Sets doesn't allow duplicates"
      ],
      "metadata": {
        "id": "u21tO30kNcdm"
      }
    },
    {
      "cell_type": "code",
      "source": [
        "A = {1,2,1,11,1,111,2}\n",
        "print(A)"
      ],
      "metadata": {
        "id": "wqzybfYfM_JI",
        "outputId": "8f6d48ba-9384-4eb7-fd40-017a04426485",
        "colab": {
          "base_uri": "https://localhost:8080/"
        }
      },
      "execution_count": 18,
      "outputs": [
        {
          "output_type": "stream",
          "name": "stdout",
          "text": [
            "{1, 2, 11, 111}\n"
          ]
        }
      ]
    },
    {
      "cell_type": "markdown",
      "source": [
        "# dict\n",
        "it is one of the data structure used to store values in key-value pair(key:value)\n",
        "\n",
        "# Properties\n",
        "\n",
        "* Dict are ordered\n",
        "* Dict are mutable\n",
        "* No repeatative keys\n",
        "* There can be repeatative values"
      ],
      "metadata": {
        "id": "bMHm5DThORIW"
      }
    },
    {
      "cell_type": "markdown",
      "source": [
        "# Ways\n",
        "* {Key:value}"
      ],
      "metadata": {
        "id": "vCbhHi50O1Yk"
      }
    },
    {
      "cell_type": "code",
      "source": [
        "# name is zara , age= 24 , job=HR, salary=40000\n",
        "info = {'name': 'zara', 'age': 24, 'job': 'HR', 'salary': 40000}\n",
        "print(info)\n",
        "print(type(info))"
      ],
      "metadata": {
        "id": "7zJ9afJuOE6O",
        "outputId": "b2c9e934-4118-4b95-ada9-a442ede4fb04",
        "colab": {
          "base_uri": "https://localhost:8080/"
        }
      },
      "execution_count": 19,
      "outputs": [
        {
          "output_type": "stream",
          "name": "stdout",
          "text": [
            "{'name': 'zara', 'age': 24, 'job': 'HR', 'salary': 40000}\n",
            "<class 'dict'>\n"
          ]
        }
      ]
    },
    {
      "cell_type": "code",
      "source": [
        "# name is zara , age= 24 , job=HR, salary=40000\n",
        "info = {'name': 'zara', 'age': 24, 'job': 'HR', 'salary': 40000, 'salary': 90000}\n",
        "print(info)\n",
        "print(type(info))"
      ],
      "metadata": {
        "id": "le6j5_NtP0KV",
        "outputId": "aa695839-9caa-4b53-dd27-587567a66361",
        "colab": {
          "base_uri": "https://localhost:8080/"
        }
      },
      "execution_count": 20,
      "outputs": [
        {
          "output_type": "stream",
          "name": "stdout",
          "text": [
            "{'name': 'zara', 'age': 24, 'job': 'HR', 'salary': 90000}\n",
            "<class 'dict'>\n"
          ]
        }
      ]
    },
    {
      "cell_type": "code",
      "source": [
        "df = {'name': 'Jeevitha', 'place': 'Bangalore', 'product' :['Phone', 'Mic', 'Bag'] }\n",
        "print(df)"
      ],
      "metadata": {
        "id": "Tm2VWJECQOhU",
        "outputId": "7555817c-7d66-4ee6-8720-b6c92004d18c",
        "colab": {
          "base_uri": "https://localhost:8080/"
        }
      },
      "execution_count": 21,
      "outputs": [
        {
          "output_type": "stream",
          "name": "stdout",
          "text": [
            "{'name': 'Jeevitha', 'place': 'Bangalore', 'product': ['Phone', 'Mic', 'Bag']}\n"
          ]
        }
      ]
    },
    {
      "cell_type": "code",
      "source": [
        "df['product']"
      ],
      "metadata": {
        "id": "Yc0fgrtoQTxq",
        "outputId": "997dbc60-0b1d-441d-84a3-f77a87862fef",
        "colab": {
          "base_uri": "https://localhost:8080/"
        }
      },
      "execution_count": 22,
      "outputs": [
        {
          "output_type": "execute_result",
          "data": {
            "text/plain": [
              "['Phone', 'Mic', 'Bag']"
            ]
          },
          "metadata": {},
          "execution_count": 22
        }
      ]
    },
    {
      "cell_type": "code",
      "source": [],
      "metadata": {
        "id": "4vyImARuQfME"
      },
      "execution_count": null,
      "outputs": []
    }
  ]
}