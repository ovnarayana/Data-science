{
  "nbformat": 4,
  "nbformat_minor": 0,
  "metadata": {
    "colab": {
      "provenance": [],
      "authorship_tag": "ABX9TyMwkcbRq1WyEZEvhHooRuF3",
      "include_colab_link": true
    },
    "kernelspec": {
      "name": "python3",
      "display_name": "Python 3"
    },
    "language_info": {
      "name": "python"
    }
  },
  "cells": [
    {
      "cell_type": "markdown",
      "metadata": {
        "id": "view-in-github",
        "colab_type": "text"
      },
      "source": [
        "<a href=\"https://colab.research.google.com/github/ovnarayana/Data-science/blob/main/Data_Types.ipynb\" target=\"_parent\"><img src=\"https://colab.research.google.com/assets/colab-badge.svg\" alt=\"Open In Colab\"/></a>"
      ]
    },
    {
      "cell_type": "code",
      "execution_count": null,
      "metadata": {
        "colab": {
          "base_uri": "https://localhost:8080/"
        },
        "id": "avDblSr0P5dn",
        "outputId": "5d6076a6-f847-4bbd-9abb-872e71ce02d4"
      },
      "outputs": [
        {
          "output_type": "stream",
          "name": "stdout",
          "text": [
            "-100\n",
            "<class 'int'>\n"
          ]
        }
      ],
      "source": [
        "# define -100 and find its data type\n",
        "num = -100\n",
        "print (num)\n",
        "print(type(num))"
      ]
    },
    {
      "cell_type": "markdown",
      "source": [
        "# Float\n",
        "\n",
        "Float values are decimal values\n",
        "* Eg: -4.5,5.6,7.8,100.2"
      ],
      "metadata": {
        "id": "JWpy6YDYUg_N"
      }
    },
    {
      "cell_type": "code",
      "source": [
        "#define float 5.6 and find its data type\n",
        "x = 5.6\n",
        "print(x)\n",
        "print(type(x))"
      ],
      "metadata": {
        "colab": {
          "base_uri": "https://localhost:8080/"
        },
        "id": "J3juhX6ZS9Ii",
        "outputId": "4f824ed5-2aa7-4339-9b2d-6320cc9cc484"
      },
      "execution_count": null,
      "outputs": [
        {
          "output_type": "stream",
          "name": "stdout",
          "text": [
            "5.6\n",
            "<class 'float'>\n"
          ]
        }
      ]
    },
    {
      "cell_type": "code",
      "source": [
        "# define -10.5 and find its data type\n",
        "y = -10.5\n",
        "print(y)\n",
        "print(type(y))"
      ],
      "metadata": {
        "colab": {
          "base_uri": "https://localhost:8080/"
        },
        "id": "6V8F8xWuVMha",
        "outputId": "4f8cc882-ab36-4bf7-c771-cd267e3f226d"
      },
      "execution_count": null,
      "outputs": [
        {
          "output_type": "stream",
          "name": "stdout",
          "text": [
            "-10.5\n",
            "<class 'float'>\n"
          ]
        }
      ]
    },
    {
      "cell_type": "markdown",
      "source": [
        "# complex\n",
        "\n",
        "The numbers of the form 1-jb or a+jb where j are imaginary number (square root of -1)"
      ],
      "metadata": {
        "id": "oZLglGsqVjKG"
      }
    },
    {
      "cell_type": "markdown",
      "source": [
        "# Bool\n",
        "\n",
        "* it is represented in the form of True and False.\n",
        "* integer value of True is 1\n",
        "* integer value of False is 0"
      ],
      "metadata": {
        "id": "5FEwtjmfX4LF"
      }
    },
    {
      "cell_type": "code",
      "source": [
        "# define true and find its data type\n",
        "x = True\n",
        "print(x)\n",
        "print(type(x))"
      ],
      "metadata": {
        "colab": {
          "base_uri": "https://localhost:8080/"
        },
        "id": "3y9ayRdgVXuY",
        "outputId": "6cede3de-96b5-4cd1-dd07-ecc6243e2fe6"
      },
      "execution_count": null,
      "outputs": [
        {
          "output_type": "stream",
          "name": "stdout",
          "text": [
            "True\n",
            "<class 'bool'>\n"
          ]
        }
      ]
    },
    {
      "cell_type": "code",
      "source": [
        "# define true and find its data type\n",
        "x = False\n",
        "print(x)\n",
        "print(type(x))"
      ],
      "metadata": {
        "colab": {
          "base_uri": "https://localhost:8080/"
        },
        "id": "RzyiPUi_YZeE",
        "outputId": "0617c309-56d3-4a0f-81b7-65b62049baab"
      },
      "execution_count": null,
      "outputs": [
        {
          "output_type": "stream",
          "name": "stdout",
          "text": [
            "False\n",
            "<class 'bool'>\n"
          ]
        }
      ]
    },
    {
      "cell_type": "code",
      "source": [
        "2 < 3"
      ],
      "metadata": {
        "colab": {
          "base_uri": "https://localhost:8080/"
        },
        "id": "ICIp-1KQYsks",
        "outputId": "843da42b-3b72-488a-ee1e-f135c7785c7f"
      },
      "execution_count": null,
      "outputs": [
        {
          "output_type": "execute_result",
          "data": {
            "text/plain": [
              "True"
            ]
          },
          "metadata": {},
          "execution_count": 10
        }
      ]
    },
    {
      "cell_type": "code",
      "source": [
        "name = 'narayana'\n",
        "print(name)\n",
        "print(type(name))"
      ],
      "metadata": {
        "colab": {
          "base_uri": "https://localhost:8080/"
        },
        "id": "JDB6DwYFY9zM",
        "outputId": "76e8bcc7-155a-4e3f-e0f8-1b633524ea31"
      },
      "execution_count": null,
      "outputs": [
        {
          "output_type": "stream",
          "name": "stdout",
          "text": [
            "narayana\n",
            "<class 'str'>\n"
          ]
        }
      ]
    },
    {
      "cell_type": "code",
      "source": [
        "name = \"narayana\"\n",
        "print(name)\n",
        "print(type(name))"
      ],
      "metadata": {
        "colab": {
          "base_uri": "https://localhost:8080/"
        },
        "id": "Zb31TcnNa55J",
        "outputId": "135632a0-acd6-4851-eaed-9e4e244b320c"
      },
      "execution_count": null,
      "outputs": [
        {
          "output_type": "stream",
          "name": "stdout",
          "text": [
            "narayana\n",
            "<class 'str'>\n"
          ]
        }
      ]
    },
    {
      "cell_type": "code",
      "source": [
        "#define life's crazy\n",
        "A = \"life's crazy\"\n",
        "print(A)\n",
        "print(type(A))"
      ],
      "metadata": {
        "colab": {
          "base_uri": "https://localhost:8080/"
        },
        "id": "ZRmM9zwgbN1I",
        "outputId": "455f3af3-e276-416c-c0f7-edb3f8716c51"
      },
      "execution_count": null,
      "outputs": [
        {
          "output_type": "stream",
          "name": "stdout",
          "text": [
            "life's crazy\n",
            "<class 'str'>\n"
          ]
        }
      ]
    },
    {
      "cell_type": "code",
      "source": [
        "#define life's crazy\n",
        "A = 'life\\'s crazy'\n",
        "print(A)\n",
        "print(type(A))"
      ],
      "metadata": {
        "colab": {
          "base_uri": "https://localhost:8080/"
        },
        "id": "fAmWcniwcOcB",
        "outputId": "7ea898cc-ba20-41d2-8747-747e7757a407"
      },
      "execution_count": null,
      "outputs": [
        {
          "output_type": "stream",
          "name": "stdout",
          "text": [
            "life's crazy\n",
            "<class 'str'>\n"
          ]
        }
      ]
    },
    {
      "cell_type": "code",
      "source": [
        "# create list to store value a,b,c,d,e,f\n",
        "A = ['a','b','c','d','e','f']\n",
        "print (A)\n",
        "print(type(A))"
      ],
      "metadata": {
        "colab": {
          "base_uri": "https://localhost:8080/"
        },
        "id": "ZbB-B2XxdGWf",
        "outputId": "e7900b73-2127-4be6-9951-51f4f522c4a2"
      },
      "execution_count": null,
      "outputs": [
        {
          "output_type": "stream",
          "name": "stdout",
          "text": [
            "['a', 'b', 'c', 'd', 'e', 'f']\n",
            "<class 'list'>\n"
          ]
        }
      ]
    },
    {
      "cell_type": "code",
      "source": [
        "mix = ['sql', 1000, True, 3+4j,6.7]\n",
        "print (mix, print(type(mix)))"
      ],
      "metadata": {
        "colab": {
          "base_uri": "https://localhost:8080/"
        },
        "id": "rI2icZbAfqzb",
        "outputId": "8bf5fb97-0906-4689-d7ad-b50de584c69a"
      },
      "execution_count": null,
      "outputs": [
        {
          "output_type": "stream",
          "name": "stdout",
          "text": [
            "<class 'list'>\n",
            "['sql', 1000, True, (3+4j), 6.7] None\n"
          ]
        }
      ]
    },
    {
      "cell_type": "code",
      "source": [
        "A =  [10,20,30,40,50]\n",
        "A [1] =\"twenty\"\n",
        "print(A)"
      ],
      "metadata": {
        "colab": {
          "base_uri": "https://localhost:8080/"
        },
        "id": "9tmqaPE4hA6_",
        "outputId": "bafbb7c8-090c-49a8-e849-54e572f65c3b"
      },
      "execution_count": null,
      "outputs": [
        {
          "output_type": "stream",
          "name": "stdout",
          "text": [
            "[10, 'twenty', 30, 40, 50]\n"
          ]
        }
      ]
    },
    {
      "cell_type": "code",
      "source": [
        "A = {100,200,300,400}\n",
        "A"
      ],
      "metadata": {
        "id": "X2E_bZGgtBCC"
      },
      "execution_count": null,
      "outputs": []
    },
    {
      "cell_type": "code",
      "source": [],
      "metadata": {
        "id": "vz8wwWSMrSaX"
      },
      "execution_count": null,
      "outputs": []
    }
  ]
}