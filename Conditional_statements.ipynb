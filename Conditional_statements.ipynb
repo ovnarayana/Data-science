{
  "nbformat": 4,
  "nbformat_minor": 0,
  "metadata": {
    "colab": {
      "provenance": [],
      "authorship_tag": "ABX9TyOTy0ZlFXASJsCgDFzL12KQ",
      "include_colab_link": true
    },
    "kernelspec": {
      "name": "python3",
      "display_name": "Python 3"
    },
    "language_info": {
      "name": "python"
    }
  },
  "cells": [
    {
      "cell_type": "markdown",
      "metadata": {
        "id": "view-in-github",
        "colab_type": "text"
      },
      "source": [
        "<a href=\"https://colab.research.google.com/github/ovnarayana/Data-science/blob/main/Conditional_statements.ipynb\" target=\"_parent\"><img src=\"https://colab.research.google.com/assets/colab-badge.svg\" alt=\"Open In Colab\"/></a>"
      ]
    },
    {
      "cell_type": "markdown",
      "source": [
        "# Statements\n",
        "set of instructions/code used to perform certain task."
      ],
      "metadata": {
        "id": "j0YQAGoVq7Cp"
      }
    },
    {
      "cell_type": "markdown",
      "source": [
        "# Types of statements\n",
        "\n",
        "* simple statements\n",
        "* compound statements\n"
      ],
      "metadata": {
        "id": "BLabmV07rCDZ"
      }
    },
    {
      "cell_type": "markdown",
      "source": [
        "# Simple statements\n",
        "\n",
        "A simple statements consists of a single line of code that performs an action. it does not contain nested blocks or multiple instructions."
      ],
      "metadata": {
        "id": "XwAYEsqOrLV5"
      }
    },
    {
      "cell_type": "code",
      "source": [
        "x = 5\n",
        "print(x)"
      ],
      "metadata": {
        "colab": {
          "base_uri": "https://localhost:8080/"
        },
        "id": "0Av3G466rKlj",
        "outputId": "ad3c3ce3-7466-4527-bee7-d5da39f3b061"
      },
      "execution_count": 2,
      "outputs": [
        {
          "output_type": "stream",
          "name": "stdout",
          "text": [
            "5\n"
          ]
        }
      ]
    },
    {
      "cell_type": "code",
      "source": [
        "print(\"hello\")"
      ],
      "metadata": {
        "colab": {
          "base_uri": "https://localhost:8080/"
        },
        "id": "ZSNnE4ltrhIX",
        "outputId": "82934075-ff3e-4e2b-fb9f-5b8ec4249239"
      },
      "execution_count": 3,
      "outputs": [
        {
          "output_type": "stream",
          "name": "stdout",
          "text": [
            "hello\n"
          ]
        }
      ]
    },
    {
      "cell_type": "markdown",
      "source": [
        "# compound statements\n",
        "\n",
        "A compound statement contains multiple instructions, often grouped info blocks, and can span multiple lines. These statements often include control flow structures like conditionals,loops, or functions.\n",
        "\n"
      ],
      "metadata": {
        "id": "HSYJCox2rnp2"
      }
    },
    {
      "cell_type": "markdown",
      "source": [
        "# conditional statement\n",
        "\n",
        "A conditional statement allows a program to make decisions based on whether a condition is True or False. In Python, the if, elif, and else keywords are used to define conditional statements."
      ],
      "metadata": {
        "id": "m6RaJxoRsCuX"
      }
    },
    {
      "cell_type": "code",
      "source": [
        "10 > 30"
      ],
      "metadata": {
        "colab": {
          "base_uri": "https://localhost:8080/"
        },
        "id": "_52lwBTMrkJU",
        "outputId": "7a4b05f1-848d-44ab-c3e6-c7dae914c0c4"
      },
      "execution_count": 1,
      "outputs": [
        {
          "output_type": "execute_result",
          "data": {
            "text/plain": [
              "False"
            ]
          },
          "metadata": {},
          "execution_count": 1
        }
      ]
    },
    {
      "cell_type": "markdown",
      "source": [
        "# If\n",
        "\n",
        "Used to check condition and make decisions based on whether condition is true or false"
      ],
      "metadata": {
        "id": "wep5FYGKO9mT"
      }
    },
    {
      "cell_type": "markdown",
      "source": [
        "if condition:\n",
        "\n",
        "  statements(decisions)"
      ],
      "metadata": {
        "id": "mT_mE3m4PX1u"
      }
    },
    {
      "cell_type": "code",
      "source": [
        "10 > 30"
      ],
      "metadata": {
        "colab": {
          "base_uri": "https://localhost:8080/"
        },
        "id": "D5UoUyQ6OxqL",
        "outputId": "8545ae55-4891-4bc1-88ad-33a78a5c5134"
      },
      "execution_count": 3,
      "outputs": [
        {
          "output_type": "execute_result",
          "data": {
            "text/plain": [
              "False"
            ]
          },
          "metadata": {},
          "execution_count": 3
        }
      ]
    },
    {
      "cell_type": "code",
      "source": [
        "# first check whether 10>5 if its true print \"Yes 10 greater than 5\"\n",
        "if 10>5: #True\n",
        "  print(\"yes 10 is greater than5\")\n",
        "  print(\"done\")\n",
        "#print (\"all good\")\n"
      ],
      "metadata": {
        "colab": {
          "base_uri": "https://localhost:8080/"
        },
        "id": "0sBoSCyWPSr5",
        "outputId": "0064b3ca-ccc1-42db-bcbc-201135e6b2eb"
      },
      "execution_count": 4,
      "outputs": [
        {
          "output_type": "stream",
          "name": "stdout",
          "text": [
            "yes 10 is greater than5\n",
            "done\n"
          ]
        }
      ]
    },
    {
      "cell_type": "markdown",
      "source": [
        "1. Condition: Use the if keyword followed by the condition 10 > 5.\n",
        "2. True Block: if the condition is true, execute the code inside the block.\n",
        "3. indentation: indent the code to indicate it belongs to the conditional block.\n",
        "4. Output: print the result if the condition evaluates to true"
      ],
      "metadata": {
        "id": "MTJ5T-JZQKtf"
      }
    },
    {
      "cell_type": "markdown",
      "source": [
        "# Indentation\n",
        "\n",
        "Indentation in python, indentation is used to determine the grouping of code blocks. it is a way of visually indicating which statements are part of a particular code block,such as a function,loop,or conditional statement.\n",
        "\n",
        "Indentation is done using spaces or tabs, but it is important to be consistent in the style used throughout the code. Typically, four spaces are used for each level of indentation.\n"
      ],
      "metadata": {
        "id": "AnRqlkggQ4xp"
      }
    },
    {
      "cell_type": "code",
      "source": [
        "''' create an input function to input age , verify whether Ridaa is eligible to vote or not , if Ridaa's age is 30'''\n",
        "age = int(input(\"enter the age:\"))\n",
        "if age>=18:\n",
        "  print(\"eligible to vote\")"
      ],
      "metadata": {
        "colab": {
          "base_uri": "https://localhost:8080/"
        },
        "id": "0vgka49jQIYK",
        "outputId": "6314a9a4-2602-4f09-dc6c-30e241e55fe6"
      },
      "execution_count": 6,
      "outputs": [
        {
          "output_type": "stream",
          "name": "stdout",
          "text": [
            "enter the age:25\n",
            "eligible to vote\n"
          ]
        }
      ]
    },
    {
      "cell_type": "markdown",
      "source": [
        "# else\n",
        "\n",
        "The else condition in python provides an alternative block of code/decision that executes when the if condition evaluates of False.\n",
        "\n",
        "if-else"
      ],
      "metadata": {
        "id": "kYFMt3TQSw5B"
      }
    },
    {
      "cell_type": "markdown",
      "source": [
        "```\n",
        "if condition:\n",
        "  statements(when if condition is True)\n",
        "else:\n",
        "  statements(when if condition is False)\n",
        "```"
      ],
      "metadata": {
        "id": "84xDq3GqTKDQ"
      }
    },
    {
      "cell_type": "code",
      "source": [
        "age = int(input(\"enter the age:\"))\n",
        "if age>=18: #30>=18:True\n",
        "  print(\"eligible to vote\")\n",
        "else:\n",
        "  print(\"not eligible to vote\")\n",
        "\n"
      ],
      "metadata": {
        "colab": {
          "base_uri": "https://localhost:8080/"
        },
        "id": "zaPUNxRUSjF2",
        "outputId": "211aa34a-4659-4fba-dd7c-6dbc6ea03677"
      },
      "execution_count": 8,
      "outputs": [
        {
          "output_type": "stream",
          "name": "stdout",
          "text": [
            "enter the age:26\n",
            "eligible to vote\n"
          ]
        }
      ]
    },
    {
      "cell_type": "code",
      "source": [
        "''' define input function to input an integer -40\n",
        " write a condition to verify -40 is positive or negative'''\n",
        "num = int(input())\n",
        "if num>0:\n",
        "  print(f\"{num} is positive\")\n",
        "else:\n",
        "  print(f\"{num} is negative\")"
      ],
      "metadata": {
        "colab": {
          "base_uri": "https://localhost:8080/"
        },
        "id": "WTsacabpWd_u",
        "outputId": "1488f904-4304-4fe1-c1f1-1f37463ccc12"
      },
      "execution_count": 18,
      "outputs": [
        {
          "output_type": "stream",
          "name": "stdout",
          "text": [
            "-1\n",
            "-1 is negative\n"
          ]
        }
      ]
    },
    {
      "cell_type": "code",
      "source": [
        "''' define input function to input an integer -40\n",
        " write a condition to verify -40 is positive or negative'''\n",
        "num =int(input())\n",
        "if num>0:\n",
        "  print(f\"{num} is positive\")\n",
        "else:\n",
        "  print(f\"{num} is negative\")"
      ],
      "metadata": {
        "colab": {
          "base_uri": "https://localhost:8080/"
        },
        "id": "NY4ITMUtXvNR",
        "outputId": "db47b864-782b-4b23-d0a5-f9e7b1978290"
      },
      "execution_count": 16,
      "outputs": [
        {
          "output_type": "stream",
          "name": "stdout",
          "text": [
            "25\n",
            "25 is positive\n"
          ]
        }
      ]
    },
    {
      "cell_type": "code",
      "source": [
        "car = str(input(\"search for car\"))\n",
        "if car == \"KIA\":\n",
        "  print(\"Kia cars\")\n",
        "else:\n",
        "  print(\"out of stock\")\n",
        "\n"
      ],
      "metadata": {
        "colab": {
          "base_uri": "https://localhost:8080/"
        },
        "id": "i8ND4f7LUTw2",
        "outputId": "843d7c1f-25e2-4082-ea0d-edd3fb56ce6b"
      },
      "execution_count": 13,
      "outputs": [
        {
          "output_type": "stream",
          "name": "stdout",
          "text": [
            "search for car25\n",
            "out of stock\n"
          ]
        }
      ]
    },
    {
      "cell_type": "code",
      "source": [
        "''' Verify whether 20 is even or not\n",
        "create input function to take integers , print even if True else print odd'''\n",
        "num = int(input())\n",
        "if num%2==0:\n",
        "  print(f\"{num} is even\")\n",
        "else:\n",
        "  print(f\"{num} is odd\")"
      ],
      "metadata": {
        "colab": {
          "base_uri": "https://localhost:8080/"
        },
        "id": "Kw9wBFMqV3pz",
        "outputId": "8ff988d5-4c89-4992-e803-d660992f0bdd"
      },
      "execution_count": 19,
      "outputs": [
        {
          "output_type": "stream",
          "name": "stdout",
          "text": [
            "6\n",
            "6 is even\n"
          ]
        }
      ]
    },
    {
      "cell_type": "code",
      "source": [
        "# check whether a number is divisible by both 3 and 7\n",
        "num = int(input())\n",
        "if num%3==0 and num%7==0:\n",
        "  print(f\"{num} is divisible by both 3 and 7\")\n",
        "else:\n",
        "  print(f\"{num} is not divisible by both 3 and 7\")\n",
        "  #input=21\n"
      ],
      "metadata": {
        "colab": {
          "base_uri": "https://localhost:8080/"
        },
        "id": "yoM0Zb5JZEyE",
        "outputId": "863b79a1-dd5b-449e-bb2a-355b86adbbce"
      },
      "execution_count": 21,
      "outputs": [
        {
          "output_type": "stream",
          "name": "stdout",
          "text": [
            "26\n",
            "26 is not divisible by both 3 and 7\n"
          ]
        }
      ]
    },
    {
      "cell_type": "code",
      "source": [
        "''' You're a gardener and need to check if a plant needs watering.\n",
        "If the soil moisture level is below 50%, print \"water the plant!\",\n",
        "otherwise, print \"The plant doesn't need watering\" '''\n",
        "moisture_level=int(input())\n",
        "if moisture_level>50:\n",
        "  print(\"The plant doesn't need water\")\n",
        "else:\n",
        "  print(\"water the plant\")"
      ],
      "metadata": {
        "colab": {
          "base_uri": "https://localhost:8080/"
        },
        "id": "w4GrUyo5aVOw",
        "outputId": "fd151d27-c20f-48cd-def9-61687b30b85c"
      },
      "execution_count": 22,
      "outputs": [
        {
          "output_type": "stream",
          "name": "stdout",
          "text": [
            "100\n",
            "The plant doesn't need water\n"
          ]
        }
      ]
    },
    {
      "cell_type": "code",
      "source": [
        "''' Write a program to check given string is plaindrome or not'''\n",
        "# palindrome: reverse of word is exactly same as original word\n",
        "# Eg: mom, dad,madam,racecar,level,malayalam,eye\n",
        "word = input()\n",
        "if word==word[::-1]:\n",
        "  print(f'{word} is palindrome')\n",
        "else:\n",
        "  print(f\"{word} is not palindrome\")\n",
        "  #input: madam\n"
      ],
      "metadata": {
        "colab": {
          "base_uri": "https://localhost:8080/"
        },
        "id": "ySjNEcBSbSXj",
        "outputId": "ecf749ff-340d-46de-de1d-770969fa35fc"
      },
      "execution_count": 24,
      "outputs": [
        {
          "output_type": "stream",
          "name": "stdout",
          "text": [
            "vikatakavi\n",
            "vikatakavi is not palindrome\n"
          ]
        }
      ]
    },
    {
      "cell_type": "code",
      "source": [
        "word = input()\n",
        "if word.lower()==word.lower()[::-1]:\n",
        "  print(f\"{word} is palindrome\")\n",
        "else:\n",
        "  print(f\"{word} is not palindrome\")\n",
        "  #input: sql"
      ],
      "metadata": {
        "colab": {
          "base_uri": "https://localhost:8080/"
        },
        "id": "u7x62k7BcqWW",
        "outputId": "b1853051-6b2c-4c06-9997-090c5fa65fc2"
      },
      "execution_count": 27,
      "outputs": [
        {
          "output_type": "stream",
          "name": "stdout",
          "text": [
            "sql\n",
            "sql is not palindrome\n"
          ]
        }
      ]
    },
    {
      "cell_type": "code",
      "source": [
        "A=\"python\"\n",
        "A[::-1]"
      ],
      "metadata": {
        "colab": {
          "base_uri": "https://localhost:8080/",
          "height": 36
        },
        "id": "HkJJzdfndHMA",
        "outputId": "7bf370fa-a928-4a64-c0c0-f6d399fb6277"
      },
      "execution_count": 28,
      "outputs": [
        {
          "output_type": "execute_result",
          "data": {
            "text/plain": [
              "'nohtyp'"
            ],
            "application/vnd.google.colaboratory.intrinsic+json": {
              "type": "string"
            }
          },
          "metadata": {},
          "execution_count": 28
        }
      ]
    },
    {
      "cell_type": "code",
      "source": [
        "A==A[::-1]"
      ],
      "metadata": {
        "colab": {
          "base_uri": "https://localhost:8080/"
        },
        "id": "8HeSN3Y0duBp",
        "outputId": "69e6d8e5-00b2-471e-a809-77d02d0beab6"
      },
      "execution_count": 29,
      "outputs": [
        {
          "output_type": "execute_result",
          "data": {
            "text/plain": [
              "False"
            ]
          },
          "metadata": {},
          "execution_count": 29
        }
      ]
    },
    {
      "cell_type": "markdown",
      "source": [
        "If-elif-else\n",
        "\n",
        "To check multiple conditions in a program we use elif"
      ],
      "metadata": {
        "id": "470lj0Ygd65r"
      }
    },
    {
      "cell_type": "code",
      "source": [
        "# if-elif-else\n",
        "'''\n",
        "if condition:\n",
        "  statements\n",
        "elif condition:\n",
        "  statements\n",
        "elif condition:\n",
        "  statements\n",
        "elif condition:\n",
        "  statements\n",
        "else:\n",
        "  statements '''"
      ],
      "metadata": {
        "colab": {
          "base_uri": "https://localhost:8080/",
          "height": 53
        },
        "id": "thFf7zkJd6DA",
        "outputId": "09fa87d7-3348-44b1-f582-55a681f785bc"
      },
      "execution_count": 30,
      "outputs": [
        {
          "output_type": "execute_result",
          "data": {
            "text/plain": [
              "'\\nif condition:\\n  statements\\nelif condition:\\n  statements\\nelif condition:\\n  statements\\nelif condition:\\n  statements\\nelse:\\n  statements '"
            ],
            "application/vnd.google.colaboratory.intrinsic+json": {
              "type": "string"
            }
          },
          "metadata": {},
          "execution_count": 30
        }
      ]
    },
    {
      "cell_type": "code",
      "source": [
        "'''Write a program to check whether given number is positive, negative or Zero'''\n",
        "num=int(input())\n",
        "if num>0:\n",
        "  print(f\"{num} is positive\")\n",
        "elif num<0:\n",
        "  print(f\"{num} is negative\")\n",
        "else:\n",
        "  print(f\"{num} is Zero\")\n"
      ],
      "metadata": {
        "colab": {
          "base_uri": "https://localhost:8080/"
        },
        "id": "29_X2l_rdycR",
        "outputId": "bb1c8e87-c7b1-47c4-e00a-b6e362c86838"
      },
      "execution_count": 34,
      "outputs": [
        {
          "output_type": "stream",
          "name": "stdout",
          "text": [
            "2025\n",
            "2025 is positive\n"
          ]
        }
      ]
    },
    {
      "cell_type": "code",
      "source": [
        "# age >= 18: adult , age>=13 ; You are teenager, else: You are a child\n",
        "# define input for age\n",
        "# age>=18 ---> adult\n",
        "# age >=13 ---> teenager\n",
        "# age <13 --> child\n",
        "# else : Invalid\n",
        "age = int(input())\n",
        "if 18<=age<=100:\n",
        "  print(\"adult\")\n",
        "elif 13<=age<18:\n",
        "  print(\"teenager\")\n",
        "elif 0<age<13:\n",
        "  print(\"child\")\n",
        "else:\n",
        "  print(\"Invalid age\")\n",
        "  #enter 56"
      ],
      "metadata": {
        "colab": {
          "base_uri": "https://localhost:8080/"
        },
        "id": "W0FRgT26fENw",
        "outputId": "2d24bfeb-325c-48a4-c5f9-b53cee3f1ac5"
      },
      "execution_count": 39,
      "outputs": [
        {
          "output_type": "stream",
          "name": "stdout",
          "text": [
            "15\n",
            "teenager\n"
          ]
        }
      ]
    },
    {
      "cell_type": "code",
      "source": [
        "# Practice : grade Book\n",
        "# marks as input, Grade as an Output\n",
        "# condition\n",
        "# >=80 and <=100 : Grade A\n",
        "# >60 - < 80 : Grade B\n",
        "# > 30 - <=60 : Grade c\n",
        "# <=30 and >0 : Fail\n",
        "# else: Marks is not valid\n",
        "marks = int(input())\n",
        "if marks>=80 and marks <=100:\n",
        "  print(\"Grade A\")\n",
        "elif marks>60 and marks<80:\n",
        "  print(\"Grade B\")\n",
        "elif marks>30 and marks <=60:\n",
        "  print(\"Grade C\")\n",
        "elif marks<=30 and marks >0:\n",
        "  print(\"fail\")\n",
        "else:\n",
        "  print(\"Invalid marks\")"
      ],
      "metadata": {
        "colab": {
          "base_uri": "https://localhost:8080/"
        },
        "id": "LKU63XEUi0sn",
        "outputId": "20c4b385-a688-4fd1-e3b0-3410bc0d5687"
      },
      "execution_count": 40,
      "outputs": [
        {
          "output_type": "stream",
          "name": "stdout",
          "text": [
            "50\n",
            "Grade C\n"
          ]
        }
      ]
    },
    {
      "cell_type": "code",
      "source": [
        "# Practice:\n",
        "# Determine the season based on the month:\n",
        "\n",
        "# Condition :\n",
        "# 3 <= month <= 5 : Spring\n",
        "# 6 <= month <= 8 : Summer\n",
        "# 9 <= month <= 11 : Autumn\n",
        "# Rest : Winter\n",
        "# <1 , >12 : Invalid\n",
        "month = int(input())\n",
        "if month>=3 and month<=5:\n",
        "  print(\"Spring\")\n",
        "elif month>=6 and month<=8:\n",
        "  print(\"summer\")\n",
        "elif month>=9 and month<=11:\n",
        "  print(\"Autumn\")\n",
        "elif month>12 or month<1:\n",
        "  print(\"Invalid month\")\n",
        "else:\n",
        "  print(\"winter\")"
      ],
      "metadata": {
        "colab": {
          "base_uri": "https://localhost:8080/"
        },
        "id": "lDbZi_ruk4LZ",
        "outputId": "e5bc3a24-77aa-41ab-9da6-c152dd8ed987"
      },
      "execution_count": 42,
      "outputs": [
        {
          "output_type": "stream",
          "name": "stdout",
          "text": [
            "1\n",
            "winter\n"
          ]
        }
      ]
    },
    {
      "cell_type": "code",
      "source": [
        "# Determine the discount based on the purchase amount:\n",
        "# purchase_amount >= 1000 : 10 % discount\n",
        "# purchase_amount >= 500 and < 1000 : 5 % discount\n",
        "# Otherwise 0% discount"
      ],
      "metadata": {
        "id": "SLyY668Uml6Q"
      },
      "execution_count": 43,
      "outputs": []
    },
    {
      "cell_type": "markdown",
      "source": [
        "# nested if statement\n",
        "\n",
        "if statement within if"
      ],
      "metadata": {
        "id": "ikQjj_IwnQfl"
      }
    },
    {
      "cell_type": "code",
      "source": [
        "'''\n",
        "if condition:\n",
        "  statement\n",
        "  if condition:\n",
        "    statement\n",
        "  else:\n",
        "    statement\n",
        "else:\n",
        "  statement\n",
        "'''"
      ],
      "metadata": {
        "colab": {
          "base_uri": "https://localhost:8080/",
          "height": 53
        },
        "id": "Ty4iONtwnMPW",
        "outputId": "4686634b-fe3f-4b7c-db04-090b350fd335"
      },
      "execution_count": 44,
      "outputs": [
        {
          "output_type": "execute_result",
          "data": {
            "text/plain": [
              "'\\nif condition:\\n  statement\\n  if condition:\\n    statement\\n  else:\\n    statement\\nelse:\\n  statement\\n'"
            ],
            "application/vnd.google.colaboratory.intrinsic+json": {
              "type": "string"
            }
          },
          "metadata": {},
          "execution_count": 44
        }
      ]
    },
    {
      "cell_type": "code",
      "source": [
        "'''\n",
        "write a program\n",
        "check whether number is positive\n",
        "if positive , print positive and then check whether number even or odd\n",
        "else print negative or Zero\n",
        "'''\n",
        "num = int(input()) #30\n",
        "if num>0: # check for positive\n",
        "  print(\"positive\")\n",
        "  if num%2==0: # check for even\n",
        "    print(\"even\")\n",
        "  else: # check odd\n",
        "    print(\"odd\")\n",
        "elif num<0:\n",
        "  print(\"negative\")\n",
        "else:\n",
        "  print(\"zero\")"
      ],
      "metadata": {
        "colab": {
          "base_uri": "https://localhost:8080/"
        },
        "id": "yls1EIe5n3O_",
        "outputId": "11050334-48e5-44ed-f5b9-c04711d41faf"
      },
      "execution_count": 45,
      "outputs": [
        {
          "output_type": "stream",
          "name": "stdout",
          "text": [
            "55\n",
            "positive\n",
            "odd\n"
          ]
        }
      ]
    },
    {
      "cell_type": "code",
      "source": [
        "''' check whether number is positive ,\n",
        "if yes then check is it divisible 3 or by 7 , if not positive\n",
        "first check is it negative then\n",
        "check whether number is even or odd and then check is it zero'''\n",
        "num=int(input())\n",
        "if num>0:\n",
        "  print(\"positive\")\n",
        "  if num%3==0 or num%7==0:\n",
        "    print(\"divisibble by either 3 or 7\")\n",
        "  else:\n",
        "    print(\"not divisible by either 3 or 7\")\n",
        "elif num<0:\n",
        "  print(\"negative\")\n",
        "  if num%2==0:\n",
        "    print(\"even\")\n",
        "  else:\n",
        "    print(\"odd\")\n",
        "else:\n",
        "  print(\"zero\")"
      ],
      "metadata": {
        "colab": {
          "base_uri": "https://localhost:8080/"
        },
        "id": "2OODx72foqxS",
        "outputId": "62d96eb6-c095-4b09-b3b6-3f8f5cb04052"
      },
      "execution_count": 46,
      "outputs": [
        {
          "output_type": "stream",
          "name": "stdout",
          "text": [
            "21\n",
            "positive\n",
            "divisibble by either 3 or 7\n"
          ]
        }
      ]
    },
    {
      "cell_type": "code",
      "source": [
        "''' write a program to check given letter is vowel or consonent'''\n",
        "char = input()\n",
        "if char in 'aeiouAEIOU':\n",
        "  print(f\"{char} is vowel\")\n",
        "else:\n",
        "  print(f\"{char} is consonant\")"
      ],
      "metadata": {
        "colab": {
          "base_uri": "https://localhost:8080/"
        },
        "id": "sJ8GhMK1qLId",
        "outputId": "a3f38f0e-f464-4c45-e892-bfb0ac955493"
      },
      "execution_count": 47,
      "outputs": [
        {
          "output_type": "stream",
          "name": "stdout",
          "text": [
            "68\n",
            "68 is consonant\n"
          ]
        }
      ]
    },
    {
      "cell_type": "code",
      "source": [],
      "metadata": {
        "id": "qKgJ3XxEq8A2"
      },
      "execution_count": null,
      "outputs": []
    }
  ]
}