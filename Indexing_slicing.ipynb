{
  "nbformat": 4,
  "nbformat_minor": 0,
  "metadata": {
    "colab": {
      "provenance": [],
      "authorship_tag": "ABX9TyOER8tycGDutmD3Hy+Q84x+",
      "include_colab_link": true
    },
    "kernelspec": {
      "name": "python3",
      "display_name": "Python 3"
    },
    "language_info": {
      "name": "python"
    }
  },
  "cells": [
    {
      "cell_type": "markdown",
      "metadata": {
        "id": "view-in-github",
        "colab_type": "text"
      },
      "source": [
        "<a href=\"https://colab.research.google.com/github/ovnarayana/Data-science/blob/main/Indexing_slicing.ipynb\" target=\"_parent\"><img src=\"https://colab.research.google.com/assets/colab-badge.svg\" alt=\"Open In Colab\"/></a>"
      ]
    },
    {
      "cell_type": "markdown",
      "source": [
        "# Indexing\n",
        "\n",
        "* it is a process of extracting/fetching single element from objects(string,list,tuple)\n",
        "\n",
        "* Indexing can be achived using 2 methods\n",
        "\n",
        "1. Positive indexing\n",
        "2. Negative indexing"
      ],
      "metadata": {
        "id": "6O8cmyIaDTBT"
      }
    },
    {
      "cell_type": "markdown",
      "source": [
        "#Positive Indexing\n",
        "\n",
        "* positive indexing is used to fetch characters or elements from objects(string,list,tuple)using positive indexes\n",
        "\n",
        "* Positive indexing always starts from 0."
      ],
      "metadata": {
        "id": "XzCT23e1Ebjq"
      }
    },
    {
      "cell_type": "markdown",
      "source": [
        "# Indexing with List"
      ],
      "metadata": {
        "id": "embEziCSFiJs"
      }
    },
    {
      "cell_type": "code",
      "source": [
        "A = [\"green\", \"blue\", \"orange\", \"pink\", \"red\", \"black\", \"yellow\"]"
      ],
      "metadata": {
        "id": "MF58P4nSFszB"
      },
      "execution_count": 2,
      "outputs": []
    },
    {
      "cell_type": "code",
      "source": [
        "# fetch green\n",
        "A[0]"
      ],
      "metadata": {
        "colab": {
          "base_uri": "https://localhost:8080/",
          "height": 36
        },
        "id": "027H5JiJGaxD",
        "outputId": "5780852c-b99c-4409-c78e-56842f84553d"
      },
      "execution_count": 3,
      "outputs": [
        {
          "output_type": "execute_result",
          "data": {
            "text/plain": [
              "'green'"
            ],
            "application/vnd.google.colaboratory.intrinsic+json": {
              "type": "string"
            }
          },
          "metadata": {},
          "execution_count": 3
        }
      ]
    },
    {
      "cell_type": "code",
      "source": [
        "#How to find index numbers in a list\n",
        "list(enumerate(A))"
      ],
      "metadata": {
        "colab": {
          "base_uri": "https://localhost:8080/"
        },
        "id": "kZd7ztbLGzOs",
        "outputId": "1524ffbe-19b4-4495-94cc-aafc71eaaaf8"
      },
      "execution_count": 4,
      "outputs": [
        {
          "output_type": "execute_result",
          "data": {
            "text/plain": [
              "[(0, 'green'),\n",
              " (1, 'blue'),\n",
              " (2, 'orange'),\n",
              " (3, 'pink'),\n",
              " (4, 'red'),\n",
              " (5, 'black'),\n",
              " (6, 'yellow')]"
            ]
          },
          "metadata": {},
          "execution_count": 4
        }
      ]
    },
    {
      "cell_type": "code",
      "source": [
        "# fetch yellow\n",
        "A[6]"
      ],
      "metadata": {
        "colab": {
          "base_uri": "https://localhost:8080/",
          "height": 36
        },
        "id": "IPPtmUnFHNxn",
        "outputId": "b28c228c-6d89-4e18-9f29-16b25c0f853c"
      },
      "execution_count": 5,
      "outputs": [
        {
          "output_type": "execute_result",
          "data": {
            "text/plain": [
              "'yellow'"
            ],
            "application/vnd.google.colaboratory.intrinsic+json": {
              "type": "string"
            }
          },
          "metadata": {},
          "execution_count": 5
        }
      ]
    },
    {
      "cell_type": "markdown",
      "source": [
        "#Slicing\n",
        "\n",
        "It is a process of fetching multiple elements from a given object (string,list,tuple)\n",
        "\n",
        "#Slicing can be achieved using\n",
        "\n",
        "* Positive Slicing\n",
        "* Negative Slicing"
      ],
      "metadata": {
        "id": "4AU_OTbvHfXK"
      }
    },
    {
      "cell_type": "markdown",
      "source": [
        "# Positive slicing\n",
        "It is used to extract elements from given object using positive indexes.\n",
        "\n",
        "* var[start_index:end_index+1]\n",
        "* var[start_index:end_index+1:step]\n",
        "* var[:end_ind+1]\n",
        "* var[start_index:]\n",
        "* var[::-1]\n",
        "* var[::step]"
      ],
      "metadata": {
        "id": "eC7Lrl7qJp-C"
      }
    },
    {
      "cell_type": "markdown",
      "source": [],
      "metadata": {
        "id": "0JAUcHafJhNp"
      }
    },
    {
      "cell_type": "code",
      "source": [
        "A = [\"green\", \"blue\", \"orange\", \"pink\", \"red\", \"black\", \"yellow\"]"
      ],
      "metadata": {
        "id": "znJ7prEgVkiV"
      },
      "execution_count": 6,
      "outputs": []
    },
    {
      "cell_type": "code",
      "source": [
        "# fetch red,black,yellow\n",
        "# var[start_index: end_index+1]\n",
        "# end value not included\n",
        "A[4:] #or A[4:6+1]\n",
        "#variable[start_index:] --> fetch everything from specific element till end"
      ],
      "metadata": {
        "id": "mg4jbb-8VLqm",
        "colab": {
          "base_uri": "https://localhost:8080/"
        },
        "outputId": "f8a1824a-d3d8-414a-cba6-953f0ca521c2"
      },
      "execution_count": 8,
      "outputs": [
        {
          "output_type": "execute_result",
          "data": {
            "text/plain": [
              "['red', 'black', 'yellow']"
            ]
          },
          "metadata": {},
          "execution_count": 8
        }
      ]
    },
    {
      "cell_type": "code",
      "source": [
        "A[:6] #fetch everything from starting"
      ],
      "metadata": {
        "colab": {
          "base_uri": "https://localhost:8080/"
        },
        "id": "OYg55TyoK9aJ",
        "outputId": "b89635f1-8719-4d22-fc8d-885ff83cf84d"
      },
      "execution_count": 9,
      "outputs": [
        {
          "output_type": "execute_result",
          "data": {
            "text/plain": [
              "['green', 'blue', 'orange', 'pink', 'red', 'black']"
            ]
          },
          "metadata": {},
          "execution_count": 9
        }
      ]
    },
    {
      "cell_type": "code",
      "source": [
        "#fetch everything\n",
        "A[:]"
      ],
      "metadata": {
        "colab": {
          "base_uri": "https://localhost:8080/"
        },
        "id": "RWXHlNB7NQfQ",
        "outputId": "5b332010-a50c-40cd-bb4b-cdd63c63b50c"
      },
      "execution_count": 10,
      "outputs": [
        {
          "output_type": "execute_result",
          "data": {
            "text/plain": [
              "['green', 'blue', 'orange', 'pink', 'red', 'black', 'yellow']"
            ]
          },
          "metadata": {},
          "execution_count": 10
        }
      ]
    },
    {
      "cell_type": "code",
      "source": [
        "# reverse a list\n",
        "A[::-1]"
      ],
      "metadata": {
        "colab": {
          "base_uri": "https://localhost:8080/"
        },
        "id": "EV-DljRnNglI",
        "outputId": "65e860cf-8e8a-42e5-e1dc-5a10ee69ba42"
      },
      "execution_count": 11,
      "outputs": [
        {
          "output_type": "execute_result",
          "data": {
            "text/plain": [
              "['yellow', 'black', 'red', 'pink', 'orange', 'blue', 'green']"
            ]
          },
          "metadata": {},
          "execution_count": 11
        }
      ]
    },
    {
      "cell_type": "code",
      "source": [
        "A"
      ],
      "metadata": {
        "colab": {
          "base_uri": "https://localhost:8080/"
        },
        "id": "6BaDBAFSOESO",
        "outputId": "4b57612c-12de-4d54-cbd6-f60b0128f35f"
      },
      "execution_count": 12,
      "outputs": [
        {
          "output_type": "execute_result",
          "data": {
            "text/plain": [
              "['green', 'blue', 'orange', 'pink', 'red', 'black', 'yellow']"
            ]
          },
          "metadata": {},
          "execution_count": 12
        }
      ]
    },
    {
      "cell_type": "code",
      "source": [
        "#fetch blue, pink, black\n",
        "#variable [start_index: end_index+1:step]\n",
        "A[1:6:2]"
      ],
      "metadata": {
        "colab": {
          "base_uri": "https://localhost:8080/"
        },
        "id": "g_FGyupsOaFg",
        "outputId": "03d0b6ef-ac41-4398-9858-e8f7d59f2961"
      },
      "execution_count": 14,
      "outputs": [
        {
          "output_type": "execute_result",
          "data": {
            "text/plain": [
              "['blue', 'pink', 'black']"
            ]
          },
          "metadata": {},
          "execution_count": 14
        }
      ]
    },
    {
      "cell_type": "code",
      "source": [
        "# fetch green, pink, yellow\n",
        "# var[start_index:end_index+1:step]\n",
        "A[0:7:3]"
      ],
      "metadata": {
        "colab": {
          "base_uri": "https://localhost:8080/"
        },
        "id": "CnLNi356PQxe",
        "outputId": "0872c229-f739-4844-f94f-8f64580869e9"
      },
      "execution_count": 15,
      "outputs": [
        {
          "output_type": "execute_result",
          "data": {
            "text/plain": [
              "['green', 'pink', 'yellow']"
            ]
          },
          "metadata": {},
          "execution_count": 15
        }
      ]
    },
    {
      "cell_type": "code",
      "source": [
        "#fetch blue, black\n",
        "A[1:6:4]"
      ],
      "metadata": {
        "colab": {
          "base_uri": "https://localhost:8080/"
        },
        "id": "jYlfdzY0P3kz",
        "outputId": "db01d68a-56bb-43e2-9c56-1213edfde48c"
      },
      "execution_count": 16,
      "outputs": [
        {
          "output_type": "execute_result",
          "data": {
            "text/plain": [
              "['blue', 'black']"
            ]
          },
          "metadata": {},
          "execution_count": 16
        }
      ]
    },
    {
      "cell_type": "code",
      "source": [
        "A"
      ],
      "metadata": {
        "colab": {
          "base_uri": "https://localhost:8080/"
        },
        "id": "ImuJeA4lQFGf",
        "outputId": "33080332-8ed7-4063-c043-74382f51ea30"
      },
      "execution_count": 17,
      "outputs": [
        {
          "output_type": "execute_result",
          "data": {
            "text/plain": [
              "['green', 'blue', 'orange', 'pink', 'red', 'black', 'yellow']"
            ]
          },
          "metadata": {},
          "execution_count": 17
        }
      ]
    },
    {
      "cell_type": "code",
      "source": [
        "#fetch Black,yellow\n",
        "A[5:7]"
      ],
      "metadata": {
        "colab": {
          "base_uri": "https://localhost:8080/"
        },
        "id": "A3DgZFb-Qc-Q",
        "outputId": "fb574b5a-11e3-4b29-a05e-8cd6336f1ed5"
      },
      "execution_count": 21,
      "outputs": [
        {
          "output_type": "execute_result",
          "data": {
            "text/plain": [
              "['black', 'yellow']"
            ]
          },
          "metadata": {},
          "execution_count": 21
        }
      ]
    },
    {
      "cell_type": "code",
      "source": [
        "#fetch yellow and lack\n",
        "A[5:7][::-1]"
      ],
      "metadata": {
        "colab": {
          "base_uri": "https://localhost:8080/"
        },
        "id": "2V2P3tVmQvLD",
        "outputId": "6ac7c5bc-699d-4264-80c2-df6b665fc456"
      },
      "execution_count": 22,
      "outputs": [
        {
          "output_type": "execute_result",
          "data": {
            "text/plain": [
              "['yellow', 'black']"
            ]
          },
          "metadata": {},
          "execution_count": 22
        }
      ]
    },
    {
      "cell_type": "code",
      "source": [
        "A[6:4:-1]"
      ],
      "metadata": {
        "colab": {
          "base_uri": "https://localhost:8080/"
        },
        "id": "Kvv1JGymXS4w",
        "outputId": "ac50d573-9f33-471d-ae11-f07226924415"
      },
      "execution_count": 23,
      "outputs": [
        {
          "output_type": "execute_result",
          "data": {
            "text/plain": [
              "['yellow', 'black']"
            ]
          },
          "metadata": {},
          "execution_count": 23
        }
      ]
    },
    {
      "cell_type": "markdown",
      "source": [
        "# learnings\n",
        "* var[index]\n",
        "* var[start_indx: end_ind+1]\n",
        "* var[start_indx: end_indx+1:step]\n",
        "* var[start_indx:  ]\n",
        "* var[: end_index+1]\n",
        "* var[::-1]"
      ],
      "metadata": {
        "id": "R2p0Mzx2afhf"
      }
    },
    {
      "cell_type": "code",
      "source": [
        "A"
      ],
      "metadata": {
        "colab": {
          "base_uri": "https://localhost:8080/"
        },
        "id": "bmf0Gw5zYc0z",
        "outputId": "a0deea8b-b42d-40ff-b58b-cf7e61011612"
      },
      "execution_count": 24,
      "outputs": [
        {
          "output_type": "execute_result",
          "data": {
            "text/plain": [
              "['green', 'blue', 'orange', 'pink', 'red', 'black', 'yellow']"
            ]
          },
          "metadata": {},
          "execution_count": 24
        }
      ]
    },
    {
      "cell_type": "code",
      "source": [
        "#fetch red, black, yellow\n",
        "A[4:7]\n",
        "#LTR : step=1\n",
        "# var[start_index: end_index+1]\n",
        "#when we read index from left to right\n",
        "#by default step is 1"
      ],
      "metadata": {
        "colab": {
          "base_uri": "https://localhost:8080/"
        },
        "id": "Ic0Bu2cTa1ie",
        "outputId": "f596473c-3e89-4462-a750-633a364f05c0"
      },
      "execution_count": 26,
      "outputs": [
        {
          "output_type": "execute_result",
          "data": {
            "text/plain": [
              "['red', 'black', 'yellow']"
            ]
          },
          "metadata": {},
          "execution_count": 26
        }
      ]
    },
    {
      "cell_type": "code",
      "source": [
        "#fetch yellow, black, red\n",
        "# RTL:   step =-1\n",
        "# var[start_index: end_index-1:step=-1]\n",
        "A[6:3:-1]"
      ],
      "metadata": {
        "colab": {
          "base_uri": "https://localhost:8080/"
        },
        "id": "JUNmDt19bAVb",
        "outputId": "d0829edc-ecae-4139-a3cd-2b228f5abbb6"
      },
      "execution_count": 27,
      "outputs": [
        {
          "output_type": "execute_result",
          "data": {
            "text/plain": [
              "['yellow', 'black', 'red']"
            ]
          },
          "metadata": {},
          "execution_count": 27
        }
      ]
    },
    {
      "cell_type": "code",
      "source": [
        "#LTR: var[start_index: end_index+1]\n",
        "#RTL: var[Start_index: end_index-1:step=-1]\n",
        "A[6:3:-1]"
      ],
      "metadata": {
        "colab": {
          "base_uri": "https://localhost:8080/"
        },
        "id": "2JdRED9UcByX",
        "outputId": "065a7ecd-bab3-4f8f-adaa-239117d8fd6e"
      },
      "execution_count": 28,
      "outputs": [
        {
          "output_type": "execute_result",
          "data": {
            "text/plain": [
              "['yellow', 'black', 'red']"
            ]
          },
          "metadata": {},
          "execution_count": 28
        }
      ]
    },
    {
      "cell_type": "code",
      "source": [
        "A"
      ],
      "metadata": {
        "colab": {
          "base_uri": "https://localhost:8080/"
        },
        "id": "WMJ_uT7idY0D",
        "outputId": "a966e7c5-f6ca-4a5f-8ba4-2d21a0a306ae"
      },
      "execution_count": 29,
      "outputs": [
        {
          "output_type": "execute_result",
          "data": {
            "text/plain": [
              "['green', 'blue', 'orange', 'pink', 'red', 'black', 'yellow']"
            ]
          },
          "metadata": {},
          "execution_count": 29
        }
      ]
    },
    {
      "cell_type": "code",
      "source": [
        "#orange ,pink, red\n",
        "A[2:5]\n",
        "#LTR"
      ],
      "metadata": {
        "colab": {
          "base_uri": "https://localhost:8080/"
        },
        "id": "whBumADVdauI",
        "outputId": "5899db6e-c4c8-4a49-b75e-afd6ca618a05"
      },
      "execution_count": 30,
      "outputs": [
        {
          "output_type": "execute_result",
          "data": {
            "text/plain": [
              "['orange', 'pink', 'red']"
            ]
          },
          "metadata": {},
          "execution_count": 30
        }
      ]
    },
    {
      "cell_type": "code",
      "source": [
        "# red,pink,orange\n",
        "#RTL: step= -1 , end_index-1\n",
        "A[4:1:-1]"
      ],
      "metadata": {
        "colab": {
          "base_uri": "https://localhost:8080/"
        },
        "id": "9bftd9n2do6p",
        "outputId": "a0544740-efb0-44c3-d8e6-33777123887c"
      },
      "execution_count": 32,
      "outputs": [
        {
          "output_type": "execute_result",
          "data": {
            "text/plain": [
              "['red', 'pink', 'orange']"
            ]
          },
          "metadata": {},
          "execution_count": 32
        }
      ]
    },
    {
      "cell_type": "code",
      "source": [
        "A"
      ],
      "metadata": {
        "colab": {
          "base_uri": "https://localhost:8080/"
        },
        "id": "ryPQVWoId-w0",
        "outputId": "36a113c9-37d2-468c-9151-0f64ccdcebdc"
      },
      "execution_count": 33,
      "outputs": [
        {
          "output_type": "execute_result",
          "data": {
            "text/plain": [
              "['green', 'blue', 'orange', 'pink', 'red', 'black', 'yellow']"
            ]
          },
          "metadata": {},
          "execution_count": 33
        }
      ]
    },
    {
      "cell_type": "markdown",
      "source": [
        "#TUPLE"
      ],
      "metadata": {
        "id": "dQCA-JXmemV5"
      }
    },
    {
      "cell_type": "code",
      "source": [
        "A =(1000,2000,3000,4000,5000,6000,7000,8000)"
      ],
      "metadata": {
        "id": "hUj39nw1ej18"
      },
      "execution_count": 34,
      "outputs": []
    },
    {
      "cell_type": "code",
      "source": [
        "#fetch 3000\n",
        "A[2]"
      ],
      "metadata": {
        "colab": {
          "base_uri": "https://localhost:8080/"
        },
        "id": "_1rY27D7ffdb",
        "outputId": "5cca5057-ee4f-4aea-d32f-774f82b38bbb"
      },
      "execution_count": 35,
      "outputs": [
        {
          "output_type": "execute_result",
          "data": {
            "text/plain": [
              "3000"
            ]
          },
          "metadata": {},
          "execution_count": 35
        }
      ]
    },
    {
      "cell_type": "code",
      "source": [
        "A"
      ],
      "metadata": {
        "colab": {
          "base_uri": "https://localhost:8080/"
        },
        "id": "_LhfVcs3foBX",
        "outputId": "3f49c3c6-4cbc-470d-f18b-11a749269bf3"
      },
      "execution_count": 36,
      "outputs": [
        {
          "output_type": "execute_result",
          "data": {
            "text/plain": [
              "(1000, 2000, 3000, 4000, 5000, 6000, 7000, 8000)"
            ]
          },
          "metadata": {},
          "execution_count": 36
        }
      ]
    },
    {
      "cell_type": "code",
      "source": [
        "#fetch 2000,3000,4000,5000\n",
        "#LTR= end_index+1\n",
        "A[1:5]"
      ],
      "metadata": {
        "colab": {
          "base_uri": "https://localhost:8080/"
        },
        "id": "UI-OUYJjfp4S",
        "outputId": "4923dc51-dad3-453c-d81e-b7027a77fdda"
      },
      "execution_count": 37,
      "outputs": [
        {
          "output_type": "execute_result",
          "data": {
            "text/plain": [
              "(2000, 3000, 4000, 5000)"
            ]
          },
          "metadata": {},
          "execution_count": 37
        }
      ]
    },
    {
      "cell_type": "code",
      "source": [
        "#fetch 2000,4000, 6000\n",
        "A[1:6:2]"
      ],
      "metadata": {
        "colab": {
          "base_uri": "https://localhost:8080/"
        },
        "id": "V4AwioiKgGhd",
        "outputId": "cb5eea84-6598-44a2-9984-1e3b9665b5e0"
      },
      "execution_count": 38,
      "outputs": [
        {
          "output_type": "execute_result",
          "data": {
            "text/plain": [
              "(2000, 4000, 6000)"
            ]
          },
          "metadata": {},
          "execution_count": 38
        }
      ]
    },
    {
      "cell_type": "code",
      "source": [
        "# reverse tuple\n",
        "A[::-1]"
      ],
      "metadata": {
        "colab": {
          "base_uri": "https://localhost:8080/"
        },
        "id": "DR-ceUhqgZRE",
        "outputId": "0ec52fcc-98c3-45a7-fd95-4dc7bfdae744"
      },
      "execution_count": 39,
      "outputs": [
        {
          "output_type": "execute_result",
          "data": {
            "text/plain": [
              "(8000, 7000, 6000, 5000, 4000, 3000, 2000, 1000)"
            ]
          },
          "metadata": {},
          "execution_count": 39
        }
      ]
    },
    {
      "cell_type": "code",
      "source": [
        "A"
      ],
      "metadata": {
        "colab": {
          "base_uri": "https://localhost:8080/"
        },
        "id": "eOB70HWOgf6B",
        "outputId": "89eb75f5-bb31-4694-d4f4-8ce662e01e30"
      },
      "execution_count": 40,
      "outputs": [
        {
          "output_type": "execute_result",
          "data": {
            "text/plain": [
              "(1000, 2000, 3000, 4000, 5000, 6000, 7000, 8000)"
            ]
          },
          "metadata": {},
          "execution_count": 40
        }
      ]
    },
    {
      "cell_type": "code",
      "source": [
        "#Fetch everything from start till 6000\n",
        "A[:6]"
      ],
      "metadata": {
        "colab": {
          "base_uri": "https://localhost:8080/"
        },
        "id": "rxcwSzdLgsrh",
        "outputId": "c296ff2f-af5a-41c8-a4db-959c67ef7907"
      },
      "execution_count": 41,
      "outputs": [
        {
          "output_type": "execute_result",
          "data": {
            "text/plain": [
              "(1000, 2000, 3000, 4000, 5000, 6000)"
            ]
          },
          "metadata": {},
          "execution_count": 41
        }
      ]
    },
    {
      "cell_type": "code",
      "source": [
        "#fetch 7000,6000,5000,4000\n",
        "#RTL : step=-1, end_indx-1\n",
        "A[6:2:-1]"
      ],
      "metadata": {
        "colab": {
          "base_uri": "https://localhost:8080/"
        },
        "id": "PbYDhnMdg_zd",
        "outputId": "7cff2a48-7de3-4426-f771-645753fb458f"
      },
      "execution_count": 42,
      "outputs": [
        {
          "output_type": "execute_result",
          "data": {
            "text/plain": [
              "(7000, 6000, 5000, 4000)"
            ]
          },
          "metadata": {},
          "execution_count": 42
        }
      ]
    },
    {
      "cell_type": "code",
      "source": [
        "A"
      ],
      "metadata": {
        "colab": {
          "base_uri": "https://localhost:8080/"
        },
        "id": "J7R2do-dhWcr",
        "outputId": "f9d0b56d-7cb3-45c0-88a0-fc4f188ed8a5"
      },
      "execution_count": 43,
      "outputs": [
        {
          "output_type": "execute_result",
          "data": {
            "text/plain": [
              "(1000, 2000, 3000, 4000, 5000, 6000, 7000, 8000)"
            ]
          },
          "metadata": {},
          "execution_count": 43
        }
      ]
    },
    {
      "cell_type": "code",
      "source": [
        "A[::-1]"
      ],
      "metadata": {
        "colab": {
          "base_uri": "https://localhost:8080/"
        },
        "id": "0HA4JLgdhcVP",
        "outputId": "c66502d2-f4e1-4101-9f1b-bf5d0e7402e5"
      },
      "execution_count": 44,
      "outputs": [
        {
          "output_type": "execute_result",
          "data": {
            "text/plain": [
              "(8000, 7000, 6000, 5000, 4000, 3000, 2000, 1000)"
            ]
          },
          "metadata": {},
          "execution_count": 44
        }
      ]
    },
    {
      "cell_type": "markdown",
      "source": [
        "# Negative Indexing\n",
        "\n",
        "* Negative index starts from -1\n",
        "* We assign indexes from right to left"
      ],
      "metadata": {
        "id": "rJRhOYkahiEz"
      }
    },
    {
      "cell_type": "code",
      "source": [
        "B = [\"python\", \"R\", \"Java\", \"sql\", \"html\",\"css\",\"javascript\" ]"
      ],
      "metadata": {
        "id": "m30GyR0NhfUw"
      },
      "execution_count": 3,
      "outputs": []
    },
    {
      "cell_type": "code",
      "source": [
        "#fetch java using negative indexing\n",
        "B[-5]"
      ],
      "metadata": {
        "colab": {
          "base_uri": "https://localhost:8080/",
          "height": 36
        },
        "id": "sjng7l7kiYxW",
        "outputId": "b480b99b-fcfd-4f4b-96b4-adf3c4ae860b"
      },
      "execution_count": 4,
      "outputs": [
        {
          "output_type": "execute_result",
          "data": {
            "text/plain": [
              "'Java'"
            ],
            "application/vnd.google.colaboratory.intrinsic+json": {
              "type": "string"
            }
          },
          "metadata": {},
          "execution_count": 4
        }
      ]
    },
    {
      "cell_type": "code",
      "source": [
        "#fetch css\n",
        "B[-2]"
      ],
      "metadata": {
        "colab": {
          "base_uri": "https://localhost:8080/",
          "height": 36
        },
        "id": "1V03iLbCiinz",
        "outputId": "691aff50-7e4f-457e-96c2-7d9e27a6c3f0"
      },
      "execution_count": 5,
      "outputs": [
        {
          "output_type": "execute_result",
          "data": {
            "text/plain": [
              "'css'"
            ],
            "application/vnd.google.colaboratory.intrinsic+json": {
              "type": "string"
            }
          },
          "metadata": {},
          "execution_count": 5
        }
      ]
    },
    {
      "cell_type": "code",
      "source": [
        "B"
      ],
      "metadata": {
        "colab": {
          "base_uri": "https://localhost:8080/"
        },
        "id": "ZAY30I3Fiokf",
        "outputId": "171fb210-7ca7-4a49-843a-afc10d4bd4f5"
      },
      "execution_count": 6,
      "outputs": [
        {
          "output_type": "execute_result",
          "data": {
            "text/plain": [
              "['python', 'R', 'Java', 'sql', 'html', 'css', 'javascript']"
            ]
          },
          "metadata": {},
          "execution_count": 6
        }
      ]
    },
    {
      "cell_type": "code",
      "source": [
        "# fetch R, Java, SQL, html\n",
        "#LTR: Left to right: step=1\n",
        "# var[start_index: end_index+1]\n",
        "#B[-6:-3+1]\n",
        "B[-6:-2]"
      ],
      "metadata": {
        "colab": {
          "base_uri": "https://localhost:8080/"
        },
        "id": "Gqy7FI4Oip8Y",
        "outputId": "e4bfed70-c492-4335-9832-0369ee3220f5"
      },
      "execution_count": 7,
      "outputs": [
        {
          "output_type": "execute_result",
          "data": {
            "text/plain": [
              "['R', 'Java', 'sql', 'html']"
            ]
          },
          "metadata": {},
          "execution_count": 7
        }
      ]
    },
    {
      "cell_type": "code",
      "source": [
        "# fetch sql,html,css\n",
        "#B[-4:-2+1]\n",
        "B[-4:-1]"
      ],
      "metadata": {
        "colab": {
          "base_uri": "https://localhost:8080/"
        },
        "id": "FUZPR_CAjZGI",
        "outputId": "42cb58b8-f724-4797-ad97-098179860bdd"
      },
      "execution_count": 8,
      "outputs": [
        {
          "output_type": "execute_result",
          "data": {
            "text/plain": [
              "['sql', 'html', 'css']"
            ]
          },
          "metadata": {},
          "execution_count": 8
        }
      ]
    },
    {
      "cell_type": "code",
      "source": [
        "#fetch R, html\n",
        "B[-6:-2:3]"
      ],
      "metadata": {
        "colab": {
          "base_uri": "https://localhost:8080/"
        },
        "id": "s-lYJI4Hj5OV",
        "outputId": "386915c4-d0f8-4dfe-d932-335d5a5e6906"
      },
      "execution_count": 9,
      "outputs": [
        {
          "output_type": "execute_result",
          "data": {
            "text/plain": [
              "['R', 'html']"
            ]
          },
          "metadata": {},
          "execution_count": 9
        }
      ]
    },
    {
      "cell_type": "code",
      "source": [
        "B[::-1]"
      ],
      "metadata": {
        "colab": {
          "base_uri": "https://localhost:8080/"
        },
        "id": "uX-NMVlIkdAX",
        "outputId": "171e306d-abf2-40cd-8846-7ef37c5dee49"
      },
      "execution_count": 10,
      "outputs": [
        {
          "output_type": "execute_result",
          "data": {
            "text/plain": [
              "['javascript', 'css', 'html', 'sql', 'Java', 'R', 'python']"
            ]
          },
          "metadata": {},
          "execution_count": 10
        }
      ]
    },
    {
      "cell_type": "code",
      "source": [
        "B"
      ],
      "metadata": {
        "colab": {
          "base_uri": "https://localhost:8080/"
        },
        "id": "85zuYSiPkic1",
        "outputId": "258d4cdc-9e39-4026-9282-434311815abc"
      },
      "execution_count": 11,
      "outputs": [
        {
          "output_type": "execute_result",
          "data": {
            "text/plain": [
              "['python', 'R', 'Java', 'sql', 'html', 'css', 'javascript']"
            ]
          },
          "metadata": {},
          "execution_count": 11
        }
      ]
    },
    {
      "cell_type": "code",
      "source": [
        "# fetch sql, Java, R\n",
        "# var[start_indx: end _indx-1:step=-1]\n",
        "B[-4:-7:-1]"
      ],
      "metadata": {
        "colab": {
          "base_uri": "https://localhost:8080/"
        },
        "id": "M2riCtPqksO_",
        "outputId": "962f60e9-f297-4cca-e932-596affe4f65c"
      },
      "execution_count": 12,
      "outputs": [
        {
          "output_type": "execute_result",
          "data": {
            "text/plain": [
              "['sql', 'Java', 'R']"
            ]
          },
          "metadata": {},
          "execution_count": 12
        }
      ]
    },
    {
      "cell_type": "code",
      "source": [
        "B[-2:-5:-1]"
      ],
      "metadata": {
        "colab": {
          "base_uri": "https://localhost:8080/"
        },
        "id": "Tq60ZpLilKGL",
        "outputId": "3a977e32-87d7-4325-facd-a82454adbd73"
      },
      "execution_count": 13,
      "outputs": [
        {
          "output_type": "execute_result",
          "data": {
            "text/plain": [
              "['css', 'html', 'sql']"
            ]
          },
          "metadata": {},
          "execution_count": 13
        }
      ]
    },
    {
      "cell_type": "code",
      "source": [
        "# fetch sql, java, R\n",
        "# var[start_indx: end_indx-1: step=-1]\n",
        "B[-4:-7:-1]"
      ],
      "metadata": {
        "colab": {
          "base_uri": "https://localhost:8080/"
        },
        "id": "8njMRC1zlr3Q",
        "outputId": "83055ca1-94e0-4584-d68d-2c7e43310240"
      },
      "execution_count": 14,
      "outputs": [
        {
          "output_type": "execute_result",
          "data": {
            "text/plain": [
              "['sql', 'Java', 'R']"
            ]
          },
          "metadata": {},
          "execution_count": 14
        }
      ]
    },
    {
      "cell_type": "code",
      "source": [
        "X =(100,200,300,400,500,600,700,800)"
      ],
      "metadata": {
        "id": "yEElOxqtcWLN"
      },
      "execution_count": 19,
      "outputs": []
    },
    {
      "cell_type": "code",
      "source": [
        "# fetch 300 using negative index\n",
        "X[-6]"
      ],
      "metadata": {
        "colab": {
          "base_uri": "https://localhost:8080/"
        },
        "id": "GpGAsh7ic1FG",
        "outputId": "18b9b545-5e9f-4438-b758-a2ce38b9a7fb"
      },
      "execution_count": 20,
      "outputs": [
        {
          "output_type": "execute_result",
          "data": {
            "text/plain": [
              "300"
            ]
          },
          "metadata": {},
          "execution_count": 20
        }
      ]
    },
    {
      "cell_type": "code",
      "source": [
        "#fetch 400,500,600\n",
        "X[-5:-2]"
      ],
      "metadata": {
        "colab": {
          "base_uri": "https://localhost:8080/"
        },
        "id": "HcikpM7FdB3M",
        "outputId": "486287fd-4f3d-4dc5-fdc4-3e774795fc4d"
      },
      "execution_count": 21,
      "outputs": [
        {
          "output_type": "execute_result",
          "data": {
            "text/plain": [
              "(400, 500, 600)"
            ]
          },
          "metadata": {},
          "execution_count": 21
        }
      ]
    },
    {
      "cell_type": "code",
      "source": [
        "# fetch 300,400,500,600\n",
        "# LTR: end_indx+1, step is +ve\n",
        "# X[-6:-3+1]\n",
        "X[-6:-2]"
      ],
      "metadata": {
        "colab": {
          "base_uri": "https://localhost:8080/"
        },
        "id": "2YYOKSnSdUFm",
        "outputId": "f9141e95-a29e-4c4f-9c93-21b436faadbc"
      },
      "execution_count": 22,
      "outputs": [
        {
          "output_type": "execute_result",
          "data": {
            "text/plain": [
              "(300, 400, 500, 600)"
            ]
          },
          "metadata": {},
          "execution_count": 22
        }
      ]
    },
    {
      "cell_type": "code",
      "source": [
        "X"
      ],
      "metadata": {
        "colab": {
          "base_uri": "https://localhost:8080/"
        },
        "id": "8GwlnLiNd-SS",
        "outputId": "5d87877a-0fd6-4e52-fbf4-e622723d9168"
      },
      "execution_count": 23,
      "outputs": [
        {
          "output_type": "execute_result",
          "data": {
            "text/plain": [
              "(100, 200, 300, 400, 500, 600, 700, 800)"
            ]
          },
          "metadata": {},
          "execution_count": 23
        }
      ]
    },
    {
      "cell_type": "code",
      "source": [
        "# fetch 600,500,400,300\n",
        "# RTL\n",
        "#X[]\n",
        "X[-3:-7:-1]"
      ],
      "metadata": {
        "colab": {
          "base_uri": "https://localhost:8080/"
        },
        "id": "Q3uVj3RHeBoe",
        "outputId": "4a631153-c2b8-42f8-87ee-5e36838fcf2f"
      },
      "execution_count": 25,
      "outputs": [
        {
          "output_type": "execute_result",
          "data": {
            "text/plain": [
              "(600, 500, 400, 300)"
            ]
          },
          "metadata": {},
          "execution_count": 25
        }
      ]
    },
    {
      "cell_type": "code",
      "source": [
        "# fetch 700,500,300\n",
        "X[-2:-7:-2]"
      ],
      "metadata": {
        "colab": {
          "base_uri": "https://localhost:8080/"
        },
        "id": "FV_EdGrNeWEF",
        "outputId": "eeeaf29d-fb46-497a-88f7-6648ff5dce3b"
      },
      "execution_count": 26,
      "outputs": [
        {
          "output_type": "execute_result",
          "data": {
            "text/plain": [
              "(700, 500, 300)"
            ]
          },
          "metadata": {},
          "execution_count": 26
        }
      ]
    },
    {
      "cell_type": "markdown",
      "source": [
        "#NOTE\n",
        "\n",
        "Indexing and slicing not possible in sets bcoz sets are unordered."
      ],
      "metadata": {
        "id": "AT6cSiaJetKc"
      }
    },
    {
      "cell_type": "markdown",
      "source": [
        "# String Index and slicing"
      ],
      "metadata": {
        "id": "WYN5yfZ-e_Uc"
      }
    },
    {
      "cell_type": "code",
      "source": [
        "text = \"Life is crazy\""
      ],
      "metadata": {
        "id": "AWUuFteQepgk"
      },
      "execution_count": 27,
      "outputs": []
    },
    {
      "cell_type": "code",
      "source": [
        "# fetch second i using positive indexing\n",
        "# index is given for every character including space\n",
        "\n",
        "text[5]"
      ],
      "metadata": {
        "colab": {
          "base_uri": "https://localhost:8080/",
          "height": 36
        },
        "id": "SoAtG1--fO8o",
        "outputId": "701d41b3-fc5a-4a43-8bec-087a88ecb2c3"
      },
      "execution_count": 28,
      "outputs": [
        {
          "output_type": "execute_result",
          "data": {
            "text/plain": [
              "'i'"
            ],
            "application/vnd.google.colaboratory.intrinsic+json": {
              "type": "string"
            }
          },
          "metadata": {},
          "execution_count": 28
        }
      ]
    },
    {
      "cell_type": "code",
      "source": [
        "# fetch r\n",
        "text[9]"
      ],
      "metadata": {
        "colab": {
          "base_uri": "https://localhost:8080/",
          "height": 36
        },
        "id": "7UrCWr1-fyyR",
        "outputId": "d3ec1079-b199-4fde-8e87-5eff7f9a0651"
      },
      "execution_count": 29,
      "outputs": [
        {
          "output_type": "execute_result",
          "data": {
            "text/plain": [
              "'r'"
            ],
            "application/vnd.google.colaboratory.intrinsic+json": {
              "type": "string"
            }
          },
          "metadata": {},
          "execution_count": 29
        }
      ]
    },
    {
      "cell_type": "code",
      "source": [
        "#fetch craz\n",
        "# var[start_indx: end_indx+1]\n",
        "text[8:12]"
      ],
      "metadata": {
        "colab": {
          "base_uri": "https://localhost:8080/",
          "height": 36
        },
        "id": "t4AKnZOFf9j6",
        "outputId": "5bc63626-e42e-4235-e047-b98b276dcc5d"
      },
      "execution_count": 30,
      "outputs": [
        {
          "output_type": "execute_result",
          "data": {
            "text/plain": [
              "'craz'"
            ],
            "application/vnd.google.colaboratory.intrinsic+json": {
              "type": "string"
            }
          },
          "metadata": {},
          "execution_count": 30
        }
      ]
    },
    {
      "cell_type": "code",
      "source": [
        "#fetch \"is craz\"\n",
        "text[5:12]"
      ],
      "metadata": {
        "colab": {
          "base_uri": "https://localhost:8080/",
          "height": 36
        },
        "id": "W6AXoAMvgThW",
        "outputId": "a782feb9-9652-4b07-9145-0fa749b571e8"
      },
      "execution_count": 32,
      "outputs": [
        {
          "output_type": "execute_result",
          "data": {
            "text/plain": [
              "'is craz'"
            ],
            "application/vnd.google.colaboratory.intrinsic+json": {
              "type": "string"
            }
          },
          "metadata": {},
          "execution_count": 32
        }
      ]
    },
    {
      "cell_type": "code",
      "source": [
        "\n",
        "list(enumerate(text))"
      ],
      "metadata": {
        "colab": {
          "base_uri": "https://localhost:8080/"
        },
        "id": "XdHlsbs5gYpc",
        "outputId": "85fa685d-19cf-43a1-dc6b-b1902a9371bd"
      },
      "execution_count": 34,
      "outputs": [
        {
          "output_type": "execute_result",
          "data": {
            "text/plain": [
              "[(0, 'L'),\n",
              " (1, 'i'),\n",
              " (2, 'f'),\n",
              " (3, 'e'),\n",
              " (4, ' '),\n",
              " (5, 'i'),\n",
              " (6, 's'),\n",
              " (7, ' '),\n",
              " (8, 'c'),\n",
              " (9, 'r'),\n",
              " (10, 'a'),\n",
              " (11, 'z'),\n",
              " (12, 'y')]"
            ]
          },
          "metadata": {},
          "execution_count": 34
        }
      ]
    },
    {
      "cell_type": "code",
      "source": [
        "# fetch 'f sca'\n",
        "text[2:11:2]"
      ],
      "metadata": {
        "colab": {
          "base_uri": "https://localhost:8080/",
          "height": 36
        },
        "id": "jn3SiEAphPa3",
        "outputId": "d4ad497c-501c-4b98-ff28-4cfd989af38e"
      },
      "execution_count": 35,
      "outputs": [
        {
          "output_type": "execute_result",
          "data": {
            "text/plain": [
              "'f sca'"
            ],
            "application/vnd.google.colaboratory.intrinsic+json": {
              "type": "string"
            }
          },
          "metadata": {},
          "execution_count": 35
        }
      ]
    },
    {
      "cell_type": "code",
      "source": [
        "# fetch 'lesry'\n",
        "text[0:13:3]"
      ],
      "metadata": {
        "colab": {
          "base_uri": "https://localhost:8080/",
          "height": 36
        },
        "id": "3mD8uQnMiMrq",
        "outputId": "0f8c1a93-0d96-4a01-b3a9-de458f0d94af"
      },
      "execution_count": 36,
      "outputs": [
        {
          "output_type": "execute_result",
          "data": {
            "text/plain": [
              "'Lesry'"
            ],
            "application/vnd.google.colaboratory.intrinsic+json": {
              "type": "string"
            }
          },
          "metadata": {},
          "execution_count": 36
        }
      ]
    },
    {
      "cell_type": "code",
      "source": [
        "#fetch \"life is\"\n",
        "text[0:7]"
      ],
      "metadata": {
        "colab": {
          "base_uri": "https://localhost:8080/",
          "height": 36
        },
        "id": "V7UjASObis2h",
        "outputId": "8bcdd774-2b21-43f9-b829-850ec3520289"
      },
      "execution_count": 37,
      "outputs": [
        {
          "output_type": "execute_result",
          "data": {
            "text/plain": [
              "'Life is'"
            ],
            "application/vnd.google.colaboratory.intrinsic+json": {
              "type": "string"
            }
          },
          "metadata": {},
          "execution_count": 37
        }
      ]
    },
    {
      "cell_type": "code",
      "source": [
        "text[:7]"
      ],
      "metadata": {
        "colab": {
          "base_uri": "https://localhost:8080/",
          "height": 36
        },
        "id": "uMERKZJMi48f",
        "outputId": "317422f3-63d5-41f1-e686-c592c54649ad"
      },
      "execution_count": 38,
      "outputs": [
        {
          "output_type": "execute_result",
          "data": {
            "text/plain": [
              "'Life is'"
            ],
            "application/vnd.google.colaboratory.intrinsic+json": {
              "type": "string"
            }
          },
          "metadata": {},
          "execution_count": 38
        }
      ]
    },
    {
      "cell_type": "code",
      "source": [
        "#fetch crazy\n",
        "text[8:13]"
      ],
      "metadata": {
        "colab": {
          "base_uri": "https://localhost:8080/",
          "height": 36
        },
        "id": "imgT8Bn1i9v6",
        "outputId": "f8d9221e-a7e3-4fd2-8ce1-019ccc498303"
      },
      "execution_count": 39,
      "outputs": [
        {
          "output_type": "execute_result",
          "data": {
            "text/plain": [
              "'crazy'"
            ],
            "application/vnd.google.colaboratory.intrinsic+json": {
              "type": "string"
            }
          },
          "metadata": {},
          "execution_count": 39
        }
      ]
    },
    {
      "cell_type": "code",
      "source": [
        "#fetch is crazy\n",
        "text[5:]"
      ],
      "metadata": {
        "colab": {
          "base_uri": "https://localhost:8080/",
          "height": 36
        },
        "id": "l3cF55GjjG7w",
        "outputId": "0ba3a178-1f2c-4dd9-e9ed-169908f00b5d"
      },
      "execution_count": 41,
      "outputs": [
        {
          "output_type": "execute_result",
          "data": {
            "text/plain": [
              "'is crazy'"
            ],
            "application/vnd.google.colaboratory.intrinsic+json": {
              "type": "string"
            }
          },
          "metadata": {},
          "execution_count": 41
        }
      ]
    },
    {
      "cell_type": "code",
      "source": [
        "# reverse string\n",
        "text[::-1]"
      ],
      "metadata": {
        "colab": {
          "base_uri": "https://localhost:8080/",
          "height": 36
        },
        "id": "5icFKaUyjN9-",
        "outputId": "45986a94-96a4-4b7d-804f-858d55cdb4ac"
      },
      "execution_count": 42,
      "outputs": [
        {
          "output_type": "execute_result",
          "data": {
            "text/plain": [
              "'yzarc si efiL'"
            ],
            "application/vnd.google.colaboratory.intrinsic+json": {
              "type": "string"
            }
          },
          "metadata": {},
          "execution_count": 42
        }
      ]
    },
    {
      "cell_type": "code",
      "source": [
        "# fetch zarc\n",
        "# RTL: end_indx-1,step=1\n",
        "text[11:7:-1]"
      ],
      "metadata": {
        "colab": {
          "base_uri": "https://localhost:8080/",
          "height": 36
        },
        "id": "OvC85El_jeke",
        "outputId": "c995e4dc-ae89-450d-a497-a4ca06657918"
      },
      "execution_count": 44,
      "outputs": [
        {
          "output_type": "execute_result",
          "data": {
            "text/plain": [
              "'zarc'"
            ],
            "application/vnd.google.colaboratory.intrinsic+json": {
              "type": "string"
            }
          },
          "metadata": {},
          "execution_count": 44
        }
      ]
    },
    {
      "cell_type": "code",
      "source": [
        "#fetch 'si efi'\n",
        "text[6:0:-1]"
      ],
      "metadata": {
        "colab": {
          "base_uri": "https://localhost:8080/",
          "height": 36
        },
        "id": "DGavaoFKj4nE",
        "outputId": "03a606a7-45ba-4c01-d4f2-38bef2e2f145"
      },
      "execution_count": 45,
      "outputs": [
        {
          "output_type": "execute_result",
          "data": {
            "text/plain": [
              "'si efi'"
            ],
            "application/vnd.google.colaboratory.intrinsic+json": {
              "type": "string"
            }
          },
          "metadata": {},
          "execution_count": 45
        }
      ]
    },
    {
      "cell_type": "code",
      "source": [
        "# LTR: end_indx+1, step=+ve\n",
        "#RTL: end_indx-1, step=-ve,step=-1"
      ],
      "metadata": {
        "id": "0T-E1ynBkL7y"
      },
      "execution_count": 46,
      "outputs": []
    },
    {
      "cell_type": "code",
      "source": [],
      "metadata": {
        "id": "3IwIEMzAkfKw"
      },
      "execution_count": null,
      "outputs": []
    }
  ]
}